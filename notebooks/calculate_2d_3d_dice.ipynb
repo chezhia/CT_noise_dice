{
 "cells": [
  {
   "cell_type": "markdown",
   "id": "7d88671f",
   "metadata": {},
   "source": [
    "# Calculate 2D and 3D Dice for Any Model"
   ]
  },
  {
   "cell_type": "code",
   "execution_count": 9,
   "id": "5dfab5be",
   "metadata": {},
   "outputs": [],
   "source": [
    "config = {}\n",
    "\n",
    "config['images'] = '/processed/Public/TCIA'\n",
    "config['dataset'] = 'tcia'\n",
    "config['model'] = 'vista3d'\n",
    "config['gt'] = '/processed/Public/TCIA/labels-vista3d'\n",
    "config['predictions'] = '/processed/Public/TCIA/predictions/vista3d'\n",
    "#config['predictions'] = '/processed/Public/TCIA/predictions/TotalSegmentator_mapped'\n",
    "config['labels_json'] = 'labels-TCIA-pediatric.json'\n",
    "\n",
    "#config['labels_json_TS'] = 'labels-TCIA-pediatric-TS.json'"
   ]
  },
  {
   "cell_type": "code",
   "execution_count": 10,
   "id": "d7c05589",
   "metadata": {},
   "outputs": [],
   "source": [
    "#!pip install cupy\n",
    "#!pip install xlsxwriter"
   ]
  },
  {
   "cell_type": "code",
   "execution_count": 11,
   "id": "c085f837",
   "metadata": {},
   "outputs": [],
   "source": [
    "import json\n",
    "with open(config['labels_json'],'r') as jsonfile:\n",
    "    config['labels'] = json.load(jsonfile)"
   ]
  },
  {
   "cell_type": "code",
   "execution_count": 12,
   "id": "8961e9dc",
   "metadata": {},
   "outputs": [],
   "source": [
    "import os\n",
    "import tqdm\n",
    "import SimpleITK as sitk\n",
    "import numpy as np\n",
    "import cupy as cp\n",
    "#import cudf\n",
    "import pandas as pd"
   ]
  },
  {
   "cell_type": "code",
   "execution_count": 13,
   "id": "21fc3952",
   "metadata": {},
   "outputs": [],
   "source": [
    "def sitk_to_numpy(image):\n",
    "    \"\"\"Convert SimpleITK image to NumPy array with Z-axis moved to index 2 (Y, X, Z).\"\"\"\n",
    "    array = sitk.GetArrayFromImage(image)  # Original: (Z, Y, X)\n",
    "    return np.transpose(array, (1, 2, 0))  # New shape: (Y, X, Z)\n",
    "\n",
    "def dice_coefficient(true_array, pred_array, label):\n",
    "    \"\"\"Compute Dice coefficient for a given label.\n",
    "    \n",
    "    Args:\n",
    "        true_array (cupy.ndarray): Ground truth binary mask.\n",
    "        pred_array (cupy.ndarray): Prediction binary mask.\n",
    "        label (int): Label for the organ.\n",
    "        is_2d (bool): If True, empty masks return 1.0 (for slice-wise 2D Dice); \n",
    "                      If False, empty masks return 1.0 for fully missing organs in 3D.\n",
    "    \n",
    "    Returns:\n",
    "        float: Dice score.\n",
    "        int: Intersection count.\n",
    "        int: Sum of sizes.\n",
    "    \"\"\"\n",
    "    true_binary = (true_array == label).astype(cp.float32)\n",
    "    pred_binary = (pred_array == label).astype(cp.float32)\n",
    "\n",
    "    intersection = cp.sum(true_binary * pred_binary)\n",
    "    sum_sizes = cp.sum(true_binary) + cp.sum(pred_binary)\n",
    "\n",
    "    if sum_sizes == 0:\n",
    "        return 1.0, intersection, sum_sizes  # Return 1.0 if GT & prediction are both empty\n",
    "\n",
    "    if cp.sum(true_binary) == 0 and cp.sum(pred_binary) > 0:\n",
    "        return 0.0, intersection, sum_sizes  # False positive: GT is missing, but prediction exists\n",
    "\n",
    "    if cp.sum(true_binary) > 0 and cp.sum(pred_binary) == 0:\n",
    "        return 0.0, intersection, sum_sizes  # False negative: GT exists, but prediction is missing\n",
    "\n",
    "    dice = (2.0 * intersection) / (sum_sizes + 1e-6)\n",
    "    return float(dice), intersection, sum_sizes"
   ]
  },
  {
   "cell_type": "code",
   "execution_count": 14,
   "id": "be76e1bb",
   "metadata": {},
   "outputs": [],
   "source": [
    "def multi_class_dice(true_array, pred_array, labels):\n",
    "    \"\"\"Compute organ-wise, macro-average, and micro-average Dice for multiple labels.\"\"\"\n",
    "    dice_scores = {}\n",
    "    macro_dice_list = []\n",
    "    total_intersection = 0\n",
    "    total_sum_sizes = 0\n",
    "    \n",
    "    for key, label in labels.items():\n",
    "        if cp.sum(true_array == label) > 0 or cp.sum(pred_array == label) > 0:\n",
    "            dice, intersection, sum_sizes = dice_coefficient(true_array, pred_array, label)\n",
    "            dice_scores[key] = dice\n",
    "            macro_dice_list.append(dice)  #  Only include organs that exist\n",
    "        else:\n",
    "            dice_scores[key] = 1.0  # Still store the Dice score for reference, but don't include in macro\n",
    "            intersection = 0\n",
    "            sum_sizes = 0\n",
    "\n",
    "        total_intersection += intersection\n",
    "        total_sum_sizes += sum_sizes\n",
    "\n",
    "    #  Compute Macro Dice over only PRESENT organs\n",
    "    macro_average_dice = np.mean(macro_dice_list) if macro_dice_list else float('nan')\n",
    "\n",
    "    # Compute Micro Dice (Weighted sum across all organs)\n",
    "    micro_average_dice = (2.0 * total_intersection / total_sum_sizes) if total_sum_sizes > 0 else float('nan')\n",
    "\n",
    "    return dice_scores, macro_average_dice, micro_average_dice\n",
    "\n",
    "def compute_dice_2d(label_3d, pred_3d, labels):\n",
    "    \"\"\"Computes slice-wise 2D Dice scores using RAPIDS/cuDF.\"\"\"\n",
    "    num_slices = label_3d.shape[2]\n",
    "    record_2d = {'overall': {}}\n",
    "\n",
    "    for key in labels.keys():\n",
    "        record_2d[key] = {}\n",
    "\n",
    "    for z in range(num_slices):\n",
    "        label_slice = label_3d[:, :, z]\n",
    "        pred_slice = pred_3d[:, :, z]\n",
    "\n",
    "        # Compute overall Dice only when there's segmentation in at least one mask\n",
    "        if cp.sum(label_slice) > 0 or cp.sum(pred_slice) > 0:\n",
    "            overall_dice, _, _ = dice_coefficient(label_slice > 0, pred_slice > 0, 1)\n",
    "        else:\n",
    "            overall_dice = float('nan')  # If both are empty, assign NaN\n",
    "\n",
    "        record_2d['overall'][str(z + 1)] = overall_dice\n",
    "\n",
    "        for key, label in labels.items():\n",
    "            if cp.sum(label_slice == label) > 0 or cp.sum(pred_slice == label) > 0:\n",
    "                organ_dice, _, _ = dice_coefficient(label_slice, pred_slice, label)\n",
    "            else:\n",
    "                organ_dice = float('nan')  # If organ is missing in both, assign NaN\n",
    "\n",
    "            record_2d[key][str(z + 1)] = organ_dice\n",
    "\n",
    "    return record_2d\n",
    "\n",
    "def process_ct_file(ct_name, config):\n",
    "    \"\"\"Processes a single CT file for 3D and 2D Dice computation.\"\"\"\n",
    "    try:\n",
    "        label_path = os.path.join(config['gt'], ct_name)\n",
    "        pred_path = os.path.join(config['predictions'], ct_name)\n",
    "\n",
    "        label_image = sitk_to_numpy(sitk.ReadImage(label_path))\n",
    "        pred_image = sitk_to_numpy(sitk.ReadImage(pred_path))\n",
    "        \n",
    "       # print('label_image shape: ', label_image.shape)\n",
    "        \n",
    "        label_gpu = cp.asarray(label_image)\n",
    "        pred_gpu = cp.asarray(pred_image)\n",
    "\n",
    "        # Compute 3D Dice\n",
    "        dice_scores, macro_avg, micro_avg = multi_class_dice(label_gpu, pred_gpu, config['labels'])\n",
    "\n",
    "        # Compute 2D Dice scores\n",
    "        record_2d = compute_dice_2d(label_gpu, pred_gpu, config['labels'])\n",
    "\n",
    "        return {\n",
    "            'ct_name': ct_name,\n",
    "            'macro_avg_dice': macro_avg,\n",
    "            'micro_avg_dice': micro_avg,\n",
    "            **{f'dice_{key}': dice_scores[key] for key in dice_scores}\n",
    "        }, record_2d\n",
    "\n",
    "    except Exception as e:\n",
    "        print(f\"Error processing {ct_name}: {e}\")\n",
    "        return None, None\n",
    "\n",
    "def save_2d_dice_to_excel(records_2d, output_path):\n",
    "    \"\"\"Writes the 2D Dice records to an Excel file with each organ in its own sheet.\"\"\"\n",
    "    with pd.ExcelWriter(output_path, engine='xlsxwriter') as writer:\n",
    "        for organ, ct_slices in records_2d.items():\n",
    "            organ_data = []\n",
    "            ct_names = []\n",
    "\n",
    "            # Extract slice numbers\n",
    "            slice_numbers = set()\n",
    "            for ct_name, slices in ct_slices.items():\n",
    "                slice_numbers.update(slices.keys())\n",
    "\n",
    "            slice_numbers = sorted(slice_numbers, key=int)  # Sort numerically\n",
    "            header = ['ct_name'] + [f'slice_{s}' for s in slice_numbers]\n",
    "\n",
    "            # Populate data\n",
    "            for ct_name, slices in ct_slices.items():\n",
    "                ct_names.append(ct_name)\n",
    "                organ_data.append([ct_name] + [slices.get(s, np.nan) for s in slice_numbers])\n",
    "\n",
    "            df = pd.DataFrame(organ_data, columns=header)\n",
    "            df.to_excel(writer, sheet_name=organ, index=False)"
   ]
  },
  {
   "cell_type": "code",
   "execution_count": 15,
   "id": "de9bbaa2",
   "metadata": {},
   "outputs": [
    {
     "name": "stdout",
     "output_type": "stream",
     "text": [
      "Starting DICE Calculation...\n"
     ]
    },
    {
     "name": "stderr",
     "output_type": "stream",
     "text": [
      "100% 358/358 [2:27:35<00:00, 24.74s/it]  \n"
     ]
    }
   ],
   "source": [
    "ct_images = [f for f in os.listdir(config['gt']) if f.endswith('.nii.gz')]\n",
    "\n",
    "results = []\n",
    "records_2d = {'overall': {}, **{key: {} for key in config['labels'].keys()}}\n",
    "\n",
    "print('Starting DICE Calculation...')\n",
    "for ct_name in tqdm.tqdm(ct_images):\n",
    "    record, record_2d = process_ct_file(ct_name, config)\n",
    "    if record:\n",
    "        results.append(record)\n",
    "        for organ in records_2d.keys():\n",
    "            records_2d[organ][ct_name] = record_2d.get(organ, {})"
   ]
  },
  {
   "cell_type": "code",
   "execution_count": 16,
   "id": "5b395325",
   "metadata": {},
   "outputs": [
    {
     "name": "stdout",
     "output_type": "stream",
     "text": [
      "2D Results saved to tcia_2d_dice_vista3d.xlsx\n",
      "3D Results saved to tcia_3d_dice_vista3d.csv\n"
     ]
    }
   ],
   "source": [
    "#results_df = cudf.DataFrame(results)  # Store results in GPU memory\n",
    "\n",
    "# Save the 2D Dice results to an Excel file\n",
    "output_excel = f\"{config['dataset']}_2d_dice_{config['model']}.xlsx\"  # Specify desired output path\n",
    "save_2d_dice_to_excel(records_2d, output_excel)\n",
    "print(f\"2D Results saved to {output_excel}\")\n",
    "# Create a DataFrame from results and save to CSV\n",
    "df = pd.DataFrame(results)\n",
    "output_csv_path = f\"{config['dataset']}_3d_dice_{config['model']}.csv\"  # Specify desired output path\n",
    "df.to_csv(output_csv_path, index=False)\n",
    "\n",
    "print(f\"3D Results saved to {output_csv_path}\")"
   ]
  },
  {
   "cell_type": "code",
   "execution_count": null,
   "id": "fa9ab1a7",
   "metadata": {},
   "outputs": [],
   "source": []
  }
 ],
 "metadata": {
  "kernelspec": {
   "display_name": "Python 3 (ipykernel)",
   "language": "python",
   "name": "python3"
  },
  "language_info": {
   "codemirror_mode": {
    "name": "ipython",
    "version": 3
   },
   "file_extension": ".py",
   "mimetype": "text/x-python",
   "name": "python",
   "nbconvert_exporter": "python",
   "pygments_lexer": "ipython3",
   "version": "3.10.12"
  }
 },
 "nbformat": 4,
 "nbformat_minor": 5
}
