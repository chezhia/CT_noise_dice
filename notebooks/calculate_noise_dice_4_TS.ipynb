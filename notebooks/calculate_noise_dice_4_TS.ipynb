{
 "cells": [
  {
   "cell_type": "markdown",
   "id": "3e7e1130",
   "metadata": {},
   "source": [
    "# Calculate noise and dice"
   ]
  },
  {
   "cell_type": "code",
   "execution_count": 14,
   "id": "bb1d6cc4",
   "metadata": {},
   "outputs": [],
   "source": [
    "config = {}\n",
    "config['images'] = '/processed/Public/TCIA'\n",
    "config['gt'] = '/processed/Public/TCIA/labels-vista3d'\n",
    "config['predictions'] = '/processed/Public/TCIA/predictions/TotalSegmentator_mapped'\n",
    "config['labels_json'] = 'labels-TCIA-pediatric.json'"
   ]
  },
  {
   "cell_type": "code",
   "execution_count": 15,
   "id": "48173212",
   "metadata": {},
   "outputs": [],
   "source": [
    "# !pip install pyradiomics"
   ]
  },
  {
   "cell_type": "code",
   "execution_count": 16,
   "id": "9a555bd6",
   "metadata": {},
   "outputs": [],
   "source": [
    "import json\n",
    "import tqdm\n",
    "import pandas as pd\n",
    "with open(config['labels_json'],'r') as jsonfile:\n",
    "    config['labels'] = json.load(jsonfile)"
   ]
  },
  {
   "cell_type": "code",
   "execution_count": 17,
   "id": "4d480930",
   "metadata": {},
   "outputs": [],
   "source": [
    "from radiomics import featureextractor"
   ]
  },
  {
   "cell_type": "code",
   "execution_count": 18,
   "id": "9642bb85",
   "metadata": {},
   "outputs": [],
   "source": [
    "import numpy as np\n",
    "import SimpleITK as sitk\n",
    "from scipy.ndimage import laplace\n",
    "from radiomics import featureextractor\n",
    "import os \n",
    "\n",
    "def estimate_noise_mad(volume):\n",
    "    \"\"\"\n",
    "    Estimate noise using Median Absolute Deviation (MAD).\n",
    "    \"\"\"\n",
    "    pixels = volume.flatten()\n",
    "    median_val = np.median(pixels)\n",
    "    mad = np.median(np.abs(pixels - median_val))\n",
    "    sigma_est = 1.4826 * mad\n",
    "    return sigma_est\n",
    "\n",
    "def estimate_noise_laplacian(volume):\n",
    "    \"\"\"\n",
    "    Estimate noise using the Laplacian operator.\n",
    "    \"\"\"\n",
    "    laplacian_vol = laplace(volume)\n",
    "    # Mean absolute value of the Laplacian can correlate with noise level\n",
    "    return np.mean(np.abs(laplacian_vol))\n",
    "\n",
    "# Calculate boundaries for the central 90%\n",
    "# Remove 5% on each side for each dimension\n",
    "def central_bounds(dim_size, fraction=0.05):\n",
    "    start = int(dim_size * fraction)\n",
    "    end = int(dim_size * (1 - fraction))\n",
    "    return start, end\n",
    "\n",
    "def estimate_noise_pyradiomics(image, mask_path=None):\n",
    "    \"\"\"\n",
    "    Use PyRadiomics to extract a feature as a proxy for noise estimation.\n",
    "    If no mask is provided, use the entire image as ROI.\n",
    "    \"\"\"\n",
    "    # Initialize radiomics feature extractor\n",
    "    extractor = featureextractor.RadiomicsFeatureExtractor()\n",
    "\n",
    "    # Create a full-volume mask if none provided\n",
    "    if mask_path:\n",
    "        mask = sitk.ReadImage(mask_path)\n",
    "    else:\n",
    "        # Create an array of ones with the same shape as the image\n",
    "        array = sitk.GetArrayFromImage(image)\n",
    "        shape = array.shape\n",
    "        # For 3D images, shape = (depth, height, width)\n",
    "        # For 2D images, shape = (height, width)\n",
    "        # We handle both cases generically.\n",
    "        if len(shape) == 3:\n",
    "            z_start, z_end = central_bounds(shape[0])\n",
    "            y_start, y_end = central_bounds(shape[1])\n",
    "            x_start, x_end = central_bounds(shape[2])\n",
    "        elif len(shape) == 2:\n",
    "            y_start, y_end = central_bounds(shape[0])\n",
    "            x_start, x_end = central_bounds(shape[1])\n",
    "        else:\n",
    "            raise ValueError(\"Image dimensionality not supported.\")\n",
    "\n",
    "        # Create a mask array of zeros with the same shape as the image\n",
    "        mask_array = np.zeros_like(array, dtype=np.uint8)\n",
    "\n",
    "        # Set ones for the central 90% region\n",
    "        if len(shape) == 3:\n",
    "            mask_array[z_start:z_end, y_start:y_end, x_start:x_end] = 1\n",
    "        elif len(shape) == 2:\n",
    "            mask_array[y_start:y_end, x_start:x_end] = 1\n",
    "        mask = sitk.GetImageFromArray(mask_array)\n",
    "        mask.CopyInformation(image)\n",
    "\n",
    "    # Extract features using PyRadiomics\n",
    "    result = extractor.execute(image, mask)\n",
    "\n",
    "    # Use RootMeanSquared as a proxy feature related to intensity variation (noise)\n",
    "    # (Replace with a more appropriate feature or process as needed)\n",
    "    noise_feature = result.get('original_firstorder_RootMeanSquared', None)\n",
    "    return noise_feature"
   ]
  },
  {
   "cell_type": "code",
   "execution_count": 19,
   "id": "77efc31f",
   "metadata": {},
   "outputs": [],
   "source": [
    "import numpy as np\n",
    "from scipy.ndimage import uniform_filter\n",
    "from scipy.ndimage import generic_filter\n",
    "from scipy.signal import convolve\n",
    "from scipy.ndimage import histogram\n",
    "\n",
    "def get_global_noise_index(dcmimg, range_vals=None, rsize=None):\n",
    "    \"\"\"\n",
    "    Calculate the global noise index for medical images.\n",
    "\n",
    "    Parameters:\n",
    "    dcmimg (ndarray): The input medical image (2D array).\n",
    "    range_vals (list or tuple, optional): The range for average intensity filtering. Default is [-300, 100].\n",
    "    rsize (int, optional): The size of the filter window. Default is 9.\n",
    "\n",
    "    Returns:\n",
    "    tuple: (noise, count)\n",
    "        noise (float): The calculated global noise index.\n",
    "        count (int): The number of significant bins in the histogram.\n",
    "    \"\"\"\n",
    "    try:\n",
    "        if range_vals is None:\n",
    "            range_vals = [-300, 100]\n",
    "        if rsize is None:\n",
    "            rsize = 9\n",
    "        \n",
    "        # Ensure rsize is an odd number\n",
    "        rsize = (rsize // 2) * 2 + 1\n",
    "        \n",
    "        # Convert dcmimg to float if it's not already\n",
    "        if not np.issubdtype(dcmimg.dtype, np.floating):\n",
    "            dcmimg = dcmimg.astype(float)\n",
    "        \n",
    "        # Create an averaging filter\n",
    "        avg = uniform_filter(dcmimg, size=rsize, mode='constant', cval=np.nan)\n",
    "        \n",
    "        # Compute local standard deviation\n",
    "        def local_std(window):\n",
    "            return np.std(window)\n",
    "        \n",
    "        var = generic_filter(dcmimg, local_std, size=rsize)\n",
    "\n",
    "        # Set boundary pixels to NaN\n",
    "        pad_size = rsize // 2\n",
    "\n",
    "        var[:pad_size, :] = np.nan\n",
    "        var[-pad_size:, :] = np.nan\n",
    "        var[:, :pad_size] = np.nan\n",
    "        var[:, -pad_size:] = np.nan\n",
    "        \n",
    "        \n",
    "        # Mask out values outside the range\n",
    "        var[(avg < range_vals[0]) | (avg > range_vals[1])] = np.nan\n",
    "        \n",
    "        # Create histogram\n",
    "        t = 0.1\n",
    "        bins = np.arange(0, 200 + t, t)\n",
    "        hist_vals, bin_edges = np.histogram(var[~np.isnan(var)], bins=bins)\n",
    "        \n",
    "        # Smooth histogram\n",
    "        smooth_filter = np.ones(int(round(2 / t))) / int(round(2 / t))\n",
    "        hist_vals = convolve(hist_vals, smooth_filter, mode='same')\n",
    "        \n",
    "        # Find significant bins\n",
    "        max_val = np.max(hist_vals)\n",
    "        significant_indices = np.where(hist_vals > 0.90 * max_val)[0]\n",
    "        \n",
    "\n",
    "        \n",
    "        if len(significant_indices) > 1:\n",
    "            bin_centers = (bin_edges[:-1] + bin_edges[1:]) / 2  # Compute bin centers\n",
    "            g = bin_centers[significant_indices] \n",
    "\n",
    "            # Calculate noise\n",
    "            h = hist_vals[significant_indices]\n",
    "   \n",
    "            noise = np.sum(g * h) / np.sum(h)\n",
    "\n",
    "            count = len(significant_indices)\n",
    "            return noise, count\n",
    "            \n",
    "        # Default return if no significant bins found\n",
    "        return np.nan, 0\n",
    "    \n",
    "    except Exception as e:\n",
    "        print(f\"Error: {e}\")\n",
    "        return np.nan, 0"
   ]
  },
  {
   "cell_type": "code",
   "execution_count": 20,
   "id": "795abcde",
   "metadata": {},
   "outputs": [],
   "source": [
    "from joblib import Parallel, delayed\n",
    "import numpy as np\n",
    "\n",
    "# parallel execution\n",
    "def get_global_noise_index_3D(image_3d, n_jobs=-1):\n",
    "    \"\"\"\n",
    "    Calculate the global noise index for a 3D image by averaging across slices.\n",
    "\n",
    "    Parameters:\n",
    "    image_3d (ndarray): 3D medical image.\n",
    "    n_jobs (int): Number of parallel jobs to run. Default is -1 (use all available cores).\n",
    "\n",
    "    Returns:\n",
    "    float: Average global noise index across all slices.\n",
    "    \"\"\"\n",
    "    # Define a function to calculate noise for a single slice\n",
    "    def noise_for_slice(slice_2d):\n",
    "        noise, _ = get_global_noise_index(slice_2d)\n",
    "        return noise\n",
    "\n",
    "    # Parallelize noise calculation across slices\n",
    "    noise_3d = Parallel(n_jobs=n_jobs)(\n",
    "        delayed(noise_for_slice)(image_3d[:, :, i]) for i in range(image_3d.shape[2])\n",
    "    )\n",
    "\n",
    "    # Average noise across slices\n",
    "    return np.nanmean(noise_3d)\n",
    "\n",
    "\n",
    "# single core execution\n",
    "# def get_global_noise_index_3D(image_3d):\n",
    "#     \"\"\"\n",
    "#     Calculate the global noise index for a 3D image by averaging across slices.\n",
    "\n",
    "#     Parameters:\n",
    "#     image_3d (ndarray): 3D medical image with shape (X, Y, Z).\n",
    "\n",
    "#     Returns:\n",
    "#     float: Average global noise index across all slices.\n",
    "#     \"\"\"\n",
    "#     # Validate input\n",
    "#     if not isinstance(image_3d, np.ndarray) or image_3d.ndim != 3:\n",
    "#         raise ValueError(\"Input image must be a 3D NumPy array.\")\n",
    "\n",
    "#     # Define a function to calculate noise for a single slice\n",
    "#     def noise_for_slice(slice_2d):\n",
    "#         noise, _ = get_global_noise_index(slice_2d)\n",
    "#         return noise\n",
    "\n",
    "#     # Initialize a list to store noise values for each slice\n",
    "#     noise_3d = []\n",
    "\n",
    "#     # Iterate over each slice along the third dimension (Z-axis)\n",
    "#     num_slices = image_3d.shape[2]\n",
    "#     for i in range(num_slices):\n",
    "#         slice_2d = image_3d[:, :, i]\n",
    "#         try:\n",
    "#             noise = noise_for_slice(slice_2d)\n",
    "#             noise_3d.append(noise)\n",
    "#         except Exception as e:\n",
    "#             print(f\"Error processing slice {i}: {e}\")\n",
    "#             noise_3d.append(np.nan)  # Append NaN or another sentinel value\n",
    "\n",
    "#     # Convert the list to a NumPy array for numerical operations\n",
    "#     noise_3d = np.array(noise_3d)\n",
    "\n",
    "#     # Calculate and return the mean noise, ignoring NaN values\n",
    "#     average_noise = np.nanmean(noise_3d)\n",
    "#     return average_noise\n"
   ]
  },
  {
   "cell_type": "code",
   "execution_count": 21,
   "id": "10ad70fe",
   "metadata": {},
   "outputs": [],
   "source": [
    "import SimpleITK as sitk\n",
    "import numpy as np\n",
    "\n",
    "def sitk_to_numpy(image):\n",
    "    \"\"\"Convert a SimpleITK image to a numpy array.\"\"\"\n",
    "    return sitk.GetArrayFromImage(image)\n",
    "\n",
    "def dice_coefficient(true_array, pred_array, label):\n",
    "    \"\"\"\n",
    "    Calculate Dice coefficient for a specific label.\n",
    "    Also return intersection and sum of sizes for micro-average computation.\n",
    "    \"\"\"\n",
    "    true_bin = (true_array == label)\n",
    "    pred_bin = (pred_array == label)\n",
    "\n",
    "    intersection = np.logical_and(true_bin, pred_bin).sum()\n",
    "    sum_sizes = true_bin.sum() + pred_bin.sum()\n",
    "\n",
    "    # Handle case of no voxels for label in both images\n",
    "    dice = 1.0 if sum_sizes == 0 else 2.0 * intersection / sum_sizes\n",
    "    return dice, intersection, sum_sizes\n",
    "\n",
    "def multi_class_dice(true_image, pred_image, labels):\n",
    "    \"\"\"\n",
    "    Compute label-wise, macro-average, and micro-average Dice for multiple labels.\n",
    "    \n",
    "    Parameters:\n",
    "        true_image (sitk.Image): Ground truth segmentation.\n",
    "        pred_image (sitk.Image): Predicted segmentation.\n",
    "        labels (list or iterable): List of label values to compute Dice for.\n",
    "        \n",
    "    Returns:\n",
    "        dict: Dice scores for each label.\n",
    "        float: Macro-average Dice score.\n",
    "        float: Micro-average Dice score.\n",
    "    \"\"\"\n",
    "    true_array = sitk_to_numpy(true_image)\n",
    "    pred_array = sitk_to_numpy(pred_image)\n",
    "\n",
    "    dice_scores = {}\n",
    "    macro_sum = 0.0\n",
    "\n",
    "    # For micro-average calculations\n",
    "    total_intersection = 0\n",
    "    total_sum_sizes = 0\n",
    "    print('Comes here')\n",
    "    for key,label in labels.items():\n",
    "        dice, intersection, sum_sizes = dice_coefficient(true_array, pred_array, label)\n",
    "        dice_scores[key] = dice\n",
    "        macro_sum += dice\n",
    "\n",
    "        total_intersection += intersection\n",
    "        total_sum_sizes += sum_sizes\n",
    "\n",
    "    macro_average_dice = macro_sum / len(labels) if labels else float('nan')\n",
    "    # Handle micro-average division by zero\n",
    "    micro_average_dice = 1.0 if total_sum_sizes == 0 else 2.0 * total_intersection / total_sum_sizes\n",
    "\n",
    "    return dice_scores, macro_average_dice, micro_average_dice\n"
   ]
  },
  {
   "cell_type": "code",
   "execution_count": 22,
   "id": "3bf82bc7",
   "metadata": {},
   "outputs": [
    {
     "name": "stderr",
     "output_type": "stream",
     "text": [
      "  0% 0/358 [00:00<?, ?it/s]"
     ]
    },
    {
     "name": "stdout",
     "output_type": "stream",
     "text": [
      "global noise calculated\n",
      "Comes here\n"
     ]
    },
    {
     "name": "stderr",
     "output_type": "stream",
     "text": [
      "  0% 1/358 [00:44<4:21:48, 44.00s/it]"
     ]
    },
    {
     "name": "stdout",
     "output_type": "stream",
     "text": [
      "global noise calculated\n",
      "Comes here\n"
     ]
    },
    {
     "name": "stderr",
     "output_type": "stream",
     "text": [
      "  1% 2/358 [01:56<6:01:25, 60.91s/it]"
     ]
    },
    {
     "name": "stdout",
     "output_type": "stream",
     "text": [
      "global noise calculated\n",
      "Comes here\n"
     ]
    },
    {
     "name": "stderr",
     "output_type": "stream",
     "text": [
      "  1% 3/358 [02:20<4:21:06, 44.13s/it]"
     ]
    },
    {
     "name": "stdout",
     "output_type": "stream",
     "text": [
      "global noise calculated\n",
      "Comes here\n"
     ]
    },
    {
     "name": "stderr",
     "output_type": "stream",
     "text": [
      "  1% 4/358 [03:15<4:45:08, 48.33s/it]"
     ]
    },
    {
     "name": "stdout",
     "output_type": "stream",
     "text": [
      "global noise calculated\n",
      "Comes here\n"
     ]
    },
    {
     "name": "stderr",
     "output_type": "stream",
     "text": [
      "  1% 5/358 [03:28<3:29:22, 35.59s/it]"
     ]
    },
    {
     "name": "stdout",
     "output_type": "stream",
     "text": [
      "global noise calculated\n",
      "Comes here\n"
     ]
    },
    {
     "name": "stderr",
     "output_type": "stream",
     "text": [
      "  2% 6/358 [03:41<2:43:10, 27.81s/it]"
     ]
    },
    {
     "name": "stdout",
     "output_type": "stream",
     "text": [
      "global noise calculated\n",
      "Comes here\n"
     ]
    },
    {
     "name": "stderr",
     "output_type": "stream",
     "text": [
      "  2% 7/358 [03:44<1:56:01, 19.83s/it]"
     ]
    },
    {
     "name": "stdout",
     "output_type": "stream",
     "text": [
      "global noise calculated\n",
      "Comes here\n"
     ]
    },
    {
     "name": "stderr",
     "output_type": "stream",
     "text": [
      "  2% 8/358 [04:09<2:03:52, 21.23s/it]"
     ]
    },
    {
     "name": "stdout",
     "output_type": "stream",
     "text": [
      "global noise calculated\n",
      "Comes here\n"
     ]
    },
    {
     "name": "stderr",
     "output_type": "stream",
     "text": [
      "  3% 9/358 [04:19<1:43:34, 17.81s/it]"
     ]
    },
    {
     "name": "stdout",
     "output_type": "stream",
     "text": [
      "global noise calculated\n",
      "Comes here\n"
     ]
    },
    {
     "name": "stderr",
     "output_type": "stream",
     "text": [
      "  3% 10/358 [04:42<1:52:17, 19.36s/it]"
     ]
    },
    {
     "name": "stdout",
     "output_type": "stream",
     "text": [
      "global noise calculated\n",
      "Comes here\n"
     ]
    },
    {
     "name": "stderr",
     "output_type": "stream",
     "text": [
      "  3% 11/358 [04:56<1:42:32, 17.73s/it]"
     ]
    },
    {
     "name": "stdout",
     "output_type": "stream",
     "text": [
      "global noise calculated\n",
      "Comes here\n"
     ]
    },
    {
     "name": "stderr",
     "output_type": "stream",
     "text": [
      "  3% 12/358 [05:09<1:35:14, 16.52s/it]"
     ]
    },
    {
     "name": "stdout",
     "output_type": "stream",
     "text": [
      "global noise calculated\n",
      "Comes here\n"
     ]
    },
    {
     "name": "stderr",
     "output_type": "stream",
     "text": [
      "  4% 13/358 [05:22<1:27:38, 15.24s/it]"
     ]
    },
    {
     "name": "stdout",
     "output_type": "stream",
     "text": [
      "global noise calculated\n",
      "Comes here\n"
     ]
    },
    {
     "name": "stderr",
     "output_type": "stream",
     "text": [
      "  4% 14/358 [05:33<1:19:49, 13.92s/it]"
     ]
    },
    {
     "name": "stdout",
     "output_type": "stream",
     "text": [
      "global noise calculated\n",
      "Comes here\n"
     ]
    },
    {
     "name": "stderr",
     "output_type": "stream",
     "text": [
      "  4% 15/358 [05:41<1:10:22, 12.31s/it]"
     ]
    },
    {
     "name": "stdout",
     "output_type": "stream",
     "text": [
      "global noise calculated\n",
      "Comes here\n"
     ]
    },
    {
     "name": "stderr",
     "output_type": "stream",
     "text": [
      "  4% 16/358 [05:52<1:07:32, 11.85s/it]"
     ]
    },
    {
     "name": "stdout",
     "output_type": "stream",
     "text": [
      "global noise calculated\n",
      "Comes here\n"
     ]
    },
    {
     "name": "stderr",
     "output_type": "stream",
     "text": [
      "  5% 17/358 [06:05<1:09:40, 12.26s/it]"
     ]
    },
    {
     "name": "stdout",
     "output_type": "stream",
     "text": [
      "global noise calculated\n",
      "Comes here\n"
     ]
    },
    {
     "name": "stderr",
     "output_type": "stream",
     "text": [
      "  5% 18/358 [06:16<1:07:25, 11.90s/it]"
     ]
    },
    {
     "name": "stdout",
     "output_type": "stream",
     "text": [
      "global noise calculated\n",
      "Comes here\n"
     ]
    },
    {
     "name": "stderr",
     "output_type": "stream",
     "text": [
      "  5% 19/358 [06:29<1:08:52, 12.19s/it]"
     ]
    },
    {
     "name": "stdout",
     "output_type": "stream",
     "text": [
      "global noise calculated\n",
      "Comes here\n"
     ]
    },
    {
     "name": "stderr",
     "output_type": "stream",
     "text": [
      "  6% 20/358 [07:15<2:05:49, 22.34s/it]"
     ]
    },
    {
     "name": "stdout",
     "output_type": "stream",
     "text": [
      "global noise calculated\n",
      "Comes here\n"
     ]
    },
    {
     "name": "stderr",
     "output_type": "stream",
     "text": [
      "  6% 21/358 [07:29<1:50:50, 19.73s/it]"
     ]
    },
    {
     "name": "stdout",
     "output_type": "stream",
     "text": [
      "global noise calculated\n",
      "Comes here\n"
     ]
    },
    {
     "name": "stderr",
     "output_type": "stream",
     "text": [
      "  6% 22/358 [07:42<1:39:17, 17.73s/it]"
     ]
    },
    {
     "name": "stdout",
     "output_type": "stream",
     "text": [
      "global noise calculated\n",
      "Comes here\n"
     ]
    },
    {
     "name": "stderr",
     "output_type": "stream",
     "text": [
      "  6% 23/358 [07:54<1:29:47, 16.08s/it]"
     ]
    },
    {
     "name": "stdout",
     "output_type": "stream",
     "text": [
      "global noise calculated\n",
      "Comes here\n"
     ]
    },
    {
     "name": "stderr",
     "output_type": "stream",
     "text": [
      "  7% 24/358 [08:55<2:44:58, 29.63s/it]"
     ]
    },
    {
     "name": "stdout",
     "output_type": "stream",
     "text": [
      "global noise calculated\n",
      "Comes here\n"
     ]
    },
    {
     "name": "stderr",
     "output_type": "stream",
     "text": [
      "  7% 25/358 [09:13<2:24:09, 25.97s/it]"
     ]
    },
    {
     "name": "stdout",
     "output_type": "stream",
     "text": [
      "global noise calculated\n",
      "Comes here\n"
     ]
    },
    {
     "name": "stderr",
     "output_type": "stream",
     "text": [
      "  7% 26/358 [09:25<2:00:52, 21.85s/it]"
     ]
    },
    {
     "name": "stdout",
     "output_type": "stream",
     "text": [
      "global noise calculated\n",
      "Comes here\n"
     ]
    },
    {
     "name": "stderr",
     "output_type": "stream",
     "text": [
      "  8% 27/358 [09:37<1:44:38, 18.97s/it]"
     ]
    },
    {
     "name": "stdout",
     "output_type": "stream",
     "text": [
      "global noise calculated\n",
      "Comes here\n"
     ]
    },
    {
     "name": "stderr",
     "output_type": "stream",
     "text": [
      "  8% 28/358 [09:56<1:43:29, 18.82s/it]"
     ]
    },
    {
     "name": "stdout",
     "output_type": "stream",
     "text": [
      "global noise calculated\n",
      "Comes here\n"
     ]
    },
    {
     "name": "stderr",
     "output_type": "stream",
     "text": [
      "  8% 29/358 [10:11<1:36:51, 17.66s/it]"
     ]
    },
    {
     "name": "stdout",
     "output_type": "stream",
     "text": [
      "global noise calculated\n",
      "Comes here\n"
     ]
    },
    {
     "name": "stderr",
     "output_type": "stream",
     "text": [
      "  8% 30/358 [10:25<1:30:30, 16.56s/it]"
     ]
    },
    {
     "name": "stdout",
     "output_type": "stream",
     "text": [
      "global noise calculated\n",
      "Comes here\n"
     ]
    },
    {
     "name": "stderr",
     "output_type": "stream",
     "text": [
      "  9% 31/358 [11:40<3:06:05, 34.14s/it]"
     ]
    },
    {
     "name": "stdout",
     "output_type": "stream",
     "text": [
      "global noise calculated\n",
      "Comes here\n"
     ]
    },
    {
     "name": "stderr",
     "output_type": "stream",
     "text": [
      "  9% 32/358 [11:45<2:18:28, 25.48s/it]"
     ]
    },
    {
     "name": "stdout",
     "output_type": "stream",
     "text": [
      "global noise calculated\n",
      "Comes here\n"
     ]
    },
    {
     "name": "stderr",
     "output_type": "stream",
     "text": [
      "  9% 33/358 [11:58<1:57:17, 21.65s/it]"
     ]
    },
    {
     "name": "stdout",
     "output_type": "stream",
     "text": [
      "global noise calculated\n",
      "Comes here\n"
     ]
    },
    {
     "name": "stderr",
     "output_type": "stream",
     "text": [
      "  9% 34/358 [12:09<1:40:04, 18.53s/it]"
     ]
    },
    {
     "name": "stdout",
     "output_type": "stream",
     "text": [
      "global noise calculated\n",
      "Comes here\n"
     ]
    },
    {
     "name": "stderr",
     "output_type": "stream",
     "text": [
      " 10% 35/358 [12:19<1:25:30, 15.88s/it]"
     ]
    },
    {
     "name": "stdout",
     "output_type": "stream",
     "text": [
      "global noise calculated\n",
      "Comes here\n"
     ]
    },
    {
     "name": "stderr",
     "output_type": "stream",
     "text": [
      " 10% 36/358 [12:40<1:33:24, 17.40s/it]"
     ]
    },
    {
     "name": "stdout",
     "output_type": "stream",
     "text": [
      "global noise calculated\n",
      "Comes here\n"
     ]
    },
    {
     "name": "stderr",
     "output_type": "stream",
     "text": [
      " 10% 37/358 [13:00<1:38:20, 18.38s/it]"
     ]
    },
    {
     "name": "stdout",
     "output_type": "stream",
     "text": [
      "global noise calculated\n",
      "Comes here\n"
     ]
    },
    {
     "name": "stderr",
     "output_type": "stream",
     "text": [
      " 11% 38/358 [13:16<1:33:11, 17.47s/it]"
     ]
    },
    {
     "name": "stdout",
     "output_type": "stream",
     "text": [
      "global noise calculated\n",
      "Comes here\n"
     ]
    },
    {
     "name": "stderr",
     "output_type": "stream",
     "text": [
      " 11% 39/358 [14:07<2:26:47, 27.61s/it]"
     ]
    },
    {
     "name": "stdout",
     "output_type": "stream",
     "text": [
      "global noise calculated\n",
      "Comes here\n"
     ]
    },
    {
     "name": "stderr",
     "output_type": "stream",
     "text": [
      " 11% 40/358 [14:19<2:02:14, 23.06s/it]"
     ]
    },
    {
     "name": "stdout",
     "output_type": "stream",
     "text": [
      "global noise calculated\n",
      "Comes here\n"
     ]
    },
    {
     "name": "stderr",
     "output_type": "stream",
     "text": [
      " 11% 41/358 [14:29<1:40:55, 19.10s/it]"
     ]
    },
    {
     "name": "stdout",
     "output_type": "stream",
     "text": [
      "global noise calculated\n",
      "Comes here\n"
     ]
    },
    {
     "name": "stderr",
     "output_type": "stream",
     "text": [
      " 12% 42/358 [15:08<2:11:47, 25.02s/it]"
     ]
    },
    {
     "name": "stdout",
     "output_type": "stream",
     "text": [
      "global noise calculated\n",
      "Comes here\n"
     ]
    },
    {
     "name": "stderr",
     "output_type": "stream",
     "text": [
      " 12% 43/358 [15:26<1:59:42, 22.80s/it]"
     ]
    },
    {
     "name": "stdout",
     "output_type": "stream",
     "text": [
      "global noise calculated\n",
      "Comes here\n"
     ]
    },
    {
     "name": "stderr",
     "output_type": "stream",
     "text": [
      " 12% 44/358 [15:38<1:42:07, 19.51s/it]"
     ]
    },
    {
     "name": "stdout",
     "output_type": "stream",
     "text": [
      "global noise calculated\n",
      "Comes here\n"
     ]
    },
    {
     "name": "stderr",
     "output_type": "stream",
     "text": [
      " 13% 45/358 [15:49<1:29:30, 17.16s/it]"
     ]
    },
    {
     "name": "stdout",
     "output_type": "stream",
     "text": [
      "global noise calculated\n",
      "Comes here\n"
     ]
    },
    {
     "name": "stderr",
     "output_type": "stream",
     "text": [
      " 13% 46/358 [15:59<1:18:26, 15.08s/it]"
     ]
    },
    {
     "name": "stdout",
     "output_type": "stream",
     "text": [
      "global noise calculated\n",
      "Comes here\n"
     ]
    },
    {
     "name": "stderr",
     "output_type": "stream",
     "text": [
      " 13% 47/358 [16:10<1:10:57, 13.69s/it]"
     ]
    },
    {
     "name": "stdout",
     "output_type": "stream",
     "text": [
      "global noise calculated\n",
      "Comes here\n"
     ]
    },
    {
     "name": "stderr",
     "output_type": "stream",
     "text": [
      " 13% 48/358 [16:20<1:05:37, 12.70s/it]"
     ]
    },
    {
     "name": "stdout",
     "output_type": "stream",
     "text": [
      "global noise calculated\n",
      "Comes here\n"
     ]
    },
    {
     "name": "stderr",
     "output_type": "stream",
     "text": [
      " 14% 49/358 [16:34<1:06:23, 12.89s/it]"
     ]
    },
    {
     "name": "stdout",
     "output_type": "stream",
     "text": [
      "global noise calculated\n",
      "Comes here\n"
     ]
    },
    {
     "name": "stderr",
     "output_type": "stream",
     "text": [
      " 14% 50/358 [16:44<1:02:46, 12.23s/it]"
     ]
    },
    {
     "name": "stdout",
     "output_type": "stream",
     "text": [
      "global noise calculated\n",
      "Comes here\n"
     ]
    },
    {
     "name": "stderr",
     "output_type": "stream",
     "text": [
      " 14% 51/358 [16:53<57:00, 11.14s/it]  "
     ]
    },
    {
     "name": "stdout",
     "output_type": "stream",
     "text": [
      "global noise calculated\n",
      "Comes here\n"
     ]
    },
    {
     "name": "stderr",
     "output_type": "stream",
     "text": [
      " 15% 52/358 [17:15<1:13:52, 14.49s/it]"
     ]
    },
    {
     "name": "stdout",
     "output_type": "stream",
     "text": [
      "global noise calculated\n",
      "Comes here\n"
     ]
    },
    {
     "name": "stderr",
     "output_type": "stream",
     "text": [
      " 15% 53/358 [17:25<1:07:05, 13.20s/it]"
     ]
    },
    {
     "name": "stdout",
     "output_type": "stream",
     "text": [
      "global noise calculated\n",
      "Comes here\n"
     ]
    },
    {
     "name": "stderr",
     "output_type": "stream",
     "text": [
      " 15% 54/358 [17:39<1:06:43, 13.17s/it]"
     ]
    },
    {
     "name": "stdout",
     "output_type": "stream",
     "text": [
      "global noise calculated\n",
      "Comes here\n"
     ]
    },
    {
     "name": "stderr",
     "output_type": "stream",
     "text": [
      " 15% 55/358 [17:51<1:05:27, 12.96s/it]"
     ]
    },
    {
     "name": "stdout",
     "output_type": "stream",
     "text": [
      "global noise calculated\n",
      "Comes here\n"
     ]
    },
    {
     "name": "stderr",
     "output_type": "stream",
     "text": [
      " 16% 56/358 [18:02<1:02:36, 12.44s/it]"
     ]
    },
    {
     "name": "stdout",
     "output_type": "stream",
     "text": [
      "global noise calculated\n",
      "Comes here\n"
     ]
    },
    {
     "name": "stderr",
     "output_type": "stream",
     "text": [
      " 16% 57/358 [18:14<1:00:47, 12.12s/it]"
     ]
    },
    {
     "name": "stdout",
     "output_type": "stream",
     "text": [
      "global noise calculated\n",
      "Comes here\n"
     ]
    },
    {
     "name": "stderr",
     "output_type": "stream",
     "text": [
      " 16% 58/358 [18:54<1:43:43, 20.74s/it]"
     ]
    },
    {
     "name": "stdout",
     "output_type": "stream",
     "text": [
      "global noise calculated\n",
      "Comes here\n"
     ]
    },
    {
     "name": "stderr",
     "output_type": "stream",
     "text": [
      " 16% 59/358 [19:06<1:30:07, 18.09s/it]"
     ]
    },
    {
     "name": "stdout",
     "output_type": "stream",
     "text": [
      "global noise calculated\n",
      "Comes here\n"
     ]
    },
    {
     "name": "stderr",
     "output_type": "stream",
     "text": [
      " 17% 60/358 [19:23<1:27:58, 17.71s/it]"
     ]
    },
    {
     "name": "stdout",
     "output_type": "stream",
     "text": [
      "global noise calculated\n",
      "Comes here\n"
     ]
    },
    {
     "name": "stderr",
     "output_type": "stream",
     "text": [
      " 17% 61/358 [19:36<1:19:59, 16.16s/it]"
     ]
    },
    {
     "name": "stdout",
     "output_type": "stream",
     "text": [
      "global noise calculated\n",
      "Comes here\n"
     ]
    },
    {
     "name": "stderr",
     "output_type": "stream",
     "text": [
      " 17% 62/358 [19:45<1:09:34, 14.10s/it]"
     ]
    },
    {
     "name": "stdout",
     "output_type": "stream",
     "text": [
      "global noise calculated\n",
      "Comes here\n"
     ]
    },
    {
     "name": "stderr",
     "output_type": "stream",
     "text": [
      " 18% 63/358 [19:56<1:04:59, 13.22s/it]"
     ]
    },
    {
     "name": "stdout",
     "output_type": "stream",
     "text": [
      "global noise calculated\n",
      "Comes here\n"
     ]
    },
    {
     "name": "stderr",
     "output_type": "stream",
     "text": [
      " 18% 64/358 [20:15<1:13:10, 14.93s/it]"
     ]
    },
    {
     "name": "stdout",
     "output_type": "stream",
     "text": [
      "global noise calculated\n",
      "Comes here\n"
     ]
    },
    {
     "name": "stderr",
     "output_type": "stream",
     "text": [
      " 18% 65/358 [21:00<1:56:18, 23.82s/it]"
     ]
    },
    {
     "name": "stdout",
     "output_type": "stream",
     "text": [
      "global noise calculated\n",
      "Comes here\n"
     ]
    },
    {
     "name": "stderr",
     "output_type": "stream",
     "text": [
      " 18% 66/358 [21:12<1:38:41, 20.28s/it]"
     ]
    },
    {
     "name": "stdout",
     "output_type": "stream",
     "text": [
      "global noise calculated\n",
      "Comes here\n"
     ]
    },
    {
     "name": "stderr",
     "output_type": "stream",
     "text": [
      " 19% 67/358 [21:21<1:23:02, 17.12s/it]"
     ]
    },
    {
     "name": "stdout",
     "output_type": "stream",
     "text": [
      "global noise calculated\n",
      "Comes here\n"
     ]
    },
    {
     "name": "stderr",
     "output_type": "stream",
     "text": [
      " 19% 68/358 [21:33<1:14:11, 15.35s/it]"
     ]
    },
    {
     "name": "stdout",
     "output_type": "stream",
     "text": [
      "global noise calculated\n",
      "Comes here\n"
     ]
    },
    {
     "name": "stderr",
     "output_type": "stream",
     "text": [
      " 19% 69/358 [21:44<1:08:16, 14.17s/it]"
     ]
    },
    {
     "name": "stdout",
     "output_type": "stream",
     "text": [
      "global noise calculated\n",
      "Comes here\n"
     ]
    },
    {
     "name": "stderr",
     "output_type": "stream",
     "text": [
      " 20% 70/358 [22:29<1:52:11, 23.37s/it]"
     ]
    },
    {
     "name": "stdout",
     "output_type": "stream",
     "text": [
      "global noise calculated\n",
      "Comes here\n"
     ]
    },
    {
     "name": "stderr",
     "output_type": "stream",
     "text": [
      " 20% 71/358 [22:50<1:48:05, 22.60s/it]"
     ]
    },
    {
     "name": "stdout",
     "output_type": "stream",
     "text": [
      "global noise calculated\n",
      "Comes here\n"
     ]
    },
    {
     "name": "stderr",
     "output_type": "stream",
     "text": [
      " 20% 72/358 [23:03<1:34:21, 19.79s/it]"
     ]
    },
    {
     "name": "stdout",
     "output_type": "stream",
     "text": [
      "global noise calculated\n",
      "Comes here\n"
     ]
    },
    {
     "name": "stderr",
     "output_type": "stream",
     "text": [
      " 20% 73/358 [23:22<1:32:45, 19.53s/it]"
     ]
    },
    {
     "name": "stdout",
     "output_type": "stream",
     "text": [
      "global noise calculated\n",
      "Comes here\n"
     ]
    },
    {
     "name": "stderr",
     "output_type": "stream",
     "text": [
      " 21% 74/358 [24:19<2:25:40, 30.78s/it]"
     ]
    },
    {
     "name": "stdout",
     "output_type": "stream",
     "text": [
      "global noise calculated\n",
      "Comes here\n"
     ]
    },
    {
     "name": "stderr",
     "output_type": "stream",
     "text": [
      " 21% 75/358 [24:32<2:00:19, 25.51s/it]"
     ]
    },
    {
     "name": "stdout",
     "output_type": "stream",
     "text": [
      "global noise calculated\n",
      "Comes here\n"
     ]
    },
    {
     "name": "stderr",
     "output_type": "stream",
     "text": [
      " 21% 76/358 [24:41<1:36:58, 20.63s/it]"
     ]
    },
    {
     "name": "stdout",
     "output_type": "stream",
     "text": [
      "global noise calculated\n",
      "Comes here\n"
     ]
    },
    {
     "name": "stderr",
     "output_type": "stream",
     "text": [
      " 22% 77/358 [24:59<1:33:00, 19.86s/it]"
     ]
    },
    {
     "name": "stdout",
     "output_type": "stream",
     "text": [
      "global noise calculated\n",
      "Comes here\n"
     ]
    },
    {
     "name": "stderr",
     "output_type": "stream",
     "text": [
      " 22% 78/358 [25:11<1:21:06, 17.38s/it]"
     ]
    },
    {
     "name": "stdout",
     "output_type": "stream",
     "text": [
      "global noise calculated\n",
      "Comes here\n"
     ]
    },
    {
     "name": "stderr",
     "output_type": "stream",
     "text": [
      " 22% 79/358 [25:22<1:12:15, 15.54s/it]"
     ]
    },
    {
     "name": "stdout",
     "output_type": "stream",
     "text": [
      "global noise calculated\n",
      "Comes here\n"
     ]
    },
    {
     "name": "stderr",
     "output_type": "stream",
     "text": [
      " 22% 80/358 [25:38<1:12:34, 15.66s/it]"
     ]
    },
    {
     "name": "stdout",
     "output_type": "stream",
     "text": [
      "global noise calculated\n",
      "Comes here\n"
     ]
    },
    {
     "name": "stderr",
     "output_type": "stream",
     "text": [
      " 23% 81/358 [25:59<1:18:50, 17.08s/it]"
     ]
    },
    {
     "name": "stdout",
     "output_type": "stream",
     "text": [
      "global noise calculated\n",
      "Comes here\n"
     ]
    },
    {
     "name": "stderr",
     "output_type": "stream",
     "text": [
      " 23% 82/358 [26:12<1:13:55, 16.07s/it]"
     ]
    },
    {
     "name": "stdout",
     "output_type": "stream",
     "text": [
      "global noise calculated\n",
      "Comes here\n"
     ]
    },
    {
     "name": "stderr",
     "output_type": "stream",
     "text": [
      " 23% 83/358 [26:24<1:07:36, 14.75s/it]"
     ]
    },
    {
     "name": "stdout",
     "output_type": "stream",
     "text": [
      "global noise calculated\n",
      "Comes here\n"
     ]
    },
    {
     "name": "stderr",
     "output_type": "stream",
     "text": [
      " 23% 84/358 [26:37<1:04:56, 14.22s/it]"
     ]
    },
    {
     "name": "stdout",
     "output_type": "stream",
     "text": [
      "global noise calculated\n",
      "Comes here\n"
     ]
    },
    {
     "name": "stderr",
     "output_type": "stream",
     "text": [
      " 24% 85/358 [26:48<1:00:27, 13.29s/it]"
     ]
    },
    {
     "name": "stdout",
     "output_type": "stream",
     "text": [
      "global noise calculated\n",
      "Comes here\n"
     ]
    },
    {
     "name": "stderr",
     "output_type": "stream",
     "text": [
      " 24% 86/358 [27:00<58:24, 12.88s/it]  "
     ]
    },
    {
     "name": "stdout",
     "output_type": "stream",
     "text": [
      "global noise calculated\n",
      "Comes here\n"
     ]
    },
    {
     "name": "stderr",
     "output_type": "stream",
     "text": [
      " 24% 87/358 [27:56<1:56:54, 25.88s/it]"
     ]
    },
    {
     "name": "stdout",
     "output_type": "stream",
     "text": [
      "global noise calculated\n",
      "Comes here\n"
     ]
    },
    {
     "name": "stderr",
     "output_type": "stream",
     "text": [
      " 25% 88/358 [28:08<1:37:10, 21.59s/it]"
     ]
    },
    {
     "name": "stdout",
     "output_type": "stream",
     "text": [
      "global noise calculated\n",
      "Comes here\n"
     ]
    },
    {
     "name": "stderr",
     "output_type": "stream",
     "text": [
      " 25% 89/358 [29:00<2:18:17, 30.85s/it]"
     ]
    },
    {
     "name": "stdout",
     "output_type": "stream",
     "text": [
      "global noise calculated\n",
      "Comes here\n"
     ]
    },
    {
     "name": "stderr",
     "output_type": "stream",
     "text": [
      " 25% 90/358 [29:12<1:51:39, 25.00s/it]"
     ]
    },
    {
     "name": "stdout",
     "output_type": "stream",
     "text": [
      "global noise calculated\n",
      "Comes here\n"
     ]
    },
    {
     "name": "stderr",
     "output_type": "stream",
     "text": [
      " 25% 91/358 [29:24<1:33:56, 21.11s/it]"
     ]
    },
    {
     "name": "stdout",
     "output_type": "stream",
     "text": [
      "global noise calculated\n",
      "Comes here\n"
     ]
    },
    {
     "name": "stderr",
     "output_type": "stream",
     "text": [
      " 26% 92/358 [29:37<1:22:52, 18.69s/it]"
     ]
    },
    {
     "name": "stdout",
     "output_type": "stream",
     "text": [
      "global noise calculated\n",
      "Comes here\n"
     ]
    },
    {
     "name": "stderr",
     "output_type": "stream",
     "text": [
      " 26% 93/358 [29:49<1:13:54, 16.74s/it]"
     ]
    },
    {
     "name": "stdout",
     "output_type": "stream",
     "text": [
      "global noise calculated\n",
      "Comes here\n"
     ]
    },
    {
     "name": "stderr",
     "output_type": "stream",
     "text": [
      " 26% 94/358 [30:34<1:51:26, 25.33s/it]"
     ]
    },
    {
     "name": "stdout",
     "output_type": "stream",
     "text": [
      "global noise calculated\n",
      "Comes here\n"
     ]
    },
    {
     "name": "stderr",
     "output_type": "stream",
     "text": [
      " 27% 95/358 [30:49<1:37:34, 22.26s/it]"
     ]
    },
    {
     "name": "stdout",
     "output_type": "stream",
     "text": [
      "global noise calculated\n",
      "Comes here\n"
     ]
    },
    {
     "name": "stderr",
     "output_type": "stream",
     "text": [
      " 27% 96/358 [31:00<1:22:25, 18.88s/it]"
     ]
    },
    {
     "name": "stdout",
     "output_type": "stream",
     "text": [
      "global noise calculated\n",
      "Comes here\n"
     ]
    },
    {
     "name": "stderr",
     "output_type": "stream",
     "text": [
      " 27% 97/358 [31:11<1:11:54, 16.53s/it]"
     ]
    },
    {
     "name": "stdout",
     "output_type": "stream",
     "text": [
      "global noise calculated\n",
      "Comes here\n"
     ]
    },
    {
     "name": "stderr",
     "output_type": "stream",
     "text": [
      " 27% 98/358 [31:26<1:09:11, 15.97s/it]"
     ]
    },
    {
     "name": "stdout",
     "output_type": "stream",
     "text": [
      "global noise calculated\n",
      "Comes here\n"
     ]
    },
    {
     "name": "stderr",
     "output_type": "stream",
     "text": [
      " 28% 99/358 [32:39<2:22:36, 33.04s/it]"
     ]
    },
    {
     "name": "stdout",
     "output_type": "stream",
     "text": [
      "global noise calculated\n",
      "Comes here\n"
     ]
    },
    {
     "name": "stderr",
     "output_type": "stream",
     "text": [
      " 28% 100/358 [33:50<3:10:44, 44.36s/it]"
     ]
    },
    {
     "name": "stdout",
     "output_type": "stream",
     "text": [
      "global noise calculated\n",
      "Comes here\n"
     ]
    },
    {
     "name": "stderr",
     "output_type": "stream",
     "text": [
      " 28% 101/358 [34:00<2:26:19, 34.16s/it]"
     ]
    },
    {
     "name": "stdout",
     "output_type": "stream",
     "text": [
      "global noise calculated\n",
      "Comes here\n"
     ]
    },
    {
     "name": "stderr",
     "output_type": "stream",
     "text": [
      " 28% 102/358 [34:12<1:57:05, 27.44s/it]"
     ]
    },
    {
     "name": "stdout",
     "output_type": "stream",
     "text": [
      "global noise calculated\n",
      "Comes here\n"
     ]
    },
    {
     "name": "stderr",
     "output_type": "stream",
     "text": [
      " 29% 103/358 [34:26<1:39:53, 23.50s/it]"
     ]
    },
    {
     "name": "stdout",
     "output_type": "stream",
     "text": [
      "global noise calculated\n",
      "Comes here\n"
     ]
    },
    {
     "name": "stderr",
     "output_type": "stream",
     "text": [
      " 29% 104/358 [34:40<1:27:19, 20.63s/it]"
     ]
    },
    {
     "name": "stdout",
     "output_type": "stream",
     "text": [
      "global noise calculated\n",
      "Comes here\n"
     ]
    },
    {
     "name": "stderr",
     "output_type": "stream",
     "text": [
      " 29% 105/358 [34:51<1:14:15, 17.61s/it]"
     ]
    },
    {
     "name": "stdout",
     "output_type": "stream",
     "text": [
      "global noise calculated\n",
      "Comes here\n"
     ]
    },
    {
     "name": "stderr",
     "output_type": "stream",
     "text": [
      " 30% 106/358 [35:03<1:07:53, 16.16s/it]"
     ]
    },
    {
     "name": "stdout",
     "output_type": "stream",
     "text": [
      "global noise calculated\n",
      "Comes here\n"
     ]
    },
    {
     "name": "stderr",
     "output_type": "stream",
     "text": [
      " 30% 107/358 [35:16<1:03:04, 15.08s/it]"
     ]
    },
    {
     "name": "stdout",
     "output_type": "stream",
     "text": [
      "global noise calculated\n",
      "Comes here\n"
     ]
    },
    {
     "name": "stderr",
     "output_type": "stream",
     "text": [
      " 30% 108/358 [35:31<1:02:22, 14.97s/it]"
     ]
    },
    {
     "name": "stdout",
     "output_type": "stream",
     "text": [
      "global noise calculated\n",
      "Comes here\n"
     ]
    },
    {
     "name": "stderr",
     "output_type": "stream",
     "text": [
      " 30% 109/358 [36:29<1:55:43, 27.89s/it]"
     ]
    },
    {
     "name": "stdout",
     "output_type": "stream",
     "text": [
      "global noise calculated\n",
      "Comes here\n"
     ]
    },
    {
     "name": "stderr",
     "output_type": "stream",
     "text": [
      " 31% 110/358 [36:40<1:34:35, 22.88s/it]"
     ]
    },
    {
     "name": "stdout",
     "output_type": "stream",
     "text": [
      "global noise calculated\n",
      "Comes here\n"
     ]
    },
    {
     "name": "stderr",
     "output_type": "stream",
     "text": [
      " 31% 111/358 [36:55<1:25:03, 20.66s/it]"
     ]
    },
    {
     "name": "stdout",
     "output_type": "stream",
     "text": [
      "global noise calculated\n",
      "Comes here\n"
     ]
    },
    {
     "name": "stderr",
     "output_type": "stream",
     "text": [
      " 31% 112/358 [37:06<1:12:10, 17.61s/it]"
     ]
    },
    {
     "name": "stdout",
     "output_type": "stream",
     "text": [
      "global noise calculated\n",
      "Comes here\n"
     ]
    },
    {
     "name": "stderr",
     "output_type": "stream",
     "text": [
      " 32% 113/358 [37:17<1:03:52, 15.64s/it]"
     ]
    },
    {
     "name": "stdout",
     "output_type": "stream",
     "text": [
      "global noise calculated\n",
      "Comes here\n"
     ]
    },
    {
     "name": "stderr",
     "output_type": "stream",
     "text": [
      " 32% 114/358 [37:36<1:08:09, 16.76s/it]"
     ]
    },
    {
     "name": "stdout",
     "output_type": "stream",
     "text": [
      "global noise calculated\n",
      "Comes here\n"
     ]
    },
    {
     "name": "stderr",
     "output_type": "stream",
     "text": [
      " 32% 115/358 [37:52<1:06:21, 16.39s/it]"
     ]
    },
    {
     "name": "stdout",
     "output_type": "stream",
     "text": [
      "global noise calculated\n",
      "Comes here\n"
     ]
    },
    {
     "name": "stderr",
     "output_type": "stream",
     "text": [
      " 32% 116/358 [38:35<1:38:09, 24.34s/it]"
     ]
    },
    {
     "name": "stdout",
     "output_type": "stream",
     "text": [
      "global noise calculated\n",
      "Comes here\n"
     ]
    },
    {
     "name": "stderr",
     "output_type": "stream",
     "text": [
      " 33% 117/358 [38:48<1:24:37, 21.07s/it]"
     ]
    },
    {
     "name": "stdout",
     "output_type": "stream",
     "text": [
      "global noise calculated\n",
      "Comes here\n"
     ]
    },
    {
     "name": "stderr",
     "output_type": "stream",
     "text": [
      " 33% 118/358 [39:00<1:13:21, 18.34s/it]"
     ]
    },
    {
     "name": "stdout",
     "output_type": "stream",
     "text": [
      "global noise calculated\n",
      "Comes here\n"
     ]
    },
    {
     "name": "stderr",
     "output_type": "stream",
     "text": [
      " 33% 119/358 [39:17<1:11:16, 17.89s/it]"
     ]
    },
    {
     "name": "stdout",
     "output_type": "stream",
     "text": [
      "global noise calculated\n",
      "Comes here\n"
     ]
    },
    {
     "name": "stderr",
     "output_type": "stream",
     "text": [
      " 34% 120/358 [39:23<57:20, 14.46s/it]  "
     ]
    },
    {
     "name": "stdout",
     "output_type": "stream",
     "text": [
      "global noise calculated\n",
      "Comes here\n"
     ]
    },
    {
     "name": "stderr",
     "output_type": "stream",
     "text": [
      " 34% 121/358 [39:37<55:34, 14.07s/it]"
     ]
    },
    {
     "name": "stdout",
     "output_type": "stream",
     "text": [
      "global noise calculated\n",
      "Comes here\n"
     ]
    },
    {
     "name": "stderr",
     "output_type": "stream",
     "text": [
      " 34% 122/358 [39:55<1:00:30, 15.38s/it]"
     ]
    },
    {
     "name": "stdout",
     "output_type": "stream",
     "text": [
      "global noise calculated\n",
      "Comes here\n"
     ]
    },
    {
     "name": "stderr",
     "output_type": "stream",
     "text": [
      " 34% 123/358 [40:47<1:43:47, 26.50s/it]"
     ]
    },
    {
     "name": "stdout",
     "output_type": "stream",
     "text": [
      "global noise calculated\n",
      "Comes here\n"
     ]
    },
    {
     "name": "stderr",
     "output_type": "stream",
     "text": [
      " 35% 124/358 [40:53<1:18:27, 20.12s/it]"
     ]
    },
    {
     "name": "stdout",
     "output_type": "stream",
     "text": [
      "global noise calculated\n",
      "Comes here\n"
     ]
    },
    {
     "name": "stderr",
     "output_type": "stream",
     "text": [
      " 35% 125/358 [41:04<1:07:33, 17.40s/it]"
     ]
    },
    {
     "name": "stdout",
     "output_type": "stream",
     "text": [
      "global noise calculated\n",
      "Comes here\n"
     ]
    },
    {
     "name": "stderr",
     "output_type": "stream",
     "text": [
      " 35% 126/358 [41:15<1:00:41, 15.70s/it]"
     ]
    },
    {
     "name": "stdout",
     "output_type": "stream",
     "text": [
      "global noise calculated\n",
      "Comes here\n"
     ]
    },
    {
     "name": "stderr",
     "output_type": "stream",
     "text": [
      " 35% 127/358 [42:19<1:56:07, 30.16s/it]"
     ]
    },
    {
     "name": "stdout",
     "output_type": "stream",
     "text": [
      "global noise calculated\n",
      "Comes here\n"
     ]
    },
    {
     "name": "stderr",
     "output_type": "stream",
     "text": [
      " 36% 128/358 [42:40<1:44:09, 27.17s/it]"
     ]
    },
    {
     "name": "stdout",
     "output_type": "stream",
     "text": [
      "global noise calculated\n",
      "Comes here\n"
     ]
    },
    {
     "name": "stderr",
     "output_type": "stream",
     "text": [
      " 36% 129/358 [42:49<1:23:13, 21.81s/it]"
     ]
    },
    {
     "name": "stdout",
     "output_type": "stream",
     "text": [
      "global noise calculated\n",
      "Comes here\n"
     ]
    },
    {
     "name": "stderr",
     "output_type": "stream",
     "text": [
      " 36% 130/358 [43:05<1:16:22, 20.10s/it]"
     ]
    },
    {
     "name": "stdout",
     "output_type": "stream",
     "text": [
      "global noise calculated\n",
      "Comes here\n"
     ]
    },
    {
     "name": "stderr",
     "output_type": "stream",
     "text": [
      " 37% 131/358 [44:12<2:09:25, 34.21s/it]"
     ]
    },
    {
     "name": "stdout",
     "output_type": "stream",
     "text": [
      "global noise calculated\n",
      "Comes here\n"
     ]
    },
    {
     "name": "stderr",
     "output_type": "stream",
     "text": [
      " 37% 132/358 [45:10<2:35:39, 41.32s/it]"
     ]
    },
    {
     "name": "stdout",
     "output_type": "stream",
     "text": [
      "global noise calculated\n",
      "Comes here\n"
     ]
    },
    {
     "name": "stderr",
     "output_type": "stream",
     "text": [
      " 37% 133/358 [45:59<2:43:10, 43.51s/it]"
     ]
    },
    {
     "name": "stdout",
     "output_type": "stream",
     "text": [
      "global noise calculated\n",
      "Comes here\n"
     ]
    },
    {
     "name": "stderr",
     "output_type": "stream",
     "text": [
      " 37% 134/358 [46:05<2:00:41, 32.33s/it]"
     ]
    },
    {
     "name": "stdout",
     "output_type": "stream",
     "text": [
      "global noise calculated\n",
      "Comes here\n"
     ]
    },
    {
     "name": "stderr",
     "output_type": "stream",
     "text": [
      " 38% 135/358 [46:14<1:33:49, 25.25s/it]"
     ]
    },
    {
     "name": "stdout",
     "output_type": "stream",
     "text": [
      "global noise calculated\n",
      "Comes here\n"
     ]
    },
    {
     "name": "stderr",
     "output_type": "stream",
     "text": [
      " 38% 136/358 [46:25<1:17:59, 21.08s/it]"
     ]
    },
    {
     "name": "stdout",
     "output_type": "stream",
     "text": [
      "global noise calculated\n",
      "Comes here\n"
     ]
    },
    {
     "name": "stderr",
     "output_type": "stream",
     "text": [
      " 38% 137/358 [46:35<1:05:56, 17.90s/it]"
     ]
    },
    {
     "name": "stdout",
     "output_type": "stream",
     "text": [
      "global noise calculated\n",
      "Comes here\n"
     ]
    },
    {
     "name": "stderr",
     "output_type": "stream",
     "text": [
      " 39% 138/358 [46:45<56:51, 15.51s/it]  "
     ]
    },
    {
     "name": "stdout",
     "output_type": "stream",
     "text": [
      "global noise calculated\n",
      "Comes here\n"
     ]
    },
    {
     "name": "stderr",
     "output_type": "stream",
     "text": [
      " 39% 139/358 [47:25<1:23:32, 22.89s/it]"
     ]
    },
    {
     "name": "stdout",
     "output_type": "stream",
     "text": [
      "global noise calculated\n",
      "Comes here\n"
     ]
    },
    {
     "name": "stderr",
     "output_type": "stream",
     "text": [
      " 39% 140/358 [48:27<2:05:44, 34.61s/it]"
     ]
    },
    {
     "name": "stdout",
     "output_type": "stream",
     "text": [
      "global noise calculated\n",
      "Comes here\n"
     ]
    },
    {
     "name": "stderr",
     "output_type": "stream",
     "text": [
      " 39% 141/358 [48:39<1:40:40, 27.84s/it]"
     ]
    },
    {
     "name": "stdout",
     "output_type": "stream",
     "text": [
      "global noise calculated\n",
      "Comes here\n"
     ]
    },
    {
     "name": "stderr",
     "output_type": "stream",
     "text": [
      " 40% 142/358 [49:53<2:29:05, 41.42s/it]"
     ]
    },
    {
     "name": "stdout",
     "output_type": "stream",
     "text": [
      "global noise calculated\n",
      "Comes here\n"
     ]
    },
    {
     "name": "stderr",
     "output_type": "stream",
     "text": [
      " 40% 143/358 [50:59<2:55:51, 49.08s/it]"
     ]
    },
    {
     "name": "stdout",
     "output_type": "stream",
     "text": [
      "global noise calculated\n",
      "Comes here\n"
     ]
    },
    {
     "name": "stderr",
     "output_type": "stream",
     "text": [
      " 40% 144/358 [51:11<2:15:19, 37.94s/it]"
     ]
    },
    {
     "name": "stdout",
     "output_type": "stream",
     "text": [
      "global noise calculated\n",
      "Comes here\n"
     ]
    },
    {
     "name": "stderr",
     "output_type": "stream",
     "text": [
      " 41% 145/358 [51:32<1:55:59, 32.68s/it]"
     ]
    },
    {
     "name": "stdout",
     "output_type": "stream",
     "text": [
      "global noise calculated\n",
      "Comes here\n"
     ]
    },
    {
     "name": "stderr",
     "output_type": "stream",
     "text": [
      " 41% 146/358 [51:44<1:33:39, 26.51s/it]"
     ]
    },
    {
     "name": "stdout",
     "output_type": "stream",
     "text": [
      "global noise calculated\n",
      "Comes here\n"
     ]
    },
    {
     "name": "stderr",
     "output_type": "stream",
     "text": [
      " 41% 147/358 [52:05<1:26:59, 24.73s/it]"
     ]
    },
    {
     "name": "stdout",
     "output_type": "stream",
     "text": [
      "global noise calculated\n",
      "Comes here\n"
     ]
    },
    {
     "name": "stderr",
     "output_type": "stream",
     "text": [
      " 41% 148/358 [52:20<1:17:18, 22.09s/it]"
     ]
    },
    {
     "name": "stdout",
     "output_type": "stream",
     "text": [
      "global noise calculated\n",
      "Comes here\n"
     ]
    },
    {
     "name": "stderr",
     "output_type": "stream",
     "text": [
      " 42% 149/358 [52:31<1:04:24, 18.49s/it]"
     ]
    },
    {
     "name": "stdout",
     "output_type": "stream",
     "text": [
      "global noise calculated\n",
      "Comes here\n"
     ]
    },
    {
     "name": "stderr",
     "output_type": "stream",
     "text": [
      " 42% 150/358 [52:39<53:35, 15.46s/it]  "
     ]
    },
    {
     "name": "stdout",
     "output_type": "stream",
     "text": [
      "global noise calculated\n",
      "Comes here\n"
     ]
    },
    {
     "name": "stderr",
     "output_type": "stream",
     "text": [
      " 42% 151/358 [52:50<49:01, 14.21s/it]"
     ]
    },
    {
     "name": "stdout",
     "output_type": "stream",
     "text": [
      "global noise calculated\n",
      "Comes here\n"
     ]
    },
    {
     "name": "stderr",
     "output_type": "stream",
     "text": [
      " 42% 152/358 [53:00<44:26, 12.95s/it]"
     ]
    },
    {
     "name": "stdout",
     "output_type": "stream",
     "text": [
      "global noise calculated\n",
      "Comes here\n"
     ]
    },
    {
     "name": "stderr",
     "output_type": "stream",
     "text": [
      " 43% 153/358 [53:45<1:16:23, 22.36s/it]"
     ]
    },
    {
     "name": "stdout",
     "output_type": "stream",
     "text": [
      "global noise calculated\n",
      "Comes here\n"
     ]
    },
    {
     "name": "stderr",
     "output_type": "stream",
     "text": [
      " 43% 154/358 [53:55<1:03:47, 18.76s/it]"
     ]
    },
    {
     "name": "stdout",
     "output_type": "stream",
     "text": [
      "global noise calculated\n",
      "Comes here\n"
     ]
    },
    {
     "name": "stderr",
     "output_type": "stream",
     "text": [
      " 43% 155/358 [54:16<1:05:51, 19.47s/it]"
     ]
    },
    {
     "name": "stdout",
     "output_type": "stream",
     "text": [
      "global noise calculated\n",
      "Comes here\n"
     ]
    },
    {
     "name": "stderr",
     "output_type": "stream",
     "text": [
      " 44% 156/358 [54:36<1:06:12, 19.67s/it]"
     ]
    },
    {
     "name": "stdout",
     "output_type": "stream",
     "text": [
      "global noise calculated\n",
      "Comes here\n"
     ]
    },
    {
     "name": "stderr",
     "output_type": "stream",
     "text": [
      " 44% 157/358 [55:27<1:37:36, 29.14s/it]"
     ]
    },
    {
     "name": "stdout",
     "output_type": "stream",
     "text": [
      "global noise calculated\n",
      "Comes here\n"
     ]
    },
    {
     "name": "stderr",
     "output_type": "stream",
     "text": [
      " 44% 158/358 [55:38<1:18:30, 23.55s/it]"
     ]
    },
    {
     "name": "stdout",
     "output_type": "stream",
     "text": [
      "global noise calculated\n",
      "Comes here\n"
     ]
    },
    {
     "name": "stderr",
     "output_type": "stream",
     "text": [
      " 44% 159/358 [55:50<1:06:26, 20.03s/it]"
     ]
    },
    {
     "name": "stdout",
     "output_type": "stream",
     "text": [
      "global noise calculated\n",
      "Comes here\n"
     ]
    },
    {
     "name": "stderr",
     "output_type": "stream",
     "text": [
      " 45% 160/358 [56:05<1:01:12, 18.55s/it]"
     ]
    },
    {
     "name": "stdout",
     "output_type": "stream",
     "text": [
      "global noise calculated\n",
      "Comes here\n"
     ]
    },
    {
     "name": "stderr",
     "output_type": "stream",
     "text": [
      " 45% 161/358 [56:16<53:45, 16.37s/it]  "
     ]
    },
    {
     "name": "stdout",
     "output_type": "stream",
     "text": [
      "global noise calculated\n",
      "Comes here\n"
     ]
    },
    {
     "name": "stderr",
     "output_type": "stream",
     "text": [
      " 45% 162/358 [56:37<57:31, 17.61s/it]"
     ]
    },
    {
     "name": "stdout",
     "output_type": "stream",
     "text": [
      "global noise calculated\n",
      "Comes here\n"
     ]
    },
    {
     "name": "stderr",
     "output_type": "stream",
     "text": [
      " 46% 163/358 [56:57<1:00:03, 18.48s/it]"
     ]
    },
    {
     "name": "stdout",
     "output_type": "stream",
     "text": [
      "global noise calculated\n",
      "Comes here\n"
     ]
    },
    {
     "name": "stderr",
     "output_type": "stream",
     "text": [
      " 46% 164/358 [57:44<1:26:48, 26.85s/it]"
     ]
    },
    {
     "name": "stdout",
     "output_type": "stream",
     "text": [
      "global noise calculated\n",
      "Comes here\n"
     ]
    },
    {
     "name": "stderr",
     "output_type": "stream",
     "text": [
      " 46% 165/358 [57:56<1:12:48, 22.63s/it]"
     ]
    },
    {
     "name": "stdout",
     "output_type": "stream",
     "text": [
      "global noise calculated\n",
      "Comes here\n"
     ]
    },
    {
     "name": "stderr",
     "output_type": "stream",
     "text": [
      " 46% 166/358 [58:07<1:01:05, 19.09s/it]"
     ]
    },
    {
     "name": "stdout",
     "output_type": "stream",
     "text": [
      "global noise calculated\n",
      "Comes here\n"
     ]
    },
    {
     "name": "stderr",
     "output_type": "stream",
     "text": [
      " 47% 167/358 [58:19<53:46, 16.89s/it]  "
     ]
    },
    {
     "name": "stdout",
     "output_type": "stream",
     "text": [
      "global noise calculated\n",
      "Comes here\n"
     ]
    },
    {
     "name": "stderr",
     "output_type": "stream",
     "text": [
      " 47% 168/358 [58:32<49:56, 15.77s/it]"
     ]
    },
    {
     "name": "stdout",
     "output_type": "stream",
     "text": [
      "global noise calculated\n",
      "Comes here\n"
     ]
    },
    {
     "name": "stderr",
     "output_type": "stream",
     "text": [
      " 47% 169/358 [58:45<47:04, 14.94s/it]"
     ]
    },
    {
     "name": "stdout",
     "output_type": "stream",
     "text": [
      "global noise calculated\n",
      "Comes here\n"
     ]
    },
    {
     "name": "stderr",
     "output_type": "stream",
     "text": [
      " 47% 170/358 [59:01<47:37, 15.20s/it]"
     ]
    },
    {
     "name": "stdout",
     "output_type": "stream",
     "text": [
      "global noise calculated\n",
      "Comes here\n"
     ]
    },
    {
     "name": "stderr",
     "output_type": "stream",
     "text": [
      " 48% 171/358 [59:12<43:54, 14.09s/it]"
     ]
    },
    {
     "name": "stdout",
     "output_type": "stream",
     "text": [
      "global noise calculated\n",
      "Comes here\n"
     ]
    },
    {
     "name": "stderr",
     "output_type": "stream",
     "text": [
      " 48% 172/358 [59:29<45:58, 14.83s/it]"
     ]
    },
    {
     "name": "stdout",
     "output_type": "stream",
     "text": [
      "global noise calculated\n",
      "Comes here\n"
     ]
    },
    {
     "name": "stderr",
     "output_type": "stream",
     "text": [
      " 48% 173/358 [59:50<51:11, 16.60s/it]"
     ]
    },
    {
     "name": "stdout",
     "output_type": "stream",
     "text": [
      "global noise calculated\n",
      "Comes here\n"
     ]
    },
    {
     "name": "stderr",
     "output_type": "stream",
     "text": [
      " 49% 174/358 [1:00:00<44:43, 14.59s/it]"
     ]
    },
    {
     "name": "stdout",
     "output_type": "stream",
     "text": [
      "global noise calculated\n",
      "Comes here\n"
     ]
    },
    {
     "name": "stderr",
     "output_type": "stream",
     "text": [
      " 49% 175/358 [1:00:08<38:45, 12.71s/it]"
     ]
    },
    {
     "name": "stdout",
     "output_type": "stream",
     "text": [
      "global noise calculated\n",
      "Comes here\n"
     ]
    },
    {
     "name": "stderr",
     "output_type": "stream",
     "text": [
      " 49% 176/358 [1:00:20<37:56, 12.51s/it]"
     ]
    },
    {
     "name": "stdout",
     "output_type": "stream",
     "text": [
      "global noise calculated\n",
      "Comes here\n"
     ]
    },
    {
     "name": "stderr",
     "output_type": "stream",
     "text": [
      " 49% 177/358 [1:00:30<35:24, 11.74s/it]"
     ]
    },
    {
     "name": "stdout",
     "output_type": "stream",
     "text": [
      "global noise calculated\n",
      "Comes here\n"
     ]
    },
    {
     "name": "stderr",
     "output_type": "stream",
     "text": [
      " 50% 178/358 [1:00:39<32:43, 10.91s/it]"
     ]
    },
    {
     "name": "stdout",
     "output_type": "stream",
     "text": [
      "global noise calculated\n",
      "Comes here\n"
     ]
    },
    {
     "name": "stderr",
     "output_type": "stream",
     "text": [
      " 50% 179/358 [1:00:50<32:30, 10.90s/it]"
     ]
    },
    {
     "name": "stdout",
     "output_type": "stream",
     "text": [
      "global noise calculated\n",
      "Comes here\n"
     ]
    },
    {
     "name": "stderr",
     "output_type": "stream",
     "text": [
      " 50% 180/358 [1:01:11<41:46, 14.08s/it]"
     ]
    },
    {
     "name": "stdout",
     "output_type": "stream",
     "text": [
      "global noise calculated\n",
      "Comes here\n"
     ]
    },
    {
     "name": "stderr",
     "output_type": "stream",
     "text": [
      " 51% 181/358 [1:02:21<1:30:40, 30.74s/it]"
     ]
    },
    {
     "name": "stdout",
     "output_type": "stream",
     "text": [
      "global noise calculated\n",
      "Comes here\n"
     ]
    },
    {
     "name": "stderr",
     "output_type": "stream",
     "text": [
      " 51% 182/358 [1:02:42<1:22:07, 28.00s/it]"
     ]
    },
    {
     "name": "stdout",
     "output_type": "stream",
     "text": [
      "global noise calculated\n",
      "Comes here\n"
     ]
    },
    {
     "name": "stderr",
     "output_type": "stream",
     "text": [
      " 51% 183/358 [1:03:31<1:40:03, 34.31s/it]"
     ]
    },
    {
     "name": "stdout",
     "output_type": "stream",
     "text": [
      "global noise calculated\n",
      "Comes here\n"
     ]
    },
    {
     "name": "stderr",
     "output_type": "stream",
     "text": [
      " 51% 184/358 [1:03:44<1:20:15, 27.68s/it]"
     ]
    },
    {
     "name": "stdout",
     "output_type": "stream",
     "text": [
      "global noise calculated\n",
      "Comes here\n"
     ]
    },
    {
     "name": "stderr",
     "output_type": "stream",
     "text": [
      " 52% 185/358 [1:04:01<1:10:29, 24.45s/it]"
     ]
    },
    {
     "name": "stdout",
     "output_type": "stream",
     "text": [
      "global noise calculated\n",
      "Comes here\n"
     ]
    },
    {
     "name": "stderr",
     "output_type": "stream",
     "text": [
      " 52% 186/358 [1:04:13<59:45, 20.84s/it]  "
     ]
    },
    {
     "name": "stdout",
     "output_type": "stream",
     "text": [
      "global noise calculated\n",
      "Comes here\n"
     ]
    },
    {
     "name": "stderr",
     "output_type": "stream",
     "text": [
      " 52% 187/358 [1:04:33<58:32, 20.54s/it]"
     ]
    },
    {
     "name": "stdout",
     "output_type": "stream",
     "text": [
      "global noise calculated\n",
      "Comes here\n"
     ]
    },
    {
     "name": "stderr",
     "output_type": "stream",
     "text": [
      " 53% 188/358 [1:04:44<50:22, 17.78s/it]"
     ]
    },
    {
     "name": "stdout",
     "output_type": "stream",
     "text": [
      "global noise calculated\n",
      "Comes here\n"
     ]
    },
    {
     "name": "stderr",
     "output_type": "stream",
     "text": [
      " 53% 189/358 [1:04:56<44:49, 15.91s/it]"
     ]
    },
    {
     "name": "stdout",
     "output_type": "stream",
     "text": [
      "global noise calculated\n",
      "Comes here\n"
     ]
    },
    {
     "name": "stderr",
     "output_type": "stream",
     "text": [
      " 53% 190/358 [1:05:07<40:37, 14.51s/it]"
     ]
    },
    {
     "name": "stdout",
     "output_type": "stream",
     "text": [
      "global noise calculated\n",
      "Comes here\n"
     ]
    },
    {
     "name": "stderr",
     "output_type": "stream",
     "text": [
      " 53% 191/358 [1:06:11<1:21:36, 29.32s/it]"
     ]
    },
    {
     "name": "stdout",
     "output_type": "stream",
     "text": [
      "global noise calculated\n",
      "Comes here\n"
     ]
    },
    {
     "name": "stderr",
     "output_type": "stream",
     "text": [
      " 54% 192/358 [1:06:21<1:05:32, 23.69s/it]"
     ]
    },
    {
     "name": "stdout",
     "output_type": "stream",
     "text": [
      "global noise calculated\n",
      "Comes here\n"
     ]
    },
    {
     "name": "stderr",
     "output_type": "stream",
     "text": [
      " 54% 193/358 [1:06:35<56:49, 20.66s/it]  "
     ]
    },
    {
     "name": "stdout",
     "output_type": "stream",
     "text": [
      "global noise calculated\n",
      "Comes here\n"
     ]
    },
    {
     "name": "stderr",
     "output_type": "stream",
     "text": [
      " 54% 194/358 [1:06:48<50:11, 18.36s/it]"
     ]
    },
    {
     "name": "stdout",
     "output_type": "stream",
     "text": [
      "global noise calculated\n",
      "Comes here\n"
     ]
    },
    {
     "name": "stderr",
     "output_type": "stream",
     "text": [
      " 54% 195/358 [1:07:06<49:52, 18.36s/it]"
     ]
    },
    {
     "name": "stdout",
     "output_type": "stream",
     "text": [
      "global noise calculated\n",
      "Comes here\n"
     ]
    },
    {
     "name": "stderr",
     "output_type": "stream",
     "text": [
      " 55% 196/358 [1:07:17<43:20, 16.05s/it]"
     ]
    },
    {
     "name": "stdout",
     "output_type": "stream",
     "text": [
      "global noise calculated\n",
      "Comes here\n"
     ]
    },
    {
     "name": "stderr",
     "output_type": "stream",
     "text": [
      " 55% 197/358 [1:08:32<1:30:32, 33.75s/it]"
     ]
    },
    {
     "name": "stdout",
     "output_type": "stream",
     "text": [
      "global noise calculated\n",
      "Comes here\n"
     ]
    },
    {
     "name": "stderr",
     "output_type": "stream",
     "text": [
      " 55% 198/358 [1:09:37<1:54:41, 43.01s/it]"
     ]
    },
    {
     "name": "stdout",
     "output_type": "stream",
     "text": [
      "global noise calculated\n",
      "Comes here\n"
     ]
    },
    {
     "name": "stderr",
     "output_type": "stream",
     "text": [
      " 56% 199/358 [1:09:49<1:29:43, 33.86s/it]"
     ]
    },
    {
     "name": "stdout",
     "output_type": "stream",
     "text": [
      "global noise calculated\n",
      "Comes here\n"
     ]
    },
    {
     "name": "stderr",
     "output_type": "stream",
     "text": [
      " 56% 200/358 [1:10:00<1:10:46, 26.88s/it]"
     ]
    },
    {
     "name": "stdout",
     "output_type": "stream",
     "text": [
      "global noise calculated\n",
      "Comes here\n"
     ]
    },
    {
     "name": "stderr",
     "output_type": "stream",
     "text": [
      " 56% 201/358 [1:10:11<58:09, 22.23s/it]  "
     ]
    },
    {
     "name": "stdout",
     "output_type": "stream",
     "text": [
      "global noise calculated\n",
      "Comes here\n"
     ]
    },
    {
     "name": "stderr",
     "output_type": "stream",
     "text": [
      " 56% 202/358 [1:10:24<50:53, 19.57s/it]"
     ]
    },
    {
     "name": "stdout",
     "output_type": "stream",
     "text": [
      "global noise calculated\n",
      "Comes here\n"
     ]
    },
    {
     "name": "stderr",
     "output_type": "stream",
     "text": [
      " 57% 203/358 [1:10:43<50:01, 19.37s/it]"
     ]
    },
    {
     "name": "stdout",
     "output_type": "stream",
     "text": [
      "global noise calculated\n",
      "Comes here\n"
     ]
    },
    {
     "name": "stderr",
     "output_type": "stream",
     "text": [
      " 57% 204/358 [1:10:57<45:23, 17.69s/it]"
     ]
    },
    {
     "name": "stdout",
     "output_type": "stream",
     "text": [
      "global noise calculated\n",
      "Comes here\n"
     ]
    },
    {
     "name": "stderr",
     "output_type": "stream",
     "text": [
      " 57% 205/358 [1:11:46<1:09:07, 27.11s/it]"
     ]
    },
    {
     "name": "stdout",
     "output_type": "stream",
     "text": [
      "global noise calculated\n",
      "Comes here\n"
     ]
    },
    {
     "name": "stderr",
     "output_type": "stream",
     "text": [
      " 58% 206/358 [1:11:59<58:07, 22.94s/it]  "
     ]
    },
    {
     "name": "stdout",
     "output_type": "stream",
     "text": [
      "global noise calculated\n",
      "Comes here\n"
     ]
    },
    {
     "name": "stderr",
     "output_type": "stream",
     "text": [
      " 58% 207/358 [1:12:12<49:42, 19.75s/it]"
     ]
    },
    {
     "name": "stdout",
     "output_type": "stream",
     "text": [
      "global noise calculated\n",
      "Comes here\n"
     ]
    },
    {
     "name": "stderr",
     "output_type": "stream",
     "text": [
      " 58% 208/358 [1:12:53<1:05:44, 26.30s/it]"
     ]
    },
    {
     "name": "stdout",
     "output_type": "stream",
     "text": [
      "global noise calculated\n",
      "Comes here\n"
     ]
    },
    {
     "name": "stderr",
     "output_type": "stream",
     "text": [
      " 58% 209/358 [1:13:04<53:54, 21.71s/it]  "
     ]
    },
    {
     "name": "stdout",
     "output_type": "stream",
     "text": [
      "global noise calculated\n",
      "Comes here\n"
     ]
    },
    {
     "name": "stderr",
     "output_type": "stream",
     "text": [
      " 59% 210/358 [1:13:16<46:15, 18.76s/it]"
     ]
    },
    {
     "name": "stdout",
     "output_type": "stream",
     "text": [
      "global noise calculated\n",
      "Comes here\n"
     ]
    },
    {
     "name": "stderr",
     "output_type": "stream",
     "text": [
      " 59% 211/358 [1:13:30<42:06, 17.19s/it]"
     ]
    },
    {
     "name": "stdout",
     "output_type": "stream",
     "text": [
      "global noise calculated\n",
      "Comes here\n"
     ]
    },
    {
     "name": "stderr",
     "output_type": "stream",
     "text": [
      " 59% 212/358 [1:13:42<38:06, 15.66s/it]"
     ]
    },
    {
     "name": "stdout",
     "output_type": "stream",
     "text": [
      "global noise calculated\n",
      "Comes here\n"
     ]
    },
    {
     "name": "stderr",
     "output_type": "stream",
     "text": [
      " 59% 213/358 [1:13:53<34:36, 14.32s/it]"
     ]
    },
    {
     "name": "stdout",
     "output_type": "stream",
     "text": [
      "global noise calculated\n",
      "Comes here\n"
     ]
    },
    {
     "name": "stderr",
     "output_type": "stream",
     "text": [
      " 60% 214/358 [1:14:36<55:06, 22.96s/it]"
     ]
    },
    {
     "name": "stdout",
     "output_type": "stream",
     "text": [
      "global noise calculated\n",
      "Comes here\n"
     ]
    },
    {
     "name": "stderr",
     "output_type": "stream",
     "text": [
      " 60% 215/358 [1:14:45<44:57, 18.86s/it]"
     ]
    },
    {
     "name": "stdout",
     "output_type": "stream",
     "text": [
      "global noise calculated\n",
      "Comes here\n"
     ]
    },
    {
     "name": "stderr",
     "output_type": "stream",
     "text": [
      " 60% 216/358 [1:15:01<42:11, 17.83s/it]"
     ]
    },
    {
     "name": "stdout",
     "output_type": "stream",
     "text": [
      "global noise calculated\n",
      "Comes here\n"
     ]
    },
    {
     "name": "stderr",
     "output_type": "stream",
     "text": [
      " 61% 217/358 [1:15:56<1:08:32, 29.17s/it]"
     ]
    },
    {
     "name": "stdout",
     "output_type": "stream",
     "text": [
      "global noise calculated\n",
      "Comes here\n"
     ]
    },
    {
     "name": "stderr",
     "output_type": "stream",
     "text": [
      " 61% 218/358 [1:16:10<57:17, 24.55s/it]  "
     ]
    },
    {
     "name": "stdout",
     "output_type": "stream",
     "text": [
      "global noise calculated\n",
      "Comes here\n"
     ]
    },
    {
     "name": "stderr",
     "output_type": "stream",
     "text": [
      " 61% 219/358 [1:16:51<1:07:48, 29.27s/it]"
     ]
    },
    {
     "name": "stdout",
     "output_type": "stream",
     "text": [
      "global noise calculated\n",
      "Comes here\n"
     ]
    },
    {
     "name": "stderr",
     "output_type": "stream",
     "text": [
      " 61% 220/358 [1:17:01<54:35, 23.73s/it]  "
     ]
    },
    {
     "name": "stdout",
     "output_type": "stream",
     "text": [
      "global noise calculated\n",
      "Comes here\n"
     ]
    },
    {
     "name": "stderr",
     "output_type": "stream",
     "text": [
      " 62% 221/358 [1:17:14<46:51, 20.52s/it]"
     ]
    },
    {
     "name": "stdout",
     "output_type": "stream",
     "text": [
      "global noise calculated\n",
      "Comes here\n"
     ]
    },
    {
     "name": "stderr",
     "output_type": "stream",
     "text": [
      " 62% 222/358 [1:17:29<42:11, 18.61s/it]"
     ]
    },
    {
     "name": "stdout",
     "output_type": "stream",
     "text": [
      "global noise calculated\n",
      "Comes here\n"
     ]
    },
    {
     "name": "stderr",
     "output_type": "stream",
     "text": [
      " 62% 223/358 [1:17:42<38:32, 17.13s/it]"
     ]
    },
    {
     "name": "stdout",
     "output_type": "stream",
     "text": [
      "global noise calculated\n",
      "Comes here\n"
     ]
    },
    {
     "name": "stderr",
     "output_type": "stream",
     "text": [
      " 63% 224/358 [1:17:56<36:15, 16.24s/it]"
     ]
    },
    {
     "name": "stdout",
     "output_type": "stream",
     "text": [
      "global noise calculated\n",
      "Comes here\n"
     ]
    },
    {
     "name": "stderr",
     "output_type": "stream",
     "text": [
      " 63% 225/358 [1:18:10<34:20, 15.49s/it]"
     ]
    },
    {
     "name": "stdout",
     "output_type": "stream",
     "text": [
      "global noise calculated\n",
      "Comes here\n"
     ]
    },
    {
     "name": "stderr",
     "output_type": "stream",
     "text": [
      " 63% 226/358 [1:18:44<46:32, 21.15s/it]"
     ]
    },
    {
     "name": "stdout",
     "output_type": "stream",
     "text": [
      "global noise calculated\n",
      "Comes here\n"
     ]
    },
    {
     "name": "stderr",
     "output_type": "stream",
     "text": [
      " 63% 227/358 [1:18:57<40:15, 18.44s/it]"
     ]
    },
    {
     "name": "stdout",
     "output_type": "stream",
     "text": [
      "global noise calculated\n",
      "Comes here\n"
     ]
    },
    {
     "name": "stderr",
     "output_type": "stream",
     "text": [
      " 64% 228/358 [1:19:10<36:36, 16.90s/it]"
     ]
    },
    {
     "name": "stdout",
     "output_type": "stream",
     "text": [
      "global noise calculated\n",
      "Comes here\n"
     ]
    },
    {
     "name": "stderr",
     "output_type": "stream",
     "text": [
      " 64% 229/358 [1:19:21<32:28, 15.11s/it]"
     ]
    },
    {
     "name": "stdout",
     "output_type": "stream",
     "text": [
      "global noise calculated\n",
      "Comes here\n"
     ]
    },
    {
     "name": "stderr",
     "output_type": "stream",
     "text": [
      " 64% 230/358 [1:19:32<29:48, 13.97s/it]"
     ]
    },
    {
     "name": "stdout",
     "output_type": "stream",
     "text": [
      "global noise calculated\n",
      "Comes here\n"
     ]
    },
    {
     "name": "stderr",
     "output_type": "stream",
     "text": [
      " 65% 231/358 [1:20:28<55:51, 26.39s/it]"
     ]
    },
    {
     "name": "stdout",
     "output_type": "stream",
     "text": [
      "global noise calculated\n",
      "Comes here\n"
     ]
    },
    {
     "name": "stderr",
     "output_type": "stream",
     "text": [
      " 65% 232/358 [1:20:43<48:21, 23.02s/it]"
     ]
    },
    {
     "name": "stdout",
     "output_type": "stream",
     "text": [
      "global noise calculated\n",
      "Comes here\n"
     ]
    },
    {
     "name": "stderr",
     "output_type": "stream",
     "text": [
      " 65% 233/358 [1:21:02<45:50, 22.01s/it]"
     ]
    },
    {
     "name": "stdout",
     "output_type": "stream",
     "text": [
      "global noise calculated\n",
      "Comes here\n"
     ]
    },
    {
     "name": "stderr",
     "output_type": "stream",
     "text": [
      " 65% 234/358 [1:21:14<39:18, 19.02s/it]"
     ]
    },
    {
     "name": "stdout",
     "output_type": "stream",
     "text": [
      "global noise calculated\n",
      "Comes here\n"
     ]
    },
    {
     "name": "stderr",
     "output_type": "stream",
     "text": [
      " 66% 235/358 [1:21:27<35:17, 17.22s/it]"
     ]
    },
    {
     "name": "stdout",
     "output_type": "stream",
     "text": [
      "global noise calculated\n",
      "Comes here\n"
     ]
    },
    {
     "name": "stderr",
     "output_type": "stream",
     "text": [
      " 66% 236/358 [1:21:39<31:21, 15.42s/it]"
     ]
    },
    {
     "name": "stdout",
     "output_type": "stream",
     "text": [
      "global noise calculated\n",
      "Comes here\n"
     ]
    },
    {
     "name": "stderr",
     "output_type": "stream",
     "text": [
      " 66% 237/358 [1:21:58<33:36, 16.66s/it]"
     ]
    },
    {
     "name": "stdout",
     "output_type": "stream",
     "text": [
      "global noise calculated\n",
      "Comes here\n"
     ]
    },
    {
     "name": "stderr",
     "output_type": "stream",
     "text": [
      " 66% 238/358 [1:22:18<35:23, 17.69s/it]"
     ]
    },
    {
     "name": "stdout",
     "output_type": "stream",
     "text": [
      "global noise calculated\n",
      "Comes here\n"
     ]
    },
    {
     "name": "stderr",
     "output_type": "stream",
     "text": [
      " 67% 239/358 [1:23:27<1:05:44, 33.14s/it]"
     ]
    },
    {
     "name": "stdout",
     "output_type": "stream",
     "text": [
      "global noise calculated\n",
      "Comes here\n"
     ]
    },
    {
     "name": "stderr",
     "output_type": "stream",
     "text": [
      " 67% 240/358 [1:23:41<53:46, 27.34s/it]  "
     ]
    },
    {
     "name": "stdout",
     "output_type": "stream",
     "text": [
      "global noise calculated\n",
      "Comes here\n"
     ]
    },
    {
     "name": "stderr",
     "output_type": "stream",
     "text": [
      " 67% 241/358 [1:23:55<45:22, 23.27s/it]"
     ]
    },
    {
     "name": "stdout",
     "output_type": "stream",
     "text": [
      "global noise calculated\n",
      "Comes here\n"
     ]
    },
    {
     "name": "stderr",
     "output_type": "stream",
     "text": [
      " 68% 242/358 [1:24:15<43:12, 22.35s/it]"
     ]
    },
    {
     "name": "stdout",
     "output_type": "stream",
     "text": [
      "global noise calculated\n",
      "Comes here\n"
     ]
    },
    {
     "name": "stderr",
     "output_type": "stream",
     "text": [
      " 68% 243/358 [1:25:23<1:09:08, 36.07s/it]"
     ]
    },
    {
     "name": "stdout",
     "output_type": "stream",
     "text": [
      "global noise calculated\n",
      "Comes here\n"
     ]
    },
    {
     "name": "stderr",
     "output_type": "stream",
     "text": [
      " 68% 244/358 [1:25:35<54:25, 28.64s/it]  "
     ]
    },
    {
     "name": "stdout",
     "output_type": "stream",
     "text": [
      "global noise calculated\n",
      "Comes here\n"
     ]
    },
    {
     "name": "stderr",
     "output_type": "stream",
     "text": [
      " 68% 245/358 [1:25:48<45:27, 24.13s/it]"
     ]
    },
    {
     "name": "stdout",
     "output_type": "stream",
     "text": [
      "global noise calculated\n",
      "Comes here\n"
     ]
    },
    {
     "name": "stderr",
     "output_type": "stream",
     "text": [
      " 69% 246/358 [1:26:09<42:55, 23.00s/it]"
     ]
    },
    {
     "name": "stdout",
     "output_type": "stream",
     "text": [
      "global noise calculated\n",
      "Comes here\n"
     ]
    },
    {
     "name": "stderr",
     "output_type": "stream",
     "text": [
      " 69% 247/358 [1:27:15<1:06:26, 35.92s/it]"
     ]
    },
    {
     "name": "stdout",
     "output_type": "stream",
     "text": [
      "global noise calculated\n",
      "Comes here\n"
     ]
    },
    {
     "name": "stderr",
     "output_type": "stream",
     "text": [
      " 69% 248/358 [1:27:27<53:04, 28.95s/it]  "
     ]
    },
    {
     "name": "stdout",
     "output_type": "stream",
     "text": [
      "global noise calculated\n",
      "Comes here\n"
     ]
    },
    {
     "name": "stderr",
     "output_type": "stream",
     "text": [
      " 70% 249/358 [1:27:39<43:20, 23.86s/it]"
     ]
    },
    {
     "name": "stdout",
     "output_type": "stream",
     "text": [
      "global noise calculated\n",
      "Comes here\n"
     ]
    },
    {
     "name": "stderr",
     "output_type": "stream",
     "text": [
      " 70% 250/358 [1:27:48<34:45, 19.31s/it]"
     ]
    },
    {
     "name": "stdout",
     "output_type": "stream",
     "text": [
      "global noise calculated\n",
      "Comes here\n"
     ]
    },
    {
     "name": "stderr",
     "output_type": "stream",
     "text": [
      " 70% 251/358 [1:28:01<31:07, 17.45s/it]"
     ]
    },
    {
     "name": "stdout",
     "output_type": "stream",
     "text": [
      "global noise calculated\n",
      "Comes here\n"
     ]
    },
    {
     "name": "stderr",
     "output_type": "stream",
     "text": [
      " 70% 252/358 [1:28:16<29:13, 16.54s/it]"
     ]
    },
    {
     "name": "stdout",
     "output_type": "stream",
     "text": [
      "global noise calculated\n",
      "Comes here\n"
     ]
    },
    {
     "name": "stderr",
     "output_type": "stream",
     "text": [
      " 71% 253/358 [1:28:29<27:19, 15.62s/it]"
     ]
    },
    {
     "name": "stdout",
     "output_type": "stream",
     "text": [
      "global noise calculated\n",
      "Comes here\n"
     ]
    },
    {
     "name": "stderr",
     "output_type": "stream",
     "text": [
      " 71% 254/358 [1:28:44<26:49, 15.48s/it]"
     ]
    },
    {
     "name": "stdout",
     "output_type": "stream",
     "text": [
      "global noise calculated\n",
      "Comes here\n"
     ]
    },
    {
     "name": "stderr",
     "output_type": "stream",
     "text": [
      " 71% 255/358 [1:28:55<24:11, 14.09s/it]"
     ]
    },
    {
     "name": "stdout",
     "output_type": "stream",
     "text": [
      "global noise calculated\n",
      "Comes here\n"
     ]
    },
    {
     "name": "stderr",
     "output_type": "stream",
     "text": [
      " 72% 256/358 [1:30:03<51:22, 30.22s/it]"
     ]
    },
    {
     "name": "stdout",
     "output_type": "stream",
     "text": [
      "global noise calculated\n",
      "Comes here\n"
     ]
    },
    {
     "name": "stderr",
     "output_type": "stream",
     "text": [
      " 72% 257/358 [1:30:50<59:23, 35.28s/it]"
     ]
    },
    {
     "name": "stdout",
     "output_type": "stream",
     "text": [
      "global noise calculated\n",
      "Comes here\n"
     ]
    },
    {
     "name": "stderr",
     "output_type": "stream",
     "text": [
      " 72% 258/358 [1:31:00<46:11, 27.72s/it]"
     ]
    },
    {
     "name": "stdout",
     "output_type": "stream",
     "text": [
      "global noise calculated\n",
      "Comes here\n"
     ]
    },
    {
     "name": "stderr",
     "output_type": "stream",
     "text": [
      " 72% 259/358 [1:31:09<36:20, 22.03s/it]"
     ]
    },
    {
     "name": "stdout",
     "output_type": "stream",
     "text": [
      "global noise calculated\n",
      "Comes here\n"
     ]
    },
    {
     "name": "stderr",
     "output_type": "stream",
     "text": [
      " 73% 260/358 [1:31:21<31:03, 19.02s/it]"
     ]
    },
    {
     "name": "stdout",
     "output_type": "stream",
     "text": [
      "global noise calculated\n",
      "Comes here\n"
     ]
    },
    {
     "name": "stderr",
     "output_type": "stream",
     "text": [
      " 73% 261/358 [1:31:37<29:20, 18.15s/it]"
     ]
    },
    {
     "name": "stdout",
     "output_type": "stream",
     "text": [
      "global noise calculated\n",
      "Comes here\n"
     ]
    },
    {
     "name": "stderr",
     "output_type": "stream",
     "text": [
      " 73% 262/358 [1:31:49<26:18, 16.45s/it]"
     ]
    },
    {
     "name": "stdout",
     "output_type": "stream",
     "text": [
      "global noise calculated\n",
      "Comes here\n"
     ]
    },
    {
     "name": "stderr",
     "output_type": "stream",
     "text": [
      " 73% 263/358 [1:32:03<24:28, 15.46s/it]"
     ]
    },
    {
     "name": "stdout",
     "output_type": "stream",
     "text": [
      "global noise calculated\n",
      "Comes here\n"
     ]
    },
    {
     "name": "stderr",
     "output_type": "stream",
     "text": [
      " 74% 264/358 [1:32:13<21:46, 13.90s/it]"
     ]
    },
    {
     "name": "stdout",
     "output_type": "stream",
     "text": [
      "global noise calculated\n",
      "Comes here\n"
     ]
    },
    {
     "name": "stderr",
     "output_type": "stream",
     "text": [
      " 74% 265/358 [1:33:01<37:39, 24.30s/it]"
     ]
    },
    {
     "name": "stdout",
     "output_type": "stream",
     "text": [
      "global noise calculated\n",
      "Comes here\n"
     ]
    },
    {
     "name": "stderr",
     "output_type": "stream",
     "text": [
      " 74% 266/358 [1:33:13<31:13, 20.36s/it]"
     ]
    },
    {
     "name": "stdout",
     "output_type": "stream",
     "text": [
      "global noise calculated\n",
      "Comes here\n"
     ]
    },
    {
     "name": "stderr",
     "output_type": "stream",
     "text": [
      " 75% 267/358 [1:34:02<44:04, 29.06s/it]"
     ]
    },
    {
     "name": "stdout",
     "output_type": "stream",
     "text": [
      "global noise calculated\n",
      "Comes here\n"
     ]
    },
    {
     "name": "stderr",
     "output_type": "stream",
     "text": [
      " 75% 268/358 [1:34:13<35:29, 23.66s/it]"
     ]
    },
    {
     "name": "stdout",
     "output_type": "stream",
     "text": [
      "global noise calculated\n",
      "Comes here\n"
     ]
    },
    {
     "name": "stderr",
     "output_type": "stream",
     "text": [
      " 75% 269/358 [1:34:27<30:41, 20.69s/it]"
     ]
    },
    {
     "name": "stdout",
     "output_type": "stream",
     "text": [
      "global noise calculated\n",
      "Comes here\n"
     ]
    },
    {
     "name": "stderr",
     "output_type": "stream",
     "text": [
      " 75% 270/358 [1:34:42<28:09, 19.20s/it]"
     ]
    },
    {
     "name": "stdout",
     "output_type": "stream",
     "text": [
      "global noise calculated\n",
      "Comes here\n"
     ]
    },
    {
     "name": "stderr",
     "output_type": "stream",
     "text": [
      " 76% 271/358 [1:34:53<24:13, 16.71s/it]"
     ]
    },
    {
     "name": "stdout",
     "output_type": "stream",
     "text": [
      "global noise calculated\n",
      "Comes here\n"
     ]
    },
    {
     "name": "stderr",
     "output_type": "stream",
     "text": [
      " 76% 272/358 [1:35:04<21:09, 14.76s/it]"
     ]
    },
    {
     "name": "stdout",
     "output_type": "stream",
     "text": [
      "global noise calculated\n",
      "Comes here\n"
     ]
    },
    {
     "name": "stderr",
     "output_type": "stream",
     "text": [
      " 76% 273/358 [1:35:11<17:54, 12.64s/it]"
     ]
    },
    {
     "name": "stdout",
     "output_type": "stream",
     "text": [
      "global noise calculated\n",
      "Comes here\n"
     ]
    },
    {
     "name": "stderr",
     "output_type": "stream",
     "text": [
      " 77% 274/358 [1:35:24<17:42, 12.64s/it]"
     ]
    },
    {
     "name": "stdout",
     "output_type": "stream",
     "text": [
      "global noise calculated\n",
      "Comes here\n"
     ]
    },
    {
     "name": "stderr",
     "output_type": "stream",
     "text": [
      " 77% 275/358 [1:35:38<18:15, 13.20s/it]"
     ]
    },
    {
     "name": "stdout",
     "output_type": "stream",
     "text": [
      "global noise calculated\n",
      "Comes here\n"
     ]
    },
    {
     "name": "stderr",
     "output_type": "stream",
     "text": [
      " 77% 276/358 [1:36:20<29:47, 21.80s/it]"
     ]
    },
    {
     "name": "stdout",
     "output_type": "stream",
     "text": [
      "global noise calculated\n",
      "Comes here\n"
     ]
    },
    {
     "name": "stderr",
     "output_type": "stream",
     "text": [
      " 77% 277/358 [1:36:34<26:18, 19.49s/it]"
     ]
    },
    {
     "name": "stdout",
     "output_type": "stream",
     "text": [
      "global noise calculated\n",
      "Comes here\n"
     ]
    },
    {
     "name": "stderr",
     "output_type": "stream",
     "text": [
      " 78% 278/358 [1:37:25<38:17, 28.71s/it]"
     ]
    },
    {
     "name": "stdout",
     "output_type": "stream",
     "text": [
      "global noise calculated\n",
      "Comes here\n"
     ]
    },
    {
     "name": "stderr",
     "output_type": "stream",
     "text": [
      " 78% 279/358 [1:37:35<30:33, 23.21s/it]"
     ]
    },
    {
     "name": "stdout",
     "output_type": "stream",
     "text": [
      "global noise calculated\n",
      "Comes here\n"
     ]
    },
    {
     "name": "stderr",
     "output_type": "stream",
     "text": [
      " 78% 280/358 [1:37:46<25:26, 19.57s/it]"
     ]
    },
    {
     "name": "stdout",
     "output_type": "stream",
     "text": [
      "global noise calculated\n",
      "Comes here\n"
     ]
    },
    {
     "name": "stderr",
     "output_type": "stream",
     "text": [
      " 78% 281/358 [1:38:46<40:37, 31.66s/it]"
     ]
    },
    {
     "name": "stdout",
     "output_type": "stream",
     "text": [
      "global noise calculated\n",
      "Comes here\n"
     ]
    },
    {
     "name": "stderr",
     "output_type": "stream",
     "text": [
      " 79% 282/358 [1:38:58<32:46, 25.87s/it]"
     ]
    },
    {
     "name": "stdout",
     "output_type": "stream",
     "text": [
      "global noise calculated\n",
      "Comes here\n"
     ]
    },
    {
     "name": "stderr",
     "output_type": "stream",
     "text": [
      " 79% 283/358 [1:39:10<27:00, 21.61s/it]"
     ]
    },
    {
     "name": "stdout",
     "output_type": "stream",
     "text": [
      "global noise calculated\n",
      "Comes here\n"
     ]
    },
    {
     "name": "stderr",
     "output_type": "stream",
     "text": [
      " 79% 284/358 [1:39:45<31:28, 25.53s/it]"
     ]
    },
    {
     "name": "stdout",
     "output_type": "stream",
     "text": [
      "global noise calculated\n",
      "Comes here\n"
     ]
    },
    {
     "name": "stderr",
     "output_type": "stream",
     "text": [
      " 80% 285/358 [1:40:02<28:14, 23.21s/it]"
     ]
    },
    {
     "name": "stdout",
     "output_type": "stream",
     "text": [
      "global noise calculated\n",
      "Comes here\n"
     ]
    },
    {
     "name": "stderr",
     "output_type": "stream",
     "text": [
      " 80% 286/358 [1:40:43<34:11, 28.50s/it]"
     ]
    },
    {
     "name": "stdout",
     "output_type": "stream",
     "text": [
      "global noise calculated\n",
      "Comes here\n"
     ]
    },
    {
     "name": "stderr",
     "output_type": "stream",
     "text": [
      " 80% 287/358 [1:40:59<29:16, 24.74s/it]"
     ]
    },
    {
     "name": "stdout",
     "output_type": "stream",
     "text": [
      "global noise calculated\n",
      "Comes here\n"
     ]
    },
    {
     "name": "stderr",
     "output_type": "stream",
     "text": [
      " 80% 288/358 [1:41:08<23:21, 20.03s/it]"
     ]
    },
    {
     "name": "stdout",
     "output_type": "stream",
     "text": [
      "global noise calculated\n",
      "Comes here\n"
     ]
    },
    {
     "name": "stderr",
     "output_type": "stream",
     "text": [
      " 81% 289/358 [1:41:27<22:35, 19.65s/it]"
     ]
    },
    {
     "name": "stdout",
     "output_type": "stream",
     "text": [
      "global noise calculated\n",
      "Comes here\n"
     ]
    },
    {
     "name": "stderr",
     "output_type": "stream",
     "text": [
      " 81% 290/358 [1:41:39<19:34, 17.27s/it]"
     ]
    },
    {
     "name": "stdout",
     "output_type": "stream",
     "text": [
      "global noise calculated\n",
      "Comes here\n"
     ]
    },
    {
     "name": "stderr",
     "output_type": "stream",
     "text": [
      " 81% 291/358 [1:41:49<16:51, 15.09s/it]"
     ]
    },
    {
     "name": "stdout",
     "output_type": "stream",
     "text": [
      "global noise calculated\n",
      "Comes here\n"
     ]
    },
    {
     "name": "stderr",
     "output_type": "stream",
     "text": [
      " 82% 292/358 [1:42:00<15:11, 13.81s/it]"
     ]
    },
    {
     "name": "stdout",
     "output_type": "stream",
     "text": [
      "global noise calculated\n",
      "Comes here\n"
     ]
    },
    {
     "name": "stderr",
     "output_type": "stream",
     "text": [
      " 82% 293/358 [1:42:18<16:28, 15.20s/it]"
     ]
    },
    {
     "name": "stdout",
     "output_type": "stream",
     "text": [
      "global noise calculated\n",
      "Comes here\n"
     ]
    },
    {
     "name": "stderr",
     "output_type": "stream",
     "text": [
      " 82% 294/358 [1:42:32<15:48, 14.82s/it]"
     ]
    },
    {
     "name": "stdout",
     "output_type": "stream",
     "text": [
      "global noise calculated\n",
      "Comes here\n"
     ]
    },
    {
     "name": "stderr",
     "output_type": "stream",
     "text": [
      " 82% 295/358 [1:42:43<14:17, 13.61s/it]"
     ]
    },
    {
     "name": "stdout",
     "output_type": "stream",
     "text": [
      "global noise calculated\n",
      "Comes here\n"
     ]
    },
    {
     "name": "stderr",
     "output_type": "stream",
     "text": [
      " 83% 296/358 [1:42:52<12:47, 12.38s/it]"
     ]
    },
    {
     "name": "stdout",
     "output_type": "stream",
     "text": [
      "global noise calculated\n",
      "Comes here\n"
     ]
    },
    {
     "name": "stderr",
     "output_type": "stream",
     "text": [
      " 83% 297/358 [1:43:03<12:10, 11.98s/it]"
     ]
    },
    {
     "name": "stdout",
     "output_type": "stream",
     "text": [
      "global noise calculated\n",
      "Comes here\n"
     ]
    },
    {
     "name": "stderr",
     "output_type": "stream",
     "text": [
      " 83% 298/358 [1:43:25<14:49, 14.82s/it]"
     ]
    },
    {
     "name": "stdout",
     "output_type": "stream",
     "text": [
      "global noise calculated\n",
      "Comes here\n"
     ]
    },
    {
     "name": "stderr",
     "output_type": "stream",
     "text": [
      " 84% 299/358 [1:43:35<13:08, 13.36s/it]"
     ]
    },
    {
     "name": "stdout",
     "output_type": "stream",
     "text": [
      "global noise calculated\n",
      "Comes here\n"
     ]
    },
    {
     "name": "stderr",
     "output_type": "stream",
     "text": [
      " 84% 300/358 [1:43:56<15:13, 15.76s/it]"
     ]
    },
    {
     "name": "stdout",
     "output_type": "stream",
     "text": [
      "global noise calculated\n",
      "Comes here\n"
     ]
    },
    {
     "name": "stderr",
     "output_type": "stream",
     "text": [
      " 84% 301/358 [1:44:03<12:33, 13.22s/it]"
     ]
    },
    {
     "name": "stdout",
     "output_type": "stream",
     "text": [
      "global noise calculated\n",
      "Comes here\n"
     ]
    },
    {
     "name": "stderr",
     "output_type": "stream",
     "text": [
      " 84% 302/358 [1:44:14<11:44, 12.58s/it]"
     ]
    },
    {
     "name": "stdout",
     "output_type": "stream",
     "text": [
      "global noise calculated\n",
      "Comes here\n"
     ]
    },
    {
     "name": "stderr",
     "output_type": "stream",
     "text": [
      " 85% 303/358 [1:44:25<11:05, 12.10s/it]"
     ]
    },
    {
     "name": "stdout",
     "output_type": "stream",
     "text": [
      "global noise calculated\n",
      "Comes here\n"
     ]
    },
    {
     "name": "stderr",
     "output_type": "stream",
     "text": [
      " 85% 304/358 [1:44:38<10:59, 12.21s/it]"
     ]
    },
    {
     "name": "stdout",
     "output_type": "stream",
     "text": [
      "global noise calculated\n",
      "Comes here\n"
     ]
    },
    {
     "name": "stderr",
     "output_type": "stream",
     "text": [
      " 85% 305/358 [1:44:49<10:24, 11.78s/it]"
     ]
    },
    {
     "name": "stdout",
     "output_type": "stream",
     "text": [
      "global noise calculated\n",
      "Comes here\n"
     ]
    },
    {
     "name": "stderr",
     "output_type": "stream",
     "text": [
      " 85% 306/358 [1:46:04<26:38, 30.74s/it]"
     ]
    },
    {
     "name": "stdout",
     "output_type": "stream",
     "text": [
      "global noise calculated\n",
      "Comes here\n"
     ]
    },
    {
     "name": "stderr",
     "output_type": "stream",
     "text": [
      " 86% 307/358 [1:46:13<20:47, 24.46s/it]"
     ]
    },
    {
     "name": "stdout",
     "output_type": "stream",
     "text": [
      "global noise calculated\n",
      "Comes here\n"
     ]
    },
    {
     "name": "stderr",
     "output_type": "stream",
     "text": [
      " 86% 308/358 [1:46:18<15:29, 18.58s/it]"
     ]
    },
    {
     "name": "stdout",
     "output_type": "stream",
     "text": [
      "global noise calculated\n",
      "Comes here\n"
     ]
    },
    {
     "name": "stderr",
     "output_type": "stream",
     "text": [
      " 86% 309/358 [1:46:40<15:57, 19.53s/it]"
     ]
    },
    {
     "name": "stdout",
     "output_type": "stream",
     "text": [
      "global noise calculated\n",
      "Comes here\n"
     ]
    },
    {
     "name": "stderr",
     "output_type": "stream",
     "text": [
      " 87% 310/358 [1:46:52<13:53, 17.36s/it]"
     ]
    },
    {
     "name": "stdout",
     "output_type": "stream",
     "text": [
      "global noise calculated\n",
      "Comes here\n"
     ]
    },
    {
     "name": "stderr",
     "output_type": "stream",
     "text": [
      " 87% 311/358 [1:47:13<14:17, 18.24s/it]"
     ]
    },
    {
     "name": "stdout",
     "output_type": "stream",
     "text": [
      "global noise calculated\n",
      "Comes here\n"
     ]
    },
    {
     "name": "stderr",
     "output_type": "stream",
     "text": [
      " 87% 312/358 [1:47:27<13:11, 17.21s/it]"
     ]
    },
    {
     "name": "stdout",
     "output_type": "stream",
     "text": [
      "global noise calculated\n",
      "Comes here\n"
     ]
    },
    {
     "name": "stderr",
     "output_type": "stream",
     "text": [
      " 87% 313/358 [1:47:40<11:50, 15.78s/it]"
     ]
    },
    {
     "name": "stdout",
     "output_type": "stream",
     "text": [
      "global noise calculated\n",
      "Comes here\n"
     ]
    },
    {
     "name": "stderr",
     "output_type": "stream",
     "text": [
      " 88% 314/358 [1:47:58<12:05, 16.50s/it]"
     ]
    },
    {
     "name": "stdout",
     "output_type": "stream",
     "text": [
      "global noise calculated\n",
      "Comes here\n"
     ]
    },
    {
     "name": "stderr",
     "output_type": "stream",
     "text": [
      " 88% 315/358 [1:48:07<10:06, 14.10s/it]"
     ]
    },
    {
     "name": "stdout",
     "output_type": "stream",
     "text": [
      "global noise calculated\n",
      "Comes here\n"
     ]
    },
    {
     "name": "stderr",
     "output_type": "stream",
     "text": [
      " 88% 316/358 [1:48:27<11:11, 15.99s/it]"
     ]
    },
    {
     "name": "stdout",
     "output_type": "stream",
     "text": [
      "global noise calculated\n",
      "Comes here\n"
     ]
    },
    {
     "name": "stderr",
     "output_type": "stream",
     "text": [
      " 89% 317/358 [1:48:40<10:15, 15.02s/it]"
     ]
    },
    {
     "name": "stdout",
     "output_type": "stream",
     "text": [
      "global noise calculated\n",
      "Comes here\n"
     ]
    },
    {
     "name": "stderr",
     "output_type": "stream",
     "text": [
      " 89% 318/358 [1:49:15<14:07, 21.19s/it]"
     ]
    },
    {
     "name": "stdout",
     "output_type": "stream",
     "text": [
      "global noise calculated\n",
      "Comes here\n"
     ]
    },
    {
     "name": "stderr",
     "output_type": "stream",
     "text": [
      " 89% 319/358 [1:50:01<18:29, 28.45s/it]"
     ]
    },
    {
     "name": "stdout",
     "output_type": "stream",
     "text": [
      "global noise calculated\n",
      "Comes here\n"
     ]
    },
    {
     "name": "stderr",
     "output_type": "stream",
     "text": [
      " 89% 320/358 [1:50:11<14:32, 22.96s/it]"
     ]
    },
    {
     "name": "stdout",
     "output_type": "stream",
     "text": [
      "global noise calculated\n",
      "Comes here\n"
     ]
    },
    {
     "name": "stderr",
     "output_type": "stream",
     "text": [
      " 90% 321/358 [1:50:31<13:35, 22.04s/it]"
     ]
    },
    {
     "name": "stdout",
     "output_type": "stream",
     "text": [
      "global noise calculated\n",
      "Comes here\n"
     ]
    },
    {
     "name": "stderr",
     "output_type": "stream",
     "text": [
      " 90% 322/358 [1:50:41<11:00, 18.35s/it]"
     ]
    },
    {
     "name": "stdout",
     "output_type": "stream",
     "text": [
      "global noise calculated\n",
      "Comes here\n"
     ]
    },
    {
     "name": "stderr",
     "output_type": "stream",
     "text": [
      " 90% 323/358 [1:50:54<09:52, 16.94s/it]"
     ]
    },
    {
     "name": "stdout",
     "output_type": "stream",
     "text": [
      "global noise calculated\n",
      "Comes here\n"
     ]
    },
    {
     "name": "stderr",
     "output_type": "stream",
     "text": [
      " 91% 324/358 [1:51:04<08:26, 14.91s/it]"
     ]
    },
    {
     "name": "stdout",
     "output_type": "stream",
     "text": [
      "global noise calculated\n",
      "Comes here\n"
     ]
    },
    {
     "name": "stderr",
     "output_type": "stream",
     "text": [
      " 91% 325/358 [1:51:14<07:23, 13.43s/it]"
     ]
    },
    {
     "name": "stdout",
     "output_type": "stream",
     "text": [
      "global noise calculated\n",
      "Comes here\n"
     ]
    },
    {
     "name": "stderr",
     "output_type": "stream",
     "text": [
      " 91% 326/358 [1:51:26<06:48, 12.77s/it]"
     ]
    },
    {
     "name": "stdout",
     "output_type": "stream",
     "text": [
      "global noise calculated\n",
      "Comes here\n"
     ]
    },
    {
     "name": "stderr",
     "output_type": "stream",
     "text": [
      " 91% 327/358 [1:51:36<06:11, 11.98s/it]"
     ]
    },
    {
     "name": "stdout",
     "output_type": "stream",
     "text": [
      "global noise calculated\n",
      "Comes here\n"
     ]
    },
    {
     "name": "stderr",
     "output_type": "stream",
     "text": [
      " 92% 328/358 [1:51:48<06:00, 12.02s/it]"
     ]
    },
    {
     "name": "stdout",
     "output_type": "stream",
     "text": [
      "global noise calculated\n",
      "Comes here\n"
     ]
    },
    {
     "name": "stderr",
     "output_type": "stream",
     "text": [
      " 92% 329/358 [1:52:03<06:14, 12.93s/it]"
     ]
    },
    {
     "name": "stdout",
     "output_type": "stream",
     "text": [
      "global noise calculated\n",
      "Comes here\n"
     ]
    },
    {
     "name": "stderr",
     "output_type": "stream",
     "text": [
      " 92% 330/358 [1:52:58<11:59, 25.71s/it]"
     ]
    },
    {
     "name": "stdout",
     "output_type": "stream",
     "text": [
      "global noise calculated\n",
      "Comes here\n"
     ]
    },
    {
     "name": "stderr",
     "output_type": "stream",
     "text": [
      " 92% 331/358 [1:53:09<09:32, 21.22s/it]"
     ]
    },
    {
     "name": "stdout",
     "output_type": "stream",
     "text": [
      "global noise calculated\n",
      "Comes here\n"
     ]
    },
    {
     "name": "stderr",
     "output_type": "stream",
     "text": [
      " 93% 332/358 [1:53:20<07:50, 18.09s/it]"
     ]
    },
    {
     "name": "stdout",
     "output_type": "stream",
     "text": [
      "global noise calculated\n",
      "Comes here\n"
     ]
    },
    {
     "name": "stderr",
     "output_type": "stream",
     "text": [
      " 93% 333/358 [1:53:37<07:21, 17.66s/it]"
     ]
    },
    {
     "name": "stdout",
     "output_type": "stream",
     "text": [
      "global noise calculated\n",
      "Comes here\n"
     ]
    },
    {
     "name": "stderr",
     "output_type": "stream",
     "text": [
      " 93% 334/358 [1:53:48<06:18, 15.76s/it]"
     ]
    },
    {
     "name": "stdout",
     "output_type": "stream",
     "text": [
      "global noise calculated\n",
      "Comes here\n"
     ]
    },
    {
     "name": "stderr",
     "output_type": "stream",
     "text": [
      " 94% 335/358 [1:54:24<08:23, 21.90s/it]"
     ]
    },
    {
     "name": "stdout",
     "output_type": "stream",
     "text": [
      "global noise calculated\n",
      "Comes here\n"
     ]
    },
    {
     "name": "stderr",
     "output_type": "stream",
     "text": [
      " 94% 336/358 [1:55:27<12:30, 34.12s/it]"
     ]
    },
    {
     "name": "stdout",
     "output_type": "stream",
     "text": [
      "global noise calculated\n",
      "Comes here\n"
     ]
    },
    {
     "name": "stderr",
     "output_type": "stream",
     "text": [
      " 94% 337/358 [1:55:41<09:49, 28.06s/it]"
     ]
    },
    {
     "name": "stdout",
     "output_type": "stream",
     "text": [
      "global noise calculated\n",
      "Comes here\n"
     ]
    },
    {
     "name": "stderr",
     "output_type": "stream",
     "text": [
      " 94% 338/358 [1:55:48<07:18, 21.93s/it]"
     ]
    },
    {
     "name": "stdout",
     "output_type": "stream",
     "text": [
      "global noise calculated\n",
      "Comes here\n"
     ]
    },
    {
     "name": "stderr",
     "output_type": "stream",
     "text": [
      " 95% 339/358 [1:55:59<05:53, 18.59s/it]"
     ]
    },
    {
     "name": "stdout",
     "output_type": "stream",
     "text": [
      "global noise calculated\n",
      "Comes here\n"
     ]
    },
    {
     "name": "stderr",
     "output_type": "stream",
     "text": [
      " 95% 340/358 [1:56:17<05:33, 18.54s/it]"
     ]
    },
    {
     "name": "stdout",
     "output_type": "stream",
     "text": [
      "global noise calculated\n",
      "Comes here\n"
     ]
    },
    {
     "name": "stderr",
     "output_type": "stream",
     "text": [
      " 95% 341/358 [1:56:28<04:34, 16.13s/it]"
     ]
    },
    {
     "name": "stdout",
     "output_type": "stream",
     "text": [
      "global noise calculated\n",
      "Comes here\n"
     ]
    },
    {
     "name": "stderr",
     "output_type": "stream",
     "text": [
      " 96% 342/358 [1:56:37<03:41, 13.86s/it]"
     ]
    },
    {
     "name": "stdout",
     "output_type": "stream",
     "text": [
      "global noise calculated\n",
      "Comes here\n"
     ]
    },
    {
     "name": "stderr",
     "output_type": "stream",
     "text": [
      " 96% 343/358 [1:56:52<03:34, 14.28s/it]"
     ]
    },
    {
     "name": "stdout",
     "output_type": "stream",
     "text": [
      "global noise calculated\n",
      "Comes here\n"
     ]
    },
    {
     "name": "stderr",
     "output_type": "stream",
     "text": [
      " 96% 344/358 [1:57:08<03:29, 14.98s/it]"
     ]
    },
    {
     "name": "stdout",
     "output_type": "stream",
     "text": [
      "global noise calculated\n",
      "Comes here\n"
     ]
    },
    {
     "name": "stderr",
     "output_type": "stream",
     "text": [
      " 96% 345/358 [1:58:08<06:08, 28.33s/it]"
     ]
    },
    {
     "name": "stdout",
     "output_type": "stream",
     "text": [
      "global noise calculated\n",
      "Comes here\n"
     ]
    },
    {
     "name": "stderr",
     "output_type": "stream",
     "text": [
      " 97% 346/358 [1:58:18<04:35, 22.98s/it]"
     ]
    },
    {
     "name": "stdout",
     "output_type": "stream",
     "text": [
      "global noise calculated\n",
      "Comes here\n"
     ]
    },
    {
     "name": "stderr",
     "output_type": "stream",
     "text": [
      " 97% 347/358 [1:58:41<04:10, 22.81s/it]"
     ]
    },
    {
     "name": "stdout",
     "output_type": "stream",
     "text": [
      "global noise calculated\n",
      "Comes here\n"
     ]
    },
    {
     "name": "stderr",
     "output_type": "stream",
     "text": [
      " 97% 348/358 [1:58:52<03:12, 19.29s/it]"
     ]
    },
    {
     "name": "stdout",
     "output_type": "stream",
     "text": [
      "global noise calculated\n",
      "Comes here\n"
     ]
    },
    {
     "name": "stderr",
     "output_type": "stream",
     "text": [
      " 97% 349/358 [1:59:02<02:28, 16.45s/it]"
     ]
    },
    {
     "name": "stdout",
     "output_type": "stream",
     "text": [
      "global noise calculated\n",
      "Comes here\n"
     ]
    },
    {
     "name": "stderr",
     "output_type": "stream",
     "text": [
      " 98% 350/358 [2:00:09<04:14, 31.84s/it]"
     ]
    },
    {
     "name": "stdout",
     "output_type": "stream",
     "text": [
      "global noise calculated\n",
      "Comes here\n"
     ]
    },
    {
     "name": "stderr",
     "output_type": "stream",
     "text": [
      " 98% 351/358 [2:00:19<02:54, 25.00s/it]"
     ]
    },
    {
     "name": "stdout",
     "output_type": "stream",
     "text": [
      "global noise calculated\n",
      "Comes here\n"
     ]
    },
    {
     "name": "stderr",
     "output_type": "stream",
     "text": [
      " 98% 352/358 [2:00:39<02:22, 23.70s/it]"
     ]
    },
    {
     "name": "stdout",
     "output_type": "stream",
     "text": [
      "global noise calculated\n",
      "Comes here\n"
     ]
    },
    {
     "name": "stderr",
     "output_type": "stream",
     "text": [
      " 99% 353/358 [2:00:50<01:39, 19.86s/it]"
     ]
    },
    {
     "name": "stdout",
     "output_type": "stream",
     "text": [
      "global noise calculated\n",
      "Comes here\n"
     ]
    },
    {
     "name": "stderr",
     "output_type": "stream",
     "text": [
      " 99% 354/358 [2:00:58<01:04, 16.21s/it]"
     ]
    },
    {
     "name": "stdout",
     "output_type": "stream",
     "text": [
      "global noise calculated\n",
      "Comes here\n"
     ]
    },
    {
     "name": "stderr",
     "output_type": "stream",
     "text": [
      " 99% 355/358 [2:01:19<00:52, 17.65s/it]"
     ]
    },
    {
     "name": "stdout",
     "output_type": "stream",
     "text": [
      "global noise calculated\n",
      "Comes here\n"
     ]
    },
    {
     "name": "stderr",
     "output_type": "stream",
     "text": [
      " 99% 356/358 [2:01:39<00:36, 18.36s/it]"
     ]
    },
    {
     "name": "stdout",
     "output_type": "stream",
     "text": [
      "global noise calculated\n",
      "Comes here\n"
     ]
    },
    {
     "name": "stderr",
     "output_type": "stream",
     "text": [
      "100% 357/358 [2:01:52<00:16, 16.92s/it]"
     ]
    },
    {
     "name": "stdout",
     "output_type": "stream",
     "text": [
      "global noise calculated\n",
      "Comes here\n"
     ]
    },
    {
     "name": "stderr",
     "output_type": "stream",
     "text": [
      "100% 358/358 [2:02:03<00:00, 20.46s/it]\n"
     ]
    }
   ],
   "source": [
    "# Make sure label exists\n",
    "ct_images = [f for f in os.listdir(config['gt']) if f.endswith('.nii.gz')]\n",
    "\n",
    "results = []\n",
    "for ct_name in tqdm.tqdm(ct_images):\n",
    "    try:\n",
    "        ct_image_path = os.path.join(config['images'],ct_name)\n",
    "        ct_image = sitk.ReadImage(ct_image_path)\n",
    "        ct_volume = sitk.GetArrayFromImage(ct_image)\n",
    "\n",
    "        # Calculate noise estimates.\n",
    "#         mad_noise = estimate_noise_mad(ct_volume)\n",
    "#         laplace_noise = estimate_noise_laplacian(ct_volume)\n",
    "#         pyradiomics_noise = 0 #estimate_noise_pyradiomics(ct_image)\n",
    "        ct_volume = np.transpose(ct_volume,(2,0,1))\n",
    "        global_noise = get_global_noise_index_3D(ct_volume)\n",
    "        print('global noise calculated')\n",
    "        label_path = os.path.join(config['gt'],ct_name)\n",
    "        pred_path = os.path.join(config['predictions'],ct_name)\n",
    "        label_image = sitk.ReadImage(label_path)\n",
    "        pred_image = sitk.ReadImage(pred_path)\n",
    "\n",
    "        dice_scores, macro_avg, micro_avg = multi_class_dice(label_image, pred_image, config['labels'])\n",
    "\n",
    "        # Prepare record for current CT\n",
    "        record = {\n",
    "            'ct_name': ct_name,\n",
    "#             'mad_noise': mad_noise,\n",
    "#             'laplace_noise': laplace_noise,\n",
    "#             'pyradiomics_noise': pyradiomics_noise,\n",
    "            'global_noise': global_noise,\n",
    "            'TS_macro_avg_dice': macro_avg,\n",
    "            'TS_micro_avg_dice': micro_avg\n",
    "        }\n",
    "\n",
    "        # Add organ-specific Dice scores to the record\n",
    "        for organ, dice_val in dice_scores.items():\n",
    "            record[f'TS_dice_{organ}'] = dice_val\n",
    "\n",
    "        results.append(record)\n",
    "    except Exception as e:\n",
    "        print(e)"
   ]
  },
  {
   "cell_type": "code",
   "execution_count": 23,
   "id": "bababaa7",
   "metadata": {},
   "outputs": [
    {
     "name": "stdout",
     "output_type": "stream",
     "text": [
      "Results saved to ct_global_noise_dice_results_TS.csv\n"
     ]
    }
   ],
   "source": [
    "# Create a DataFrame from results and save to CSV\n",
    "df = pd.DataFrame(results)\n",
    "output_csv_path = \"ct_global_noise_dice_results_TS.csv\"  # Specify desired output path\n",
    "df.to_csv(output_csv_path, index=False)\n",
    "\n",
    "print(f\"Results saved to {output_csv_path}\")"
   ]
  },
  {
   "cell_type": "code",
   "execution_count": 24,
   "id": "a114c49f",
   "metadata": {},
   "outputs": [
    {
     "data": {
      "text/html": [
       "<div>\n",
       "<style scoped>\n",
       "    .dataframe tbody tr th:only-of-type {\n",
       "        vertical-align: middle;\n",
       "    }\n",
       "\n",
       "    .dataframe tbody tr th {\n",
       "        vertical-align: top;\n",
       "    }\n",
       "\n",
       "    .dataframe thead th {\n",
       "        text-align: right;\n",
       "    }\n",
       "</style>\n",
       "<table border=\"1\" class=\"dataframe\">\n",
       "  <thead>\n",
       "    <tr style=\"text-align: right;\">\n",
       "      <th></th>\n",
       "      <th>ct_name</th>\n",
       "      <th>global_noise</th>\n",
       "      <th>TS_macro_avg_dice</th>\n",
       "      <th>TS_micro_avg_dice</th>\n",
       "      <th>TS_dice_right adrenal gland</th>\n",
       "      <th>TS_dice_left adrenal gland</th>\n",
       "      <th>TS_dice_bladder</th>\n",
       "      <th>TS_dice_duodenum</th>\n",
       "      <th>TS_dice_esophagus</th>\n",
       "      <th>TS_dice_gallbladder</th>\n",
       "      <th>TS_dice_heart</th>\n",
       "      <th>TS_dice_right kidney</th>\n",
       "      <th>TS_dice_left kidney</th>\n",
       "      <th>TS_dice_liver</th>\n",
       "      <th>TS_dice_pancreas</th>\n",
       "      <th>TS_dice_prostate</th>\n",
       "      <th>TS_dice_small bowel</th>\n",
       "      <th>TS_dice_spleen</th>\n",
       "      <th>TS_dice_stomach</th>\n",
       "    </tr>\n",
       "  </thead>\n",
       "  <tbody>\n",
       "    <tr>\n",
       "      <th>0</th>\n",
       "      <td>07-14-2009-NA-CT-24459.nii.gz</td>\n",
       "      <td>10.942230</td>\n",
       "      <td>0.716550</td>\n",
       "      <td>0.888072</td>\n",
       "      <td>0.497130</td>\n",
       "      <td>0.288176</td>\n",
       "      <td>0.931745</td>\n",
       "      <td>0.446619</td>\n",
       "      <td>0.666888</td>\n",
       "      <td>0.749705</td>\n",
       "      <td>0.914140</td>\n",
       "      <td>0.957545</td>\n",
       "      <td>0.962716</td>\n",
       "      <td>0.959263</td>\n",
       "      <td>0.830110</td>\n",
       "      <td>0.000000</td>\n",
       "      <td>0.714665</td>\n",
       "      <td>0.914308</td>\n",
       "      <td>0.915242</td>\n",
       "    </tr>\n",
       "    <tr>\n",
       "      <th>1</th>\n",
       "      <td>08-04-2004-NA-CT-80302.nii.gz</td>\n",
       "      <td>12.092809</td>\n",
       "      <td>0.818445</td>\n",
       "      <td>0.937142</td>\n",
       "      <td>0.659578</td>\n",
       "      <td>0.722170</td>\n",
       "      <td>0.944989</td>\n",
       "      <td>0.658029</td>\n",
       "      <td>0.773350</td>\n",
       "      <td>0.822669</td>\n",
       "      <td>0.828141</td>\n",
       "      <td>0.958932</td>\n",
       "      <td>0.956687</td>\n",
       "      <td>0.969420</td>\n",
       "      <td>0.896137</td>\n",
       "      <td>0.254133</td>\n",
       "      <td>0.917758</td>\n",
       "      <td>0.964769</td>\n",
       "      <td>0.949912</td>\n",
       "    </tr>\n",
       "    <tr>\n",
       "      <th>2</th>\n",
       "      <td>08-25-2004-NA-CT-14591.nii.gz</td>\n",
       "      <td>11.962138</td>\n",
       "      <td>0.752416</td>\n",
       "      <td>0.888367</td>\n",
       "      <td>0.770954</td>\n",
       "      <td>0.660061</td>\n",
       "      <td>0.947592</td>\n",
       "      <td>0.394044</td>\n",
       "      <td>0.787122</td>\n",
       "      <td>0.893538</td>\n",
       "      <td>0.848921</td>\n",
       "      <td>0.963234</td>\n",
       "      <td>0.963585</td>\n",
       "      <td>0.973744</td>\n",
       "      <td>0.243451</td>\n",
       "      <td>0.411613</td>\n",
       "      <td>0.826262</td>\n",
       "      <td>0.973354</td>\n",
       "      <td>0.628766</td>\n",
       "    </tr>\n",
       "    <tr>\n",
       "      <th>3</th>\n",
       "      <td>11-22-2005-NA-CT-47368.nii.gz</td>\n",
       "      <td>11.097726</td>\n",
       "      <td>0.811561</td>\n",
       "      <td>0.894510</td>\n",
       "      <td>0.356746</td>\n",
       "      <td>0.326534</td>\n",
       "      <td>0.939866</td>\n",
       "      <td>0.737323</td>\n",
       "      <td>0.744604</td>\n",
       "      <td>0.891905</td>\n",
       "      <td>0.846797</td>\n",
       "      <td>0.934509</td>\n",
       "      <td>0.942557</td>\n",
       "      <td>0.960146</td>\n",
       "      <td>0.821921</td>\n",
       "      <td>1.000000</td>\n",
       "      <td>0.773610</td>\n",
       "      <td>0.947304</td>\n",
       "      <td>0.949598</td>\n",
       "    </tr>\n",
       "    <tr>\n",
       "      <th>4</th>\n",
       "      <td>10-11-2008-NA-CT-72580.nii.gz</td>\n",
       "      <td>7.984895</td>\n",
       "      <td>0.628159</td>\n",
       "      <td>0.835474</td>\n",
       "      <td>0.180905</td>\n",
       "      <td>0.000000</td>\n",
       "      <td>0.704520</td>\n",
       "      <td>0.622451</td>\n",
       "      <td>0.632875</td>\n",
       "      <td>0.853194</td>\n",
       "      <td>0.827259</td>\n",
       "      <td>0.961368</td>\n",
       "      <td>0.936364</td>\n",
       "      <td>0.956354</td>\n",
       "      <td>0.244277</td>\n",
       "      <td>0.000000</td>\n",
       "      <td>0.641457</td>\n",
       "      <td>0.924307</td>\n",
       "      <td>0.937060</td>\n",
       "    </tr>\n",
       "    <tr>\n",
       "      <th>...</th>\n",
       "      <td>...</td>\n",
       "      <td>...</td>\n",
       "      <td>...</td>\n",
       "      <td>...</td>\n",
       "      <td>...</td>\n",
       "      <td>...</td>\n",
       "      <td>...</td>\n",
       "      <td>...</td>\n",
       "      <td>...</td>\n",
       "      <td>...</td>\n",
       "      <td>...</td>\n",
       "      <td>...</td>\n",
       "      <td>...</td>\n",
       "      <td>...</td>\n",
       "      <td>...</td>\n",
       "      <td>...</td>\n",
       "      <td>...</td>\n",
       "      <td>...</td>\n",
       "      <td>...</td>\n",
       "    </tr>\n",
       "    <tr>\n",
       "      <th>353</th>\n",
       "      <td>12-31-2007-NA-CT-34710.nii.gz</td>\n",
       "      <td>11.108545</td>\n",
       "      <td>0.783708</td>\n",
       "      <td>0.860057</td>\n",
       "      <td>0.466525</td>\n",
       "      <td>0.395582</td>\n",
       "      <td>0.910108</td>\n",
       "      <td>0.623183</td>\n",
       "      <td>0.703254</td>\n",
       "      <td>0.810673</td>\n",
       "      <td>0.856176</td>\n",
       "      <td>0.939700</td>\n",
       "      <td>0.949388</td>\n",
       "      <td>0.958038</td>\n",
       "      <td>0.754096</td>\n",
       "      <td>1.000000</td>\n",
       "      <td>0.632056</td>\n",
       "      <td>0.882466</td>\n",
       "      <td>0.874371</td>\n",
       "    </tr>\n",
       "    <tr>\n",
       "      <th>354</th>\n",
       "      <td>09-16-2006-NA-CT-78668.nii.gz</td>\n",
       "      <td>12.883455</td>\n",
       "      <td>0.845003</td>\n",
       "      <td>0.914084</td>\n",
       "      <td>0.539290</td>\n",
       "      <td>0.625513</td>\n",
       "      <td>0.880589</td>\n",
       "      <td>0.710424</td>\n",
       "      <td>0.756651</td>\n",
       "      <td>0.883987</td>\n",
       "      <td>0.839823</td>\n",
       "      <td>0.961356</td>\n",
       "      <td>0.956508</td>\n",
       "      <td>0.970971</td>\n",
       "      <td>0.812568</td>\n",
       "      <td>1.000000</td>\n",
       "      <td>0.837305</td>\n",
       "      <td>0.972953</td>\n",
       "      <td>0.927104</td>\n",
       "    </tr>\n",
       "    <tr>\n",
       "      <th>355</th>\n",
       "      <td>07-15-2008-NA-CT-42067.nii.gz</td>\n",
       "      <td>11.448155</td>\n",
       "      <td>0.723154</td>\n",
       "      <td>0.923910</td>\n",
       "      <td>0.443512</td>\n",
       "      <td>0.297832</td>\n",
       "      <td>0.906978</td>\n",
       "      <td>0.590248</td>\n",
       "      <td>0.663115</td>\n",
       "      <td>0.848637</td>\n",
       "      <td>0.820055</td>\n",
       "      <td>0.967760</td>\n",
       "      <td>0.967352</td>\n",
       "      <td>0.975294</td>\n",
       "      <td>0.795634</td>\n",
       "      <td>0.000000</td>\n",
       "      <td>0.783769</td>\n",
       "      <td>0.971893</td>\n",
       "      <td>0.815227</td>\n",
       "    </tr>\n",
       "    <tr>\n",
       "      <th>356</th>\n",
       "      <td>09-19-2008-NA-CT-87707.nii.gz</td>\n",
       "      <td>8.655166</td>\n",
       "      <td>0.689995</td>\n",
       "      <td>0.854857</td>\n",
       "      <td>0.238854</td>\n",
       "      <td>0.091743</td>\n",
       "      <td>0.900658</td>\n",
       "      <td>0.623164</td>\n",
       "      <td>0.800500</td>\n",
       "      <td>0.848017</td>\n",
       "      <td>0.857377</td>\n",
       "      <td>0.000000</td>\n",
       "      <td>0.964516</td>\n",
       "      <td>0.955832</td>\n",
       "      <td>0.590235</td>\n",
       "      <td>1.000000</td>\n",
       "      <td>0.622758</td>\n",
       "      <td>0.923368</td>\n",
       "      <td>0.932908</td>\n",
       "    </tr>\n",
       "    <tr>\n",
       "      <th>357</th>\n",
       "      <td>07-10-2009-NA-CT-73334.nii.gz</td>\n",
       "      <td>9.305271</td>\n",
       "      <td>0.594803</td>\n",
       "      <td>0.853987</td>\n",
       "      <td>0.481640</td>\n",
       "      <td>0.672658</td>\n",
       "      <td>0.032622</td>\n",
       "      <td>0.042328</td>\n",
       "      <td>0.138668</td>\n",
       "      <td>0.831615</td>\n",
       "      <td>0.893327</td>\n",
       "      <td>0.950598</td>\n",
       "      <td>0.958188</td>\n",
       "      <td>0.960987</td>\n",
       "      <td>0.650724</td>\n",
       "      <td>0.000000</td>\n",
       "      <td>0.499696</td>\n",
       "      <td>0.928826</td>\n",
       "      <td>0.880176</td>\n",
       "    </tr>\n",
       "  </tbody>\n",
       "</table>\n",
       "<p>358 rows × 19 columns</p>\n",
       "</div>"
      ],
      "text/plain": [
       "                           ct_name  global_noise  TS_macro_avg_dice  \\\n",
       "0    07-14-2009-NA-CT-24459.nii.gz     10.942230           0.716550   \n",
       "1    08-04-2004-NA-CT-80302.nii.gz     12.092809           0.818445   \n",
       "2    08-25-2004-NA-CT-14591.nii.gz     11.962138           0.752416   \n",
       "3    11-22-2005-NA-CT-47368.nii.gz     11.097726           0.811561   \n",
       "4    10-11-2008-NA-CT-72580.nii.gz      7.984895           0.628159   \n",
       "..                             ...           ...                ...   \n",
       "353  12-31-2007-NA-CT-34710.nii.gz     11.108545           0.783708   \n",
       "354  09-16-2006-NA-CT-78668.nii.gz     12.883455           0.845003   \n",
       "355  07-15-2008-NA-CT-42067.nii.gz     11.448155           0.723154   \n",
       "356  09-19-2008-NA-CT-87707.nii.gz      8.655166           0.689995   \n",
       "357  07-10-2009-NA-CT-73334.nii.gz      9.305271           0.594803   \n",
       "\n",
       "     TS_micro_avg_dice  TS_dice_right adrenal gland  \\\n",
       "0             0.888072                     0.497130   \n",
       "1             0.937142                     0.659578   \n",
       "2             0.888367                     0.770954   \n",
       "3             0.894510                     0.356746   \n",
       "4             0.835474                     0.180905   \n",
       "..                 ...                          ...   \n",
       "353           0.860057                     0.466525   \n",
       "354           0.914084                     0.539290   \n",
       "355           0.923910                     0.443512   \n",
       "356           0.854857                     0.238854   \n",
       "357           0.853987                     0.481640   \n",
       "\n",
       "     TS_dice_left adrenal gland  TS_dice_bladder  TS_dice_duodenum  \\\n",
       "0                      0.288176         0.931745          0.446619   \n",
       "1                      0.722170         0.944989          0.658029   \n",
       "2                      0.660061         0.947592          0.394044   \n",
       "3                      0.326534         0.939866          0.737323   \n",
       "4                      0.000000         0.704520          0.622451   \n",
       "..                          ...              ...               ...   \n",
       "353                    0.395582         0.910108          0.623183   \n",
       "354                    0.625513         0.880589          0.710424   \n",
       "355                    0.297832         0.906978          0.590248   \n",
       "356                    0.091743         0.900658          0.623164   \n",
       "357                    0.672658         0.032622          0.042328   \n",
       "\n",
       "     TS_dice_esophagus  TS_dice_gallbladder  TS_dice_heart  \\\n",
       "0             0.666888             0.749705       0.914140   \n",
       "1             0.773350             0.822669       0.828141   \n",
       "2             0.787122             0.893538       0.848921   \n",
       "3             0.744604             0.891905       0.846797   \n",
       "4             0.632875             0.853194       0.827259   \n",
       "..                 ...                  ...            ...   \n",
       "353           0.703254             0.810673       0.856176   \n",
       "354           0.756651             0.883987       0.839823   \n",
       "355           0.663115             0.848637       0.820055   \n",
       "356           0.800500             0.848017       0.857377   \n",
       "357           0.138668             0.831615       0.893327   \n",
       "\n",
       "     TS_dice_right kidney  TS_dice_left kidney  TS_dice_liver  \\\n",
       "0                0.957545             0.962716       0.959263   \n",
       "1                0.958932             0.956687       0.969420   \n",
       "2                0.963234             0.963585       0.973744   \n",
       "3                0.934509             0.942557       0.960146   \n",
       "4                0.961368             0.936364       0.956354   \n",
       "..                    ...                  ...            ...   \n",
       "353              0.939700             0.949388       0.958038   \n",
       "354              0.961356             0.956508       0.970971   \n",
       "355              0.967760             0.967352       0.975294   \n",
       "356              0.000000             0.964516       0.955832   \n",
       "357              0.950598             0.958188       0.960987   \n",
       "\n",
       "     TS_dice_pancreas  TS_dice_prostate  TS_dice_small bowel  TS_dice_spleen  \\\n",
       "0            0.830110          0.000000             0.714665        0.914308   \n",
       "1            0.896137          0.254133             0.917758        0.964769   \n",
       "2            0.243451          0.411613             0.826262        0.973354   \n",
       "3            0.821921          1.000000             0.773610        0.947304   \n",
       "4            0.244277          0.000000             0.641457        0.924307   \n",
       "..                ...               ...                  ...             ...   \n",
       "353          0.754096          1.000000             0.632056        0.882466   \n",
       "354          0.812568          1.000000             0.837305        0.972953   \n",
       "355          0.795634          0.000000             0.783769        0.971893   \n",
       "356          0.590235          1.000000             0.622758        0.923368   \n",
       "357          0.650724          0.000000             0.499696        0.928826   \n",
       "\n",
       "     TS_dice_stomach  \n",
       "0           0.915242  \n",
       "1           0.949912  \n",
       "2           0.628766  \n",
       "3           0.949598  \n",
       "4           0.937060  \n",
       "..               ...  \n",
       "353         0.874371  \n",
       "354         0.927104  \n",
       "355         0.815227  \n",
       "356         0.932908  \n",
       "357         0.880176  \n",
       "\n",
       "[358 rows x 19 columns]"
      ]
     },
     "metadata": {},
     "output_type": "display_data"
    }
   ],
   "source": [
    "display(df)"
   ]
  },
  {
   "cell_type": "code",
   "execution_count": 25,
   "id": "c521580c",
   "metadata": {},
   "outputs": [
    {
     "data": {
      "text/plain": [
       "[{'ct_name': '07-14-2009-NA-CT-24459.nii.gz',\n",
       "  'global_noise': 10.94223033824855,\n",
       "  'TS_macro_avg_dice': 0.7165501225543905,\n",
       "  'TS_micro_avg_dice': 0.8880718235890548,\n",
       "  'TS_dice_right adrenal gland': 0.4971302428256071,\n",
       "  'TS_dice_left adrenal gland': 0.28817574843850957,\n",
       "  'TS_dice_bladder': 0.9317453560302587,\n",
       "  'TS_dice_duodenum': 0.4466188538533771,\n",
       "  'TS_dice_esophagus': 0.6668876367252238,\n",
       "  'TS_dice_gallbladder': 0.7497050205779903,\n",
       "  'TS_dice_heart': 0.9141401686566526,\n",
       "  'TS_dice_right kidney': 0.9575448241189554,\n",
       "  'TS_dice_left kidney': 0.9627162497830709,\n",
       "  'TS_dice_liver': 0.9592633289813755,\n",
       "  'TS_dice_pancreas': 0.8301100423589266,\n",
       "  'TS_dice_prostate': 0.0,\n",
       "  'TS_dice_small bowel': 0.7146645423365255,\n",
       "  'TS_dice_spleen': 0.9143081064186116,\n",
       "  'TS_dice_stomach': 0.9152417172107733},\n",
       " {'ct_name': '08-04-2004-NA-CT-80302.nii.gz',\n",
       "  'global_noise': 12.092808743744879,\n",
       "  'TS_macro_avg_dice': 0.8184448540719219,\n",
       "  'TS_micro_avg_dice': 0.9371419482902605,\n",
       "  'TS_dice_right adrenal gland': 0.6595778701630957,\n",
       "  'TS_dice_left adrenal gland': 0.7221696327148808,\n",
       "  'TS_dice_bladder': 0.9449888450799961,\n",
       "  'TS_dice_duodenum': 0.6580286777583187,\n",
       "  'TS_dice_esophagus': 0.7733497512355026,\n",
       "  'TS_dice_gallbladder': 0.822669194219454,\n",
       "  'TS_dice_heart': 0.8281408589176998,\n",
       "  'TS_dice_right kidney': 0.958931590863497,\n",
       "  'TS_dice_left kidney': 0.9566870760605829,\n",
       "  'TS_dice_liver': 0.9694196171423938,\n",
       "  'TS_dice_pancreas': 0.8961371918542337,\n",
       "  'TS_dice_prostate': 0.2541333625314793,\n",
       "  'TS_dice_small bowel': 0.9177576286079308,\n",
       "  'TS_dice_spleen': 0.9647690687051461,\n",
       "  'TS_dice_stomach': 0.9499124452246166},\n",
       " {'ct_name': '08-25-2004-NA-CT-14591.nii.gz',\n",
       "  'global_noise': 11.96213811975421,\n",
       "  'TS_macro_avg_dice': 0.7524161874031734,\n",
       "  'TS_micro_avg_dice': 0.8883672060985849,\n",
       "  'TS_dice_right adrenal gland': 0.7709541381128097,\n",
       "  'TS_dice_left adrenal gland': 0.6600606673407482,\n",
       "  'TS_dice_bladder': 0.9475924935706465,\n",
       "  'TS_dice_duodenum': 0.3940444902051101,\n",
       "  'TS_dice_esophagus': 0.7871219417444297,\n",
       "  'TS_dice_gallbladder': 0.8935380763986678,\n",
       "  'TS_dice_heart': 0.8489211656874548,\n",
       "  'TS_dice_right kidney': 0.963234458081129,\n",
       "  'TS_dice_left kidney': 0.963585258653872,\n",
       "  'TS_dice_liver': 0.9737444959450796,\n",
       "  'TS_dice_pancreas': 0.2434507697971027,\n",
       "  'TS_dice_prostate': 0.41161290322580646,\n",
       "  'TS_dice_small bowel': 0.8262617850331049,\n",
       "  'TS_dice_spleen': 0.9733537486948417,\n",
       "  'TS_dice_stomach': 0.628766418556795},\n",
       " {'ct_name': '11-22-2005-NA-CT-47368.nii.gz',\n",
       "  'global_noise': 11.09772577968597,\n",
       "  'TS_macro_avg_dice': 0.8115611968746077,\n",
       "  'TS_micro_avg_dice': 0.8945097035303861,\n",
       "  'TS_dice_right adrenal gland': 0.3567464721737752,\n",
       "  'TS_dice_left adrenal gland': 0.3265344137096023,\n",
       "  'TS_dice_bladder': 0.9398663240969913,\n",
       "  'TS_dice_duodenum': 0.7373226044203688,\n",
       "  'TS_dice_esophagus': 0.7446035052339697,\n",
       "  'TS_dice_gallbladder': 0.8919046484552349,\n",
       "  'TS_dice_heart': 0.84679658066174,\n",
       "  'TS_dice_right kidney': 0.9345085319651228,\n",
       "  'TS_dice_left kidney': 0.9425565320692043,\n",
       "  'TS_dice_liver': 0.9601456712289153,\n",
       "  'TS_dice_pancreas': 0.8219211512722642,\n",
       "  'TS_dice_prostate': 1.0,\n",
       "  'TS_dice_small bowel': 0.7736096580667754,\n",
       "  'TS_dice_spleen': 0.9473041827825791,\n",
       "  'TS_dice_stomach': 0.9495976769825715},\n",
       " {'ct_name': '10-11-2008-NA-CT-72580.nii.gz',\n",
       "  'global_noise': 7.984894647538331,\n",
       "  'TS_macro_avg_dice': 0.6281593819060034,\n",
       "  'TS_micro_avg_dice': 0.8354736453552369,\n",
       "  'TS_dice_right adrenal gland': 0.18090452261306533,\n",
       "  'TS_dice_left adrenal gland': 0.0,\n",
       "  'TS_dice_bladder': 0.7045200187732409,\n",
       "  'TS_dice_duodenum': 0.6224505916959443,\n",
       "  'TS_dice_esophagus': 0.6328750256515494,\n",
       "  'TS_dice_gallbladder': 0.8531936006127814,\n",
       "  'TS_dice_heart': 0.8272593283198398,\n",
       "  'TS_dice_right kidney': 0.9613677761218745,\n",
       "  'TS_dice_left kidney': 0.9363641816109878,\n",
       "  'TS_dice_liver': 0.956354151044156,\n",
       "  'TS_dice_pancreas': 0.24427695332615515,\n",
       "  'TS_dice_prostate': 0.0,\n",
       "  'TS_dice_small bowel': 0.641457252680177,\n",
       "  'TS_dice_spleen': 0.9243069109036612,\n",
       "  'TS_dice_stomach': 0.9370604152366172},\n",
       " {'ct_name': '09-24-2006-NA-CT-48854.nii.gz',\n",
       "  'global_noise': 9.247694972355388,\n",
       "  'TS_macro_avg_dice': 0.7377394715204042,\n",
       "  'TS_micro_avg_dice': 0.916260455643943,\n",
       "  'TS_dice_right adrenal gland': 0.5149677908298598,\n",
       "  'TS_dice_left adrenal gland': 0.5230043255996855,\n",
       "  'TS_dice_bladder': 0.9390656037974356,\n",
       "  'TS_dice_duodenum': 0.7084550538352391,\n",
       "  'TS_dice_esophagus': 0.4345303091754282,\n",
       "  'TS_dice_gallbladder': 0.7735053989992099,\n",
       "  'TS_dice_heart': 0.8399113655990521,\n",
       "  'TS_dice_right kidney': 0.9338099333759433,\n",
       "  'TS_dice_left kidney': 0.9356293179575087,\n",
       "  'TS_dice_liver': 0.9652664706814508,\n",
       "  'TS_dice_pancreas': 0.7845059237809524,\n",
       "  'TS_dice_prostate': 0.0,\n",
       "  'TS_dice_small bowel': 0.8500058663730472,\n",
       "  'TS_dice_spleen': 0.9352866247928077,\n",
       "  'TS_dice_stomach': 0.9281480880084436},\n",
       " {'ct_name': '06-20-2009-NA-CT-44238.nii.gz',\n",
       "  'global_noise': 10.733340146738447,\n",
       "  'TS_macro_avg_dice': 0.8409902461236131,\n",
       "  'TS_micro_avg_dice': 0.6135897131947867,\n",
       "  'TS_dice_right adrenal gland': 1.0,\n",
       "  'TS_dice_left adrenal gland': 1.0,\n",
       "  'TS_dice_bladder': 0.0,\n",
       "  'TS_dice_duodenum': 0.0,\n",
       "  'TS_dice_esophagus': 1.0,\n",
       "  'TS_dice_gallbladder': 1.0,\n",
       "  'TS_dice_heart': 1.0,\n",
       "  'TS_dice_right kidney': 1.0,\n",
       "  'TS_dice_left kidney': 1.0,\n",
       "  'TS_dice_liver': 1.0,\n",
       "  'TS_dice_pancreas': 1.0,\n",
       "  'TS_dice_prostate': 1.0,\n",
       "  'TS_dice_small bowel': 0.6148536918541951,\n",
       "  'TS_dice_spleen': 1.0,\n",
       "  'TS_dice_stomach': 1.0},\n",
       " {'ct_name': '06-27-2008-NA-CT-33294.nii.gz',\n",
       "  'global_noise': 9.412742545433156,\n",
       "  'TS_macro_avg_dice': 0.7566305529445054,\n",
       "  'TS_micro_avg_dice': 0.9336995948259357,\n",
       "  'TS_dice_right adrenal gland': 0.5689235265465173,\n",
       "  'TS_dice_left adrenal gland': 0.6327763953075008,\n",
       "  'TS_dice_bladder': 0.9595149787043693,\n",
       "  'TS_dice_duodenum': 0.4398159263705482,\n",
       "  'TS_dice_esophagus': 0.5446718844069838,\n",
       "  'TS_dice_gallbladder': 0.8794805194805195,\n",
       "  'TS_dice_heart': 0.8230288903599837,\n",
       "  'TS_dice_right kidney': 0.9695199477681179,\n",
       "  'TS_dice_left kidney': 0.965558391898564,\n",
       "  'TS_dice_liver': 0.9699399858631134,\n",
       "  'TS_dice_pancreas': 0.8871413503518071,\n",
       "  'TS_dice_prostate': 0.0,\n",
       "  'TS_dice_small bowel': 0.8578072801283556,\n",
       "  'TS_dice_spleen': 0.9661256483813592,\n",
       "  'TS_dice_stomach': 0.8851535685998416},\n",
       " {'ct_name': '09-03-2009-NA-CT-81165.nii.gz',\n",
       "  'global_noise': 8.23050328942308,\n",
       "  'TS_macro_avg_dice': 0.6281702517704523,\n",
       "  'TS_micro_avg_dice': 0.8273139146202919,\n",
       "  'TS_dice_right adrenal gland': 0.0,\n",
       "  'TS_dice_left adrenal gland': 0.17225891677675034,\n",
       "  'TS_dice_bladder': 0.8935831410419223,\n",
       "  'TS_dice_duodenum': 0.24897036509460255,\n",
       "  'TS_dice_esophagus': 0.7521660477958678,\n",
       "  'TS_dice_gallbladder': 0.7098143844851823,\n",
       "  'TS_dice_heart': 0.9470950719335371,\n",
       "  'TS_dice_right kidney': 0.9189042505906847,\n",
       "  'TS_dice_left kidney': 0.9488371298940207,\n",
       "  'TS_dice_liver': 0.9484254336813369,\n",
       "  'TS_dice_pancreas': 0.6808772905611593,\n",
       "  'TS_dice_prostate': 0.0,\n",
       "  'TS_dice_small bowel': 0.5149225313169511,\n",
       "  'TS_dice_spleen': 0.9120515288060339,\n",
       "  'TS_dice_stomach': 0.774647684578733},\n",
       " {'ct_name': '04-08-2008-NA-CT-61824.nii.gz',\n",
       "  'global_noise': 12.522786670420215,\n",
       "  'TS_macro_avg_dice': 0.851077279728995,\n",
       "  'TS_micro_avg_dice': 0.9262940522002011,\n",
       "  'TS_dice_right adrenal gland': 0.7380029806259314,\n",
       "  'TS_dice_left adrenal gland': 0.6698466780238501,\n",
       "  'TS_dice_bladder': 0.8643012550563139,\n",
       "  'TS_dice_duodenum': 0.6996305645536981,\n",
       "  'TS_dice_esophagus': 0.8057597831611045,\n",
       "  'TS_dice_gallbladder': 0.9268073709998935,\n",
       "  'TS_dice_heart': 0.8659118223360917,\n",
       "  'TS_dice_right kidney': 0.9636787112362637,\n",
       "  'TS_dice_left kidney': 0.9589006484214868,\n",
       "  'TS_dice_liver': 0.9669359478803501,\n",
       "  'TS_dice_pancreas': 0.8497948374705352,\n",
       "  'TS_dice_prostate': 0.6699625391809587,\n",
       "  'TS_dice_small bowel': 0.8713207333939154,\n",
       "  'TS_dice_spleen': 0.9695165609431022,\n",
       "  'TS_dice_stomach': 0.9457887626514296},\n",
       " {'ct_name': '04-08-2008-NA-CT-01565.nii.gz',\n",
       "  'global_noise': 13.986993337374647,\n",
       "  'TS_macro_avg_dice': 0.6554908545578435,\n",
       "  'TS_micro_avg_dice': 0.8066789366304508,\n",
       "  'TS_dice_right adrenal gland': 0.3526148969889065,\n",
       "  'TS_dice_left adrenal gland': 0.0,\n",
       "  'TS_dice_bladder': 0.8815614124599253,\n",
       "  'TS_dice_duodenum': 0.515067982864593,\n",
       "  'TS_dice_esophagus': 0.5277641702446474,\n",
       "  'TS_dice_gallbladder': 0.7661047685776697,\n",
       "  'TS_dice_heart': 0.8408129635480239,\n",
       "  'TS_dice_right kidney': 0.9382358828313643,\n",
       "  'TS_dice_left kidney': 0.9359395430479507,\n",
       "  'TS_dice_liver': 0.9529652484457941,\n",
       "  'TS_dice_pancreas': 0.7486889605896134,\n",
       "  'TS_dice_prostate': 0.0,\n",
       "  'TS_dice_small bowel': 0.5510417639069985,\n",
       "  'TS_dice_spleen': 0.917923377044155,\n",
       "  'TS_dice_stomach': 0.9036418478180116},\n",
       " {'ct_name': '07-03-2008-NA-CT-24100.nii.gz',\n",
       "  'global_noise': 10.54224466137791,\n",
       "  'TS_macro_avg_dice': 0.5870330538691839,\n",
       "  'TS_micro_avg_dice': 0.8374317065555754,\n",
       "  'TS_dice_right adrenal gland': 0.0,\n",
       "  'TS_dice_left adrenal gland': 0.20350404312668463,\n",
       "  'TS_dice_bladder': 0.8603942020814246,\n",
       "  'TS_dice_duodenum': 0.16478942696518395,\n",
       "  'TS_dice_esophagus': 0.8019848272325536,\n",
       "  'TS_dice_gallbladder': 0.5952122745712335,\n",
       "  'TS_dice_heart': 0.8720232921043537,\n",
       "  'TS_dice_right kidney': 0.0,\n",
       "  'TS_dice_left kidney': 0.9361128353319806,\n",
       "  'TS_dice_liver': 0.9490150898880444,\n",
       "  'TS_dice_pancreas': 0.5847620980014203,\n",
       "  'TS_dice_prostate': 0.437174360838483,\n",
       "  'TS_dice_small bowel': 0.564920365933205,\n",
       "  'TS_dice_spleen': 0.8996005032450903,\n",
       "  'TS_dice_stomach': 0.9360024887180987},\n",
       " {'ct_name': '05-21-2009-NA-CT-55840.nii.gz',\n",
       "  'global_noise': 9.667478210393357,\n",
       "  'TS_macro_avg_dice': 0.6862474533693755,\n",
       "  'TS_micro_avg_dice': 0.8684600351433468,\n",
       "  'TS_dice_right adrenal gland': 0.47168508287292815,\n",
       "  'TS_dice_left adrenal gland': 0.146843853820598,\n",
       "  'TS_dice_bladder': 0.9216600120992136,\n",
       "  'TS_dice_duodenum': 0.43295585097653044,\n",
       "  'TS_dice_esophagus': 0.5668338021279198,\n",
       "  'TS_dice_gallbladder': 0.8648614381452635,\n",
       "  'TS_dice_heart': 0.9118176659452635,\n",
       "  'TS_dice_right kidney': 0.9314053251314391,\n",
       "  'TS_dice_left kidney': 0.9381120158767939,\n",
       "  'TS_dice_liver': 0.9517660718455235,\n",
       "  'TS_dice_pancreas': 0.734281626125747,\n",
       "  'TS_dice_prostate': 0.0,\n",
       "  'TS_dice_small bowel': 0.6093203634359975,\n",
       "  'TS_dice_spleen': 0.8944237628610698,\n",
       "  'TS_dice_stomach': 0.917744929276346},\n",
       " {'ct_name': '03-22-2008-NA-CT-47778.nii.gz',\n",
       "  'global_noise': 10.182551670628914,\n",
       "  'TS_macro_avg_dice': 0.7434013735544173,\n",
       "  'TS_micro_avg_dice': 0.8820430837485372,\n",
       "  'TS_dice_right adrenal gland': 0.5434100418410042,\n",
       "  'TS_dice_left adrenal gland': 0.4741156169111303,\n",
       "  'TS_dice_bladder': 0.9418307296533297,\n",
       "  'TS_dice_duodenum': 0.5126835781041389,\n",
       "  'TS_dice_esophagus': 0.5312097435296873,\n",
       "  'TS_dice_gallbladder': 0.0,\n",
       "  'TS_dice_heart': 0.893706845531663,\n",
       "  'TS_dice_right kidney': 0.9560558137233987,\n",
       "  'TS_dice_left kidney': 0.9590438990543071,\n",
       "  'TS_dice_liver': 0.9580012826960421,\n",
       "  'TS_dice_pancreas': 0.8363685056239957,\n",
       "  'TS_dice_prostate': 1.0,\n",
       "  'TS_dice_small bowel': 0.6858573977462193,\n",
       "  'TS_dice_spleen': 0.9309181847382187,\n",
       "  'TS_dice_stomach': 0.9278189641631238},\n",
       " {'ct_name': '10-14-2008-NA-CT-30494.nii.gz',\n",
       "  'global_noise': 9.109610880007658,\n",
       "  'TS_macro_avg_dice': 0.6488237366164932,\n",
       "  'TS_micro_avg_dice': 0.8153723095879145,\n",
       "  'TS_dice_right adrenal gland': 0.31211180124223603,\n",
       "  'TS_dice_left adrenal gland': 0.14023372287145242,\n",
       "  'TS_dice_bladder': 0.6386944424960838,\n",
       "  'TS_dice_duodenum': 0.003016363773471081,\n",
       "  'TS_dice_esophagus': 0.4664873084571295,\n",
       "  'TS_dice_gallbladder': 0.568177218036658,\n",
       "  'TS_dice_heart': 0.8840268047259627,\n",
       "  'TS_dice_right kidney': 0.9100394444528405,\n",
       "  'TS_dice_left kidney': 0.9115018397613948,\n",
       "  'TS_dice_liver': 0.880768352490023,\n",
       "  'TS_dice_pancreas': 0.7412736537296011,\n",
       "  'TS_dice_prostate': 1.0,\n",
       "  'TS_dice_small bowel': 0.5325505492854757,\n",
       "  'TS_dice_spleen': 0.8678732513610986,\n",
       "  'TS_dice_stomach': 0.8756012965639719},\n",
       " {'ct_name': '06-08-2005-NA-CT-64146.nii.gz',\n",
       "  'global_noise': 8.340415069998,\n",
       "  'TS_macro_avg_dice': 0.7799715733480564,\n",
       "  'TS_micro_avg_dice': 0.904900666819428,\n",
       "  'TS_dice_right adrenal gland': 0.17027027027027028,\n",
       "  'TS_dice_left adrenal gland': 0.3096478433006876,\n",
       "  'TS_dice_bladder': 0.9244671162744905,\n",
       "  'TS_dice_duodenum': 0.6441983285845424,\n",
       "  'TS_dice_esophagus': 0.6191867543218894,\n",
       "  'TS_dice_gallbladder': 0.8816453139051442,\n",
       "  'TS_dice_heart': 0.8124346337907647,\n",
       "  'TS_dice_right kidney': 0.9425041367116774,\n",
       "  'TS_dice_left kidney': 0.9434333641798499,\n",
       "  'TS_dice_liver': 0.9565439159119806,\n",
       "  'TS_dice_pancreas': 0.8159976253252083,\n",
       "  'TS_dice_prostate': 1.0,\n",
       "  'TS_dice_small bowel': 0.8223340266260691,\n",
       "  'TS_dice_spleen': 0.9338312924901576,\n",
       "  'TS_dice_stomach': 0.9230789785281145},\n",
       " {'ct_name': '07-20-2009-NA-CT-72796.nii.gz',\n",
       "  'global_noise': 10.07931630462586,\n",
       "  'TS_macro_avg_dice': 0.8380380925184876,\n",
       "  'TS_micro_avg_dice': 0.9114411361755513,\n",
       "  'TS_dice_right adrenal gland': 0.44103648863035433,\n",
       "  'TS_dice_left adrenal gland': 0.574543929544978,\n",
       "  'TS_dice_bladder': 0.9287772118350227,\n",
       "  'TS_dice_duodenum': 0.6719410231052774,\n",
       "  'TS_dice_esophagus': 0.8097011362551323,\n",
       "  'TS_dice_gallbladder': 0.8620243565151448,\n",
       "  'TS_dice_heart': 0.8941732424878492,\n",
       "  'TS_dice_right kidney': 0.961630044060012,\n",
       "  'TS_dice_left kidney': 0.9584738533025974,\n",
       "  'TS_dice_liver': 0.9460931647423422,\n",
       "  'TS_dice_pancreas': 0.8234279441743767,\n",
       "  'TS_dice_prostate': 1.0,\n",
       "  'TS_dice_small bowel': 0.8375711025351523,\n",
       "  'TS_dice_spleen': 0.9275495720050033,\n",
       "  'TS_dice_stomach': 0.9336283185840708},\n",
       " {'ct_name': '08-20-2008-NA-CT-25138.nii.gz',\n",
       "  'global_noise': 8.24957066535891,\n",
       "  'TS_macro_avg_dice': 0.7705958513325533,\n",
       "  'TS_micro_avg_dice': 0.8733102184898491,\n",
       "  'TS_dice_right adrenal gland': 0.41316415543219664,\n",
       "  'TS_dice_left adrenal gland': 0.25040300913487373,\n",
       "  'TS_dice_bladder': 0.8949533711124001,\n",
       "  'TS_dice_duodenum': 0.4261617150941343,\n",
       "  'TS_dice_esophagus': 0.6459262881241978,\n",
       "  'TS_dice_gallbladder': 0.8719470900995663,\n",
       "  'TS_dice_heart': 0.9024084073803188,\n",
       "  'TS_dice_right kidney': 0.9632942232480606,\n",
       "  'TS_dice_left kidney': 0.961032649759845,\n",
       "  'TS_dice_liver': 0.9510761458074857,\n",
       "  'TS_dice_pancreas': 0.7947525738957157,\n",
       "  'TS_dice_prostate': 1.0,\n",
       "  'TS_dice_small bowel': 0.6537994730765815,\n",
       "  'TS_dice_spleen': 0.9338197720709693,\n",
       "  'TS_dice_stomach': 0.8961988957519524},\n",
       " {'ct_name': '07-01-2009-NA-CT-45683.nii.gz',\n",
       "  'global_noise': 10.274068140758612,\n",
       "  'TS_macro_avg_dice': 0.7862963870252979,\n",
       "  'TS_micro_avg_dice': 0.8866481245841564,\n",
       "  'TS_dice_right adrenal gland': 0.5489041543997383,\n",
       "  'TS_dice_left adrenal gland': 0.34025096525096526,\n",
       "  'TS_dice_bladder': 0.9288551464888944,\n",
       "  'TS_dice_duodenum': 0.46094773456204546,\n",
       "  'TS_dice_esophagus': 0.6791418355184744,\n",
       "  'TS_dice_gallbladder': 0.7129125280358859,\n",
       "  'TS_dice_heart': 0.9385463284734364,\n",
       "  'TS_dice_right kidney': 0.9607571838216126,\n",
       "  'TS_dice_left kidney': 0.9600488080505551,\n",
       "  'TS_dice_liver': 0.9588244933557967,\n",
       "  'TS_dice_pancreas': 0.8671041202624722,\n",
       "  'TS_dice_prostate': 1.0,\n",
       "  'TS_dice_small bowel': 0.609805220121182,\n",
       "  'TS_dice_spleen': 0.9492107182579366,\n",
       "  'TS_dice_stomach': 0.879136568780476},\n",
       " {'ct_name': '10-26-2007-NA-CT-76717.nii.gz',\n",
       "  'global_noise': 11.418395234123599,\n",
       "  'TS_macro_avg_dice': 0.6348593609262256,\n",
       "  'TS_micro_avg_dice': 0.8402236057412554,\n",
       "  'TS_dice_right adrenal gland': 0.0,\n",
       "  'TS_dice_left adrenal gland': 0.0,\n",
       "  'TS_dice_bladder': 0.8970933397483144,\n",
       "  'TS_dice_duodenum': 0.0,\n",
       "  'TS_dice_esophagus': 0.6217633791045416,\n",
       "  'TS_dice_gallbladder': 0.8092267463578633,\n",
       "  'TS_dice_heart': 0.8502888171713949,\n",
       "  'TS_dice_right kidney': 0.9452123109687569,\n",
       "  'TS_dice_left kidney': 1.0,\n",
       "  'TS_dice_liver': 0.9521864953265538,\n",
       "  'TS_dice_pancreas': 0.0,\n",
       "  'TS_dice_prostate': 1.0,\n",
       "  'TS_dice_small bowel': 0.6458886849568852,\n",
       "  'TS_dice_spleen': 0.9304660467480337,\n",
       "  'TS_dice_stomach': 0.8707645935110407},\n",
       " {'ct_name': '10-03-2008-NA-CT-41099.nii.gz',\n",
       "  'global_noise': 9.678630004209536,\n",
       "  'TS_macro_avg_dice': 0.7276107117933683,\n",
       "  'TS_micro_avg_dice': 0.8650645720343942,\n",
       "  'TS_dice_right adrenal gland': 1.0,\n",
       "  'TS_dice_left adrenal gland': 0.32129514321295144,\n",
       "  'TS_dice_bladder': 0.9127828000486272,\n",
       "  'TS_dice_duodenum': 0.547498035946193,\n",
       "  'TS_dice_esophagus': 0.41363363877708315,\n",
       "  'TS_dice_gallbladder': 0.8321357482671485,\n",
       "  'TS_dice_heart': 0.7975213446398396,\n",
       "  'TS_dice_right kidney': 0.0,\n",
       "  'TS_dice_left kidney': 0.9475230956784544,\n",
       "  'TS_dice_liver': 0.9402802175800214,\n",
       "  'TS_dice_pancreas': 0.6036864571206829,\n",
       "  'TS_dice_prostate': 1.0,\n",
       "  'TS_dice_small bowel': 0.7545885967573068,\n",
       "  'TS_dice_spleen': 0.9351649979891201,\n",
       "  'TS_dice_stomach': 0.908050600883098},\n",
       " {'ct_name': '09-11-2009-NA-CT-28692.nii.gz',\n",
       "  'global_noise': 9.596965929814047,\n",
       "  'TS_macro_avg_dice': 0.7315093162694585,\n",
       "  'TS_micro_avg_dice': 0.8715954844674396,\n",
       "  'TS_dice_right adrenal gland': 0.676230564384503,\n",
       "  'TS_dice_left adrenal gland': 1.0,\n",
       "  'TS_dice_bladder': 0.299052145836509,\n",
       "  'TS_dice_duodenum': 0.6683144391820052,\n",
       "  'TS_dice_esophagus': 0.522331403957464,\n",
       "  'TS_dice_gallbladder': 0.7754414709630438,\n",
       "  'TS_dice_heart': 0.8439432620614711,\n",
       "  'TS_dice_right kidney': 0.962034957125274,\n",
       "  'TS_dice_left kidney': 1.0,\n",
       "  'TS_dice_liver': 0.9651713000687162,\n",
       "  'TS_dice_pancreas': 0.5987861586609734,\n",
       "  'TS_dice_prostate': 0.08576206402293358,\n",
       "  'TS_dice_small bowel': 0.6833583154908656,\n",
       "  'TS_dice_spleen': 0.9464019973796752,\n",
       "  'TS_dice_stomach': 0.9458116649084435},\n",
       " {'ct_name': '10-03-2009-NA-CT-38176.nii.gz',\n",
       "  'global_noise': 10.321165920703972,\n",
       "  'TS_macro_avg_dice': 0.6885102841584584,\n",
       "  'TS_micro_avg_dice': 0.8125472945217649,\n",
       "  'TS_dice_right adrenal gland': 0.0,\n",
       "  'TS_dice_left adrenal gland': 0.009498367468091422,\n",
       "  'TS_dice_bladder': 0.8857827291808766,\n",
       "  'TS_dice_duodenum': 0.3431847604956538,\n",
       "  'TS_dice_esophagus': 0.6878859857482186,\n",
       "  'TS_dice_gallbladder': 0.7692273593687663,\n",
       "  'TS_dice_heart': 0.9258214708876391,\n",
       "  'TS_dice_right kidney': 0.9452745674175644,\n",
       "  'TS_dice_left kidney': 0.9520795721173027,\n",
       "  'TS_dice_liver': 0.9574222500994203,\n",
       "  'TS_dice_pancreas': 0.6354586659991158,\n",
       "  'TS_dice_prostate': 1.0,\n",
       "  'TS_dice_small bowel': 0.5254118357211579,\n",
       "  'TS_dice_spleen': 0.8941774230368883,\n",
       "  'TS_dice_stomach': 0.7964292748361821},\n",
       " {'ct_name': '02-22-2006-NA-CT-89856.nii.gz',\n",
       "  'global_noise': 13.60001290270875,\n",
       "  'TS_macro_avg_dice': 0.7480064412618623,\n",
       "  'TS_micro_avg_dice': 0.9152430979962446,\n",
       "  'TS_dice_right adrenal gland': 0.5073054368353046,\n",
       "  'TS_dice_left adrenal gland': 0.5534612176814012,\n",
       "  'TS_dice_bladder': 0.9358942317102663,\n",
       "  'TS_dice_duodenum': 0.6729399861958391,\n",
       "  'TS_dice_esophagus': 0.8274079260854439,\n",
       "  'TS_dice_gallbladder': 0.8605330553517883,\n",
       "  'TS_dice_heart': 0.856050774679467,\n",
       "  'TS_dice_right kidney': 0.9518821267624267,\n",
       "  'TS_dice_left kidney': 0.95636089523569,\n",
       "  'TS_dice_liver': 0.968136085523864,\n",
       "  'TS_dice_pancreas': 0.717524951483227,\n",
       "  'TS_dice_prostate': 0.6714373797201099,\n",
       "  'TS_dice_small bowel': 0.8143432412476639,\n",
       "  'TS_dice_spleen': 0.0,\n",
       "  'TS_dice_stomach': 0.9268193104154402},\n",
       " {'ct_name': '06-14-2007-NA-CT-57378.nii.gz',\n",
       "  'global_noise': 10.160170467138919,\n",
       "  'TS_macro_avg_dice': 0.7114161975001344,\n",
       "  'TS_micro_avg_dice': 0.9041011523291668,\n",
       "  'TS_dice_right adrenal gland': 0.46739892498247254,\n",
       "  'TS_dice_left adrenal gland': 0.5854551506074221,\n",
       "  'TS_dice_bladder': 0.20425618572446796,\n",
       "  'TS_dice_duodenum': 0.5807462871705815,\n",
       "  'TS_dice_esophagus': 0.7008228412808566,\n",
       "  'TS_dice_gallbladder': 0.8694624472127871,\n",
       "  'TS_dice_heart': 0.8118176436216017,\n",
       "  'TS_dice_right kidney': 0.0,\n",
       "  'TS_dice_left kidney': 0.9732524072330739,\n",
       "  'TS_dice_liver': 0.9523563611165439,\n",
       "  'TS_dice_pancreas': 0.8530286386638047,\n",
       "  'TS_dice_prostate': 1.0,\n",
       "  'TS_dice_small bowel': 0.8502074181138417,\n",
       "  'TS_dice_spleen': 0.9328283703953012,\n",
       "  'TS_dice_stomach': 0.8896102863792593},\n",
       " {'ct_name': '09-26-2009-NA-CT-63780.nii.gz',\n",
       "  'global_noise': 8.628575740529147,\n",
       "  'TS_macro_avg_dice': 0.7863736020957802,\n",
       "  'TS_micro_avg_dice': 0.9251337368843112,\n",
       "  'TS_dice_right adrenal gland': 0.5934674294150212,\n",
       "  'TS_dice_left adrenal gland': 0.6257603808516266,\n",
       "  'TS_dice_bladder': 0.776045175351694,\n",
       "  'TS_dice_duodenum': 0.562563546397343,\n",
       "  'TS_dice_esophagus': 1.0,\n",
       "  'TS_dice_gallbladder': 0.7929477611940299,\n",
       "  'TS_dice_heart': 0.477865089862289,\n",
       "  'TS_dice_right kidney': 0.9562820180451238,\n",
       "  'TS_dice_left kidney': 0.9254168512194774,\n",
       "  'TS_dice_liver': 0.9744977311625868,\n",
       "  'TS_dice_pancreas': 0.6655939390891873,\n",
       "  'TS_dice_prostate': 0.6855820750121773,\n",
       "  'TS_dice_small bowel': 0.8504770607764045,\n",
       "  'TS_dice_spleen': 0.9711875011172485,\n",
       "  'TS_dice_stomach': 0.9379174719424949},\n",
       " {'ct_name': '08-29-2009-NA-CT-36475.nii.gz',\n",
       "  'global_noise': 9.976442307284968,\n",
       "  'TS_macro_avg_dice': 0.724285359147763,\n",
       "  'TS_micro_avg_dice': 0.8597261060059554,\n",
       "  'TS_dice_right adrenal gland': 0.40333024976873266,\n",
       "  'TS_dice_left adrenal gland': 0.5250866161940203,\n",
       "  'TS_dice_bladder': 0.9243773525961115,\n",
       "  'TS_dice_duodenum': 0.2369022997164733,\n",
       "  'TS_dice_esophagus': 0.8025308446694084,\n",
       "  'TS_dice_gallbladder': 0.8803314951553105,\n",
       "  'TS_dice_heart': 0.9190134435661156,\n",
       "  'TS_dice_right kidney': 0.9523249091509746,\n",
       "  'TS_dice_left kidney': 0.950517554557188,\n",
       "  'TS_dice_liver': 0.9674628611546726,\n",
       "  'TS_dice_pancreas': 0.82430697962616,\n",
       "  'TS_dice_prostate': 0.061658918522143384,\n",
       "  'TS_dice_small bowel': 0.6087644009579425,\n",
       "  'TS_dice_spleen': 0.9395486687176844,\n",
       "  'TS_dice_stomach': 0.8681237928635066},\n",
       " {'ct_name': '07-22-2005-NA-CT-97382.nii.gz',\n",
       "  'global_noise': 29.108914551206926,\n",
       "  'TS_macro_avg_dice': 0.8211861571577681,\n",
       "  'TS_micro_avg_dice': 0.8715500853508324,\n",
       "  'TS_dice_right adrenal gland': 0.6436470322726247,\n",
       "  'TS_dice_left adrenal gland': 0.4991835782598554,\n",
       "  'TS_dice_bladder': 0.9158758273690251,\n",
       "  'TS_dice_duodenum': 0.7058680728822474,\n",
       "  'TS_dice_esophagus': 0.7161833489242283,\n",
       "  'TS_dice_gallbladder': 0.822487859544266,\n",
       "  'TS_dice_heart': 0.8058961556782697,\n",
       "  'TS_dice_right kidney': 0.9395028929997555,\n",
       "  'TS_dice_left kidney': 0.9494703460084528,\n",
       "  'TS_dice_liver': 0.9598589488492688,\n",
       "  'TS_dice_pancreas': 0.8356006294806785,\n",
       "  'TS_dice_prostate': 1.0,\n",
       "  'TS_dice_small bowel': 0.6165662047607353,\n",
       "  'TS_dice_spleen': 0.9534419212935442,\n",
       "  'TS_dice_stomach': 0.95420953904357},\n",
       " {'ct_name': '06-06-2005-NA-CT-54422.nii.gz',\n",
       "  'global_noise': 7.326028999591257,\n",
       "  'TS_macro_avg_dice': 0.7512333519022937,\n",
       "  'TS_micro_avg_dice': 0.8620462284791136,\n",
       "  'TS_dice_right adrenal gland': 0.2142652535090232,\n",
       "  'TS_dice_left adrenal gland': 0.35832127351664256,\n",
       "  'TS_dice_bladder': 0.7088380796910305,\n",
       "  'TS_dice_duodenum': 0.6612672470234486,\n",
       "  'TS_dice_esophagus': 0.5964506587792417,\n",
       "  'TS_dice_gallbladder': 0.7807479739984536,\n",
       "  'TS_dice_heart': 0.704273686812797,\n",
       "  'TS_dice_right kidney': 0.951618527343523,\n",
       "  'TS_dice_left kidney': 0.9494532861200825,\n",
       "  'TS_dice_liver': 0.9564561162828679,\n",
       "  'TS_dice_pancreas': 0.8449003817463208,\n",
       "  'TS_dice_prostate': 1.0,\n",
       "  'TS_dice_small bowel': 0.6545211913241653,\n",
       "  'TS_dice_spleen': 0.9405037303027003,\n",
       "  'TS_dice_stomach': 0.9468828720841098},\n",
       " {'ct_name': '09-09-2008-NA-CT-39935.nii.gz',\n",
       "  'global_noise': 9.276526027960248,\n",
       "  'TS_macro_avg_dice': 0.6423472149312447,\n",
       "  'TS_micro_avg_dice': 0.7892678112446095,\n",
       "  'TS_dice_right adrenal gland': 0.40463264567499097,\n",
       "  'TS_dice_left adrenal gland': 0.17057291666666666,\n",
       "  'TS_dice_bladder': 0.8404544644159548,\n",
       "  'TS_dice_duodenum': 0.5027597761009883,\n",
       "  'TS_dice_esophagus': 0.7326530203091481,\n",
       "  'TS_dice_gallbladder': 0.4693516003306956,\n",
       "  'TS_dice_heart': 0.8384238264623455,\n",
       "  'TS_dice_right kidney': 0.9523916525125955,\n",
       "  'TS_dice_left kidney': 1.0,\n",
       "  'TS_dice_liver': 0.9369339519176799,\n",
       "  'TS_dice_pancreas': 0.6149355339844252,\n",
       "  'TS_dice_prostate': 0.0,\n",
       "  'TS_dice_small bowel': 0.41759105183223927,\n",
       "  'TS_dice_spleen': 0.812762444676513,\n",
       "  'TS_dice_stomach': 0.9417453390844266},\n",
       " {'ct_name': '10-26-2005-NA-CT-33614.nii.gz',\n",
       "  'global_noise': 16.792107677226333,\n",
       "  'TS_macro_avg_dice': 0.7869267737652309,\n",
       "  'TS_micro_avg_dice': 0.9182921344523509,\n",
       "  'TS_dice_right adrenal gland': 0.010590631364562118,\n",
       "  'TS_dice_left adrenal gland': 0.19898063200815494,\n",
       "  'TS_dice_bladder': 0.9193748584456429,\n",
       "  'TS_dice_duodenum': 0.6526922711850938,\n",
       "  'TS_dice_esophagus': 0.7830506398873308,\n",
       "  'TS_dice_gallbladder': 0.9264563056640424,\n",
       "  'TS_dice_heart': 0.8420383109238987,\n",
       "  'TS_dice_right kidney': 0.9641384271768317,\n",
       "  'TS_dice_left kidney': 0.960279892982095,\n",
       "  'TS_dice_liver': 0.9610117993205048,\n",
       "  'TS_dice_pancreas': 0.8154004445609233,\n",
       "  'TS_dice_prostate': 1.0,\n",
       "  'TS_dice_small bowel': 0.8749334640518975,\n",
       "  'TS_dice_spleen': 0.9723536093716647,\n",
       "  'TS_dice_stomach': 0.9226003195358213},\n",
       " {'ct_name': '10-05-2009-NA-CT-97601.nii.gz',\n",
       "  'global_noise': 5.861812658863931,\n",
       "  'TS_macro_avg_dice': 0.6828398097716682,\n",
       "  'TS_micro_avg_dice': 0.7636323722967536,\n",
       "  'TS_dice_right adrenal gland': 0.29492344883158744,\n",
       "  'TS_dice_left adrenal gland': 0.18581523161476055,\n",
       "  'TS_dice_bladder': 1.0,\n",
       "  'TS_dice_duodenum': 0.2668822738971007,\n",
       "  'TS_dice_esophagus': 0.741740146605758,\n",
       "  'TS_dice_gallbladder': 0.21509686038744155,\n",
       "  'TS_dice_heart': 0.9000790019061125,\n",
       "  'TS_dice_right kidney': 0.9273145327414628,\n",
       "  'TS_dice_left kidney': 0.9398673071912019,\n",
       "  'TS_dice_liver': 0.920581872033224,\n",
       "  'TS_dice_pancreas': 0.7208275833008523,\n",
       "  'TS_dice_prostate': 1.0,\n",
       "  'TS_dice_small bowel': 0.30851131950964855,\n",
       "  'TS_dice_spleen': 0.9058689114631432,\n",
       "  'TS_dice_stomach': 0.915088657092732},\n",
       " {'ct_name': '08-12-2009-NA-CT-94450.nii.gz',\n",
       "  'global_noise': 9.601004640095063,\n",
       "  'TS_macro_avg_dice': 0.8564114478594507,\n",
       "  'TS_micro_avg_dice': 0.9243795238493409,\n",
       "  'TS_dice_right adrenal gland': 0.7023235423060061,\n",
       "  'TS_dice_left adrenal gland': 0.6252002913328478,\n",
       "  'TS_dice_bladder': 0.9026761975731148,\n",
       "  'TS_dice_duodenum': 0.7120820962953401,\n",
       "  'TS_dice_esophagus': 0.6813173652694611,\n",
       "  'TS_dice_gallbladder': 0.8316230883078441,\n",
       "  'TS_dice_heart': 0.9215421632323718,\n",
       "  'TS_dice_right kidney': 0.9434886366789689,\n",
       "  'TS_dice_left kidney': 0.9489632728097062,\n",
       "  'TS_dice_liver': 0.9679865689975554,\n",
       "  'TS_dice_pancreas': 0.8702660693858661,\n",
       "  'TS_dice_prostate': 1.0,\n",
       "  'TS_dice_small bowel': 0.836169152989814,\n",
       "  'TS_dice_spleen': 0.9592882354606285,\n",
       "  'TS_dice_stomach': 0.9432450372522347},\n",
       " {'ct_name': '12-01-2004-NA-CT-94309.nii.gz',\n",
       "  'global_noise': 11.608609746319484,\n",
       "  'TS_macro_avg_dice': 0.5350665023528989,\n",
       "  'TS_micro_avg_dice': 0.7273819590657616,\n",
       "  'TS_dice_right adrenal gland': 0.22188295165394403,\n",
       "  'TS_dice_left adrenal gland': 0.0,\n",
       "  'TS_dice_bladder': 0.10872151096043137,\n",
       "  'TS_dice_duodenum': 0.10370487151190289,\n",
       "  'TS_dice_esophagus': 0.7120848708487085,\n",
       "  'TS_dice_gallbladder': 0.7325588697017268,\n",
       "  'TS_dice_heart': 0.841708477695194,\n",
       "  'TS_dice_right kidney': 0.9542448990790449,\n",
       "  'TS_dice_left kidney': 0.9458755313522302,\n",
       "  'TS_dice_liver': 0.9495633800132334,\n",
       "  'TS_dice_pancreas': 0.4705928075448233,\n",
       "  'TS_dice_prostate': 0.0,\n",
       "  'TS_dice_small bowel': 0.3966610125029133,\n",
       "  'TS_dice_spleen': 0.9164155395815472,\n",
       "  'TS_dice_stomach': 0.6719828128477834},\n",
       " {'ct_name': '09-28-2009-NA-CT-93631.nii.gz',\n",
       "  'global_noise': 7.156846256242799,\n",
       "  'TS_macro_avg_dice': 0.7773850964934435,\n",
       "  'TS_micro_avg_dice': 0.8433066291244786,\n",
       "  'TS_dice_right adrenal gland': 0.42880886426592796,\n",
       "  'TS_dice_left adrenal gland': 0.3910323253388947,\n",
       "  'TS_dice_bladder': 0.931334353509663,\n",
       "  'TS_dice_duodenum': 0.531121780881711,\n",
       "  'TS_dice_esophagus': 0.653919923279789,\n",
       "  'TS_dice_gallbladder': 0.7785044259479456,\n",
       "  'TS_dice_heart': 0.9319183723364429,\n",
       "  'TS_dice_right kidney': 0.9529215775491333,\n",
       "  'TS_dice_left kidney': 0.9504506782542393,\n",
       "  'TS_dice_liver': 0.9539346815411304,\n",
       "  'TS_dice_pancreas': 0.6949338153208229,\n",
       "  'TS_dice_prostate': 1.0,\n",
       "  'TS_dice_small bowel': 0.5925146283549814,\n",
       "  'TS_dice_spleen': 0.9352591826792561,\n",
       "  'TS_dice_stomach': 0.9341218381417137},\n",
       " {'ct_name': '08-29-2008-NA-CT-98767.nii.gz',\n",
       "  'global_noise': 10.62536027470571,\n",
       "  'TS_macro_avg_dice': 0.8266514110811881,\n",
       "  'TS_micro_avg_dice': 0.934654939167684,\n",
       "  'TS_dice_right adrenal gland': 0.4746666666666667,\n",
       "  'TS_dice_left adrenal gland': 0.6415683553088133,\n",
       "  'TS_dice_bladder': 0.9228751406344947,\n",
       "  'TS_dice_duodenum': 0.7282087533808704,\n",
       "  'TS_dice_esophagus': 0.7302919193343675,\n",
       "  'TS_dice_gallbladder': 0.8575901765157329,\n",
       "  'TS_dice_heart': 0.8192296479937679,\n",
       "  'TS_dice_right kidney': 0.9708293687882947,\n",
       "  'TS_dice_left kidney': 0.9689872658177212,\n",
       "  'TS_dice_liver': 0.9658430430448015,\n",
       "  'TS_dice_pancreas': 0.799665703241982,\n",
       "  'TS_dice_prostate': 0.7101842326755822,\n",
       "  'TS_dice_small bowel': 0.8917756229067815,\n",
       "  'TS_dice_spleen': 0.96950309318708,\n",
       "  'TS_dice_stomach': 0.9485521767208631},\n",
       " {'ct_name': '08-31-2004-NA-CT-59475.nii.gz',\n",
       "  'global_noise': 12.805229457516194,\n",
       "  'TS_macro_avg_dice': 0.7729500700148748,\n",
       "  'TS_micro_avg_dice': 0.9075410811810242,\n",
       "  'TS_dice_right adrenal gland': 0.5735593220338983,\n",
       "  'TS_dice_left adrenal gland': 0.6122093023255814,\n",
       "  'TS_dice_bladder': 0.8899700390880771,\n",
       "  'TS_dice_duodenum': 0.626205581429462,\n",
       "  'TS_dice_esophagus': 0.8134910646866348,\n",
       "  'TS_dice_gallbladder': 0.02321724709784411,\n",
       "  'TS_dice_heart': 0.7908524479934822,\n",
       "  'TS_dice_right kidney': 0.9610413231447423,\n",
       "  'TS_dice_left kidney': 0.9664892072403446,\n",
       "  'TS_dice_liver': 0.9610611253995647,\n",
       "  'TS_dice_pancreas': 0.7772507189028437,\n",
       "  'TS_dice_prostate': 1.0,\n",
       "  'TS_dice_small bowel': 0.745223225816042,\n",
       "  'TS_dice_spleen': 0.9594098701209882,\n",
       "  'TS_dice_stomach': 0.8942705749436146},\n",
       " {'ct_name': '01-03-2006-NA-CT-30230.nii.gz',\n",
       "  'global_noise': 9.118571557087964,\n",
       "  'TS_macro_avg_dice': 0.6943413115003937,\n",
       "  'TS_micro_avg_dice': 0.8279057588015187,\n",
       "  'TS_dice_right adrenal gland': 0.0,\n",
       "  'TS_dice_left adrenal gland': 0.0,\n",
       "  'TS_dice_bladder': 0.38751094251531953,\n",
       "  'TS_dice_duodenum': 0.7976833643082508,\n",
       "  'TS_dice_esophagus': 0.5084619594964422,\n",
       "  'TS_dice_gallbladder': 0.8906366403439688,\n",
       "  'TS_dice_heart': 0.7031381426305301,\n",
       "  'TS_dice_right kidney': 0.9593949287989679,\n",
       "  'TS_dice_left kidney': 0.9648274280243725,\n",
       "  'TS_dice_liver': 0.9169895446330191,\n",
       "  'TS_dice_pancreas': 0.8477286572099905,\n",
       "  'TS_dice_prostate': 1.0,\n",
       "  'TS_dice_small bowel': 0.7534874183739337,\n",
       "  'TS_dice_spleen': 0.7863372360343261,\n",
       "  'TS_dice_stomach': 0.8989234101367847},\n",
       " {'ct_name': '03-23-2005-NA-CT-75191.nii.gz',\n",
       "  'global_noise': 12.197412705701847,\n",
       "  'TS_macro_avg_dice': 0.7769990551242628,\n",
       "  'TS_micro_avg_dice': 0.8963266363219661,\n",
       "  'TS_dice_right adrenal gland': 0.3067944977073781,\n",
       "  'TS_dice_left adrenal gland': 0.33885998727497285,\n",
       "  'TS_dice_bladder': 0.9090699185142682,\n",
       "  'TS_dice_duodenum': 0.3690376053997497,\n",
       "  'TS_dice_esophagus': 0.7343937993135679,\n",
       "  'TS_dice_gallbladder': 1.0,\n",
       "  'TS_dice_heart': 0.8352984268221854,\n",
       "  'TS_dice_right kidney': 0.9479976021503297,\n",
       "  'TS_dice_left kidney': 0.9500235561571307,\n",
       "  'TS_dice_liver': 0.9608369637555924,\n",
       "  'TS_dice_pancreas': 0.7050863623492943,\n",
       "  'TS_dice_prostate': 1.0,\n",
       "  'TS_dice_small bowel': 0.8523295733654311,\n",
       "  'TS_dice_spleen': 0.8348268468624288,\n",
       "  'TS_dice_stomach': 0.9104306871916132},\n",
       " {'ct_name': '11-18-2004-NA-CT-22011.nii.gz',\n",
       "  'global_noise': 9.469449381297075,\n",
       "  'TS_macro_avg_dice': 0.5215220107231298,\n",
       "  'TS_micro_avg_dice': 0.8067509636506435,\n",
       "  'TS_dice_right adrenal gland': 0.0,\n",
       "  'TS_dice_left adrenal gland': 0.14934725848563968,\n",
       "  'TS_dice_bladder': 0.901946205858424,\n",
       "  'TS_dice_duodenum': 0.35973739011556743,\n",
       "  'TS_dice_esophagus': 0.6997134062201464,\n",
       "  'TS_dice_gallbladder': 0.0,\n",
       "  'TS_dice_heart': 0.8113159950424886,\n",
       "  'TS_dice_right kidney': 0.0,\n",
       "  'TS_dice_left kidney': 0.948887091302873,\n",
       "  'TS_dice_liver': 0.9619386818028615,\n",
       "  'TS_dice_pancreas': 0.6732901663868809,\n",
       "  'TS_dice_prostate': 0.0,\n",
       "  'TS_dice_small bowel': 0.41846152053699254,\n",
       "  'TS_dice_spleen': 0.9462108624926625,\n",
       "  'TS_dice_stomach': 0.9519815826024087},\n",
       " {'ct_name': '10-24-2009-NA-CT-41891.nii.gz',\n",
       "  'global_noise': 12.402242179265421,\n",
       "  'TS_macro_avg_dice': 0.7491221087822079,\n",
       "  'TS_micro_avg_dice': 0.8547410905627311,\n",
       "  'TS_dice_right adrenal gland': 0.3634639696586599,\n",
       "  'TS_dice_left adrenal gland': 0.2871982890314696,\n",
       "  'TS_dice_bladder': 0.8621670766926944,\n",
       "  'TS_dice_duodenum': 0.7014827674531121,\n",
       "  'TS_dice_esophagus': 0.4245930574622475,\n",
       "  'TS_dice_gallbladder': 0.682591386174448,\n",
       "  'TS_dice_heart': 0.8732124664629105,\n",
       "  'TS_dice_right kidney': 0.9306284810995543,\n",
       "  'TS_dice_left kidney': 0.9420077201271264,\n",
       "  'TS_dice_liver': 0.9627854341964264,\n",
       "  'TS_dice_pancreas': 0.7748576626057145,\n",
       "  'TS_dice_prostate': 1.0,\n",
       "  'TS_dice_small bowel': 0.6252731641831868,\n",
       "  'TS_dice_spleen': 0.870378167543325,\n",
       "  'TS_dice_stomach': 0.9361919890422425},\n",
       " {'ct_name': '07-14-2004-NA-CT-93099.nii.gz',\n",
       "  'global_noise': 10.471994769458998,\n",
       "  'TS_macro_avg_dice': 0.7550354030440279,\n",
       "  'TS_micro_avg_dice': 0.864386574307673,\n",
       "  'TS_dice_right adrenal gland': 0.4227057091444463,\n",
       "  'TS_dice_left adrenal gland': 0.053953172718018326,\n",
       "  'TS_dice_bladder': 0.8739483272132068,\n",
       "  'TS_dice_duodenum': 0.6494474060590301,\n",
       "  'TS_dice_esophagus': 0.66156097310526,\n",
       "  'TS_dice_gallbladder': 0.8368793161494814,\n",
       "  'TS_dice_heart': 0.8540960489816197,\n",
       "  'TS_dice_right kidney': 0.9556352196753577,\n",
       "  'TS_dice_left kidney': 0.9573271846469164,\n",
       "  'TS_dice_liver': 0.9529649545959814,\n",
       "  'TS_dice_pancreas': 0.8016229917918167,\n",
       "  'TS_dice_prostate': 1.0,\n",
       "  'TS_dice_small bowel': 0.4885984258537539,\n",
       "  'TS_dice_spleen': 0.9356708592454996,\n",
       "  'TS_dice_stomach': 0.8811204564800298},\n",
       " {'ct_name': '11-13-2004-NA-CT-26400.nii.gz',\n",
       "  'global_noise': 11.067343701974043,\n",
       "  'TS_macro_avg_dice': 0.7340717340228469,\n",
       "  'TS_micro_avg_dice': 0.859135658852828,\n",
       "  'TS_dice_right adrenal gland': 0.48357924797715374,\n",
       "  'TS_dice_left adrenal gland': 0.3319876513892187,\n",
       "  'TS_dice_bladder': 0.89300936844155,\n",
       "  'TS_dice_duodenum': 0.3877542479283502,\n",
       "  'TS_dice_esophagus': 0.8323618372293332,\n",
       "  'TS_dice_gallbladder': 0.7125247991673984,\n",
       "  'TS_dice_heart': 0.8206623119310169,\n",
       "  'TS_dice_right kidney': 0.9273971810983312,\n",
       "  'TS_dice_left kidney': 0.9521007297348679,\n",
       "  'TS_dice_liver': 0.9394171020285722,\n",
       "  'TS_dice_pancreas': 0.7449049474554257,\n",
       "  'TS_dice_prostate': 0.5111005013129625,\n",
       "  'TS_dice_small bowel': 0.7127072294483691,\n",
       "  'TS_dice_spleen': 0.8531508645415062,\n",
       "  'TS_dice_stomach': 0.9084179906586477},\n",
       " {'ct_name': '05-04-2009-NA-CT-26842.nii.gz',\n",
       "  'global_noise': 8.11276257221107,\n",
       "  'TS_macro_avg_dice': 0.6739499521336955,\n",
       "  'TS_micro_avg_dice': 0.7966069033761702,\n",
       "  'TS_dice_right adrenal gland': 0.3803718378543127,\n",
       "  'TS_dice_left adrenal gland': 0.5872504829362524,\n",
       "  'TS_dice_bladder': 0.6280751186188381,\n",
       "  'TS_dice_duodenum': 0.007245916227038709,\n",
       "  'TS_dice_esophagus': 0.7955083779278884,\n",
       "  'TS_dice_gallbladder': 0.6632718747898272,\n",
       "  'TS_dice_heart': 0.9017810515900283,\n",
       "  'TS_dice_right kidney': 0.9624853702306952,\n",
       "  'TS_dice_left kidney': 0.9586110360449264,\n",
       "  'TS_dice_liver': 0.9665052862844901,\n",
       "  'TS_dice_pancreas': 0.748289613287967,\n",
       "  'TS_dice_prostate': 0.2634146341463415,\n",
       "  'TS_dice_small bowel': 0.4633757756104557,\n",
       "  'TS_dice_spleen': 0.9606879359234521,\n",
       "  'TS_dice_stomach': 0.8223749705329175},\n",
       " {'ct_name': '08-18-2009-NA-CT-76784.nii.gz',\n",
       "  'global_noise': 10.475391598370315,\n",
       "  'TS_macro_avg_dice': 0.7763533546431467,\n",
       "  'TS_micro_avg_dice': 0.8928353959084697,\n",
       "  'TS_dice_right adrenal gland': 0.27905449770190416,\n",
       "  'TS_dice_left adrenal gland': 0.2864137086903305,\n",
       "  'TS_dice_bladder': 0.9336116760592404,\n",
       "  'TS_dice_duodenum': 0.6595082650368107,\n",
       "  'TS_dice_esophagus': 0.7507127019322142,\n",
       "  'TS_dice_gallbladder': 0.8667649793222838,\n",
       "  'TS_dice_heart': 0.8966654811346382,\n",
       "  'TS_dice_right kidney': 0.921479445208047,\n",
       "  'TS_dice_left kidney': 0.8466668656498625,\n",
       "  'TS_dice_liver': 0.9601224957376512,\n",
       "  'TS_dice_pancreas': 0.5855824625695373,\n",
       "  'TS_dice_prostate': 1.0,\n",
       "  'TS_dice_small bowel': 0.7930437707328067,\n",
       "  'TS_dice_spleen': 0.9300070590243033,\n",
       "  'TS_dice_stomach': 0.9356669108475717},\n",
       " {'ct_name': '09-19-2009-NA-CT-62498.nii.gz',\n",
       "  'global_noise': 7.7397391219540665,\n",
       "  'TS_macro_avg_dice': 0.7526268323944652,\n",
       "  'TS_micro_avg_dice': 0.7638429510773789,\n",
       "  'TS_dice_right adrenal gland': 0.3742160278745645,\n",
       "  'TS_dice_left adrenal gland': 0.2924901185770751,\n",
       "  'TS_dice_bladder': 0.6850996939724053,\n",
       "  'TS_dice_duodenum': 0.5825460506449247,\n",
       "  'TS_dice_esophagus': 0.7273150663665295,\n",
       "  'TS_dice_gallbladder': 0.7953529113457194,\n",
       "  'TS_dice_heart': 0.9128358753473244,\n",
       "  'TS_dice_right kidney': 0.9579151689432063,\n",
       "  'TS_dice_left kidney': 0.9608332335369181,\n",
       "  'TS_dice_liver': 0.9622066614227146,\n",
       "  'TS_dice_pancreas': 0.8239861657398616,\n",
       "  'TS_dice_prostate': 1.0,\n",
       "  'TS_dice_small bowel': 0.35674623490163204,\n",
       "  'TS_dice_spleen': 0.9580793212529027,\n",
       "  'TS_dice_stomach': 0.8997799559911982},\n",
       " {'ct_name': '02-11-2008-NA-CT-20492.nii.gz',\n",
       "  'global_noise': 9.991380863046512,\n",
       "  'TS_macro_avg_dice': 0.6143536829933505,\n",
       "  'TS_micro_avg_dice': 0.5381197354839188,\n",
       "  'TS_dice_right adrenal gland': 0.4793814432989691,\n",
       "  'TS_dice_left adrenal gland': 0.029861888764464353,\n",
       "  'TS_dice_bladder': 0.28914114371385735,\n",
       "  'TS_dice_duodenum': 0.3475240470252939,\n",
       "  'TS_dice_esophagus': 0.7466837826273,\n",
       "  'TS_dice_gallbladder': 0.28767795778105054,\n",
       "  'TS_dice_heart': 0.893758523327507,\n",
       "  'TS_dice_right kidney': 0.9624203361678312,\n",
       "  'TS_dice_left kidney': 0.9612312580677191,\n",
       "  'TS_dice_liver': 0.9450177312389386,\n",
       "  'TS_dice_pancreas': 0.4572841352946065,\n",
       "  'TS_dice_prostate': 1.0,\n",
       "  'TS_dice_small bowel': 0.18612854579032567,\n",
       "  'TS_dice_spleen': 0.7136052691090005,\n",
       "  'TS_dice_stomach': 0.9155891826933937},\n",
       " {'ct_name': '04-01-2008-NA-CT-90997.nii.gz',\n",
       "  'global_noise': 6.753753684665866,\n",
       "  'TS_macro_avg_dice': 0.7356075542627617,\n",
       "  'TS_micro_avg_dice': 0.7923150096091149,\n",
       "  'TS_dice_right adrenal gland': 0.3468950749464668,\n",
       "  'TS_dice_left adrenal gland': 0.40300175634679863,\n",
       "  'TS_dice_bladder': 0.7816795351863395,\n",
       "  'TS_dice_duodenum': 0.3500900345215237,\n",
       "  'TS_dice_esophagus': 0.8247274469869414,\n",
       "  'TS_dice_gallbladder': 0.8584671768890805,\n",
       "  'TS_dice_heart': 0.8636057245435904,\n",
       "  'TS_dice_right kidney': 0.8201475421695699,\n",
       "  'TS_dice_left kidney': 0.8314681997041833,\n",
       "  'TS_dice_liver': 0.9522864920378303,\n",
       "  'TS_dice_pancreas': 0.7274672799431442,\n",
       "  'TS_dice_prostate': 1.0,\n",
       "  'TS_dice_small bowel': 0.5370105266784025,\n",
       "  'TS_dice_spleen': 0.8373652790576546,\n",
       "  'TS_dice_stomach': 0.8999012449298993},\n",
       " {'ct_name': '10-24-2005-NA-CT-89628.nii.gz',\n",
       "  'global_noise': 8.37263716983401,\n",
       "  'TS_macro_avg_dice': 0.7321992425525147,\n",
       "  'TS_micro_avg_dice': 0.905070125616883,\n",
       "  'TS_dice_right adrenal gland': 0.6602516654330126,\n",
       "  'TS_dice_left adrenal gland': 0.5312588401697312,\n",
       "  'TS_dice_bladder': 0.738082443148306,\n",
       "  'TS_dice_duodenum': 0.7466030989272944,\n",
       "  'TS_dice_esophagus': 0.363164526016887,\n",
       "  'TS_dice_gallbladder': 0.7009459964260114,\n",
       "  'TS_dice_heart': 0.8240261760690148,\n",
       "  'TS_dice_right kidney': 0.9529375939332619,\n",
       "  'TS_dice_left kidney': 0.9507892494548186,\n",
       "  'TS_dice_liver': 0.9699984601433778,\n",
       "  'TS_dice_pancreas': 0.9072082611532318,\n",
       "  'TS_dice_prostate': 0.0,\n",
       "  'TS_dice_small bowel': 0.8167969688766672,\n",
       "  'TS_dice_spleen': 0.9689133435065516,\n",
       "  'TS_dice_stomach': 0.8520120150295531},\n",
       " {'ct_name': '05-14-2009-NA-CT-28936.nii.gz',\n",
       "  'global_noise': 14.69241592043341,\n",
       "  'TS_macro_avg_dice': 0.8132014194327222,\n",
       "  'TS_micro_avg_dice': 0.9019364896483939,\n",
       "  'TS_dice_right adrenal gland': 0.3485663082437276,\n",
       "  'TS_dice_left adrenal gland': 0.5180164109882269,\n",
       "  'TS_dice_bladder': 0.9220481240734405,\n",
       "  'TS_dice_duodenum': 0.5538842234475772,\n",
       "  'TS_dice_esophagus': 0.8461779645074309,\n",
       "  'TS_dice_gallbladder': 0.7714378871861755,\n",
       "  'TS_dice_heart': 0.884342541857893,\n",
       "  'TS_dice_right kidney': 0.955602210726331,\n",
       "  'TS_dice_left kidney': 0.9556316412954533,\n",
       "  'TS_dice_liver': 0.9576512350981322,\n",
       "  'TS_dice_pancreas': 0.8208918909524858,\n",
       "  'TS_dice_prostate': 1.0,\n",
       "  'TS_dice_small bowel': 0.7936421562604223,\n",
       "  'TS_dice_spleen': 0.9360696419427266,\n",
       "  'TS_dice_stomach': 0.9340590549108092},\n",
       " {'ct_name': '08-20-2009-NA-CT-04335.nii.gz',\n",
       "  'global_noise': 7.439961684828842,\n",
       "  'TS_macro_avg_dice': 0.6871587648766958,\n",
       "  'TS_micro_avg_dice': 0.8318756917798462,\n",
       "  'TS_dice_right adrenal gland': 0.5921717171717171,\n",
       "  'TS_dice_left adrenal gland': 0.3931947069943289,\n",
       "  'TS_dice_bladder': 0.8600523799875429,\n",
       "  'TS_dice_duodenum': 0.5744916820702403,\n",
       "  'TS_dice_esophagus': 0.4444444444444444,\n",
       "  'TS_dice_gallbladder': 0.6369900424351918,\n",
       "  'TS_dice_heart': 0.9092547580071763,\n",
       "  'TS_dice_right kidney': 0.9456263536645008,\n",
       "  'TS_dice_left kidney': 0.9479141877762645,\n",
       "  'TS_dice_liver': 0.950535290472082,\n",
       "  'TS_dice_pancreas': 0.7038350782844175,\n",
       "  'TS_dice_prostate': 0.0,\n",
       "  'TS_dice_small bowel': 0.522809854490735,\n",
       "  'TS_dice_spleen': 0.9179564435038887,\n",
       "  'TS_dice_stomach': 0.9081045338479069},\n",
       " {'ct_name': '08-24-2007-NA-CT-31322.nii.gz',\n",
       "  'global_noise': 14.083134698026466,\n",
       "  'TS_macro_avg_dice': 0.5753060384222379,\n",
       "  'TS_micro_avg_dice': 0.7823815419467781,\n",
       "  'TS_dice_right adrenal gland': 0.0,\n",
       "  'TS_dice_left adrenal gland': 0.0,\n",
       "  'TS_dice_bladder': 0.24663042130069873,\n",
       "  'TS_dice_duodenum': 0.43796610169491523,\n",
       "  'TS_dice_esophagus': 0.0,\n",
       "  'TS_dice_gallbladder': 0.0,\n",
       "  'TS_dice_heart': 0.8513773835148827,\n",
       "  'TS_dice_right kidney': 0.9630781802817424,\n",
       "  'TS_dice_left kidney': 0.9644259252649987,\n",
       "  'TS_dice_liver': 0.820883287538229,\n",
       "  'TS_dice_pancreas': 0.835566130450525,\n",
       "  'TS_dice_prostate': 1.0,\n",
       "  'TS_dice_small bowel': 0.6562381739138461,\n",
       "  'TS_dice_spleen': 0.9563936642843346,\n",
       "  'TS_dice_stomach': 0.8970313080893959},\n",
       " {'ct_name': '10-06-2009-NA-CT-60472.nii.gz',\n",
       "  'global_noise': 7.532129888207633,\n",
       "  'TS_macro_avg_dice': 0.5866098039813055,\n",
       "  'TS_micro_avg_dice': 0.7931757194035186,\n",
       "  'TS_dice_right adrenal gland': 0.5739130434782609,\n",
       "  'TS_dice_left adrenal gland': 0.34527687296416937,\n",
       "  'TS_dice_bladder': 0.8751055540159431,\n",
       "  'TS_dice_duodenum': 0.2340887661637931,\n",
       "  'TS_dice_esophagus': 0.4311055366421788,\n",
       "  'TS_dice_gallbladder': 0.8482747188993564,\n",
       "  'TS_dice_heart': 0.8959340201982452,\n",
       "  'TS_dice_right kidney': 0.0,\n",
       "  'TS_dice_left kidney': 0.39138403166878377,\n",
       "  'TS_dice_liver': 0.9578355219280208,\n",
       "  'TS_dice_pancreas': 0.854253675159488,\n",
       "  'TS_dice_prostate': 0.011310548315711827,\n",
       "  'TS_dice_small bowel': 0.6469969084326567,\n",
       "  'TS_dice_spleen': 0.9367063746210665,\n",
       "  'TS_dice_stomach': 0.7969614872319082},\n",
       " {'ct_name': '04-28-2009-NA-CT-12654.nii.gz',\n",
       "  'global_noise': 10.520262976134068,\n",
       "  'TS_macro_avg_dice': 0.8487337681429368,\n",
       "  'TS_micro_avg_dice': 0.8853010600421685,\n",
       "  'TS_dice_right adrenal gland': 0.6218144750254841,\n",
       "  'TS_dice_left adrenal gland': 0.6397045894144541,\n",
       "  'TS_dice_bladder': 0.9485722914086635,\n",
       "  'TS_dice_duodenum': 0.7348521287915227,\n",
       "  'TS_dice_esophagus': 0.6696401295289302,\n",
       "  'TS_dice_gallbladder': 0.8970072612934603,\n",
       "  'TS_dice_heart': 0.9007343680950319,\n",
       "  'TS_dice_right kidney': 0.961456606082071,\n",
       "  'TS_dice_left kidney': 0.9590690436863968,\n",
       "  'TS_dice_liver': 0.9698378460346277,\n",
       "  'TS_dice_pancreas': 0.8370564029578292,\n",
       "  'TS_dice_prostate': 1.0,\n",
       "  'TS_dice_small bowel': 0.7064670545662813,\n",
       "  'TS_dice_spleen': 0.9500599939548076,\n",
       "  'TS_dice_stomach': 0.9347343313044909},\n",
       " {'ct_name': '06-20-2008-NA-CT-97384.nii.gz',\n",
       "  'global_noise': 11.004903357088514,\n",
       "  'TS_macro_avg_dice': 0.7301241704248173,\n",
       "  'TS_micro_avg_dice': 0.8164222573811917,\n",
       "  'TS_dice_right adrenal gland': 0.32578343158547934,\n",
       "  'TS_dice_left adrenal gland': 0.10635226179018287,\n",
       "  'TS_dice_bladder': 0.8111013431556926,\n",
       "  'TS_dice_duodenum': 0.40526120285009964,\n",
       "  'TS_dice_esophagus': 0.6712096683106811,\n",
       "  'TS_dice_gallbladder': 0.8388163294018337,\n",
       "  'TS_dice_heart': 0.817477492480718,\n",
       "  'TS_dice_right kidney': 0.95703386676591,\n",
       "  'TS_dice_left kidney': 0.9552721764554911,\n",
       "  'TS_dice_liver': 0.9611255738994334,\n",
       "  'TS_dice_pancreas': 0.8334828471556284,\n",
       "  'TS_dice_prostate': 1.0,\n",
       "  'TS_dice_small bowel': 0.4714568787329147,\n",
       "  'TS_dice_spleen': 0.9251526731592242,\n",
       "  'TS_dice_stomach': 0.8723368106289714},\n",
       " {'ct_name': '08-21-2009-NA-CT-51680.nii.gz',\n",
       "  'global_noise': 8.41564534923651,\n",
       "  'TS_macro_avg_dice': 0.721173717187982,\n",
       "  'TS_micro_avg_dice': 0.8459956252372899,\n",
       "  'TS_dice_right adrenal gland': 0.46207865168539325,\n",
       "  'TS_dice_left adrenal gland': 0.45051868928042155,\n",
       "  'TS_dice_bladder': 0.9358140835117732,\n",
       "  'TS_dice_duodenum': 0.17486509592667837,\n",
       "  'TS_dice_esophagus': 0.6867850778869921,\n",
       "  'TS_dice_gallbladder': 0.8277768029478856,\n",
       "  'TS_dice_heart': 0.8996485435515803,\n",
       "  'TS_dice_right kidney': 0.9590629303336485,\n",
       "  'TS_dice_left kidney': 0.95525095683119,\n",
       "  'TS_dice_liver': 0.9610941590532903,\n",
       "  'TS_dice_pancreas': 0.7322095629435936,\n",
       "  'TS_dice_prostate': 0.4046105784767855,\n",
       "  'TS_dice_small bowel': 0.5103497246836076,\n",
       "  'TS_dice_spleen': 0.9522664876438178,\n",
       "  'TS_dice_stomach': 0.90527441306307},\n",
       " {'ct_name': '12-26-2007-NA-CT-47704.nii.gz',\n",
       "  'global_noise': 7.558348692433796,\n",
       "  'TS_macro_avg_dice': 0.44249766258628614,\n",
       "  'TS_micro_avg_dice': 0.8694921292766772,\n",
       "  'TS_dice_right adrenal gland': 0.007466401194624191,\n",
       "  'TS_dice_left adrenal gland': 0.12398609501738123,\n",
       "  'TS_dice_bladder': 0.812045726577272,\n",
       "  'TS_dice_duodenum': 0.5413993584603047,\n",
       "  'TS_dice_esophagus': 0.16793893129770993,\n",
       "  'TS_dice_gallbladder': 0.0,\n",
       "  'TS_dice_heart': 0.8950973739132662,\n",
       "  'TS_dice_right kidney': 0.0,\n",
       "  'TS_dice_left kidney': 0.0,\n",
       "  'TS_dice_liver': 0.9386187690663046,\n",
       "  'TS_dice_pancreas': 0.6700137551581843,\n",
       "  'TS_dice_prostate': 0.0,\n",
       "  'TS_dice_small bowel': 0.8291253051311677,\n",
       "  'TS_dice_spleen': 0.9000459597578048,\n",
       "  'TS_dice_stomach': 0.751727263220274},\n",
       " {'ct_name': '09-08-2004-NA-CT-29838.nii.gz',\n",
       "  'global_noise': 11.400273911514812,\n",
       "  'TS_macro_avg_dice': 0.7339521839779498,\n",
       "  'TS_micro_avg_dice': 0.861013363993458,\n",
       "  'TS_dice_right adrenal gland': 0.52872507367857,\n",
       "  'TS_dice_left adrenal gland': 0.3137369033760186,\n",
       "  'TS_dice_bladder': 0.9049312553025812,\n",
       "  'TS_dice_duodenum': 0.609039653614927,\n",
       "  'TS_dice_esophagus': 0.7131541768118556,\n",
       "  'TS_dice_gallbladder': 0.019164430816404752,\n",
       "  'TS_dice_heart': 0.8360007427217758,\n",
       "  'TS_dice_right kidney': 0.9573387164605939,\n",
       "  'TS_dice_left kidney': 0.9510288848552679,\n",
       "  'TS_dice_liver': 0.9624937016418512,\n",
       "  'TS_dice_pancreas': 0.6778102032424578,\n",
       "  'TS_dice_prostate': 1.0,\n",
       "  'TS_dice_small bowel': 0.7102322083619472,\n",
       "  'TS_dice_spleen': 0.9553142026424541,\n",
       "  'TS_dice_stomach': 0.870312606142542},\n",
       " {'ct_name': '09-17-2009-NA-CT-36342.nii.gz',\n",
       "  'global_noise': 15.097199440155801,\n",
       "  'TS_macro_avg_dice': 0.8192767406182517,\n",
       "  'TS_micro_avg_dice': 0.917803806352495,\n",
       "  'TS_dice_right adrenal gland': 0.32722469869572396,\n",
       "  'TS_dice_left adrenal gland': 0.4356457729199197,\n",
       "  'TS_dice_bladder': 0.9596469479843308,\n",
       "  'TS_dice_duodenum': 0.6468676029667035,\n",
       "  'TS_dice_esophagus': 0.7150369350194066,\n",
       "  'TS_dice_gallbladder': 0.8816793034400522,\n",
       "  'TS_dice_heart': 0.9326066529801207,\n",
       "  'TS_dice_right kidney': 0.9412001450998355,\n",
       "  'TS_dice_left kidney': 0.9611682045518926,\n",
       "  'TS_dice_liver': 0.9637765632798102,\n",
       "  'TS_dice_pancreas': 0.8274775559320424,\n",
       "  'TS_dice_prostate': 1.0,\n",
       "  'TS_dice_small bowel': 0.7966402188627144,\n",
       "  'TS_dice_spleen': 0.9613384120826262,\n",
       "  'TS_dice_stomach': 0.9388420954585978},\n",
       " {'ct_name': '04-11-2008-NA-CT-50966.nii.gz',\n",
       "  'global_noise': 8.893022876893674,\n",
       "  'TS_macro_avg_dice': 0.7108442328398614,\n",
       "  'TS_micro_avg_dice': 0.8772010610303123,\n",
       "  'TS_dice_right adrenal gland': 0.3305084745762712,\n",
       "  'TS_dice_left adrenal gland': 0.14972067039106146,\n",
       "  'TS_dice_bladder': 0.9375430215875069,\n",
       "  'TS_dice_duodenum': 0.6074093297865438,\n",
       "  'TS_dice_esophagus': 0.6550448660867183,\n",
       "  'TS_dice_gallbladder': 0.8448344239539957,\n",
       "  'TS_dice_heart': 0.8403722830303753,\n",
       "  'TS_dice_right kidney': 0.9606848111834284,\n",
       "  'TS_dice_left kidney': 0.9540371574410497,\n",
       "  'TS_dice_liver': 0.9484997044221783,\n",
       "  'TS_dice_pancreas': 0.7966181108694588,\n",
       "  'TS_dice_prostate': 0.24872665534804753,\n",
       "  'TS_dice_small bowel': 0.5814645652185157,\n",
       "  'TS_dice_spleen': 0.9318354707126129,\n",
       "  'TS_dice_stomach': 0.8753639479901575},\n",
       " {'ct_name': '12-07-2004-NA-CT-36258.nii.gz',\n",
       "  'global_noise': 8.021169875272061,\n",
       "  'TS_macro_avg_dice': 0.7194768518113663,\n",
       "  'TS_micro_avg_dice': 0.8470205574935774,\n",
       "  'TS_dice_right adrenal gland': 0.5904514452744397,\n",
       "  'TS_dice_left adrenal gland': 0.0,\n",
       "  'TS_dice_bladder': 0.8459990687774378,\n",
       "  'TS_dice_duodenum': 0.6789563537912363,\n",
       "  'TS_dice_esophagus': 0.8337159173618498,\n",
       "  'TS_dice_gallbladder': 0.8731532792343374,\n",
       "  'TS_dice_heart': 0.8506147491696567,\n",
       "  'TS_dice_right kidney': 0.9548198245597252,\n",
       "  'TS_dice_left kidney': 0.9564456003467707,\n",
       "  'TS_dice_liver': 0.9578925040613255,\n",
       "  'TS_dice_pancreas': 0.7727538132983531,\n",
       "  'TS_dice_prostate': 0.0,\n",
       "  'TS_dice_small bowel': 0.6533630446306626,\n",
       "  'TS_dice_spleen': 0.938868358905724,\n",
       "  'TS_dice_stomach': 0.8851188177589755},\n",
       " {'ct_name': '08-29-2008-NA-CT-29358.nii.gz',\n",
       "  'global_noise': 11.404232639327894,\n",
       "  'TS_macro_avg_dice': 0.6560628548483644,\n",
       "  'TS_micro_avg_dice': 0.7964954419744467,\n",
       "  'TS_dice_right adrenal gland': 0.43190184049079755,\n",
       "  'TS_dice_left adrenal gland': 0.24356435643564356,\n",
       "  'TS_dice_bladder': 0.615211145778629,\n",
       "  'TS_dice_duodenum': 0.3686292408337137,\n",
       "  'TS_dice_esophagus': 0.3718835304822566,\n",
       "  'TS_dice_gallbladder': 0.5466203983101992,\n",
       "  'TS_dice_heart': 0.9062866763453585,\n",
       "  'TS_dice_right kidney': 0.7802428656534574,\n",
       "  'TS_dice_left kidney': 0.8081237516994602,\n",
       "  'TS_dice_liver': 0.9055976293690694,\n",
       "  'TS_dice_pancreas': 0.6307383500122745,\n",
       "  'TS_dice_prostate': 1.0,\n",
       "  'TS_dice_small bowel': 0.5433383414630287,\n",
       "  'TS_dice_spleen': 0.849697080403081,\n",
       "  'TS_dice_stomach': 0.8391076154484954},\n",
       " {'ct_name': '04-08-2008-NA-CT-44812.nii.gz',\n",
       "  'global_noise': 10.547787363219749,\n",
       "  'TS_macro_avg_dice': 0.8057356668328072,\n",
       "  'TS_micro_avg_dice': 0.8739899493243047,\n",
       "  'TS_dice_right adrenal gland': 0.4619849100406268,\n",
       "  'TS_dice_left adrenal gland': 0.3006802721088435,\n",
       "  'TS_dice_bladder': 0.9279000676482416,\n",
       "  'TS_dice_duodenum': 0.7550652927202022,\n",
       "  'TS_dice_esophagus': 0.7134765017117958,\n",
       "  'TS_dice_gallbladder': 0.851217709228218,\n",
       "  'TS_dice_heart': 0.9105188032301946,\n",
       "  'TS_dice_right kidney': 0.9461042369703787,\n",
       "  'TS_dice_left kidney': 0.9584865132801851,\n",
       "  'TS_dice_liver': 0.9578863797255305,\n",
       "  'TS_dice_pancreas': 0.7876434361223842,\n",
       "  'TS_dice_prostate': 1.0,\n",
       "  'TS_dice_small bowel': 0.6563359970910774,\n",
       "  'TS_dice_spleen': 0.9229779872066288,\n",
       "  'TS_dice_stomach': 0.9357568954078006},\n",
       " {'ct_name': '09-06-2008-NA-CT-15258.nii.gz',\n",
       "  'global_noise': 8.842671601048682,\n",
       "  'TS_macro_avg_dice': 0.7964888668047562,\n",
       "  'TS_micro_avg_dice': 0.9359573257371873,\n",
       "  'TS_dice_right adrenal gland': 0.6462567532801646,\n",
       "  'TS_dice_left adrenal gland': 0.6214842426296171,\n",
       "  'TS_dice_bladder': 0.9513855209699607,\n",
       "  'TS_dice_duodenum': 0.703489505490935,\n",
       "  'TS_dice_esophagus': 0.7580703188879804,\n",
       "  'TS_dice_gallbladder': 0.861640903686088,\n",
       "  'TS_dice_heart': 0.8257923257419262,\n",
       "  'TS_dice_right kidney': 0.9659572621131671,\n",
       "  'TS_dice_left kidney': 0.9691615204087612,\n",
       "  'TS_dice_liver': 0.9724774749727938,\n",
       "  'TS_dice_pancreas': 0.8587675938337802,\n",
       "  'TS_dice_prostate': 0.0,\n",
       "  'TS_dice_small bowel': 0.8975052729733632,\n",
       "  'TS_dice_spleen': 0.9600111881786181,\n",
       "  'TS_dice_stomach': 0.9553331189041865},\n",
       " {'ct_name': '01-08-2004-NA-CT-19618.nii.gz',\n",
       "  'global_noise': 12.347419076767645,\n",
       "  'TS_macro_avg_dice': 0.7374230601645518,\n",
       "  'TS_micro_avg_dice': 0.9159774334016334,\n",
       "  'TS_dice_right adrenal gland': 0.0,\n",
       "  'TS_dice_left adrenal gland': 0.23186629526462396,\n",
       "  'TS_dice_bladder': 0.9281691735439905,\n",
       "  'TS_dice_duodenum': 0.5513674674617282,\n",
       "  'TS_dice_esophagus': 0.6397529032588121,\n",
       "  'TS_dice_gallbladder': 0.7569473936887199,\n",
       "  'TS_dice_heart': 0.8527270437162282,\n",
       "  'TS_dice_right kidney': 0.9368603537699748,\n",
       "  'TS_dice_left kidney': 0.9430623508791399,\n",
       "  'TS_dice_liver': 0.9665100627165893,\n",
       "  'TS_dice_pancreas': 0.4952230199559048,\n",
       "  'TS_dice_prostate': 1.0,\n",
       "  'TS_dice_small bowel': 0.8549217054171494,\n",
       "  'TS_dice_spleen': 0.9651380641925597,\n",
       "  'TS_dice_stomach': 0.9388000686028541},\n",
       " {'ct_name': '06-04-2009-NA-CT-18630.nii.gz',\n",
       "  'global_noise': 9.982118355787808,\n",
       "  'TS_macro_avg_dice': 0.6804678131426453,\n",
       "  'TS_micro_avg_dice': 0.8475421235135576,\n",
       "  'TS_dice_right adrenal gland': 0.4558452481076535,\n",
       "  'TS_dice_left adrenal gland': 0.4897895557287607,\n",
       "  'TS_dice_bladder': 0.870904722035029,\n",
       "  'TS_dice_duodenum': 0.024619289340101522,\n",
       "  'TS_dice_esophagus': 0.7794448612153039,\n",
       "  'TS_dice_gallbladder': 0.05150976909413854,\n",
       "  'TS_dice_heart': 0.8667827512035235,\n",
       "  'TS_dice_right kidney': 0.9647891879010707,\n",
       "  'TS_dice_left kidney': 0.9620486645520436,\n",
       "  'TS_dice_liver': 0.9731245305170805,\n",
       "  'TS_dice_pancreas': 0.8034063603133976,\n",
       "  'TS_dice_prostate': 0.5026770689918924,\n",
       "  'TS_dice_small bowel': 0.5410977802508082,\n",
       "  'TS_dice_spleen': 0.962857656131137,\n",
       "  'TS_dice_stomach': 0.9581197517577382},\n",
       " {'ct_name': '11-30-2008-NA-CT-25566.nii.gz',\n",
       "  'global_noise': 6.643573665524257,\n",
       "  'TS_macro_avg_dice': 0.736461684228023,\n",
       "  'TS_micro_avg_dice': 0.7943024256818223,\n",
       "  'TS_dice_right adrenal gland': 0.6803755029056773,\n",
       "  'TS_dice_left adrenal gland': 0.3892870614862316,\n",
       "  'TS_dice_bladder': 0.14296376924273052,\n",
       "  'TS_dice_duodenum': 0.7218348546315078,\n",
       "  'TS_dice_esophagus': 0.49167831279380003,\n",
       "  'TS_dice_gallbladder': 0.791656778208475,\n",
       "  'TS_dice_heart': 0.9269560001589877,\n",
       "  'TS_dice_right kidney': 0.9440427127007612,\n",
       "  'TS_dice_left kidney': 0.9469456604682919,\n",
       "  'TS_dice_liver': 0.9514286176866881,\n",
       "  'TS_dice_pancreas': 0.8140138598614014,\n",
       "  'TS_dice_prostate': 1.0,\n",
       "  'TS_dice_small bowel': 0.4745843717265363,\n",
       "  'TS_dice_spleen': 0.9321079224994164,\n",
       "  'TS_dice_stomach': 0.8390498390498391},\n",
       " {'ct_name': '11-26-2008-NA-CT-37648.nii.gz',\n",
       "  'global_noise': 9.446651083803086,\n",
       "  'TS_macro_avg_dice': 0.7123448923748775,\n",
       "  'TS_micro_avg_dice': 0.8618363192662655,\n",
       "  'TS_dice_right adrenal gland': 0.3007662835249042,\n",
       "  'TS_dice_left adrenal gland': 0.22547635850388145,\n",
       "  'TS_dice_bladder': 0.8185385512779723,\n",
       "  'TS_dice_duodenum': 0.06668499931252578,\n",
       "  'TS_dice_esophagus': 0.6307857911733046,\n",
       "  'TS_dice_gallbladder': 0.8740808913518118,\n",
       "  'TS_dice_heart': 0.8939341964167542,\n",
       "  'TS_dice_right kidney': 0.9525004933885929,\n",
       "  'TS_dice_left kidney': 0.956337549922657,\n",
       "  'TS_dice_liver': 0.9590883148062014,\n",
       "  'TS_dice_pancreas': 0.751592683489965,\n",
       "  'TS_dice_prostate': 1.0,\n",
       "  'TS_dice_small bowel': 0.5206144680664657,\n",
       "  'TS_dice_spleen': 0.9062774310835248,\n",
       "  'TS_dice_stomach': 0.8284953733046013},\n",
       " {'ct_name': '05-09-2009-NA-CT-51909.nii.gz',\n",
       "  'global_noise': 10.754392841872738,\n",
       "  'TS_macro_avg_dice': 0.6290011775957928,\n",
       "  'TS_micro_avg_dice': 0.8416008969974721,\n",
       "  'TS_dice_right adrenal gland': 0.58463480044171,\n",
       "  'TS_dice_left adrenal gland': 0.3671718615956534,\n",
       "  'TS_dice_bladder': 0.8671291372131914,\n",
       "  'TS_dice_duodenum': 0.004765618230655922,\n",
       "  'TS_dice_esophagus': 0.6480860414016422,\n",
       "  'TS_dice_gallbladder': 0.8387517821643005,\n",
       "  'TS_dice_heart': 0.8777472185437959,\n",
       "  'TS_dice_right kidney': 0.0,\n",
       "  'TS_dice_left kidney': 0.0,\n",
       "  'TS_dice_liver': 0.9436811399432833,\n",
       "  'TS_dice_pancreas': 0.7615173510477314,\n",
       "  'TS_dice_prostate': 1.0,\n",
       "  'TS_dice_small bowel': 0.6957878767692873,\n",
       "  'TS_dice_spleen': 0.9087660031432998,\n",
       "  'TS_dice_stomach': 0.9369788334423413},\n",
       " {'ct_name': '09-30-2004-NA-CT-29763.nii.gz',\n",
       "  'global_noise': 11.53210803176771,\n",
       "  'TS_macro_avg_dice': 0.7092348140957652,\n",
       "  'TS_micro_avg_dice': 0.8910804652108963,\n",
       "  'TS_dice_right adrenal gland': 0.0,\n",
       "  'TS_dice_left adrenal gland': 0.5334915611814346,\n",
       "  'TS_dice_bladder': 0.8354665718849965,\n",
       "  'TS_dice_duodenum': 0.6108229543293195,\n",
       "  'TS_dice_esophagus': 0.6046859035338055,\n",
       "  'TS_dice_gallbladder': 0.0,\n",
       "  'TS_dice_heart': 0.8291277954137372,\n",
       "  'TS_dice_right kidney': 0.932395223946703,\n",
       "  'TS_dice_left kidney': 0.9350663276526063,\n",
       "  'TS_dice_liver': 0.9705530521867619,\n",
       "  'TS_dice_pancreas': 0.7967134043746494,\n",
       "  'TS_dice_prostate': 1.0,\n",
       "  'TS_dice_small bowel': 0.7085975468358522,\n",
       "  'TS_dice_spleen': 0.9617324113195961,\n",
       "  'TS_dice_stomach': 0.9198694587770125},\n",
       " {'ct_name': '10-05-2008-NA-CT-54183.nii.gz',\n",
       "  'global_noise': 10.33332044644528,\n",
       "  'TS_macro_avg_dice': 0.7736712263306863,\n",
       "  'TS_micro_avg_dice': 0.8428737468585878,\n",
       "  'TS_dice_right adrenal gland': 0.5971974522292993,\n",
       "  'TS_dice_left adrenal gland': 0.6384859474161378,\n",
       "  'TS_dice_bladder': 0.7079337916383914,\n",
       "  'TS_dice_duodenum': 0.25538512837612537,\n",
       "  'TS_dice_esophagus': 0.5566160861702965,\n",
       "  'TS_dice_gallbladder': 0.8924817616037609,\n",
       "  'TS_dice_heart': 0.7997100653084159,\n",
       "  'TS_dice_right kidney': 0.9633662652340088,\n",
       "  'TS_dice_left kidney': 0.9695441801953922,\n",
       "  'TS_dice_liver': 0.9577338959946389,\n",
       "  'TS_dice_pancreas': 0.8991550017070673,\n",
       "  'TS_dice_prostate': 1.0,\n",
       "  'TS_dice_small bowel': 0.6211302175405788,\n",
       "  'TS_dice_spleen': 0.928225929496856,\n",
       "  'TS_dice_stomach': 0.8181026720493265},\n",
       " {'ct_name': '05-26-2009-NA-CT-46484.nii.gz',\n",
       "  'global_noise': 12.002150299258268,\n",
       "  'TS_macro_avg_dice': 0.848627558608071,\n",
       "  'TS_micro_avg_dice': 0.930359981733787,\n",
       "  'TS_dice_right adrenal gland': 0.4832982244959374,\n",
       "  'TS_dice_left adrenal gland': 0.5337386018237082,\n",
       "  'TS_dice_bladder': 0.9602413139639718,\n",
       "  'TS_dice_duodenum': 0.6965780197117575,\n",
       "  'TS_dice_esophagus': 0.7871060861197979,\n",
       "  'TS_dice_gallbladder': 0.8544902093180283,\n",
       "  'TS_dice_heart': 0.9288176825670585,\n",
       "  'TS_dice_right kidney': 0.9588373051072027,\n",
       "  'TS_dice_left kidney': 0.9536118216277851,\n",
       "  'TS_dice_liver': 0.9706677096089845,\n",
       "  'TS_dice_pancreas': 0.862652093215096,\n",
       "  'TS_dice_prostate': 1.0,\n",
       "  'TS_dice_small bowel': 0.8222571487664249,\n",
       "  'TS_dice_spleen': 0.9694893785714976,\n",
       "  'TS_dice_stomach': 0.9476277842238159},\n",
       " {'ct_name': '07-28-2007-NA-CT-06541.nii.gz',\n",
       "  'global_noise': 8.591998383051628,\n",
       "  'TS_macro_avg_dice': 0.751273127556709,\n",
       "  'TS_micro_avg_dice': 0.913338115860713,\n",
       "  'TS_dice_right adrenal gland': 0.5255427841634738,\n",
       "  'TS_dice_left adrenal gland': 0.14499252615844543,\n",
       "  'TS_dice_bladder': 0.9372424378808915,\n",
       "  'TS_dice_duodenum': 0.6422015404364569,\n",
       "  'TS_dice_esophagus': 0.7920316987167836,\n",
       "  'TS_dice_gallbladder': 0.9268008408433409,\n",
       "  'TS_dice_heart': 0.8215483355271289,\n",
       "  'TS_dice_right kidney': 0.9482097388246584,\n",
       "  'TS_dice_left kidney': 0.9465393500270765,\n",
       "  'TS_dice_liver': 0.9701971680009364,\n",
       "  'TS_dice_pancreas': 0.8126496124632843,\n",
       "  'TS_dice_prostate': 0.05228197985858153,\n",
       "  'TS_dice_small bowel': 0.8446156573410697,\n",
       "  'TS_dice_spleen': 0.9665881322042125,\n",
       "  'TS_dice_stomach': 0.9376551109042965},\n",
       " {'ct_name': '06-30-2005-NA-CT-18400.nii.gz',\n",
       "  'global_noise': 13.365098257621455,\n",
       "  'TS_macro_avg_dice': 0.8070868347543223,\n",
       "  'TS_micro_avg_dice': 0.9250279175186901,\n",
       "  'TS_dice_right adrenal gland': 0.2470431302801245,\n",
       "  'TS_dice_left adrenal gland': 0.60784553342295,\n",
       "  'TS_dice_bladder': 0.9401462960269056,\n",
       "  'TS_dice_duodenum': 0.8040886374731375,\n",
       "  'TS_dice_esophagus': 0.8162041981820956,\n",
       "  'TS_dice_gallbladder': 0.9255474196210645,\n",
       "  'TS_dice_heart': 0.8380625821148369,\n",
       "  'TS_dice_right kidney': 0.9333771415683534,\n",
       "  'TS_dice_left kidney': 0.9603308030423312,\n",
       "  'TS_dice_liver': 0.9673691861677605,\n",
       "  'TS_dice_pancreas': 0.8615290125996553,\n",
       "  'TS_dice_prostate': 0.4141478282956566,\n",
       "  'TS_dice_small bowel': 0.8550671266320323,\n",
       "  'TS_dice_spleen': 0.9702295572919154,\n",
       "  'TS_dice_stomach': 0.9653140685960139},\n",
       " {'ct_name': '07-13-2008-NA-CT-23735.nii.gz',\n",
       "  'global_noise': 8.215146040717118,\n",
       "  'TS_macro_avg_dice': 0.5627678663075414,\n",
       "  'TS_micro_avg_dice': 0.6447390275393187,\n",
       "  'TS_dice_right adrenal gland': 0.3187066974595843,\n",
       "  'TS_dice_left adrenal gland': 0.40128558310376494,\n",
       "  'TS_dice_bladder': 0.8756173810872622,\n",
       "  'TS_dice_duodenum': 0.024259248084002174,\n",
       "  'TS_dice_esophagus': 0.5599364911352209,\n",
       "  'TS_dice_gallbladder': 0.46480337594030946,\n",
       "  'TS_dice_heart': 0.8477369173085807,\n",
       "  'TS_dice_right kidney': 0.9542249422388402,\n",
       "  'TS_dice_left kidney': 0.18707059182642027,\n",
       "  'TS_dice_liver': 0.9538730082763057,\n",
       "  'TS_dice_pancreas': 0.24422502991020364,\n",
       "  'TS_dice_prostate': 1.0,\n",
       "  'TS_dice_small bowel': 0.4072533820018409,\n",
       "  'TS_dice_spleen': 0.8695681617645594,\n",
       "  'TS_dice_stomach': 0.3329571844762243},\n",
       " {'ct_name': '10-16-2008-NA-CT-26349.nii.gz',\n",
       "  'global_noise': 8.334282443103682,\n",
       "  'TS_macro_avg_dice': 0.7406308674788111,\n",
       "  'TS_micro_avg_dice': 0.851873970385457,\n",
       "  'TS_dice_right adrenal gland': 0.345718901453958,\n",
       "  'TS_dice_left adrenal gland': 0.07702407002188184,\n",
       "  'TS_dice_bladder': 0.832849100429117,\n",
       "  'TS_dice_duodenum': 0.3720653553299492,\n",
       "  'TS_dice_esophagus': 0.6549033391915642,\n",
       "  'TS_dice_gallbladder': 0.882490081393922,\n",
       "  'TS_dice_heart': 0.8586828890179354,\n",
       "  'TS_dice_right kidney': 0.9418388022356093,\n",
       "  'TS_dice_left kidney': 0.9449792048052507,\n",
       "  'TS_dice_liver': 0.9387776247394127,\n",
       "  'TS_dice_pancreas': 0.6731562415326101,\n",
       "  'TS_dice_prostate': 1.0,\n",
       "  'TS_dice_small bowel': 0.7473295176634375,\n",
       "  'TS_dice_spleen': 0.9063332326532854,\n",
       "  'TS_dice_stomach': 0.9333146517142319},\n",
       " {'ct_name': '05-29-2008-NA-CT-08668.nii.gz',\n",
       "  'global_noise': 9.454540785650924,\n",
       "  'TS_macro_avg_dice': 0.7904357505930011,\n",
       "  'TS_micro_avg_dice': 0.9019806105242021,\n",
       "  'TS_dice_right adrenal gland': 0.5879967558799676,\n",
       "  'TS_dice_left adrenal gland': 0.5839935327405013,\n",
       "  'TS_dice_bladder': 0.9289780689864315,\n",
       "  'TS_dice_duodenum': 0.7353206507192211,\n",
       "  'TS_dice_esophagus': 0.8,\n",
       "  'TS_dice_gallbladder': 0.8571597400039394,\n",
       "  'TS_dice_heart': 0.8321308678153458,\n",
       "  'TS_dice_right kidney': 0.9603385666782737,\n",
       "  'TS_dice_left kidney': 0.9542966394821185,\n",
       "  'TS_dice_liver': 0.9734525602384178,\n",
       "  'TS_dice_pancreas': 0.8934925890398242,\n",
       "  'TS_dice_prostate': 0.062023385866802234,\n",
       "  'TS_dice_small bowel': 0.780977549546199,\n",
       "  'TS_dice_spleen': 0.9555970456458865,\n",
       "  'TS_dice_stomach': 0.9507783062520907},\n",
       " {'ct_name': '01-30-2008-NA-CT-82761.nii.gz',\n",
       "  'global_noise': 14.740736925848147,\n",
       "  'TS_macro_avg_dice': 0.6773769565574735,\n",
       "  'TS_micro_avg_dice': 0.8500245571602956,\n",
       "  'TS_dice_right adrenal gland': 0.25690021231422505,\n",
       "  'TS_dice_left adrenal gland': 0.004043126684636119,\n",
       "  'TS_dice_bladder': 0.7739475037777133,\n",
       "  'TS_dice_duodenum': 0.529736131157248,\n",
       "  'TS_dice_esophagus': 0.7186611422536355,\n",
       "  'TS_dice_gallbladder': 0.6913505768795717,\n",
       "  'TS_dice_heart': 0.8926442076120086,\n",
       "  'TS_dice_right kidney': 0.7538569424964937,\n",
       "  'TS_dice_left kidney': 0.7381059662328713,\n",
       "  'TS_dice_liver': 0.961264599606764,\n",
       "  'TS_dice_pancreas': 0.4478702375876904,\n",
       "  'TS_dice_prostate': 1.0,\n",
       "  'TS_dice_small bowel': 0.6788449150277525,\n",
       "  'TS_dice_spleen': 0.8616569043234821,\n",
       "  'TS_dice_stomach': 0.8517718824080086},\n",
       " {'ct_name': '05-13-2009-NA-CT-17429.nii.gz',\n",
       "  'global_noise': 9.506830018046704,\n",
       "  'TS_macro_avg_dice': 0.7696387133834747,\n",
       "  'TS_micro_avg_dice': 0.893261970014116,\n",
       "  'TS_dice_right adrenal gland': 0.5716124879304796,\n",
       "  'TS_dice_left adrenal gland': 0.3866035675282126,\n",
       "  'TS_dice_bladder': 0.9324462467313156,\n",
       "  'TS_dice_duodenum': 0.7251088619512769,\n",
       "  'TS_dice_esophagus': 0.7950143367078237,\n",
       "  'TS_dice_gallbladder': 0.8969116385473263,\n",
       "  'TS_dice_heart': 0.8915238312551172,\n",
       "  'TS_dice_right kidney': 0.9525488300685184,\n",
       "  'TS_dice_left kidney': 0.9470645538962026,\n",
       "  'TS_dice_liver': 0.9630854742175065,\n",
       "  'TS_dice_pancreas': 0.8683215454242668,\n",
       "  'TS_dice_prostate': 0.0,\n",
       "  'TS_dice_small bowel': 0.7408673522167238,\n",
       "  'TS_dice_spleen': 0.9564720181205458,\n",
       "  'TS_dice_stomach': 0.9169999561568027},\n",
       " {'ct_name': '02-12-2008-NA-CT-67567.nii.gz',\n",
       "  'global_noise': 9.12566880338099,\n",
       "  'TS_macro_avg_dice': 0.7736694763774378,\n",
       "  'TS_micro_avg_dice': 0.9106765220402534,\n",
       "  'TS_dice_right adrenal gland': 0.48744251857092324,\n",
       "  'TS_dice_left adrenal gland': 0.5145674585387718,\n",
       "  'TS_dice_bladder': 0.8989350681639249,\n",
       "  'TS_dice_duodenum': 0.6823819020316589,\n",
       "  'TS_dice_esophagus': 0.8147014399355553,\n",
       "  'TS_dice_gallbladder': 0.8871846070067163,\n",
       "  'TS_dice_heart': 0.8523598315867983,\n",
       "  'TS_dice_right kidney': 0.9621174185520706,\n",
       "  'TS_dice_left kidney': 0.9643111982814981,\n",
       "  'TS_dice_liver': 0.9593991978019029,\n",
       "  'TS_dice_pancreas': 0.8288880521832928,\n",
       "  'TS_dice_prostate': 0.0,\n",
       "  'TS_dice_small bowel': 0.8690070868326145,\n",
       "  'TS_dice_spleen': 0.946095648268635,\n",
       "  'TS_dice_stomach': 0.9376507179072047},\n",
       " {'ct_name': '03-19-2004-NA-CT-37421.nii.gz',\n",
       "  'global_noise': 12.356769740744872,\n",
       "  'TS_macro_avg_dice': 0.7153488768647388,\n",
       "  'TS_micro_avg_dice': 0.8907481519452186,\n",
       "  'TS_dice_right adrenal gland': 0.0,\n",
       "  'TS_dice_left adrenal gland': 0.0,\n",
       "  'TS_dice_bladder': 0.9179696810487333,\n",
       "  'TS_dice_duodenum': 0.27535476678098375,\n",
       "  'TS_dice_esophagus': 0.6729455150222351,\n",
       "  'TS_dice_gallbladder': 0.8195680279869192,\n",
       "  'TS_dice_heart': 0.8598425287887898,\n",
       "  'TS_dice_right kidney': 0.9590612847838824,\n",
       "  'TS_dice_left kidney': 0.96408508217528,\n",
       "  'TS_dice_liver': 0.9503306111565045,\n",
       "  'TS_dice_pancreas': 0.7913063372226036,\n",
       "  'TS_dice_prostate': 1.0,\n",
       "  'TS_dice_small bowel': 0.7770017662137737,\n",
       "  'TS_dice_spleen': 0.9598221343873518,\n",
       "  'TS_dice_stomach': 0.7829454174040249},\n",
       " {'ct_name': '03-17-2004-NA-CT-06281.nii.gz',\n",
       "  'global_noise': 8.11739858399057,\n",
       "  'TS_macro_avg_dice': 0.7245989185108116,\n",
       "  'TS_micro_avg_dice': 0.8943218458890522,\n",
       "  'TS_dice_right adrenal gland': 0.47632794457274824,\n",
       "  'TS_dice_left adrenal gland': 0.07915324436263231,\n",
       "  'TS_dice_bladder': 0.8950103000421432,\n",
       "  'TS_dice_duodenum': 0.6882189324394543,\n",
       "  'TS_dice_esophagus': 0.6604347078052417,\n",
       "  'TS_dice_gallbladder': 0.8728674580834659,\n",
       "  'TS_dice_heart': 0.8405192756458002,\n",
       "  'TS_dice_right kidney': 0.9483249954595737,\n",
       "  'TS_dice_left kidney': 0.9467808440096123,\n",
       "  'TS_dice_liver': 0.9557714952470668,\n",
       "  'TS_dice_pancreas': 0.7333263532614386,\n",
       "  'TS_dice_prostate': 0.12992387850121942,\n",
       "  'TS_dice_small bowel': 0.7971865157825819,\n",
       "  'TS_dice_spleen': 0.9221897678340208,\n",
       "  'TS_dice_stomach': 0.9229480646151743},\n",
       " {'ct_name': '10-13-2004-NA-CT-25276.nii.gz',\n",
       "  'global_noise': 8.095036905359798,\n",
       "  'TS_macro_avg_dice': 0.7056907547125965,\n",
       "  'TS_micro_avg_dice': 0.9037728643028251,\n",
       "  'TS_dice_right adrenal gland': 0.6558331767800113,\n",
       "  'TS_dice_left adrenal gland': 0.5316425409738007,\n",
       "  'TS_dice_bladder': 0.943860006334555,\n",
       "  'TS_dice_duodenum': 0.3251074857176512,\n",
       "  'TS_dice_esophagus': 0.29760355256105964,\n",
       "  'TS_dice_gallbladder': 0.703293098027422,\n",
       "  'TS_dice_heart': 0.8097341584714156,\n",
       "  'TS_dice_right kidney': 0.9499540863177227,\n",
       "  'TS_dice_left kidney': 0.9493060619391697,\n",
       "  'TS_dice_liver': 0.9636701989607435,\n",
       "  'TS_dice_pancreas': 0.8388567303450396,\n",
       "  'TS_dice_prostate': 0.0,\n",
       "  'TS_dice_small bowel': 0.7823263281888913,\n",
       "  'TS_dice_spleen': 0.954479922494354,\n",
       "  'TS_dice_stomach': 0.8796939735771115},\n",
       " {'ct_name': '09-05-2008-NA-CT-06200.nii.gz',\n",
       "  'global_noise': 8.327153518673276,\n",
       "  'TS_macro_avg_dice': 0.6918695647699028,\n",
       "  'TS_micro_avg_dice': 0.8610168174471282,\n",
       "  'TS_dice_right adrenal gland': 0.4843304843304843,\n",
       "  'TS_dice_left adrenal gland': 0.1566933991363356,\n",
       "  'TS_dice_bladder': 0.9072008869577551,\n",
       "  'TS_dice_duodenum': 0.29089062953292716,\n",
       "  'TS_dice_esophagus': 0.7089975908662407,\n",
       "  'TS_dice_gallbladder': 0.8428642466434609,\n",
       "  'TS_dice_heart': 0.8439825592383341,\n",
       "  'TS_dice_right kidney': 0.9601330302264882,\n",
       "  'TS_dice_left kidney': 0.95977128089565,\n",
       "  'TS_dice_liver': 0.9513867570472532,\n",
       "  'TS_dice_pancreas': 0.7719663552426094,\n",
       "  'TS_dice_prostate': 0.14917733089579524,\n",
       "  'TS_dice_small bowel': 0.5575736235801569,\n",
       "  'TS_dice_spleen': 0.9440161606395193,\n",
       "  'TS_dice_stomach': 0.8490591363155313},\n",
       " {'ct_name': '10-19-2009-NA-CT-43912.nii.gz',\n",
       "  'global_noise': 7.490485717022149,\n",
       "  'TS_macro_avg_dice': 0.6933799446246754,\n",
       "  'TS_micro_avg_dice': 0.7981184432413019,\n",
       "  'TS_dice_right adrenal gland': 0.46212290502793296,\n",
       "  'TS_dice_left adrenal gland': 0.1090617481956696,\n",
       "  'TS_dice_bladder': 0.919692635288435,\n",
       "  'TS_dice_duodenum': 0.6660686382313792,\n",
       "  'TS_dice_esophagus': 0.7502607740872907,\n",
       "  'TS_dice_gallbladder': 0.8286457350196104,\n",
       "  'TS_dice_heart': 0.88430422060555,\n",
       "  'TS_dice_right kidney': 0.9607248157688271,\n",
       "  'TS_dice_left kidney': 0.9605418847008055,\n",
       "  'TS_dice_liver': 0.9655422847420772,\n",
       "  'TS_dice_pancreas': 0.737828856468721,\n",
       "  'TS_dice_prostate': 0.309399622683387,\n",
       "  'TS_dice_small bowel': 0.4927851277398017,\n",
       "  'TS_dice_spleen': 0.42044953724107537,\n",
       "  'TS_dice_stomach': 0.9332703835695685},\n",
       " {'ct_name': '06-03-2005-NA-CT-71406.nii.gz',\n",
       "  'global_noise': 7.360661789886023,\n",
       "  'TS_macro_avg_dice': 0.6060585093235551,\n",
       "  'TS_micro_avg_dice': 0.8115924014293131,\n",
       "  'TS_dice_right adrenal gland': 0.0,\n",
       "  'TS_dice_left adrenal gland': 0.0,\n",
       "  'TS_dice_bladder': 0.8687676340687717,\n",
       "  'TS_dice_duodenum': 0.29713747000342816,\n",
       "  'TS_dice_esophagus': 0.6889714993804213,\n",
       "  'TS_dice_gallbladder': 0.8868967341002247,\n",
       "  'TS_dice_heart': 0.8554492590508347,\n",
       "  'TS_dice_right kidney': 0.91814872013473,\n",
       "  'TS_dice_left kidney': 0.9467994465233899,\n",
       "  'TS_dice_liver': 0.9456214265216788,\n",
       "  'TS_dice_pancreas': 0.596476244265976,\n",
       "  'TS_dice_prostate': 0.0,\n",
       "  'TS_dice_small bowel': 0.5316190147640869,\n",
       "  'TS_dice_spleen': 0.903801839701127,\n",
       "  'TS_dice_stomach': 0.6511883513386566},\n",
       " {'ct_name': '05-29-2006-NA-CT-99436.nii.gz',\n",
       "  'global_noise': 14.229771657913767,\n",
       "  'TS_macro_avg_dice': 0.7139771494605979,\n",
       "  'TS_micro_avg_dice': 0.8318224870482351,\n",
       "  'TS_dice_right adrenal gland': 0.624210062215255,\n",
       "  'TS_dice_left adrenal gland': 0.613981267815936,\n",
       "  'TS_dice_bladder': 0.22092656206480363,\n",
       "  'TS_dice_duodenum': 0.5092190292281763,\n",
       "  'TS_dice_esophagus': 0.41408914951515846,\n",
       "  'TS_dice_gallbladder': 0.8987834654820012,\n",
       "  'TS_dice_heart': 0.7951538143129415,\n",
       "  'TS_dice_right kidney': 0.9626304649295672,\n",
       "  'TS_dice_left kidney': 0.9635624045913906,\n",
       "  'TS_dice_liver': 0.9594758276855885,\n",
       "  'TS_dice_pancreas': 0.8659121790640052,\n",
       "  'TS_dice_prostate': 1.0,\n",
       "  'TS_dice_small bowel': 5.9420949307794385e-05,\n",
       "  'TS_dice_spleen': 0.9249084884651789,\n",
       "  'TS_dice_stomach': 0.9567451055896538},\n",
       " {'ct_name': '12-13-2008-NA-CT-83316.nii.gz',\n",
       "  'global_noise': 10.311272364191609,\n",
       "  'TS_macro_avg_dice': 0.7598153857647559,\n",
       "  'TS_micro_avg_dice': 0.845196107429421,\n",
       "  'TS_dice_right adrenal gland': 0.5073947667804323,\n",
       "  'TS_dice_left adrenal gland': 0.15453029460811563,\n",
       "  'TS_dice_bladder': 0.9103011995263817,\n",
       "  'TS_dice_duodenum': 0.44128430174425065,\n",
       "  'TS_dice_esophagus': 0.6262984387634509,\n",
       "  'TS_dice_gallbladder': 0.7516737408655318,\n",
       "  'TS_dice_heart': 0.9025462018561403,\n",
       "  'TS_dice_right kidney': 0.9345470878188752,\n",
       "  'TS_dice_left kidney': 0.9525820881896473,\n",
       "  'TS_dice_liver': 0.9538398379876526,\n",
       "  'TS_dice_pancreas': 0.8354838334361074,\n",
       "  'TS_dice_prostate': 1.0,\n",
       "  'TS_dice_small bowel': 0.6072359199558623,\n",
       "  'TS_dice_spleen': 0.9282318080209863,\n",
       "  'TS_dice_stomach': 0.8912812669179058},\n",
       " {'ct_name': '07-09-2007-NA-CT-63958.nii.gz',\n",
       "  'global_noise': 8.6336960358894,\n",
       "  'TS_macro_avg_dice': 0.8057059421956058,\n",
       "  'TS_micro_avg_dice': 0.8479488958785106,\n",
       "  'TS_dice_right adrenal gland': 0.5093089867525957,\n",
       "  'TS_dice_left adrenal gland': 0.4637751786874594,\n",
       "  'TS_dice_bladder': 0.8703979284492518,\n",
       "  'TS_dice_duodenum': 0.6683037727854647,\n",
       "  'TS_dice_esophagus': 0.7362518145007259,\n",
       "  'TS_dice_gallbladder': 0.8746521905177588,\n",
       "  'TS_dice_heart': 0.8464533814053041,\n",
       "  'TS_dice_right kidney': 0.9563734600996021,\n",
       "  'TS_dice_left kidney': 0.9493856207511118,\n",
       "  'TS_dice_liver': 0.9637198243092814,\n",
       "  'TS_dice_pancreas': 0.8482158855133695,\n",
       "  'TS_dice_prostate': 1.0,\n",
       "  'TS_dice_small bowel': 0.5703445060742208,\n",
       "  'TS_dice_spleen': 0.923471546107955,\n",
       "  'TS_dice_stomach': 0.9049350369799847},\n",
       " {'ct_name': '07-13-2009-NA-CT-70400.nii.gz',\n",
       "  'global_noise': 10.973819421366443,\n",
       "  'TS_macro_avg_dice': 0.839688717122534,\n",
       "  'TS_micro_avg_dice': 0.9006053710345571,\n",
       "  'TS_dice_right adrenal gland': 0.6762039089260528,\n",
       "  'TS_dice_left adrenal gland': 0.5668849391955099,\n",
       "  'TS_dice_bladder': 0.9429320407309947,\n",
       "  'TS_dice_duodenum': 0.6621412613851178,\n",
       "  'TS_dice_esophagus': 0.7004725409998809,\n",
       "  'TS_dice_gallbladder': 0.8828941390277146,\n",
       "  'TS_dice_heart': 0.9038511615981539,\n",
       "  'TS_dice_right kidney': 0.9301917602233613,\n",
       "  'TS_dice_left kidney': 0.9412036630409156,\n",
       "  'TS_dice_liver': 0.963668012086582,\n",
       "  'TS_dice_pancreas': 0.8184503794792968,\n",
       "  'TS_dice_prostate': 1.0,\n",
       "  'TS_dice_small bowel': 0.7424922007848974,\n",
       "  'TS_dice_spleen': 0.9566112868769192,\n",
       "  'TS_dice_stomach': 0.9073334624826155},\n",
       " {'ct_name': '10-27-2007-NA-CT-57357.nii.gz',\n",
       "  'global_noise': 6.17020893287325,\n",
       "  'TS_macro_avg_dice': 0.7125431899268183,\n",
       "  'TS_micro_avg_dice': 0.8911308333304745,\n",
       "  'TS_dice_right adrenal gland': 0.3470522803114572,\n",
       "  'TS_dice_left adrenal gland': 0.3451995685005394,\n",
       "  'TS_dice_bladder': 0.914339123694889,\n",
       "  'TS_dice_duodenum': 0.4975443818433082,\n",
       "  'TS_dice_esophagus': 0.6567488755992685,\n",
       "  'TS_dice_gallbladder': 0.8784019793334303,\n",
       "  'TS_dice_heart': 0.858379752365633,\n",
       "  'TS_dice_right kidney': 0.9419707433641535,\n",
       "  'TS_dice_left kidney': 0.9449557793785296,\n",
       "  'TS_dice_liver': 0.9608199519699515,\n",
       "  'TS_dice_pancreas': 0.7751366229740383,\n",
       "  'TS_dice_prostate': 0.0,\n",
       "  'TS_dice_small bowel': 0.7057976949320369,\n",
       "  'TS_dice_spleen': 0.9621439340185123,\n",
       "  'TS_dice_stomach': 0.8996571606165281},\n",
       " {'ct_name': '09-08-2009-NA-CT-56467.nii.gz',\n",
       "  'global_noise': 7.623858047295387,\n",
       "  'TS_macro_avg_dice': 0.7534819235642781,\n",
       "  'TS_micro_avg_dice': 0.8941152030955033,\n",
       "  'TS_dice_right adrenal gland': 0.5251709136109385,\n",
       "  'TS_dice_left adrenal gland': 0.3748558246828143,\n",
       "  'TS_dice_bladder': 0.9500796952533708,\n",
       "  'TS_dice_duodenum': 0.7453648536100967,\n",
       "  'TS_dice_esophagus': 0.7411102990244367,\n",
       "  'TS_dice_gallbladder': 0.6396955881825035,\n",
       "  'TS_dice_heart': 0.8720744209773067,\n",
       "  'TS_dice_right kidney': 0.9584214661267904,\n",
       "  'TS_dice_left kidney': 0.9601708478521949,\n",
       "  'TS_dice_liver': 0.9707005222449167,\n",
       "  'TS_dice_pancreas': 0.8021486260746962,\n",
       "  'TS_dice_prostate': 0.28549141965678626,\n",
       "  'TS_dice_small bowel': 0.5991735253236713,\n",
       "  'TS_dice_spleen': 0.9516350151101164,\n",
       "  'TS_dice_stomach': 0.9261358357335315},\n",
       " {'ct_name': '06-02-2004-NA-CT-32694.nii.gz',\n",
       "  'global_noise': 8.3586513195967,\n",
       "  'TS_macro_avg_dice': 0.6440401558890196,\n",
       "  'TS_micro_avg_dice': 0.8269727458519218,\n",
       "  'TS_dice_right adrenal gland': 0.45170767535806094,\n",
       "  'TS_dice_left adrenal gland': 0.09743290548424738,\n",
       "  'TS_dice_bladder': 0.8466648449499184,\n",
       "  'TS_dice_duodenum': 0.02342642958358093,\n",
       "  'TS_dice_esophagus': 0.6368575151894664,\n",
       "  'TS_dice_gallbladder': 0.7908423152802702,\n",
       "  'TS_dice_heart': 0.846047662041479,\n",
       "  'TS_dice_right kidney': 0.9181844584904022,\n",
       "  'TS_dice_left kidney': 0.9362572602972307,\n",
       "  'TS_dice_liver': 0.9523826162523822,\n",
       "  'TS_dice_pancreas': 0.7208925725215174,\n",
       "  'TS_dice_prostate': 0.0,\n",
       "  'TS_dice_small bowel': 0.6497028798841913,\n",
       "  'TS_dice_spleen': 0.8984195481568851,\n",
       "  'TS_dice_stomach': 0.8917836548456631},\n",
       " {'ct_name': '07-14-2006-NA-CT-03320.nii.gz',\n",
       "  'global_noise': 12.645566694674034,\n",
       "  'TS_macro_avg_dice': 0.7393041519280197,\n",
       "  'TS_micro_avg_dice': 0.8883659774413569,\n",
       "  'TS_dice_right adrenal gland': 0.2375451263537906,\n",
       "  'TS_dice_left adrenal gland': 0.058947014862708876,\n",
       "  'TS_dice_bladder': 0.911110479023715,\n",
       "  'TS_dice_duodenum': 0.4840120428767941,\n",
       "  'TS_dice_esophagus': 0.609395609572263,\n",
       "  'TS_dice_gallbladder': 0.9001115697869017,\n",
       "  'TS_dice_heart': 0.8164475447898895,\n",
       "  'TS_dice_right kidney': 0.9461765049634716,\n",
       "  'TS_dice_left kidney': 0.9489262651171374,\n",
       "  'TS_dice_liver': 0.9624619157836196,\n",
       "  'TS_dice_pancreas': 0.6425618706385444,\n",
       "  'TS_dice_prostate': 1.0,\n",
       "  'TS_dice_small bowel': 0.7633575517707841,\n",
       "  'TS_dice_spleen': 0.8773252127835659,\n",
       "  'TS_dice_stomach': 0.9311835705971094},\n",
       " {'ct_name': '01-02-2004-NA-CT-52028.nii.gz',\n",
       "  'global_noise': 8.181850738923249,\n",
       "  'TS_macro_avg_dice': 0.7964190636368652,\n",
       "  'TS_micro_avg_dice': 0.8792068290633114,\n",
       "  'TS_dice_right adrenal gland': 0.27035330261136714,\n",
       "  'TS_dice_left adrenal gland': 0.4989753185422792,\n",
       "  'TS_dice_bladder': 0.9268365115965503,\n",
       "  'TS_dice_duodenum': 0.43257416667633514,\n",
       "  'TS_dice_esophagus': 0.6977361235931013,\n",
       "  'TS_dice_gallbladder': 1.0,\n",
       "  'TS_dice_heart': 0.8068089579257789,\n",
       "  'TS_dice_right kidney': 0.9529172809974489,\n",
       "  'TS_dice_left kidney': 0.9531358911301882,\n",
       "  'TS_dice_liver': 0.9614351185234092,\n",
       "  'TS_dice_pancreas': 0.8194975176771476,\n",
       "  'TS_dice_prostate': 1.0,\n",
       "  'TS_dice_small bowel': 0.8120676447912731,\n",
       "  'TS_dice_spleen': 0.9320987009732259,\n",
       "  'TS_dice_stomach': 0.8818494195148731},\n",
       " {'ct_name': '05-13-2009-NA-CT-90807.nii.gz',\n",
       "  'global_noise': 8.99875192821419,\n",
       "  'TS_macro_avg_dice': 0.7114542275124919,\n",
       "  'TS_micro_avg_dice': 0.8618097682432706,\n",
       "  'TS_dice_right adrenal gland': 0.5631953310231625,\n",
       "  'TS_dice_left adrenal gland': 0.6222599006903233,\n",
       "  'TS_dice_bladder': 0.9261427317052277,\n",
       "  'TS_dice_duodenum': 0.2214361958182465,\n",
       "  'TS_dice_esophagus': 0.5747206703910615,\n",
       "  'TS_dice_gallbladder': 0.7990296435482513,\n",
       "  'TS_dice_heart': 0.8979560895408503,\n",
       "  'TS_dice_right kidney': 0.9536628432318018,\n",
       "  'TS_dice_left kidney': 0.9455806341469158,\n",
       "  'TS_dice_liver': 0.9706330407712248,\n",
       "  'TS_dice_pancreas': 0.8045646364791262,\n",
       "  'TS_dice_prostate': 0.0,\n",
       "  'TS_dice_small bowel': 0.5749304751468034,\n",
       "  'TS_dice_spleen': 0.952583487181884,\n",
       "  'TS_dice_stomach': 0.8651177330124966},\n",
       " {'ct_name': '10-11-2009-NA-CT-15815.nii.gz',\n",
       "  'global_noise': 7.346072947448138,\n",
       "  'TS_macro_avg_dice': 0.7691122404752534,\n",
       "  'TS_micro_avg_dice': 0.9064057054791668,\n",
       "  'TS_dice_right adrenal gland': 0.5611838360842345,\n",
       "  'TS_dice_left adrenal gland': 0.541517763296195,\n",
       "  'TS_dice_bladder': 0.9499723171500029,\n",
       "  'TS_dice_duodenum': 0.4720797672893582,\n",
       "  'TS_dice_esophagus': 0.7835994747765682,\n",
       "  'TS_dice_gallbladder': 0.8956166392056384,\n",
       "  'TS_dice_heart': 0.9287026895546185,\n",
       "  'TS_dice_right kidney': 0.959956925309892,\n",
       "  'TS_dice_left kidney': 0.9625842672116007,\n",
       "  'TS_dice_liver': 0.9656770598536807,\n",
       "  'TS_dice_pancreas': 0.8219585019475893,\n",
       "  'TS_dice_prostate': 0.0,\n",
       "  'TS_dice_small bowel': 0.7857362160572132,\n",
       "  'TS_dice_spleen': 0.9607012937986891,\n",
       "  'TS_dice_stomach': 0.9473968555935204},\n",
       " {'ct_name': '10-18-2008-NA-CT-63565.nii.gz',\n",
       "  'global_noise': 9.011935246212087,\n",
       "  'TS_macro_avg_dice': 0.7531393798269825,\n",
       "  'TS_micro_avg_dice': 0.8670717668427839,\n",
       "  'TS_dice_right adrenal gland': 0.0,\n",
       "  'TS_dice_left adrenal gland': 0.2666385846672283,\n",
       "  'TS_dice_bladder': 0.881581007861192,\n",
       "  'TS_dice_duodenum': 0.5216169211039474,\n",
       "  'TS_dice_esophagus': 0.630200894982386,\n",
       "  'TS_dice_gallbladder': 0.8703912466843501,\n",
       "  'TS_dice_heart': 0.8576068252920342,\n",
       "  'TS_dice_right kidney': 0.9309795109210379,\n",
       "  'TS_dice_left kidney': 0.9427597997017351,\n",
       "  'TS_dice_liver': 0.9586430235715185,\n",
       "  'TS_dice_pancreas': 0.8468739521690667,\n",
       "  'TS_dice_prostate': 1.0,\n",
       "  'TS_dice_small bowel': 0.6928088207302104,\n",
       "  'TS_dice_spleen': 0.9523069815401303,\n",
       "  'TS_dice_stomach': 0.9446831281799014},\n",
       " {'ct_name': '06-14-2006-NA-CT-66763.nii.gz',\n",
       "  'global_noise': 14.044023598965977,\n",
       "  'TS_macro_avg_dice': 0.8127900198996507,\n",
       "  'TS_micro_avg_dice': 0.9195374798259646,\n",
       "  'TS_dice_right adrenal gland': 0.32050606220347916,\n",
       "  'TS_dice_left adrenal gland': 0.38843759890283786,\n",
       "  'TS_dice_bladder': 0.8958491788021982,\n",
       "  'TS_dice_duodenum': 0.8193904163801269,\n",
       "  'TS_dice_esophagus': 0.8034893995700919,\n",
       "  'TS_dice_gallbladder': 0.9396881050813752,\n",
       "  'TS_dice_heart': 0.8583475907226272,\n",
       "  'TS_dice_right kidney': 0.9689118311416051,\n",
       "  'TS_dice_left kidney': 0.9622592265606372,\n",
       "  'TS_dice_liver': 0.9697707796482103,\n",
       "  'TS_dice_pancreas': 0.8611035323759612,\n",
       "  'TS_dice_prostate': 0.6697756150310895,\n",
       "  'TS_dice_small bowel': 0.8461003164360874,\n",
       "  'TS_dice_spleen': 0.9667489709867857,\n",
       "  'TS_dice_stomach': 0.9214716746516476},\n",
       " {'ct_name': '01-31-2004-NA-CT-21816.nii.gz',\n",
       "  'global_noise': 10.913314214483165,\n",
       "  'TS_macro_avg_dice': 0.7800012120356336,\n",
       "  'TS_micro_avg_dice': 0.9131124932347847,\n",
       "  'TS_dice_right adrenal gland': 0.5725195865428929,\n",
       "  'TS_dice_left adrenal gland': 0.4133436631271932,\n",
       "  'TS_dice_bladder': 0.935431304733984,\n",
       "  'TS_dice_duodenum': 0.77414502849905,\n",
       "  'TS_dice_esophagus': 0.7433226495726496,\n",
       "  'TS_dice_gallbladder': 0.8225410750130102,\n",
       "  'TS_dice_heart': 0.8262534441452193,\n",
       "  'TS_dice_right kidney': 0.9652013838707203,\n",
       "  'TS_dice_left kidney': 0.9627203665122713,\n",
       "  'TS_dice_liver': 0.975048179912229,\n",
       "  'TS_dice_pancreas': 0.6850766585928563,\n",
       "  'TS_dice_prostate': 0.25677907777013076,\n",
       "  'TS_dice_small bowel': 0.8491595206517986,\n",
       "  'TS_dice_spleen': 0.9658469837747573,\n",
       "  'TS_dice_stomach': 0.9526292578157376},\n",
       " {'ct_name': '06-27-2009-NA-CT-33733.nii.gz',\n",
       "  'global_noise': 8.792867230502612,\n",
       "  'TS_macro_avg_dice': 0.7733161900178721,\n",
       "  'TS_micro_avg_dice': 0.8862942704221833,\n",
       "  'TS_dice_right adrenal gland': 0.2607062359128475,\n",
       "  'TS_dice_left adrenal gland': 0.18987951807228914,\n",
       "  'TS_dice_bladder': 0.9011812204593546,\n",
       "  'TS_dice_duodenum': 0.5475577627714018,\n",
       "  'TS_dice_esophagus': 0.723929535810724,\n",
       "  'TS_dice_gallbladder': 0.813746695505888,\n",
       "  'TS_dice_heart': 0.9099511011988484,\n",
       "  'TS_dice_right kidney': 0.9546524118880761,\n",
       "  'TS_dice_left kidney': 0.9587536115856099,\n",
       "  'TS_dice_liver': 0.9604679314216428,\n",
       "  'TS_dice_pancreas': 0.8239277497338691,\n",
       "  'TS_dice_prostate': 1.0,\n",
       "  'TS_dice_small bowel': 0.6896738026003406,\n",
       "  'TS_dice_spleen': 0.954580758682787,\n",
       "  'TS_dice_stomach': 0.9107345146244007},\n",
       " {'ct_name': '08-01-2008-NA-CT-61498.nii.gz',\n",
       "  'global_noise': 7.0270684386517726,\n",
       "  'TS_macro_avg_dice': 0.674458145724108,\n",
       "  'TS_micro_avg_dice': 0.8611916888860534,\n",
       "  'TS_dice_right adrenal gland': 0.0,\n",
       "  'TS_dice_left adrenal gland': 0.5034558021098581,\n",
       "  'TS_dice_bladder': 0.9229120796555577,\n",
       "  'TS_dice_duodenum': 0.1896489323199421,\n",
       "  'TS_dice_esophagus': 0.559127703582646,\n",
       "  'TS_dice_gallbladder': 0.9054819706577615,\n",
       "  'TS_dice_heart': 0.8509959762675928,\n",
       "  'TS_dice_right kidney': 0.9163864024421793,\n",
       "  'TS_dice_left kidney': 0.9592105102452092,\n",
       "  'TS_dice_liver': 0.9472109680760871,\n",
       "  'TS_dice_pancreas': 0.8174159089463979,\n",
       "  'TS_dice_prostate': 0.0,\n",
       "  'TS_dice_small bowel': 0.6790436577904366,\n",
       "  'TS_dice_spleen': 0.9461433147830859,\n",
       "  'TS_dice_stomach': 0.9198389589848665},\n",
       " {'ct_name': '02-13-2008-NA-CT-98937.nii.gz',\n",
       "  'global_noise': 19.824421999237586,\n",
       "  'TS_macro_avg_dice': 0.7736819184135479,\n",
       "  'TS_micro_avg_dice': 0.8995796238558139,\n",
       "  'TS_dice_right adrenal gland': 0.3676913803496082,\n",
       "  'TS_dice_left adrenal gland': 0.21563682219419925,\n",
       "  'TS_dice_bladder': 0.6913527860646972,\n",
       "  'TS_dice_duodenum': 0.6768911361885945,\n",
       "  'TS_dice_esophagus': 0.8137220300698808,\n",
       "  'TS_dice_gallbladder': 0.8596801346801347,\n",
       "  'TS_dice_heart': 0.8614249803214585,\n",
       "  'TS_dice_right kidney': 0.8773015671959743,\n",
       "  'TS_dice_left kidney': 0.8716904653939052,\n",
       "  'TS_dice_liver': 0.9675601414004252,\n",
       "  'TS_dice_pancreas': 0.7924722675063856,\n",
       "  'TS_dice_prostate': 1.0,\n",
       "  'TS_dice_small bowel': 0.8355390273654323,\n",
       "  'TS_dice_spleen': 0.9010096849406674,\n",
       "  'TS_dice_stomach': 0.873256352531857},\n",
       " {'ct_name': '05-11-2007-NA-CT-09339.nii.gz',\n",
       "  'global_noise': 11.12727843857899,\n",
       "  'TS_macro_avg_dice': 0.697806571069733,\n",
       "  'TS_micro_avg_dice': 0.857620063697849,\n",
       "  'TS_dice_right adrenal gland': 0.5162224797219004,\n",
       "  'TS_dice_left adrenal gland': 0.16256288059306329,\n",
       "  'TS_dice_bladder': 0.9236217863408964,\n",
       "  'TS_dice_duodenum': 0.5445535669774166,\n",
       "  'TS_dice_esophagus': 0.5983693418975324,\n",
       "  'TS_dice_gallbladder': 0.8227547321788159,\n",
       "  'TS_dice_heart': 0.8501487161925576,\n",
       "  'TS_dice_right kidney': 0.9312019972160798,\n",
       "  'TS_dice_left kidney': 0.0,\n",
       "  'TS_dice_liver': 0.953839705981074,\n",
       "  'TS_dice_pancreas': 0.6713060930648574,\n",
       "  'TS_dice_prostate': 1.0,\n",
       "  'TS_dice_small bowel': 0.6636634197890474,\n",
       "  'TS_dice_spleen': 0.9253356545123854,\n",
       "  'TS_dice_stomach': 0.9035181915803651},\n",
       " {'ct_name': '05-14-2009-NA-CT-44513.nii.gz',\n",
       "  'global_noise': 8.735668763820648,\n",
       "  'TS_macro_avg_dice': 0.7062555198363526,\n",
       "  'TS_micro_avg_dice': 0.8168675105860577,\n",
       "  'TS_dice_right adrenal gland': 0.49549757561764024,\n",
       "  'TS_dice_left adrenal gland': 0.4295167435331863,\n",
       "  'TS_dice_bladder': 0.9174408549163974,\n",
       "  'TS_dice_duodenum': 0.6720964471235312,\n",
       "  'TS_dice_esophagus': 0.7669601242879337,\n",
       "  'TS_dice_gallbladder': 0.2799315849486887,\n",
       "  'TS_dice_heart': 0.8964407525149835,\n",
       "  'TS_dice_right kidney': 0.9610912078061213,\n",
       "  'TS_dice_left kidney': 0.9639931226168509,\n",
       "  'TS_dice_liver': 0.9646741353309652,\n",
       "  'TS_dice_pancreas': 0.8662657520934429,\n",
       "  'TS_dice_prostate': 0.0,\n",
       "  'TS_dice_small bowel': 0.4998918181148434,\n",
       "  'TS_dice_spleen': 0.9268413818877407,\n",
       "  'TS_dice_stomach': 0.9531912967529627},\n",
       " {'ct_name': '04-03-2008-NA-CT-01259.nii.gz',\n",
       "  'global_noise': 7.795962854447219,\n",
       "  'TS_macro_avg_dice': 0.6184471452373997,\n",
       "  'TS_micro_avg_dice': 0.8093468999494489,\n",
       "  'TS_dice_right adrenal gland': 0.3837098313713013,\n",
       "  'TS_dice_left adrenal gland': 0.0075,\n",
       "  'TS_dice_bladder': 0.5936208369986438,\n",
       "  'TS_dice_duodenum': 0.41752944080619164,\n",
       "  'TS_dice_esophagus': 0.5893630334125891,\n",
       "  'TS_dice_gallbladder': 0.8325205729960378,\n",
       "  'TS_dice_heart': 0.8160315516886438,\n",
       "  'TS_dice_right kidney': 0.9620161952925566,\n",
       "  'TS_dice_left kidney': 0.9282827343677362,\n",
       "  'TS_dice_liver': 0.9615462984369306,\n",
       "  'TS_dice_pancreas': 0.46081534772182253,\n",
       "  'TS_dice_prostate': 0.0,\n",
       "  'TS_dice_small bowel': 0.6397582476806406,\n",
       "  'TS_dice_spleen': 0.9456854451257566,\n",
       "  'TS_dice_stomach': 0.7383276426621452},\n",
       " {'ct_name': '06-03-2009-NA-CT-35793.nii.gz',\n",
       "  'global_noise': 10.268595186557366,\n",
       "  'TS_macro_avg_dice': 0.7039093098748589,\n",
       "  'TS_micro_avg_dice': 0.7981724807815596,\n",
       "  'TS_dice_right adrenal gland': 0.5203629457691497,\n",
       "  'TS_dice_left adrenal gland': 0.5014517506404782,\n",
       "  'TS_dice_bladder': 0.4645554094193796,\n",
       "  'TS_dice_duodenum': 0.629191415221351,\n",
       "  'TS_dice_esophagus': 0.7224019671282516,\n",
       "  'TS_dice_gallbladder': 0.8016310009226465,\n",
       "  'TS_dice_heart': 0.9263436078198836,\n",
       "  'TS_dice_right kidney': 0.9575069160011339,\n",
       "  'TS_dice_left kidney': 0.9602250413807347,\n",
       "  'TS_dice_liver': 0.9699745197420616,\n",
       "  'TS_dice_pancreas': 0.7875666442362441,\n",
       "  'TS_dice_prostate': 0.049677293174261686,\n",
       "  'TS_dice_small bowel': 0.4532173660940784,\n",
       "  'TS_dice_spleen': 0.9488371019843101,\n",
       "  'TS_dice_stomach': 0.8656966685889189},\n",
       " {'ct_name': '10-16-2007-NA-CT-83754.nii.gz',\n",
       "  'global_noise': 9.49794926350177,\n",
       "  'TS_macro_avg_dice': 0.5945178369035145,\n",
       "  'TS_micro_avg_dice': 0.8332493905153092,\n",
       "  'TS_dice_right adrenal gland': 0.4043290043290043,\n",
       "  'TS_dice_left adrenal gland': 0.4898426323319027,\n",
       "  'TS_dice_bladder': 0.7866214695955948,\n",
       "  'TS_dice_duodenum': 0.40042663046771787,\n",
       "  'TS_dice_esophagus': 0.7192764384547446,\n",
       "  'TS_dice_gallbladder': 0.0,\n",
       "  'TS_dice_heart': 0.8287058692554728,\n",
       "  'TS_dice_right kidney': 0.946211178608895,\n",
       "  'TS_dice_left kidney': 0.9569634406659062,\n",
       "  'TS_dice_liver': 0.9673984307037207,\n",
       "  'TS_dice_pancreas': 0.802523351456852,\n",
       "  'TS_dice_prostate': 0.10356589147286822,\n",
       "  'TS_dice_small bowel': 0.6071002045667243,\n",
       "  'TS_dice_spleen': 0.0,\n",
       "  'TS_dice_stomach': 0.9048030116433115},\n",
       " {'ct_name': '09-26-2005-NA-CT-45651.nii.gz',\n",
       "  'global_noise': 13.53642715927522,\n",
       "  'TS_macro_avg_dice': 0.8020976478009766,\n",
       "  'TS_micro_avg_dice': 0.9265410200717569,\n",
       "  'TS_dice_right adrenal gland': 0.31712832108535893,\n",
       "  'TS_dice_left adrenal gland': 0.6682845040593011,\n",
       "  'TS_dice_bladder': 0.9202544403453391,\n",
       "  'TS_dice_duodenum': 0.788262102677505,\n",
       "  'TS_dice_esophagus': 0.8375724239591081,\n",
       "  'TS_dice_gallbladder': 0.8371145420780922,\n",
       "  'TS_dice_heart': 0.8074775138633156,\n",
       "  'TS_dice_right kidney': 0.9651806167671523,\n",
       "  'TS_dice_left kidney': 0.9623532762076532,\n",
       "  'TS_dice_liver': 0.9715985069495453,\n",
       "  'TS_dice_pancreas': 0.8965144877166356,\n",
       "  'TS_dice_prostate': 0.2763182763182763,\n",
       "  'TS_dice_small bowel': 0.8845487299423813,\n",
       "  'TS_dice_spleen': 0.950864243106044,\n",
       "  'TS_dice_stomach': 0.9479927319389408},\n",
       " {'ct_name': '01-03-2008-NA-CT-37923.nii.gz',\n",
       "  'global_noise': 7.942281993847088,\n",
       "  'TS_macro_avg_dice': 0.7150613771292916,\n",
       "  'TS_micro_avg_dice': 0.8619717710759869,\n",
       "  'TS_dice_right adrenal gland': 0.5432780847145487,\n",
       "  'TS_dice_left adrenal gland': 0.36183006535947715,\n",
       "  'TS_dice_bladder': 0.9155566941994033,\n",
       "  'TS_dice_duodenum': 0.04785759220857895,\n",
       "  'TS_dice_esophagus': 0.5084601855782643,\n",
       "  'TS_dice_gallbladder': 0.6225997045790251,\n",
       "  'TS_dice_heart': 0.8976268315199674,\n",
       "  'TS_dice_right kidney': 0.9066600606551962,\n",
       "  'TS_dice_left kidney': 0.9029385509728644,\n",
       "  'TS_dice_liver': 0.9440502381824586,\n",
       "  'TS_dice_pancreas': 0.7146527013221452,\n",
       "  'TS_dice_prostate': 1.0,\n",
       "  'TS_dice_small bowel': 0.6053169192395201,\n",
       "  'TS_dice_spleen': 0.8789158780942807,\n",
       "  'TS_dice_stomach': 0.8761771503136447},\n",
       " {'ct_name': '01-26-2008-NA-CT-08526.nii.gz',\n",
       "  'global_noise': 11.390792584962135,\n",
       "  'TS_macro_avg_dice': 0.5750815421880365,\n",
       "  'TS_micro_avg_dice': 0.8312285221817675,\n",
       "  'TS_dice_right adrenal gland': 0.2541685443893646,\n",
       "  'TS_dice_left adrenal gland': 0.0,\n",
       "  'TS_dice_bladder': 0.4804747844111148,\n",
       "  'TS_dice_duodenum': 0.509728511935917,\n",
       "  'TS_dice_esophagus': 0.6465796967088272,\n",
       "  'TS_dice_gallbladder': 0.0,\n",
       "  'TS_dice_heart': 0.8991184090601526,\n",
       "  'TS_dice_right kidney': 0.9591143655912394,\n",
       "  'TS_dice_left kidney': 0.953930733206227,\n",
       "  'TS_dice_liver': 0.9669332151353698,\n",
       "  'TS_dice_pancreas': 0.7807036233972953,\n",
       "  'TS_dice_prostate': 1.0,\n",
       "  'TS_dice_small bowel': 0.7868739533580901,\n",
       "  'TS_dice_spleen': 0.0,\n",
       "  'TS_dice_stomach': 0.38859729562695183},\n",
       " {'ct_name': '10-27-2009-NA-CT-57260.nii.gz',\n",
       "  'global_noise': 8.314236290199181,\n",
       "  'TS_macro_avg_dice': 0.7162243068248617,\n",
       "  'TS_micro_avg_dice': 0.8166699828498789,\n",
       "  'TS_dice_right adrenal gland': 0.33369121752200986,\n",
       "  'TS_dice_left adrenal gland': 0.4363834719759989,\n",
       "  'TS_dice_bladder': 0.8819107578545431,\n",
       "  'TS_dice_duodenum': 0.10191298459454884,\n",
       "  'TS_dice_esophagus': 0.7206040028591851,\n",
       "  'TS_dice_gallbladder': 0.851858274088203,\n",
       "  'TS_dice_heart': 0.9205016489667484,\n",
       "  'TS_dice_right kidney': 0.9514592916150112,\n",
       "  'TS_dice_left kidney': 0.9469377844534541,\n",
       "  'TS_dice_liver': 0.9524912621484208,\n",
       "  'TS_dice_pancreas': 0.5562401983103151,\n",
       "  'TS_dice_prostate': 1.0,\n",
       "  'TS_dice_small bowel': 0.42076984221484914,\n",
       "  'TS_dice_spleen': 0.9507924103422605,\n",
       "  'TS_dice_stomach': 0.7178114554273795},\n",
       " {'ct_name': '04-06-2005-NA-CT-05712.nii.gz',\n",
       "  'global_noise': 6.876263681126629,\n",
       "  'TS_macro_avg_dice': 0.6347954711650873,\n",
       "  'TS_micro_avg_dice': 0.7993114181632028,\n",
       "  'TS_dice_right adrenal gland': 0.4092088197146563,\n",
       "  'TS_dice_left adrenal gland': 0.1535181236673774,\n",
       "  'TS_dice_bladder': 0.9369026957967185,\n",
       "  'TS_dice_duodenum': 0.05485403289332347,\n",
       "  'TS_dice_esophagus': 0.6883673119753297,\n",
       "  'TS_dice_gallbladder': 0.7446383333595582,\n",
       "  'TS_dice_heart': 0.8282696110307486,\n",
       "  'TS_dice_right kidney': 0.9378351745241429,\n",
       "  'TS_dice_left kidney': 0.943861433123178,\n",
       "  'TS_dice_liver': 0.9528559806030142,\n",
       "  'TS_dice_pancreas': 0.7012617222560378,\n",
       "  'TS_dice_prostate': 0.0,\n",
       "  'TS_dice_small bowel': 0.5501870016689693,\n",
       "  'TS_dice_spleen': 0.8236724361465158,\n",
       "  'TS_dice_stomach': 0.7964993907167387},\n",
       " {'ct_name': '04-01-2008-NA-CT-62799.nii.gz',\n",
       "  'global_noise': 11.620695558524623,\n",
       "  'TS_macro_avg_dice': 0.8345893045378598,\n",
       "  'TS_micro_avg_dice': 0.9291242680080873,\n",
       "  'TS_dice_right adrenal gland': 0.5636054421768707,\n",
       "  'TS_dice_left adrenal gland': 0.6756810897435898,\n",
       "  'TS_dice_bladder': 0.8596558478781506,\n",
       "  'TS_dice_duodenum': 0.509615914476222,\n",
       "  'TS_dice_esophagus': 0.7453232754262139,\n",
       "  'TS_dice_gallbladder': 0.8468124922761859,\n",
       "  'TS_dice_heart': 0.8179533900929084,\n",
       "  'TS_dice_right kidney': 0.9659525784248101,\n",
       "  'TS_dice_left kidney': 0.965072881717293,\n",
       "  'TS_dice_liver': 0.976654926312084,\n",
       "  'TS_dice_pancreas': 0.8460942138945702,\n",
       "  'TS_dice_prostate': 1.0,\n",
       "  'TS_dice_small bowel': 0.8503830520817078,\n",
       "  'TS_dice_spleen': 0.9710697185608719,\n",
       "  'TS_dice_stomach': 0.9249647450064196},\n",
       " {'ct_name': '05-23-2008-NA-CT-53287.nii.gz',\n",
       "  'global_noise': 10.43208889162803,\n",
       "  'TS_macro_avg_dice': 0.7657352462403345,\n",
       "  'TS_micro_avg_dice': 0.9018774240690806,\n",
       "  'TS_dice_right adrenal gland': 0.6106809608894183,\n",
       "  'TS_dice_left adrenal gland': 0.555222602739726,\n",
       "  'TS_dice_bladder': 0.9150128951797455,\n",
       "  'TS_dice_duodenum': 0.5530172021479931,\n",
       "  'TS_dice_esophagus': 0.5641779404265531,\n",
       "  'TS_dice_gallbladder': 0.9159613719837622,\n",
       "  'TS_dice_heart': 0.8418806473449858,\n",
       "  'TS_dice_right kidney': 0.9625496187145021,\n",
       "  'TS_dice_left kidney': 0.961475042113926,\n",
       "  'TS_dice_liver': 0.9614926010247675,\n",
       "  'TS_dice_pancreas': 0.72718163017291,\n",
       "  'TS_dice_prostate': 0.35969924812030074,\n",
       "  'TS_dice_small bowel': 0.7267512819252634,\n",
       "  'TS_dice_spleen': 0.9722773388400072,\n",
       "  'TS_dice_stomach': 0.8586483119811604},\n",
       " {'ct_name': '12-27-2005-NA-CT-69299.nii.gz',\n",
       "  'global_noise': 11.34571634398623,\n",
       "  'TS_macro_avg_dice': 0.7067731991510605,\n",
       "  'TS_micro_avg_dice': 0.8932211865651862,\n",
       "  'TS_dice_right adrenal gland': 0.14429249232486743,\n",
       "  'TS_dice_left adrenal gland': 0.5158112501231406,\n",
       "  'TS_dice_bladder': 0.9017437239828865,\n",
       "  'TS_dice_duodenum': 0.6023152857067265,\n",
       "  'TS_dice_esophagus': 0.5828979156132367,\n",
       "  'TS_dice_gallbladder': 0.8313012322892351,\n",
       "  'TS_dice_heart': 0.852982630904062,\n",
       "  'TS_dice_right kidney': 0.9537809369694924,\n",
       "  'TS_dice_left kidney': 0.9523901865548409,\n",
       "  'TS_dice_liver': 0.9544475733565668,\n",
       "  'TS_dice_pancreas': 0.7410078008831266,\n",
       "  'TS_dice_prostate': 0.0,\n",
       "  'TS_dice_small bowel': 0.8283554212534658,\n",
       "  'TS_dice_spleen': 0.7984474345993043,\n",
       "  'TS_dice_stomach': 0.9418241027049569},\n",
       " {'ct_name': '01-23-2008-NA-CT-34502.nii.gz',\n",
       "  'global_noise': 8.686504295764552,\n",
       "  'TS_macro_avg_dice': 0.7488471231193446,\n",
       "  'TS_micro_avg_dice': 0.8599995492282193,\n",
       "  'TS_dice_right adrenal gland': 0.37552998182919445,\n",
       "  'TS_dice_left adrenal gland': 0.2773224043715847,\n",
       "  'TS_dice_bladder': 0.8996357563092211,\n",
       "  'TS_dice_duodenum': 0.49461462450592886,\n",
       "  'TS_dice_esophagus': 0.5088114060415381,\n",
       "  'TS_dice_gallbladder': 0.7398592350069598,\n",
       "  'TS_dice_heart': 0.8710559090217471,\n",
       "  'TS_dice_right kidney': 0.9387836875222605,\n",
       "  'TS_dice_left kidney': 0.9549464768850724,\n",
       "  'TS_dice_liver': 0.9639166797750786,\n",
       "  'TS_dice_pancreas': 0.7327959843621796,\n",
       "  'TS_dice_prostate': 1.0,\n",
       "  'TS_dice_small bowel': 0.6576652563189925,\n",
       "  'TS_dice_spleen': 0.9040372494463688,\n",
       "  'TS_dice_stomach': 0.9137321953940437},\n",
       " {'ct_name': '12-12-2008-NA-CT-43162.nii.gz',\n",
       "  'global_noise': 10.231805754883116,\n",
       "  'TS_macro_avg_dice': 0.6000251407669467,\n",
       "  'TS_micro_avg_dice': 0.8613263894267389,\n",
       "  'TS_dice_right adrenal gland': 0.2748603351955307,\n",
       "  'TS_dice_left adrenal gland': 0.3704314372080242,\n",
       "  'TS_dice_bladder': 0.0,\n",
       "  'TS_dice_duodenum': 0.2446577146391588,\n",
       "  'TS_dice_esophagus': 0.3645943736183872,\n",
       "  'TS_dice_gallbladder': 0.9035182152905309,\n",
       "  'TS_dice_heart': 0.8645842512583132,\n",
       "  'TS_dice_right kidney': 0.9554761668485992,\n",
       "  'TS_dice_left kidney': 0.9601523275140338,\n",
       "  'TS_dice_liver': 0.9476299907267116,\n",
       "  'TS_dice_pancreas': 0.769613215364465,\n",
       "  'TS_dice_prostate': 0.0,\n",
       "  'TS_dice_small bowel': 0.6890192497669929,\n",
       "  'TS_dice_spleen': 0.9298398604724909,\n",
       "  'TS_dice_stomach': 0.7259999736009609},\n",
       " {'ct_name': '03-12-2005-NA-CT-95162.nii.gz',\n",
       "  'global_noise': 9.835203874202758,\n",
       "  'TS_macro_avg_dice': 0.6689311087958817,\n",
       "  'TS_micro_avg_dice': 0.881089468269678,\n",
       "  'TS_dice_right adrenal gland': 0.5746541580537446,\n",
       "  'TS_dice_left adrenal gland': 0.3256977863330125,\n",
       "  'TS_dice_bladder': 0.9361101827810484,\n",
       "  'TS_dice_duodenum': 0.640085207263232,\n",
       "  'TS_dice_esophagus': 0.605467049708366,\n",
       "  'TS_dice_gallbladder': 0.0,\n",
       "  'TS_dice_heart': 0.8222943149601756,\n",
       "  'TS_dice_right kidney': 0.9591887265336514,\n",
       "  'TS_dice_left kidney': 0.953345883856498,\n",
       "  'TS_dice_liver': 0.9805247967551849,\n",
       "  'TS_dice_pancreas': 0.7481447795439982,\n",
       "  'TS_dice_prostate': 0.0,\n",
       "  'TS_dice_small bowel': 0.6521543728033354,\n",
       "  'TS_dice_spleen': 0.9576967825680746,\n",
       "  'TS_dice_stomach': 0.8786025907779046},\n",
       " {'ct_name': '09-14-2008-NA-CT-34706.nii.gz',\n",
       "  'global_noise': 9.810329822302332,\n",
       "  'TS_macro_avg_dice': 0.47425968353618014,\n",
       "  'TS_micro_avg_dice': 0.6871466902552031,\n",
       "  'TS_dice_right adrenal gland': 0.27850761954808195,\n",
       "  'TS_dice_left adrenal gland': 0.0,\n",
       "  'TS_dice_bladder': 0.0,\n",
       "  'TS_dice_duodenum': 0.6063412104600341,\n",
       "  'TS_dice_esophagus': 0.1459521094640821,\n",
       "  'TS_dice_gallbladder': 0.11265832743293211,\n",
       "  'TS_dice_heart': 0.0,\n",
       "  'TS_dice_right kidney': 0.9376462311228914,\n",
       "  'TS_dice_left kidney': 0.9226155031221489,\n",
       "  'TS_dice_liver': 0.9272784427747596,\n",
       "  'TS_dice_pancreas': 0.21703743895822028,\n",
       "  'TS_dice_prostate': 1.0,\n",
       "  'TS_dice_small bowel': 0.5083418922306778,\n",
       "  'TS_dice_spleen': 0.8622318661483597,\n",
       "  'TS_dice_stomach': 0.5952846117805143},\n",
       " {'ct_name': '03-11-2008-NA-CT-52228.nii.gz',\n",
       "  'global_noise': 12.983417503042768,\n",
       "  'TS_macro_avg_dice': 0.7794815721789253,\n",
       "  'TS_micro_avg_dice': 0.8866244609651746,\n",
       "  'TS_dice_right adrenal gland': 0.3907666941467436,\n",
       "  'TS_dice_left adrenal gland': 0.26094890510948904,\n",
       "  'TS_dice_bladder': 0.9515523240984071,\n",
       "  'TS_dice_duodenum': 0.46535503969034286,\n",
       "  'TS_dice_esophagus': 0.6541406765048937,\n",
       "  'TS_dice_gallbladder': 0.8137920656120088,\n",
       "  'TS_dice_heart': 0.8087925608688451,\n",
       "  'TS_dice_right kidney': 0.9590627357583468,\n",
       "  'TS_dice_left kidney': 0.9559270558075867,\n",
       "  'TS_dice_liver': 0.9484756737836891,\n",
       "  'TS_dice_pancreas': 0.8591216578975626,\n",
       "  'TS_dice_prostate': 1.0,\n",
       "  'TS_dice_small bowel': 0.7534910993765662,\n",
       "  'TS_dice_spleen': 0.9416303776437986,\n",
       "  'TS_dice_stomach': 0.9291667163855984},\n",
       " {'ct_name': '06-09-2008-NA-CT-98405.nii.gz',\n",
       "  'global_noise': 16.930956255148043,\n",
       "  'TS_macro_avg_dice': 0.6000206279550176,\n",
       "  'TS_micro_avg_dice': 0.8240620171003245,\n",
       "  'TS_dice_right adrenal gland': 0.4279393173198483,\n",
       "  'TS_dice_left adrenal gland': 0.2745702952842662,\n",
       "  'TS_dice_bladder': 0.5696619977534199,\n",
       "  'TS_dice_duodenum': 0.41529524610128576,\n",
       "  'TS_dice_esophagus': 0.6117566463784154,\n",
       "  'TS_dice_gallbladder': 0.4966909453913558,\n",
       "  'TS_dice_heart': 0.8406753089425584,\n",
       "  'TS_dice_right kidney': 0.9590018445689625,\n",
       "  'TS_dice_left kidney': 0.9631319935116708,\n",
       "  'TS_dice_liver': 0.971379036878328,\n",
       "  'TS_dice_pancreas': 0.7416561580496007,\n",
       "  'TS_dice_prostate': 0.0,\n",
       "  'TS_dice_small bowel': 0.5783002698253772,\n",
       "  'TS_dice_spleen': 0.9488380033718176,\n",
       "  'TS_dice_stomach': 0.20141235594835802},\n",
       " {'ct_name': '07-14-2005-NA-CT-69877.nii.gz',\n",
       "  'global_noise': 10.916207281082869,\n",
       "  'TS_macro_avg_dice': 0.7061517745787816,\n",
       "  'TS_micro_avg_dice': 0.8857598543422651,\n",
       "  'TS_dice_right adrenal gland': 0.3132973826121268,\n",
       "  'TS_dice_left adrenal gland': 0.2655139946931439,\n",
       "  'TS_dice_bladder': 0.8906352642725995,\n",
       "  'TS_dice_duodenum': 0.3104200554970816,\n",
       "  'TS_dice_esophagus': 0.7713699566902211,\n",
       "  'TS_dice_gallbladder': 0.5460266888045009,\n",
       "  'TS_dice_heart': 0.8597927257886208,\n",
       "  'TS_dice_right kidney': 0.9505652533358242,\n",
       "  'TS_dice_left kidney': 0.9508730653351575,\n",
       "  'TS_dice_liver': 0.9577464098296767,\n",
       "  'TS_dice_pancreas': 0.7631930116711867,\n",
       "  'TS_dice_prostate': 0.3891638447512373,\n",
       "  'TS_dice_small bowel': 0.7444736560521529,\n",
       "  'TS_dice_spleen': 0.9561242163325427,\n",
       "  'TS_dice_stomach': 0.9230810930156523},\n",
       " {'ct_name': '02-20-2008-NA-CT-46798.nii.gz',\n",
       "  'global_noise': 7.05459074469635,\n",
       "  'TS_macro_avg_dice': 0.594737411460459,\n",
       "  'TS_micro_avg_dice': 0.8247663093172469,\n",
       "  'TS_dice_right adrenal gland': 0.44747951328532404,\n",
       "  'TS_dice_left adrenal gland': 0.39110038868784347,\n",
       "  'TS_dice_bladder': 1.0,\n",
       "  'TS_dice_duodenum': 0.0,\n",
       "  'TS_dice_esophagus': 0.3194714799740459,\n",
       "  'TS_dice_gallbladder': 0.46048580225795416,\n",
       "  'TS_dice_heart': 0.5477933275179834,\n",
       "  'TS_dice_right kidney': 0.938106194407189,\n",
       "  'TS_dice_left kidney': 0.9428406776681106,\n",
       "  'TS_dice_liver': 0.9574770494505579,\n",
       "  'TS_dice_pancreas': 0.6619226321131015,\n",
       "  'TS_dice_prostate': 1.0,\n",
       "  'TS_dice_small bowel': 0.20572634562495062,\n",
       "  'TS_dice_spleen': 0.9071491357955053,\n",
       "  'TS_dice_stomach': 0.1415086251243184},\n",
       " {'ct_name': '10-29-2005-NA-CT-02021.nii.gz',\n",
       "  'global_noise': 7.704680368976304,\n",
       "  'TS_macro_avg_dice': 0.6832340671120126,\n",
       "  'TS_micro_avg_dice': 0.8884940779800393,\n",
       "  'TS_dice_right adrenal gland': 0.4265536723163842,\n",
       "  'TS_dice_left adrenal gland': 0.0,\n",
       "  'TS_dice_bladder': 0.8835910368529074,\n",
       "  'TS_dice_duodenum': 0.5488420146362463,\n",
       "  'TS_dice_esophagus': 0.5206885869805726,\n",
       "  'TS_dice_gallbladder': 0.8927123476068364,\n",
       "  'TS_dice_heart': 0.8544049764380499,\n",
       "  'TS_dice_right kidney': 0.9423067672460916,\n",
       "  'TS_dice_left kidney': 0.9365536911733471,\n",
       "  'TS_dice_liver': 0.9583372093884116,\n",
       "  'TS_dice_pancreas': 0.7668560099444558,\n",
       "  'TS_dice_prostate': 0.0,\n",
       "  'TS_dice_small bowel': 0.7554492836429525,\n",
       "  'TS_dice_spleen': 0.9183470866978639,\n",
       "  'TS_dice_stomach': 0.8438683237560693},\n",
       " {'ct_name': '05-02-2008-NA-CT-42153.nii.gz',\n",
       "  'global_noise': 11.75190342572268,\n",
       "  'TS_macro_avg_dice': 0.7064784507682954,\n",
       "  'TS_micro_avg_dice': 0.8467914283081136,\n",
       "  'TS_dice_right adrenal gland': 0.3834355828220859,\n",
       "  'TS_dice_left adrenal gland': 0.4010989010989011,\n",
       "  'TS_dice_bladder': 0.0039806415118057445,\n",
       "  'TS_dice_duodenum': 0.21111138376972344,\n",
       "  'TS_dice_esophagus': 0.7888287475567584,\n",
       "  'TS_dice_gallbladder': 0.9247413803860888,\n",
       "  'TS_dice_heart': 0.8254991893889801,\n",
       "  'TS_dice_right kidney': 0.9310213304931058,\n",
       "  'TS_dice_left kidney': 0.9467019833322566,\n",
       "  'TS_dice_liver': 0.9579880428024918,\n",
       "  'TS_dice_pancreas': 0.7232475575484746,\n",
       "  'TS_dice_prostate': 1.0,\n",
       "  'TS_dice_small bowel': 0.6521476721665891,\n",
       "  'TS_dice_spleen': 0.9273942751141736,\n",
       "  'TS_dice_stomach': 0.919980073532995},\n",
       " {'ct_name': '04-04-2007-NA-CT-29334.nii.gz',\n",
       "  'global_noise': 15.709267211811031,\n",
       "  'TS_macro_avg_dice': 0.8356088466290692,\n",
       "  'TS_micro_avg_dice': 0.90890746596396,\n",
       "  'TS_dice_right adrenal gland': 0.5358200118413262,\n",
       "  'TS_dice_left adrenal gland': 0.7189805897169951,\n",
       "  'TS_dice_bladder': 0.928023767390244,\n",
       "  'TS_dice_duodenum': 0.7252443520050857,\n",
       "  'TS_dice_esophagus': 0.5833721707766814,\n",
       "  'TS_dice_gallbladder': 0.779041356760447,\n",
       "  'TS_dice_heart': 0.7953997463259921,\n",
       "  'TS_dice_right kidney': 0.9551235885860285,\n",
       "  'TS_dice_left kidney': 0.9532214734853754,\n",
       "  'TS_dice_liver': 0.9638493455287348,\n",
       "  'TS_dice_pancreas': 0.8650498420798043,\n",
       "  'TS_dice_prostate': 1.0,\n",
       "  'TS_dice_small bowel': 0.8198469898052254,\n",
       "  'TS_dice_spleen': 0.9598361294757219,\n",
       "  'TS_dice_stomach': 0.951323335658374},\n",
       " {'ct_name': '09-29-2008-NA-CT-49680.nii.gz',\n",
       "  'global_noise': 9.375226483315133,\n",
       "  'TS_macro_avg_dice': 0.7162303991989034,\n",
       "  'TS_micro_avg_dice': 0.8960873474623112,\n",
       "  'TS_dice_right adrenal gland': 0.0,\n",
       "  'TS_dice_left adrenal gland': 0.15818431911966988,\n",
       "  'TS_dice_bladder': 0.828522518667012,\n",
       "  'TS_dice_duodenum': 0.5184289858369832,\n",
       "  'TS_dice_esophagus': 0.6821504362178732,\n",
       "  'TS_dice_gallbladder': 0.7648135065123273,\n",
       "  'TS_dice_heart': 0.8584499855454587,\n",
       "  'TS_dice_right kidney': 0.942090454442988,\n",
       "  'TS_dice_left kidney': 0.9649256081969947,\n",
       "  'TS_dice_liver': 0.9459239674674581,\n",
       "  'TS_dice_pancreas': 0.7836010221685102,\n",
       "  'TS_dice_prostate': 0.6026142543650415,\n",
       "  'TS_dice_small bowel': 0.8360935693320288,\n",
       "  'TS_dice_spleen': 0.9377487895306215,\n",
       "  'TS_dice_stomach': 0.9199085705805851},\n",
       " {'ct_name': '09-07-2004-NA-CT-95135.nii.gz',\n",
       "  'global_noise': 8.485342945843877,\n",
       "  'TS_macro_avg_dice': 0.6276995441728056,\n",
       "  'TS_micro_avg_dice': 0.7833991237796735,\n",
       "  'TS_dice_right adrenal gland': 0.3653697500644164,\n",
       "  'TS_dice_left adrenal gland': 0.07969749854566609,\n",
       "  'TS_dice_bladder': 1.0,\n",
       "  'TS_dice_duodenum': 0.22683772179400963,\n",
       "  'TS_dice_esophagus': 0.5778506452295324,\n",
       "  'TS_dice_gallbladder': 0.0,\n",
       "  'TS_dice_heart': 0.8665683562112811,\n",
       "  'TS_dice_right kidney': 0.950171158910714,\n",
       "  'TS_dice_left kidney': 0.9505662619615634,\n",
       "  'TS_dice_liver': 0.9169032499595847,\n",
       "  'TS_dice_pancreas': 0.6466407222740241,\n",
       "  'TS_dice_prostate': 1.0,\n",
       "  'TS_dice_small bowel': 0.0,\n",
       "  'TS_dice_spleen': 0.9239802937894817,\n",
       "  'TS_dice_stomach': 0.9109075038518093},\n",
       " {'ct_name': '08-30-2008-NA-CT-98951.nii.gz',\n",
       "  'global_noise': 10.776325944218092,\n",
       "  'TS_macro_avg_dice': 0.8462076795583677,\n",
       "  'TS_micro_avg_dice': 0.8955011120989068,\n",
       "  'TS_dice_right adrenal gland': 1.0,\n",
       "  'TS_dice_left adrenal gland': 0.6273189248760179,\n",
       "  'TS_dice_bladder': 0.843857572474831,\n",
       "  'TS_dice_duodenum': 0.7206435872552309,\n",
       "  'TS_dice_esophagus': 0.6745831042697453,\n",
       "  'TS_dice_gallbladder': 0.8058546682108272,\n",
       "  'TS_dice_heart': 0.8337646383433128,\n",
       "  'TS_dice_right kidney': 0.9574539881613543,\n",
       "  'TS_dice_left kidney': 0.9598038709930996,\n",
       "  'TS_dice_liver': 0.965470204407591,\n",
       "  'TS_dice_pancreas': 0.6537488047696721,\n",
       "  'TS_dice_prostate': 1.0,\n",
       "  'TS_dice_small bowel': 0.7689108852900695,\n",
       "  'TS_dice_spleen': 0.9427125651423022,\n",
       "  'TS_dice_stomach': 0.9389923791814621},\n",
       " {'ct_name': '01-28-2004-NA-CT-34670.nii.gz',\n",
       "  'global_noise': 12.339528640955752,\n",
       "  'TS_macro_avg_dice': 0.8054214017523329,\n",
       "  'TS_micro_avg_dice': 0.9040282705895895,\n",
       "  'TS_dice_right adrenal gland': 0.49144585024269916,\n",
       "  'TS_dice_left adrenal gland': 0.558234394347731,\n",
       "  'TS_dice_bladder': 0.9220559931041812,\n",
       "  'TS_dice_duodenum': 0.7327650361951153,\n",
       "  'TS_dice_esophagus': 0.7377365890504481,\n",
       "  'TS_dice_gallbladder': 0.7738749168657783,\n",
       "  'TS_dice_heart': 0.8115087213916968,\n",
       "  'TS_dice_right kidney': 0.9622657874751627,\n",
       "  'TS_dice_left kidney': 0.9654412180102819,\n",
       "  'TS_dice_liver': 0.9655000223719605,\n",
       "  'TS_dice_pancreas': 0.8026543808353246,\n",
       "  'TS_dice_prostate': 0.6469812492138142,\n",
       "  'TS_dice_small bowel': 0.8165086095032873,\n",
       "  'TS_dice_spleen': 0.9597445020047207,\n",
       "  'TS_dice_stomach': 0.9346037556727903},\n",
       " {'ct_name': '01-29-2004-NA-CT-25585.nii.gz',\n",
       "  'global_noise': 14.956877738451364,\n",
       "  'TS_macro_avg_dice': 0.7177418775785863,\n",
       "  'TS_micro_avg_dice': 0.8734652556276422,\n",
       "  'TS_dice_right adrenal gland': 0.5619867031677748,\n",
       "  'TS_dice_left adrenal gland': 0.3609410248146955,\n",
       "  'TS_dice_bladder': 0.8112397267816088,\n",
       "  'TS_dice_duodenum': 0.5053754096097908,\n",
       "  'TS_dice_esophagus': 0.7117096581423,\n",
       "  'TS_dice_gallbladder': 0.901849904315294,\n",
       "  'TS_dice_heart': 0.8005610674895204,\n",
       "  'TS_dice_right kidney': 0.9453696434608245,\n",
       "  'TS_dice_left kidney': 0.9349281830723039,\n",
       "  'TS_dice_liver': 0.9647481694956751,\n",
       "  'TS_dice_pancreas': 0.7514096502974157,\n",
       "  'TS_dice_prostate': 0.0,\n",
       "  'TS_dice_small bowel': 0.6819559494674726,\n",
       "  'TS_dice_spleen': 0.9542943936906716,\n",
       "  'TS_dice_stomach': 0.8797586798734465},\n",
       " {'ct_name': '07-21-2005-NA-CT-69776.nii.gz',\n",
       "  'global_noise': 12.394528696668068,\n",
       "  'TS_macro_avg_dice': 0.7607718079147884,\n",
       "  'TS_micro_avg_dice': 0.8703247823276629,\n",
       "  'TS_dice_right adrenal gland': 0.7994790774186915,\n",
       "  'TS_dice_left adrenal gland': 0.47674354294563354,\n",
       "  'TS_dice_bladder': 0.6997180484169228,\n",
       "  'TS_dice_duodenum': 0.5921449464686337,\n",
       "  'TS_dice_esophagus': 0.5617184684060221,\n",
       "  'TS_dice_gallbladder': 0.8881785466616879,\n",
       "  'TS_dice_heart': 0.7856802005699086,\n",
       "  'TS_dice_right kidney': 0.9658723141214429,\n",
       "  'TS_dice_left kidney': 0.9649655821372229,\n",
       "  'TS_dice_liver': 0.9680060278910843,\n",
       "  'TS_dice_pancreas': 0.8725758693521166,\n",
       "  'TS_dice_prostate': 1.0,\n",
       "  'TS_dice_small bowel': 0.0,\n",
       "  'TS_dice_spleen': 0.9183287474137547,\n",
       "  'TS_dice_stomach': 0.9181657469187048},\n",
       " {'ct_name': '07-08-2007-NA-CT-01994.nii.gz',\n",
       "  'global_noise': 30.575243662039387,\n",
       "  'TS_macro_avg_dice': 0.7229848413247474,\n",
       "  'TS_micro_avg_dice': 0.8922788061321152,\n",
       "  'TS_dice_right adrenal gland': 0.38932655654383735,\n",
       "  'TS_dice_left adrenal gland': 0.4817440623892237,\n",
       "  'TS_dice_bladder': 1.0,\n",
       "  'TS_dice_duodenum': 1.0,\n",
       "  'TS_dice_esophagus': 0.6513041892138384,\n",
       "  'TS_dice_gallbladder': 1.0,\n",
       "  'TS_dice_heart': 0.8715134898698448,\n",
       "  'TS_dice_right kidney': 0.9062739301551119,\n",
       "  'TS_dice_left kidney': 0.9057142508510976,\n",
       "  'TS_dice_liver': 0.9157560137585888,\n",
       "  'TS_dice_pancreas': 0.0,\n",
       "  'TS_dice_prostate': 1.0,\n",
       "  'TS_dice_small bowel': 0.0,\n",
       "  'TS_dice_spleen': 0.8969591046836088,\n",
       "  'TS_dice_stomach': 0.8261810224060612},\n",
       " {'ct_name': '03-16-2008-NA-CT-33385.nii.gz',\n",
       "  'global_noise': 9.455458400540875,\n",
       "  'TS_macro_avg_dice': 0.6622690562130055,\n",
       "  'TS_micro_avg_dice': 0.8362628790517015,\n",
       "  'TS_dice_right adrenal gland': 0.03444316877152698,\n",
       "  'TS_dice_left adrenal gland': 0.2504672897196262,\n",
       "  'TS_dice_bladder': 0.8105957179737695,\n",
       "  'TS_dice_duodenum': 0.17966980724349554,\n",
       "  'TS_dice_esophagus': 0.515820514864111,\n",
       "  'TS_dice_gallbladder': 0.5520366759761817,\n",
       "  'TS_dice_heart': 0.9128049415792215,\n",
       "  'TS_dice_right kidney': 0.9229292683938315,\n",
       "  'TS_dice_left kidney': 0.9488109213466126,\n",
       "  'TS_dice_liver': 0.9460723659022433,\n",
       "  'TS_dice_pancreas': 0.436070365739844,\n",
       "  'TS_dice_prostate': 1.0,\n",
       "  'TS_dice_small bowel': 0.5617506801419246,\n",
       "  'TS_dice_spleen': 0.9312627849981852,\n",
       "  'TS_dice_stomach': 0.9313013405445071},\n",
       " {'ct_name': '07-31-2009-NA-CT-06111.nii.gz',\n",
       "  'global_noise': 9.314446790519144,\n",
       "  'TS_macro_avg_dice': 0.674079281760555,\n",
       "  'TS_micro_avg_dice': 0.6419425876973416,\n",
       "  'TS_dice_right adrenal gland': 0.5148452305748579,\n",
       "  'TS_dice_left adrenal gland': 0.4760082894946597,\n",
       "  'TS_dice_bladder': 0.9391535044243421,\n",
       "  'TS_dice_duodenum': 0.14948509096128315,\n",
       "  'TS_dice_esophagus': 0.7490451583913728,\n",
       "  'TS_dice_gallbladder': 0.7550163450096429,\n",
       "  'TS_dice_heart': 0.9007303809916035,\n",
       "  'TS_dice_right kidney': 0.948619872910263,\n",
       "  'TS_dice_left kidney': 0.9538138600522068,\n",
       "  'TS_dice_liver': 0.9364576923549212,\n",
       "  'TS_dice_pancreas': 0.6343705661697537,\n",
       "  'TS_dice_prostate': 1.0,\n",
       "  'TS_dice_small bowel': 0.5611903351719616,\n",
       "  'TS_dice_spleen': 0.2644634002876381,\n",
       "  'TS_dice_stomach': 0.327989499613817},\n",
       " {'ct_name': '06-12-2004-NA-CT-14444.nii.gz',\n",
       "  'global_noise': 7.5497579824650884,\n",
       "  'TS_macro_avg_dice': 0.7237984833324632,\n",
       "  'TS_micro_avg_dice': 0.8571090176113888,\n",
       "  'TS_dice_right adrenal gland': 0.3962558502340094,\n",
       "  'TS_dice_left adrenal gland': 0.509009009009009,\n",
       "  'TS_dice_bladder': 0.8375166487647691,\n",
       "  'TS_dice_duodenum': 0.12941151593326425,\n",
       "  'TS_dice_esophagus': 0.40196199662008986,\n",
       "  'TS_dice_gallbladder': 0.8135719265628631,\n",
       "  'TS_dice_heart': 0.8343201404242423,\n",
       "  'TS_dice_right kidney': 0.945945574176391,\n",
       "  'TS_dice_left kidney': 0.9569454825317655,\n",
       "  'TS_dice_liver': 0.9594280182324231,\n",
       "  'TS_dice_pancreas': 0.7825851888738706,\n",
       "  'TS_dice_prostate': 1.0,\n",
       "  'TS_dice_small bowel': 0.7232279500214669,\n",
       "  'TS_dice_spleen': 0.9393918072696058,\n",
       "  'TS_dice_stomach': 0.6274061413331762},\n",
       " {'ct_name': '10-12-2009-NA-CT-01056.nii.gz',\n",
       "  'global_noise': 7.645532098554588,\n",
       "  'TS_macro_avg_dice': 0.7837871161174061,\n",
       "  'TS_micro_avg_dice': 0.8998906859625789,\n",
       "  'TS_dice_right adrenal gland': 0.26172398392139345,\n",
       "  'TS_dice_left adrenal gland': 0.44679010209378783,\n",
       "  'TS_dice_bladder': 0.9335550286756101,\n",
       "  'TS_dice_duodenum': 0.5816651241806864,\n",
       "  'TS_dice_esophagus': 0.6327447497649148,\n",
       "  'TS_dice_gallbladder': 0.7830856139965996,\n",
       "  'TS_dice_heart': 0.8067347338854556,\n",
       "  'TS_dice_right kidney': 0.9532796743454529,\n",
       "  'TS_dice_left kidney': 0.9492787261944828,\n",
       "  'TS_dice_liver': 0.9542494210981728,\n",
       "  'TS_dice_pancreas': 0.8430028989872369,\n",
       "  'TS_dice_prostate': 1.0,\n",
       "  'TS_dice_small bowel': 0.7657432511805106,\n",
       "  'TS_dice_spleen': 0.9014521295258792,\n",
       "  'TS_dice_stomach': 0.9435013039109107},\n",
       " {'ct_name': '10-30-2007-NA-CT-39737.nii.gz',\n",
       "  'global_noise': 10.640141684914866,\n",
       "  'TS_macro_avg_dice': 0.5205206019474733,\n",
       "  'TS_micro_avg_dice': 0.8554610067619774,\n",
       "  'TS_dice_right adrenal gland': 0.0,\n",
       "  'TS_dice_left adrenal gland': 0.0,\n",
       "  'TS_dice_bladder': 0.9045878659203893,\n",
       "  'TS_dice_duodenum': 0.0,\n",
       "  'TS_dice_esophagus': 0.49518621738028884,\n",
       "  'TS_dice_gallbladder': 0.7657285136276732,\n",
       "  'TS_dice_heart': 0.8586023315582993,\n",
       "  'TS_dice_right kidney': 0.9487187957493814,\n",
       "  'TS_dice_left kidney': 0.9497975083038148,\n",
       "  'TS_dice_liver': 0.959551248424935,\n",
       "  'TS_dice_pancreas': 0.0,\n",
       "  'TS_dice_prostate': 1.0,\n",
       "  'TS_dice_small bowel': 0.0,\n",
       "  'TS_dice_spleen': 0.9123474759681561,\n",
       "  'TS_dice_stomach': 0.013289072279161944},\n",
       " {'ct_name': '04-01-2006-NA-CT-80601.nii.gz',\n",
       "  'global_noise': 11.702050572253647,\n",
       "  'TS_macro_avg_dice': 0.7735235988616789,\n",
       "  'TS_micro_avg_dice': 0.8926237372222982,\n",
       "  'TS_dice_right adrenal gland': 0.0,\n",
       "  'TS_dice_left adrenal gland': 0.692507194372402,\n",
       "  'TS_dice_bladder': 0.8126548534103896,\n",
       "  'TS_dice_duodenum': 0.8003900311821804,\n",
       "  'TS_dice_esophagus': 0.4855348400178033,\n",
       "  'TS_dice_gallbladder': 0.8959287637989645,\n",
       "  'TS_dice_heart': 0.7736343499026097,\n",
       "  'TS_dice_right kidney': 0.6684612823113429,\n",
       "  'TS_dice_left kidney': 0.9658804526348652,\n",
       "  'TS_dice_liver': 0.9598670883798297,\n",
       "  'TS_dice_pancreas': 0.8691795152412528,\n",
       "  'TS_dice_prostate': 1.0,\n",
       "  'TS_dice_small bowel': 0.7939001363068794,\n",
       "  'TS_dice_spleen': 0.9577822807880001,\n",
       "  'TS_dice_stomach': 0.9271331945786625},\n",
       " {'ct_name': '06-19-2009-NA-CT-98995.nii.gz',\n",
       "  'global_noise': 13.412619617933311,\n",
       "  'TS_macro_avg_dice': 0.6214033365609956,\n",
       "  'TS_micro_avg_dice': 0.8166730561157899,\n",
       "  'TS_dice_right adrenal gland': 0.42359550561797754,\n",
       "  'TS_dice_left adrenal gland': 0.14349540078843626,\n",
       "  'TS_dice_bladder': 0.8641359477124183,\n",
       "  'TS_dice_duodenum': 0.0989800630270822,\n",
       "  'TS_dice_esophagus': 0.841979137299126,\n",
       "  'TS_dice_gallbladder': 0.6229352762113878,\n",
       "  'TS_dice_heart': 0.7435270705803465,\n",
       "  'TS_dice_right kidney': 0.844212949104286,\n",
       "  'TS_dice_left kidney': 0.643788382356375,\n",
       "  'TS_dice_liver': 0.9451815603138596,\n",
       "  'TS_dice_pancreas': 0.6554965164208504,\n",
       "  'TS_dice_prostate': 0.012522531069158524,\n",
       "  'TS_dice_small bowel': 0.6724207627152902,\n",
       "  'TS_dice_spleen': 0.8980928972532697,\n",
       "  'TS_dice_stomach': 0.9106860479450726},\n",
       " {'ct_name': '11-20-2006-NA-CT-77604.nii.gz',\n",
       "  'global_noise': 10.772229755765807,\n",
       "  'TS_macro_avg_dice': 0.7381131334414135,\n",
       "  'TS_micro_avg_dice': 0.912679289414261,\n",
       "  'TS_dice_right adrenal gland': 0.4437403665011132,\n",
       "  'TS_dice_left adrenal gland': 0.26325806730686047,\n",
       "  'TS_dice_bladder': 0.9386122473108256,\n",
       "  'TS_dice_duodenum': 0.6703594954314525,\n",
       "  'TS_dice_esophagus': 0.760964056287338,\n",
       "  'TS_dice_gallbladder': 0.9018596188507436,\n",
       "  'TS_dice_heart': 0.8111283053909634,\n",
       "  'TS_dice_right kidney': 0.9660749681942479,\n",
       "  'TS_dice_left kidney': 0.9663482877284806,\n",
       "  'TS_dice_liver': 0.9696607967090076,\n",
       "  'TS_dice_pancreas': 0.7786122473088112,\n",
       "  'TS_dice_prostate': 0.0,\n",
       "  'TS_dice_small bowel': 0.6904647177416219,\n",
       "  'TS_dice_spleen': 0.9739482334570051,\n",
       "  'TS_dice_stomach': 0.9366655934027323},\n",
       " {'ct_name': '02-02-2007-NA-CT-43743.nii.gz',\n",
       "  'global_noise': 14.680789069761492,\n",
       "  'TS_macro_avg_dice': 0.7815967302619171,\n",
       "  'TS_micro_avg_dice': 0.936139663722174,\n",
       "  'TS_dice_right adrenal gland': 0.4522346705216239,\n",
       "  'TS_dice_left adrenal gland': 0.5366036042772752,\n",
       "  'TS_dice_bladder': 0.9372216066118019,\n",
       "  'TS_dice_duodenum': 0.8075128069567754,\n",
       "  'TS_dice_esophagus': 0.7882904277888604,\n",
       "  'TS_dice_gallbladder': 0.0,\n",
       "  'TS_dice_heart': 0.8381840369127772,\n",
       "  'TS_dice_right kidney': 0.9608151853249632,\n",
       "  'TS_dice_left kidney': 0.9648731081789403,\n",
       "  'TS_dice_liver': 0.971922564961351,\n",
       "  'TS_dice_pancreas': 0.8783711524769792,\n",
       "  'TS_dice_prostate': 0.7709599413112587,\n",
       "  'TS_dice_small bowel': 0.916312583059242,\n",
       "  'TS_dice_spleen': 0.9561070802368149,\n",
       "  'TS_dice_stomach': 0.9445421853100939},\n",
       " {'ct_name': '09-27-2009-NA-CT-69089.nii.gz',\n",
       "  'global_noise': 7.741932466267592,\n",
       "  'TS_macro_avg_dice': 0.7656909807938709,\n",
       "  'TS_micro_avg_dice': 0.8648362794057599,\n",
       "  'TS_dice_right adrenal gland': 0.2589928057553957,\n",
       "  'TS_dice_left adrenal gland': 0.41477384949634605,\n",
       "  'TS_dice_bladder': 0.9312418562166516,\n",
       "  'TS_dice_duodenum': 0.2359685221283662,\n",
       "  'TS_dice_esophagus': 0.6956694477552642,\n",
       "  'TS_dice_gallbladder': 0.894703965440684,\n",
       "  'TS_dice_heart': 0.8617962240495418,\n",
       "  'TS_dice_right kidney': 0.9467667391113784,\n",
       "  'TS_dice_left kidney': 0.9468563207309295,\n",
       "  'TS_dice_liver': 0.9571733601024699,\n",
       "  'TS_dice_pancreas': 0.8456054797796927,\n",
       "  'TS_dice_prostate': 1.0,\n",
       "  'TS_dice_small bowel': 0.6329829258178803,\n",
       "  'TS_dice_spleen': 0.963766891305304,\n",
       "  'TS_dice_stomach': 0.8990663242181598},\n",
       " {'ct_name': '10-14-2008-NA-CT-69939.nii.gz',\n",
       "  'global_noise': 12.186960261727464,\n",
       "  'TS_macro_avg_dice': 0.7044135988568788,\n",
       "  'TS_micro_avg_dice': 0.8853371520816912,\n",
       "  'TS_dice_right adrenal gland': 0.48443928684460386,\n",
       "  'TS_dice_left adrenal gland': 0.4695852534562212,\n",
       "  'TS_dice_bladder': 0.5675584637897236,\n",
       "  'TS_dice_duodenum': 0.21475335646402172,\n",
       "  'TS_dice_esophagus': 0.6669943129958577,\n",
       "  'TS_dice_gallbladder': 0.8111741611956056,\n",
       "  'TS_dice_heart': 0.8360938369860722,\n",
       "  'TS_dice_right kidney': 0.9620835366550038,\n",
       "  'TS_dice_left kidney': 0.9600606504425719,\n",
       "  'TS_dice_liver': 0.9403442675294896,\n",
       "  'TS_dice_pancreas': 0.6742401123046875,\n",
       "  'TS_dice_prostate': 0.5215720307463426,\n",
       "  'TS_dice_small bowel': 0.5903104347182969,\n",
       "  'TS_dice_spleen': 0.9565036287740436,\n",
       "  'TS_dice_stomach': 0.9104906499506379},\n",
       " {'ct_name': '05-18-2005-NA-CT-39186.nii.gz',\n",
       "  'global_noise': 9.087796955942002,\n",
       "  'TS_macro_avg_dice': 0.5305187023328075,\n",
       "  'TS_micro_avg_dice': 0.8295679546305162,\n",
       "  'TS_dice_right adrenal gland': 0.0,\n",
       "  'TS_dice_left adrenal gland': 0.4300854700854701,\n",
       "  'TS_dice_bladder': 0.9146791789386411,\n",
       "  'TS_dice_duodenum': 0.22858205485820549,\n",
       "  'TS_dice_esophagus': 0.6765442806206032,\n",
       "  'TS_dice_gallbladder': 0.0,\n",
       "  'TS_dice_heart': 0.8240706875431782,\n",
       "  'TS_dice_right kidney': 0.0,\n",
       "  'TS_dice_left kidney': 0.9538081903986425,\n",
       "  'TS_dice_liver': 0.9633342027138119,\n",
       "  'TS_dice_pancreas': 0.6120090741528428,\n",
       "  'TS_dice_prostate': 0.0,\n",
       "  'TS_dice_small bowel': 0.4402980045181754,\n",
       "  'TS_dice_spleen': 0.9625599724786986,\n",
       "  'TS_dice_stomach': 0.9518094186838448},\n",
       " {'ct_name': '04-15-2004-NA-CT-43979.nii.gz',\n",
       "  'global_noise': 10.40585121697783,\n",
       "  'TS_macro_avg_dice': 0.8522136832352292,\n",
       "  'TS_micro_avg_dice': 0.9390112488149361,\n",
       "  'TS_dice_right adrenal gland': 0.7190494442315063,\n",
       "  'TS_dice_left adrenal gland': 0.7769767167001537,\n",
       "  'TS_dice_bladder': 0.9460361724047972,\n",
       "  'TS_dice_duodenum': 0.753722725338844,\n",
       "  'TS_dice_esophagus': 0.7517990967293662,\n",
       "  'TS_dice_gallbladder': 0.46596701649175415,\n",
       "  'TS_dice_heart': 0.7973494505594119,\n",
       "  'TS_dice_right kidney': 0.968820092330231,\n",
       "  'TS_dice_left kidney': 0.956356427529857,\n",
       "  'TS_dice_liver': 0.9745544692480848,\n",
       "  'TS_dice_pancreas': 0.8481233102094619,\n",
       "  'TS_dice_prostate': 1.0,\n",
       "  'TS_dice_small bowel': 0.8896632695016501,\n",
       "  'TS_dice_spleen': 0.970212022823906,\n",
       "  'TS_dice_stomach': 0.9645750344294162},\n",
       " {'ct_name': '07-27-2005-NA-CT-57728.nii.gz',\n",
       "  'global_noise': 9.52879094804115,\n",
       "  'TS_macro_avg_dice': 0.8249653999204339,\n",
       "  'TS_micro_avg_dice': 0.9123289075126104,\n",
       "  'TS_dice_right adrenal gland': 0.531850353892821,\n",
       "  'TS_dice_left adrenal gland': 0.39291815499301136,\n",
       "  'TS_dice_bladder': 0.891837777460906,\n",
       "  'TS_dice_duodenum': 0.6806155853536354,\n",
       "  'TS_dice_esophagus': 0.7071200705898324,\n",
       "  'TS_dice_gallbladder': 0.9014488646427433,\n",
       "  'TS_dice_heart': 0.8221858030476452,\n",
       "  'TS_dice_right kidney': 0.9575124283588233,\n",
       "  'TS_dice_left kidney': 0.961824746725248,\n",
       "  'TS_dice_liver': 0.9638516361228313,\n",
       "  'TS_dice_pancreas': 0.8105831935904603,\n",
       "  'TS_dice_prostate': 1.0,\n",
       "  'TS_dice_small bowel': 0.8641217541248762,\n",
       "  'TS_dice_spleen': 0.9499907529417204,\n",
       "  'TS_dice_stomach': 0.938619876961955},\n",
       " {'ct_name': '10-09-2008-NA-CT-78459.nii.gz',\n",
       "  'global_noise': 7.845737220350251,\n",
       "  'TS_macro_avg_dice': 0.7575250846586284,\n",
       "  'TS_micro_avg_dice': 0.8307406842834908,\n",
       "  'TS_dice_right adrenal gland': 0.5343915343915344,\n",
       "  'TS_dice_left adrenal gland': 0.3085427135678392,\n",
       "  'TS_dice_bladder': 0.8189093782257961,\n",
       "  'TS_dice_duodenum': 0.5044327611978764,\n",
       "  'TS_dice_esophagus': 0.7041114356324422,\n",
       "  'TS_dice_gallbladder': 0.8360558712121212,\n",
       "  'TS_dice_heart': 0.8855402546146229,\n",
       "  'TS_dice_right kidney': 0.959678817939024,\n",
       "  'TS_dice_left kidney': 0.9591145939252611,\n",
       "  'TS_dice_liver': 0.9562656017786821,\n",
       "  'TS_dice_pancreas': 0.6518678021871673,\n",
       "  'TS_dice_prostate': 1.0,\n",
       "  'TS_dice_small bowel': 0.5082489785534705,\n",
       "  'TS_dice_spleen': 0.8616433608476386,\n",
       "  'TS_dice_stomach': 0.8740731658059491},\n",
       " {'ct_name': '05-01-2009-NA-CT-92969.nii.gz',\n",
       "  'global_noise': 8.509568135569296,\n",
       "  'TS_macro_avg_dice': 0.3548639427163446,\n",
       "  'TS_micro_avg_dice': 0.656486616235951,\n",
       "  'TS_dice_right adrenal gland': 0.0,\n",
       "  'TS_dice_left adrenal gland': 1.0,\n",
       "  'TS_dice_bladder': 0.0,\n",
       "  'TS_dice_duodenum': 0.3367424698191152,\n",
       "  'TS_dice_esophagus': 0.40563815408379994,\n",
       "  'TS_dice_gallbladder': 0.6979029358897544,\n",
       "  'TS_dice_heart': 0.15950606864846256,\n",
       "  'TS_dice_right kidney': 0.0,\n",
       "  'TS_dice_left kidney': 0.0,\n",
       "  'TS_dice_liver': 0.9233364192557345,\n",
       "  'TS_dice_pancreas': 0.0,\n",
       "  'TS_dice_prostate': 0.0,\n",
       "  'TS_dice_small bowel': 0.5639793835158246,\n",
       "  'TS_dice_spleen': 0.4723914828232919,\n",
       "  'TS_dice_stomach': 0.763462226709186},\n",
       " {'ct_name': '10-12-2009-NA-CT-46431.nii.gz',\n",
       "  'global_noise': 7.3183462812781785,\n",
       "  'TS_macro_avg_dice': 0.6656739522572777,\n",
       "  'TS_micro_avg_dice': 0.8346925935889905,\n",
       "  'TS_dice_right adrenal gland': 0.48805563955246445,\n",
       "  'TS_dice_left adrenal gland': 0.0,\n",
       "  'TS_dice_bladder': 0.907118903730033,\n",
       "  'TS_dice_duodenum': 0.23141906020508873,\n",
       "  'TS_dice_esophagus': 0.5289241927128302,\n",
       "  'TS_dice_gallbladder': 0.8239075496233775,\n",
       "  'TS_dice_heart': 0.9105198839728553,\n",
       "  'TS_dice_right kidney': 0.951934146488013,\n",
       "  'TS_dice_left kidney': 0.954252654619172,\n",
       "  'TS_dice_liver': 0.9577899659004463,\n",
       "  'TS_dice_pancreas': 0.8505848742311021,\n",
       "  'TS_dice_prostate': 0.060170633138751685,\n",
       "  'TS_dice_small bowel': 0.46345461100268043,\n",
       "  'TS_dice_spleen': 0.9464590609020708,\n",
       "  'TS_dice_stomach': 0.9105181077802807},\n",
       " {'ct_name': '10-03-2009-NA-CT-29916.nii.gz',\n",
       "  'global_noise': 9.202797357380408,\n",
       "  'TS_macro_avg_dice': 0.6860595540298589,\n",
       "  'TS_micro_avg_dice': 0.8423651970462802,\n",
       "  'TS_dice_right adrenal gland': 0.599090318388564,\n",
       "  'TS_dice_left adrenal gland': 0.1778104335047759,\n",
       "  'TS_dice_bladder': 0.6439083744502244,\n",
       "  'TS_dice_duodenum': 0.5418684082122884,\n",
       "  'TS_dice_esophagus': 0.6112800243235026,\n",
       "  'TS_dice_gallbladder': 0.0,\n",
       "  'TS_dice_heart': 0.9001675612295047,\n",
       "  'TS_dice_right kidney': 0.9031754492841912,\n",
       "  'TS_dice_left kidney': 0.9335420145626145,\n",
       "  'TS_dice_liver': 0.9458462909210837,\n",
       "  'TS_dice_pancreas': 0.4972517742125907,\n",
       "  'TS_dice_prostate': 1.0,\n",
       "  'TS_dice_small bowel': 0.7072683162416578,\n",
       "  'TS_dice_spleen': 0.9019009679277583,\n",
       "  'TS_dice_stomach': 0.9277833771891255},\n",
       " {'ct_name': '06-15-2007-NA-CT-83483.nii.gz',\n",
       "  'global_noise': 12.677522025971413,\n",
       "  'TS_macro_avg_dice': 0.7206727427571045,\n",
       "  'TS_micro_avg_dice': 0.8412465263652071,\n",
       "  'TS_dice_right adrenal gland': 0.27384475301616207,\n",
       "  'TS_dice_left adrenal gland': 0.0,\n",
       "  'TS_dice_bladder': 0.8638098656408266,\n",
       "  'TS_dice_duodenum': 0.6603943179240765,\n",
       "  'TS_dice_esophagus': 0.4480630334865397,\n",
       "  'TS_dice_gallbladder': 0.8383333504040642,\n",
       "  'TS_dice_heart': 0.8239340456203549,\n",
       "  'TS_dice_right kidney': 0.9597809549006996,\n",
       "  'TS_dice_left kidney': 1.0,\n",
       "  'TS_dice_liver': 0.9554635667515532,\n",
       "  'TS_dice_pancreas': 0.651848459987662,\n",
       "  'TS_dice_prostate': 1.0,\n",
       "  'TS_dice_small bowel': 0.6295476126812849,\n",
       "  'TS_dice_spleen': 0.7923146561618503,\n",
       "  'TS_dice_stomach': 0.9127565247814944},\n",
       " {'ct_name': '08-02-2009-NA-CT-23740.nii.gz',\n",
       "  'global_noise': 14.020865111385874,\n",
       "  'TS_macro_avg_dice': 0.7123235127875244,\n",
       "  'TS_micro_avg_dice': 0.8693125915428569,\n",
       "  'TS_dice_right adrenal gland': 0.4394029850746269,\n",
       "  'TS_dice_left adrenal gland': 0.018518518518518517,\n",
       "  'TS_dice_bladder': 0.9229800122430232,\n",
       "  'TS_dice_duodenum': 0.5343482557772778,\n",
       "  'TS_dice_esophagus': 0.7211471744661168,\n",
       "  'TS_dice_gallbladder': 0.8964023194154038,\n",
       "  'TS_dice_heart': 0.9261945686520625,\n",
       "  'TS_dice_right kidney': 0.9571038232655604,\n",
       "  'TS_dice_left kidney': 0.95650328001769,\n",
       "  'TS_dice_liver': 0.9565538381279284,\n",
       "  'TS_dice_pancreas': 0.7608702360746799,\n",
       "  'TS_dice_prostate': 0.2187875665464537,\n",
       "  'TS_dice_small bowel': 0.5164360384577978,\n",
       "  'TS_dice_spleen': 0.9354935198867822,\n",
       "  'TS_dice_stomach': 0.924110555288944},\n",
       " {'ct_name': '05-18-2004-NA-CT-97917.nii.gz',\n",
       "  'global_noise': 8.650462758246846,\n",
       "  'TS_macro_avg_dice': 0.6814056374029632,\n",
       "  'TS_micro_avg_dice': 0.8009848485249411,\n",
       "  'TS_dice_right adrenal gland': 0.008585895648345197,\n",
       "  'TS_dice_left adrenal gland': 0.7987687021261365,\n",
       "  'TS_dice_bladder': 0.8713495039151172,\n",
       "  'TS_dice_duodenum': 0.682024800901851,\n",
       "  'TS_dice_esophagus': 0.32130781400254366,\n",
       "  'TS_dice_gallbladder': 0.0,\n",
       "  'TS_dice_heart': 0.8330593140009899,\n",
       "  'TS_dice_right kidney': 0.9348618315656669,\n",
       "  'TS_dice_left kidney': 0.9607757854487279,\n",
       "  'TS_dice_liver': 0.7650059754752899,\n",
       "  'TS_dice_pancreas': 0.8610546415790397,\n",
       "  'TS_dice_prostate': 0.7459376664890783,\n",
       "  'TS_dice_small bowel': 0.8882702611309148,\n",
       "  'TS_dice_spleen': 0.9660091088674275,\n",
       "  'TS_dice_stomach': 0.5840732598933196},\n",
       " {'ct_name': '04-18-2008-NA-CT-71886.nii.gz',\n",
       "  'global_noise': 10.524743510019947,\n",
       "  'TS_macro_avg_dice': 0.788966132295801,\n",
       "  'TS_micro_avg_dice': 0.8924569990269872,\n",
       "  'TS_dice_right adrenal gland': 0.4104111655978876,\n",
       "  'TS_dice_left adrenal gland': 0.37399951491632305,\n",
       "  'TS_dice_bladder': 0.9344200623412476,\n",
       "  'TS_dice_duodenum': 0.649963701731946,\n",
       "  'TS_dice_esophagus': 0.818809888981131,\n",
       "  'TS_dice_gallbladder': 0.9034764235751125,\n",
       "  'TS_dice_heart': 0.8439465483292476,\n",
       "  'TS_dice_right kidney': 0.9716819292068652,\n",
       "  'TS_dice_left kidney': 0.9662073337965148,\n",
       "  'TS_dice_liver': 0.9614065855792292,\n",
       "  'TS_dice_pancreas': 0.6681381842420137,\n",
       "  'TS_dice_prostate': 0.7408552956590846,\n",
       "  'TS_dice_small bowel': 0.749606075470612,\n",
       "  'TS_dice_spleen': 0.9256746379755048,\n",
       "  'TS_dice_stomach': 0.9158946370342962},\n",
       " {'ct_name': '04-19-2006-NA-CT-40385.nii.gz',\n",
       "  'global_noise': 12.012857835733394,\n",
       "  'TS_macro_avg_dice': 0.6769905246777438,\n",
       "  'TS_micro_avg_dice': 0.8976038223404493,\n",
       "  'TS_dice_right adrenal gland': 0.29620253164556964,\n",
       "  'TS_dice_left adrenal gland': 0.07253735673872044,\n",
       "  'TS_dice_bladder': 0.9266420158318998,\n",
       "  'TS_dice_duodenum': 0.28136180631589836,\n",
       "  'TS_dice_esophagus': 0.7174075573969658,\n",
       "  'TS_dice_gallbladder': 0.8575083078843811,\n",
       "  'TS_dice_heart': 0.8480474714976306,\n",
       "  'TS_dice_right kidney': 0.9502962237100235,\n",
       "  'TS_dice_left kidney': 0.9488650479954828,\n",
       "  'TS_dice_liver': 0.9566418050975392,\n",
       "  'TS_dice_pancreas': 0.5592724497583312,\n",
       "  'TS_dice_prostate': 0.049664429530201344,\n",
       "  'TS_dice_small bowel': 0.8092942422683088,\n",
       "  'TS_dice_spleen': 0.9599593056313649,\n",
       "  'TS_dice_stomach': 0.9211573188638391},\n",
       " {'ct_name': '08-29-2009-NA-CT-55005.nii.gz',\n",
       "  'global_noise': 6.480985705337231,\n",
       "  'TS_macro_avg_dice': 0.7885558597238628,\n",
       "  'TS_micro_avg_dice': 0.888049271322999,\n",
       "  'TS_dice_right adrenal gland': 0.5222533457827575,\n",
       "  'TS_dice_left adrenal gland': 0.47354935945742277,\n",
       "  'TS_dice_bladder': 0.6333669341044786,\n",
       "  'TS_dice_duodenum': 0.46879812727160725,\n",
       "  'TS_dice_esophagus': 0.6842682759566588,\n",
       "  'TS_dice_gallbladder': 0.8766581669197491,\n",
       "  'TS_dice_heart': 0.8668126444571885,\n",
       "  'TS_dice_right kidney': 0.9518351745879637,\n",
       "  'TS_dice_left kidney': 0.9514244466313323,\n",
       "  'TS_dice_liver': 0.9560939260600344,\n",
       "  'TS_dice_pancreas': 0.8578063594140765,\n",
       "  'TS_dice_prostate': 1.0,\n",
       "  'TS_dice_small bowel': 0.737206051123974,\n",
       "  'TS_dice_spleen': 0.9450489161557468,\n",
       "  'TS_dice_stomach': 0.9032161679349519},\n",
       " {'ct_name': '09-10-2004-NA-CT-41360.nii.gz',\n",
       "  'global_noise': 9.623291976219427,\n",
       "  'TS_macro_avg_dice': 0.6667591320432165,\n",
       "  'TS_micro_avg_dice': 0.8583290125860679,\n",
       "  'TS_dice_right adrenal gland': 0.0,\n",
       "  'TS_dice_left adrenal gland': 0.0,\n",
       "  'TS_dice_bladder': 0.8516333081570997,\n",
       "  'TS_dice_duodenum': 0.548787097773304,\n",
       "  'TS_dice_esophagus': 0.0,\n",
       "  'TS_dice_gallbladder': 0.8159965964688364,\n",
       "  'TS_dice_heart': 0.8350423590709039,\n",
       "  'TS_dice_right kidney': 0.944515950862762,\n",
       "  'TS_dice_left kidney': 0.9497163195417442,\n",
       "  'TS_dice_liver': 0.9525506515765183,\n",
       "  'TS_dice_pancreas': 0.7009873949579832,\n",
       "  'TS_dice_prostate': 1.0,\n",
       "  'TS_dice_small bowel': 0.6500316874215502,\n",
       "  'TS_dice_spleen': 0.8235843598698386,\n",
       "  'TS_dice_stomach': 0.9285412549477058},\n",
       " {'ct_name': '12-12-2006-NA-CT-53804.nii.gz',\n",
       "  'global_noise': 9.883480134652956,\n",
       "  'TS_macro_avg_dice': 0.7219842557442226,\n",
       "  'TS_micro_avg_dice': 0.8741708072110507,\n",
       "  'TS_dice_right adrenal gland': 0.26306769494430166,\n",
       "  'TS_dice_left adrenal gland': 0.18398268398268397,\n",
       "  'TS_dice_bladder': 0.7671654898899429,\n",
       "  'TS_dice_duodenum': 0.30609994061253926,\n",
       "  'TS_dice_esophagus': 0.5211953605481487,\n",
       "  'TS_dice_gallbladder': 0.8899416034492168,\n",
       "  'TS_dice_heart': 0.8427441400414374,\n",
       "  'TS_dice_right kidney': 0.9487346364278975,\n",
       "  'TS_dice_left kidney': 0.9516438412070966,\n",
       "  'TS_dice_liver': 0.9601490071906832,\n",
       "  'TS_dice_pancreas': 0.6095229889655427,\n",
       "  'TS_dice_prostate': 1.0,\n",
       "  'TS_dice_small bowel': 0.7017747081989624,\n",
       "  'TS_dice_spleen': 0.9379233692305382,\n",
       "  'TS_dice_stomach': 0.9458183714743481},\n",
       " {'ct_name': '07-20-2009-NA-CT-00330.nii.gz',\n",
       "  'global_noise': 9.93755454923805,\n",
       "  'TS_macro_avg_dice': 0.7333729743455741,\n",
       "  'TS_micro_avg_dice': 0.876140564530717,\n",
       "  'TS_dice_right adrenal gland': 0.4045242847638057,\n",
       "  'TS_dice_left adrenal gland': 0.39436619718309857,\n",
       "  'TS_dice_bladder': 0.7891263122396871,\n",
       "  'TS_dice_duodenum': 0.6315890227393927,\n",
       "  'TS_dice_esophagus': 0.7995781761669535,\n",
       "  'TS_dice_gallbladder': 0.8749434030607625,\n",
       "  'TS_dice_heart': 0.8974570559710693,\n",
       "  'TS_dice_right kidney': 0.9478289483096556,\n",
       "  'TS_dice_left kidney': 0.9567098310968548,\n",
       "  'TS_dice_liver': 0.9619275804465637,\n",
       "  'TS_dice_pancreas': 0.8337801608579088,\n",
       "  'TS_dice_prostate': 0.06496845057256369,\n",
       "  'TS_dice_small bowel': 0.6056517637742089,\n",
       "  'TS_dice_spleen': 0.9474622910721565,\n",
       "  'TS_dice_stomach': 0.8906811369289314},\n",
       " {'ct_name': '05-10-2008-NA-CT-72082.nii.gz',\n",
       "  'global_noise': 12.195651850714459,\n",
       "  'TS_macro_avg_dice': 0.7875080643543495,\n",
       "  'TS_micro_avg_dice': 0.8883356145291326,\n",
       "  'TS_dice_right adrenal gland': 0.4703476482617587,\n",
       "  'TS_dice_left adrenal gland': 0.44042589149907047,\n",
       "  'TS_dice_bladder': 0.8930811395770109,\n",
       "  'TS_dice_duodenum': 0.5434526794028263,\n",
       "  'TS_dice_esophagus': 0.723112206476347,\n",
       "  'TS_dice_gallbladder': 0.8886003510543653,\n",
       "  'TS_dice_heart': 0.8575067468715224,\n",
       "  'TS_dice_right kidney': 0.9621302983132162,\n",
       "  'TS_dice_left kidney': 0.9606256350704021,\n",
       "  'TS_dice_liver': 0.9603915672331247,\n",
       "  'TS_dice_pancreas': 0.7858637282934654,\n",
       "  'TS_dice_prostate': 0.6946000448129062,\n",
       "  'TS_dice_small bowel': 0.7447348405737536,\n",
       "  'TS_dice_spleen': 0.9532335820331355,\n",
       "  'TS_dice_stomach': 0.9345146058423369},\n",
       " {'ct_name': '09-05-2008-NA-CT-30797.nii.gz',\n",
       "  'global_noise': 11.364339563706146,\n",
       "  'TS_macro_avg_dice': 0.8296073674249274,\n",
       "  'TS_micro_avg_dice': 0.8968808041265491,\n",
       "  'TS_dice_right adrenal gland': 0.5427698574338086,\n",
       "  'TS_dice_left adrenal gland': 0.5991973477578084,\n",
       "  'TS_dice_bladder': 0.9225579712366175,\n",
       "  'TS_dice_duodenum': 0.6506952762876933,\n",
       "  'TS_dice_esophagus': 0.6631650750341064,\n",
       "  'TS_dice_gallbladder': 0.8924818988513256,\n",
       "  'TS_dice_heart': 0.7840072005495157,\n",
       "  'TS_dice_right kidney': 0.9657913300220349,\n",
       "  'TS_dice_left kidney': 0.9591334637316244,\n",
       "  'TS_dice_liver': 0.9629651086389783,\n",
       "  'TS_dice_pancreas': 0.8297035939668949,\n",
       "  'TS_dice_prostate': 1.0,\n",
       "  'TS_dice_small bowel': 0.7609801742791976,\n",
       "  'TS_dice_spleen': 0.9543018704382701,\n",
       "  'TS_dice_stomach': 0.9563603431460361},\n",
       " {'ct_name': '10-26-2006-NA-CT-23210.nii.gz',\n",
       "  'global_noise': 11.38499066157511,\n",
       "  'TS_macro_avg_dice': 0.7303163571794884,\n",
       "  'TS_micro_avg_dice': 0.8940328370224653,\n",
       "  'TS_dice_right adrenal gland': 0.426279602750191,\n",
       "  'TS_dice_left adrenal gland': 0.0,\n",
       "  'TS_dice_bladder': 0.9173853626823032,\n",
       "  'TS_dice_duodenum': 0.6479524846687366,\n",
       "  'TS_dice_esophagus': 0.5436353958543867,\n",
       "  'TS_dice_gallbladder': 0.8957333021040715,\n",
       "  'TS_dice_heart': 0.8337347720813716,\n",
       "  'TS_dice_right kidney': 0.9500489068654665,\n",
       "  'TS_dice_left kidney': 0.916407008201626,\n",
       "  'TS_dice_liver': 0.9465985828708997,\n",
       "  'TS_dice_pancreas': 0.7965290919611127,\n",
       "  'TS_dice_prostate': 0.45461467769463043,\n",
       "  'TS_dice_small bowel': 0.7983140693049591,\n",
       "  'TS_dice_spleen': 0.9050770188967581,\n",
       "  'TS_dice_stomach': 0.9224350817558121},\n",
       " {'ct_name': '01-02-2008-NA-CT-33334.nii.gz',\n",
       "  'global_noise': 8.382012413848841,\n",
       "  'TS_macro_avg_dice': 0.813777342738911,\n",
       "  'TS_micro_avg_dice': 0.8150339607197334,\n",
       "  'TS_dice_right adrenal gland': 0.5959432776880272,\n",
       "  'TS_dice_left adrenal gland': 0.6378303198887344,\n",
       "  'TS_dice_bladder': 0.6902327951339129,\n",
       "  'TS_dice_duodenum': 0.5801301731548569,\n",
       "  'TS_dice_esophagus': 0.6639650544708173,\n",
       "  'TS_dice_gallbladder': 1.0,\n",
       "  'TS_dice_heart': 0.9083344350319832,\n",
       "  'TS_dice_right kidney': 0.9541222053837861,\n",
       "  'TS_dice_left kidney': 0.9523611197878706,\n",
       "  'TS_dice_liver': 0.9617815655764173,\n",
       "  'TS_dice_pancreas': 0.8767132428500888,\n",
       "  'TS_dice_prostate': 1.0,\n",
       "  'TS_dice_small bowel': 0.5426304369792272,\n",
       "  'TS_dice_spleen': 0.94253899965655,\n",
       "  'TS_dice_stomach': 0.9000765154813934},\n",
       " {'ct_name': '05-25-2005-NA-CT-22682.nii.gz',\n",
       "  'global_noise': 9.00599941945667,\n",
       "  'TS_macro_avg_dice': 0.6197591776559288,\n",
       "  'TS_micro_avg_dice': 0.7892734545719335,\n",
       "  'TS_dice_right adrenal gland': 0.3345607574960547,\n",
       "  'TS_dice_left adrenal gland': 0.33767463888231114,\n",
       "  'TS_dice_bladder': 0.8688571023934287,\n",
       "  'TS_dice_duodenum': 0.0760027543467034,\n",
       "  'TS_dice_esophagus': 0.7333614048993139,\n",
       "  'TS_dice_gallbladder': 0.7264158511150329,\n",
       "  'TS_dice_heart': 0.833821602089111,\n",
       "  'TS_dice_right kidney': 0.9327931884747609,\n",
       "  'TS_dice_left kidney': 0.6610614445863489,\n",
       "  'TS_dice_liver': 0.9434297412892477,\n",
       "  'TS_dice_pancreas': 0.5617744746621066,\n",
       "  'TS_dice_prostate': 0.0,\n",
       "  'TS_dice_small bowel': 0.5440167374900825,\n",
       "  'TS_dice_spleen': 0.950947080397459,\n",
       "  'TS_dice_stomach': 0.7916708867169696},\n",
       " {'ct_name': '04-15-2006-NA-CT-36261.nii.gz',\n",
       "  'global_noise': 7.233523416369939,\n",
       "  'TS_macro_avg_dice': 0.6821041407848186,\n",
       "  'TS_micro_avg_dice': 0.8440217354353622,\n",
       "  'TS_dice_right adrenal gland': 0.4112823876680879,\n",
       "  'TS_dice_left adrenal gland': 0.4868532654792197,\n",
       "  'TS_dice_bladder': 0.719429542257595,\n",
       "  'TS_dice_duodenum': 0.3099183197199533,\n",
       "  'TS_dice_esophagus': 0.5083951773958924,\n",
       "  'TS_dice_gallbladder': 0.8833770746312793,\n",
       "  'TS_dice_heart': 0.8633317277301149,\n",
       "  'TS_dice_right kidney': 0.9240685048592865,\n",
       "  'TS_dice_left kidney': 0.9347909660370288,\n",
       "  'TS_dice_liver': 0.951459411126014,\n",
       "  'TS_dice_pancreas': 0.7900960677358951,\n",
       "  'TS_dice_prostate': 0.0,\n",
       "  'TS_dice_small bowel': 0.6771418822435105,\n",
       "  'TS_dice_spleen': 0.9033304162020728,\n",
       "  'TS_dice_stomach': 0.8680873686863282},\n",
       " {'ct_name': '12-28-2007-NA-CT-75253.nii.gz',\n",
       "  'global_noise': 9.546871889965232,\n",
       "  'TS_macro_avg_dice': 0.7337989136984752,\n",
       "  'TS_micro_avg_dice': 0.8650634396657986,\n",
       "  'TS_dice_right adrenal gland': 0.5585552717986136,\n",
       "  'TS_dice_left adrenal gland': 0.6288117770767613,\n",
       "  'TS_dice_bladder': 0.8678377782163963,\n",
       "  'TS_dice_duodenum': 0.663454485307866,\n",
       "  'TS_dice_esophagus': 0.5551481191545465,\n",
       "  'TS_dice_gallbladder': 0.7856270409053518,\n",
       "  'TS_dice_heart': 0.8655792743697143,\n",
       "  'TS_dice_right kidney': 0.9609932926696911,\n",
       "  'TS_dice_left kidney': 0.9495090148100451,\n",
       "  'TS_dice_liver': 0.9550846958468026,\n",
       "  'TS_dice_pancreas': 0.8324876114965312,\n",
       "  'TS_dice_prostate': 0.0,\n",
       "  'TS_dice_small bowel': 0.6550419238655064,\n",
       "  'TS_dice_spleen': 0.9157877675770171,\n",
       "  'TS_dice_stomach': 0.8130656523822848},\n",
       " {'ct_name': '10-01-2009-NA-CT-02612.nii.gz',\n",
       "  'global_noise': 8.44565247296699,\n",
       "  'TS_macro_avg_dice': 0.7401700808383583,\n",
       "  'TS_micro_avg_dice': 0.9095331086213453,\n",
       "  'TS_dice_right adrenal gland': 0.42928325028746644,\n",
       "  'TS_dice_left adrenal gland': 0.3062909194420723,\n",
       "  'TS_dice_bladder': 0.919361983605105,\n",
       "  'TS_dice_duodenum': 0.39557991241773155,\n",
       "  'TS_dice_esophagus': 0.793079151334847,\n",
       "  'TS_dice_gallbladder': 0.8443069825959321,\n",
       "  'TS_dice_heart': 0.9124151871958787,\n",
       "  'TS_dice_right kidney': 0.9533851447616795,\n",
       "  'TS_dice_left kidney': 0.9459805377520712,\n",
       "  'TS_dice_liver': 0.9669215478746264,\n",
       "  'TS_dice_pancreas': 0.8381369491325473,\n",
       "  'TS_dice_prostate': 0.13516160626836435,\n",
       "  'TS_dice_small bowel': 0.8024977884077752,\n",
       "  'TS_dice_spleen': 0.9516766384660249,\n",
       "  'TS_dice_stomach': 0.9084736130332515},\n",
       " {'ct_name': '01-03-2008-NA-CT-62113.nii.gz',\n",
       "  'global_noise': 9.20313663505095,\n",
       "  'TS_macro_avg_dice': 0.7330357789471509,\n",
       "  'TS_micro_avg_dice': 0.8742892918135976,\n",
       "  'TS_dice_right adrenal gland': 0.0,\n",
       "  'TS_dice_left adrenal gland': 0.5344905320108205,\n",
       "  'TS_dice_bladder': 0.920581180425537,\n",
       "  'TS_dice_duodenum': 0.2113209560392659,\n",
       "  'TS_dice_esophagus': 0.6685005549925197,\n",
       "  'TS_dice_gallbladder': 0.8226401082142004,\n",
       "  'TS_dice_heart': 0.8186638239542114,\n",
       "  'TS_dice_right kidney': 0.9432130488753218,\n",
       "  'TS_dice_left kidney': 0.9469117520200132,\n",
       "  'TS_dice_liver': 0.9591120392242244,\n",
       "  'TS_dice_pancreas': 0.6172369310154187,\n",
       "  'TS_dice_prostate': 1.0,\n",
       "  'TS_dice_small bowel': 0.7096804953598465,\n",
       "  'TS_dice_spleen': 0.9259266229782173,\n",
       "  'TS_dice_stomach': 0.9172586390976649},\n",
       " {'ct_name': '04-21-2008-NA-CT-39596.nii.gz',\n",
       "  'global_noise': 9.13887162099153,\n",
       "  'TS_macro_avg_dice': 0.381598922968848,\n",
       "  'TS_micro_avg_dice': 0.6263888494611599,\n",
       "  'TS_dice_right adrenal gland': 0.0038554216867469878,\n",
       "  'TS_dice_left adrenal gland': 0.0,\n",
       "  'TS_dice_bladder': 0.0,\n",
       "  'TS_dice_duodenum': 0.0,\n",
       "  'TS_dice_esophagus': 0.18784368662052817,\n",
       "  'TS_dice_gallbladder': 0.3132725225510165,\n",
       "  'TS_dice_heart': 0.814836403508081,\n",
       "  'TS_dice_right kidney': 0.5879590917861967,\n",
       "  'TS_dice_left kidney': 0.4083679439180603,\n",
       "  'TS_dice_liver': 0.9405779831667079,\n",
       "  'TS_dice_pancreas': 0.4016322278173294,\n",
       "  'TS_dice_prostate': 1.0,\n",
       "  'TS_dice_small bowel': 0.013263062423361845,\n",
       "  'TS_dice_spleen': 0.7767246708000075,\n",
       "  'TS_dice_stomach': 0.2756508302546846},\n",
       " {'ct_name': '05-18-2008-NA-CT-87353.nii.gz',\n",
       "  'global_noise': 12.977597073840883,\n",
       "  'TS_macro_avg_dice': 0.6897662984692067,\n",
       "  'TS_micro_avg_dice': 0.8562988380564936,\n",
       "  'TS_dice_right adrenal gland': 0.26331967213114754,\n",
       "  'TS_dice_left adrenal gland': 0.43736194383086147,\n",
       "  'TS_dice_bladder': 0.8452090768671886,\n",
       "  'TS_dice_duodenum': 0.4025891695305462,\n",
       "  'TS_dice_esophagus': 0.7394811423588402,\n",
       "  'TS_dice_gallbladder': 0.8192165351581594,\n",
       "  'TS_dice_heart': 0.9403277009356658,\n",
       "  'TS_dice_right kidney': 0.9517346982583849,\n",
       "  'TS_dice_left kidney': 0.9436951336866889,\n",
       "  'TS_dice_liver': 0.9478843019406102,\n",
       "  'TS_dice_pancreas': 0.6553769564164275,\n",
       "  'TS_dice_prostate': 0.0036712965795753535,\n",
       "  'TS_dice_small bowel': 0.6070146357428545,\n",
       "  'TS_dice_spleen': 0.9080284510040126,\n",
       "  'TS_dice_stomach': 0.8815837625971364},\n",
       " {'ct_name': '10-11-2008-NA-CT-83454.nii.gz',\n",
       "  'global_noise': 10.765507809217945,\n",
       "  'TS_macro_avg_dice': 0.7883243343415989,\n",
       "  'TS_micro_avg_dice': 0.8745176778823335,\n",
       "  'TS_dice_right adrenal gland': 0.4752941176470588,\n",
       "  'TS_dice_left adrenal gland': 0.507334525939177,\n",
       "  'TS_dice_bladder': 0.8029199041385907,\n",
       "  'TS_dice_duodenum': 0.5764347676222209,\n",
       "  'TS_dice_esophagus': 0.6223219594529796,\n",
       "  'TS_dice_gallbladder': 0.8913273001508296,\n",
       "  'TS_dice_heart': 0.7848368303768888,\n",
       "  'TS_dice_right kidney': 0.9534985896848236,\n",
       "  'TS_dice_left kidney': 0.947972440980027,\n",
       "  'TS_dice_liver': 0.9527052132289104,\n",
       "  'TS_dice_pancreas': 0.8447275980911984,\n",
       "  'TS_dice_prostate': 1.0,\n",
       "  'TS_dice_small bowel': 0.7141644924841438,\n",
       "  'TS_dice_spleen': 0.9358930796995754,\n",
       "  'TS_dice_stomach': 0.8154341956275586},\n",
       " {'ct_name': '04-30-2005-NA-CT-62525.nii.gz',\n",
       "  'global_noise': 7.974320336845288,\n",
       "  'TS_macro_avg_dice': 0.6618195560219399,\n",
       "  'TS_micro_avg_dice': 0.8662459272706287,\n",
       "  'TS_dice_right adrenal gland': 0.31912225705329156,\n",
       "  'TS_dice_left adrenal gland': 0.2005122575923893,\n",
       "  'TS_dice_bladder': 0.469819177457076,\n",
       "  'TS_dice_duodenum': 0.41161380597014924,\n",
       "  'TS_dice_esophagus': 0.6639981163174005,\n",
       "  'TS_dice_gallbladder': 0.8656925522456421,\n",
       "  'TS_dice_heart': 0.8410386306964219,\n",
       "  'TS_dice_right kidney': 0.9408769706725116,\n",
       "  'TS_dice_left kidney': 0.9446528596063536,\n",
       "  'TS_dice_liver': 0.9600081720714523,\n",
       "  'TS_dice_pancreas': 0.8218894486232834,\n",
       "  'TS_dice_prostate': 0.0,\n",
       "  'TS_dice_small bowel': 0.6605649793308077,\n",
       "  'TS_dice_spleen': 0.9249975490227286,\n",
       "  'TS_dice_stomach': 0.90250656366959},\n",
       " {'ct_name': '09-17-2009-NA-CT-91900.nii.gz',\n",
       "  'global_noise': 8.731856863655036,\n",
       "  'TS_macro_avg_dice': 0.7965638889129608,\n",
       "  'TS_micro_avg_dice': 0.8214219573623508,\n",
       "  'TS_dice_right adrenal gland': 0.621683967704729,\n",
       "  'TS_dice_left adrenal gland': 0.4975306383757088,\n",
       "  'TS_dice_bladder': 0.8193141761371647,\n",
       "  'TS_dice_duodenum': 0.6321016360376512,\n",
       "  'TS_dice_esophagus': 0.6262861078823884,\n",
       "  'TS_dice_gallbladder': 0.823086947198258,\n",
       "  'TS_dice_heart': 0.8737407793375427,\n",
       "  'TS_dice_right kidney': 0.9447024014007247,\n",
       "  'TS_dice_left kidney': 0.9465972365736307,\n",
       "  'TS_dice_liver': 0.9484047421190765,\n",
       "  'TS_dice_pancreas': 0.8509050170745205,\n",
       "  'TS_dice_prostate': 1.0,\n",
       "  'TS_dice_small bowel': 0.52396621230037,\n",
       "  'TS_dice_spleen': 0.9374655350348886,\n",
       "  'TS_dice_stomach': 0.9026729365177577},\n",
       " {'ct_name': '01-24-2008-NA-CT-72503.nii.gz',\n",
       "  'global_noise': 7.337199919727893,\n",
       "  'TS_macro_avg_dice': 0.7483241071869736,\n",
       "  'TS_micro_avg_dice': 0.8562100047871842,\n",
       "  'TS_dice_right adrenal gland': 0.4850970741044572,\n",
       "  'TS_dice_left adrenal gland': 0.49581551050771805,\n",
       "  'TS_dice_bladder': 0.8677156409438775,\n",
       "  'TS_dice_duodenum': 0.338315657190731,\n",
       "  'TS_dice_esophagus': 0.5066873900773038,\n",
       "  'TS_dice_gallbladder': 0.6599235783322095,\n",
       "  'TS_dice_heart': 0.8413713157957563,\n",
       "  'TS_dice_right kidney': 0.9523679964327956,\n",
       "  'TS_dice_left kidney': 0.9468254515247917,\n",
       "  'TS_dice_liver': 0.957345257991177,\n",
       "  'TS_dice_pancreas': 0.7840180844526381,\n",
       "  'TS_dice_prostate': 1.0,\n",
       "  'TS_dice_small bowel': 0.5803399179781119,\n",
       "  'TS_dice_spleen': 0.9038368936284296,\n",
       "  'TS_dice_stomach': 0.9052018388446058},\n",
       " {'ct_name': '03-27-2008-NA-CT-02413.nii.gz',\n",
       "  'global_noise': 10.939208470725337,\n",
       "  'TS_macro_avg_dice': 0.7154763381386392,\n",
       "  'TS_micro_avg_dice': 0.8684274805299605,\n",
       "  'TS_dice_right adrenal gland': 0.11790878754171301,\n",
       "  'TS_dice_left adrenal gland': 0.004540295119182747,\n",
       "  'TS_dice_bladder': 0.8239801194056163,\n",
       "  'TS_dice_duodenum': 0.4904766963621739,\n",
       "  'TS_dice_esophagus': 0.8033737480231945,\n",
       "  'TS_dice_gallbladder': 0.6320928685873213,\n",
       "  'TS_dice_heart': 0.8790405971426818,\n",
       "  'TS_dice_right kidney': 0.9447917573298359,\n",
       "  'TS_dice_left kidney': 0.9363983781128494,\n",
       "  'TS_dice_liver': 0.9536035115810396,\n",
       "  'TS_dice_pancreas': 0.5955237143174498,\n",
       "  'TS_dice_prostate': 1.0,\n",
       "  'TS_dice_small bowel': 0.734289516997103,\n",
       "  'TS_dice_spleen': 0.9020515245926325,\n",
       "  'TS_dice_stomach': 0.9140735569667954},\n",
       " {'ct_name': '05-21-2009-NA-CT-02372.nii.gz',\n",
       "  'global_noise': 11.222855978928358,\n",
       "  'TS_macro_avg_dice': 0.6413784688263742,\n",
       "  'TS_micro_avg_dice': 0.7369098898616069,\n",
       "  'TS_dice_right adrenal gland': 0.44752186588921283,\n",
       "  'TS_dice_left adrenal gland': 0.00418702023726448,\n",
       "  'TS_dice_bladder': 0.7602755925114519,\n",
       "  'TS_dice_duodenum': 0.556642473966551,\n",
       "  'TS_dice_esophagus': 0.6751061487655292,\n",
       "  'TS_dice_gallbladder': 0.7385768559400349,\n",
       "  'TS_dice_heart': 0.8867494979478568,\n",
       "  'TS_dice_right kidney': 0.8503075446551731,\n",
       "  'TS_dice_left kidney': 0.9226582550036947,\n",
       "  'TS_dice_liver': 0.9274899642486351,\n",
       "  'TS_dice_pancreas': 0.723943717639619,\n",
       "  'TS_dice_prostate': 0.0,\n",
       "  'TS_dice_small bowel': 0.4953239042641825,\n",
       "  'TS_dice_spleen': 0.7606225664375837,\n",
       "  'TS_dice_stomach': 0.871271624888822},\n",
       " {'ct_name': '07-17-2009-NA-CT-78010.nii.gz',\n",
       "  'global_noise': 9.696562328654505,\n",
       "  'TS_macro_avg_dice': 0.8195238478061074,\n",
       "  'TS_micro_avg_dice': 0.9018390056037929,\n",
       "  'TS_dice_right adrenal gland': 0.4483037156704362,\n",
       "  'TS_dice_left adrenal gland': 0.4978861788617886,\n",
       "  'TS_dice_bladder': 0.8678076645291195,\n",
       "  'TS_dice_duodenum': 0.6095940959409594,\n",
       "  'TS_dice_esophagus': 0.731572723689397,\n",
       "  'TS_dice_gallbladder': 0.8753214756542975,\n",
       "  'TS_dice_heart': 0.9122682791508984,\n",
       "  'TS_dice_right kidney': 0.9580652318615487,\n",
       "  'TS_dice_left kidney': 0.9626503499089785,\n",
       "  'TS_dice_liver': 0.9634898505142241,\n",
       "  'TS_dice_pancreas': 0.8126715057094804,\n",
       "  'TS_dice_prostate': 1.0,\n",
       "  'TS_dice_small bowel': 0.7567153083980814,\n",
       "  'TS_dice_spleen': 0.9572198361193546,\n",
       "  'TS_dice_stomach': 0.9392915010830448},\n",
       " {'ct_name': '09-02-2004-NA-CT-86719.nii.gz',\n",
       "  'global_noise': 8.63087359294148,\n",
       "  'TS_macro_avg_dice': 0.8623139848333405,\n",
       "  'TS_micro_avg_dice': 0.922580916540415,\n",
       "  'TS_dice_right adrenal gland': 0.40198237885462557,\n",
       "  'TS_dice_left adrenal gland': 0.7272095849973954,\n",
       "  'TS_dice_bladder': 0.9308748903244344,\n",
       "  'TS_dice_duodenum': 0.7447768769633867,\n",
       "  'TS_dice_esophagus': 0.8112393610819634,\n",
       "  'TS_dice_gallbladder': 0.916236620795107,\n",
       "  'TS_dice_heart': 0.8372199543333858,\n",
       "  'TS_dice_right kidney': 0.9578792596436603,\n",
       "  'TS_dice_left kidney': 0.9610291477136701,\n",
       "  'TS_dice_liver': 0.9636192064925537,\n",
       "  'TS_dice_pancreas': 0.8949909569867107,\n",
       "  'TS_dice_prostate': 1.0,\n",
       "  'TS_dice_small bowel': 0.8712286101806815,\n",
       "  'TS_dice_spleen': 0.9679766569097933,\n",
       "  'TS_dice_stomach': 0.9484462672227408},\n",
       " {'ct_name': '12-21-2007-NA-CT-92511.nii.gz',\n",
       "  'global_noise': 15.611041050112153,\n",
       "  'TS_macro_avg_dice': 0.8098950508417216,\n",
       "  'TS_micro_avg_dice': 0.92549030445225,\n",
       "  'TS_dice_right adrenal gland': 0.4319831112283942,\n",
       "  'TS_dice_left adrenal gland': 0.48448171522434513,\n",
       "  'TS_dice_bladder': 0.9298032167704523,\n",
       "  'TS_dice_duodenum': 0.6836390484447816,\n",
       "  'TS_dice_esophagus': 0.44413481953290873,\n",
       "  'TS_dice_gallbladder': 0.9271871594393197,\n",
       "  'TS_dice_heart': 0.8169210952997424,\n",
       "  'TS_dice_right kidney': 0.9681253270699188,\n",
       "  'TS_dice_left kidney': 0.9657279816115739,\n",
       "  'TS_dice_liver': 0.9681683309473907,\n",
       "  'TS_dice_pancreas': 0.8565023833722212,\n",
       "  'TS_dice_prostate': 1.0,\n",
       "  'TS_dice_small bowel': 0.7674081868049625,\n",
       "  'TS_dice_spleen': 0.9678778918373058,\n",
       "  'TS_dice_stomach': 0.936465495042508},\n",
       " {'ct_name': '11-09-2005-NA-CT-94892.nii.gz',\n",
       "  'global_noise': 10.949223428221964,\n",
       "  'TS_macro_avg_dice': 0.7152805626762329,\n",
       "  'TS_micro_avg_dice': 0.8810380520652061,\n",
       "  'TS_dice_right adrenal gland': 0.5039157439913584,\n",
       "  'TS_dice_left adrenal gland': 0.26055251717851635,\n",
       "  'TS_dice_bladder': 0.9152591344618007,\n",
       "  'TS_dice_duodenum': 0.438495743302125,\n",
       "  'TS_dice_esophagus': 0.6186447091588841,\n",
       "  'TS_dice_gallbladder': 0.8892732786701112,\n",
       "  'TS_dice_heart': 0.8294330838611551,\n",
       "  'TS_dice_right kidney': 0.960002587433697,\n",
       "  'TS_dice_left kidney': 0.9487542258030888,\n",
       "  'TS_dice_liver': 0.9626062686375686,\n",
       "  'TS_dice_pancreas': 0.867780989100019,\n",
       "  'TS_dice_prostate': 0.0,\n",
       "  'TS_dice_small bowel': 0.6558034626725245,\n",
       "  'TS_dice_spleen': 0.9539498462891499,\n",
       "  'TS_dice_stomach': 0.9247368495834932},\n",
       " {'ct_name': '10-01-2004-NA-CT-93939.nii.gz',\n",
       "  'global_noise': 14.910379599692186,\n",
       "  'TS_macro_avg_dice': 0.8293644631080365,\n",
       "  'TS_micro_avg_dice': 0.8974387266457089,\n",
       "  'TS_dice_right adrenal gland': 0.6647000983284169,\n",
       "  'TS_dice_left adrenal gland': 0.6443670728674459,\n",
       "  'TS_dice_bladder': 0.9403529091652492,\n",
       "  'TS_dice_duodenum': 0.483671733973833,\n",
       "  'TS_dice_esophagus': 0.7147922411995087,\n",
       "  'TS_dice_gallbladder': 0.8538655596359572,\n",
       "  'TS_dice_heart': 0.769324994968111,\n",
       "  'TS_dice_right kidney': 0.9610124067882483,\n",
       "  'TS_dice_left kidney': 0.9621032023493218,\n",
       "  'TS_dice_liver': 0.9695108201609752,\n",
       "  'TS_dice_pancreas': 0.874314754765817,\n",
       "  'TS_dice_prostate': 1.0,\n",
       "  'TS_dice_small bowel': 0.7172414050153562,\n",
       "  'TS_dice_spleen': 0.9596714103160564,\n",
       "  'TS_dice_stomach': 0.9255383370862487},\n",
       " {'ct_name': '06-11-2009-NA-CT-69307.nii.gz',\n",
       "  'global_noise': 9.937365366452724,\n",
       "  'TS_macro_avg_dice': 0.7449837878851411,\n",
       "  'TS_micro_avg_dice': 0.808297385834867,\n",
       "  'TS_dice_right adrenal gland': 0.2801626751016719,\n",
       "  'TS_dice_left adrenal gland': 0.4719823257682266,\n",
       "  'TS_dice_bladder': 0.8179829855618692,\n",
       "  'TS_dice_duodenum': 0.23736239662632128,\n",
       "  'TS_dice_esophagus': 0.7391913746630728,\n",
       "  'TS_dice_gallbladder': 0.8325458392101551,\n",
       "  'TS_dice_heart': 0.9142393740664548,\n",
       "  'TS_dice_right kidney': 0.9488439520536525,\n",
       "  'TS_dice_left kidney': 0.9498302646785433,\n",
       "  'TS_dice_liver': 0.9672683562511297,\n",
       "  'TS_dice_pancreas': 0.7150172003175443,\n",
       "  'TS_dice_prostate': 1.0,\n",
       "  'TS_dice_small bowel': 0.49061187564123393,\n",
       "  'TS_dice_spleen': 0.9502435177129662,\n",
       "  'TS_dice_stomach': 0.8594746806242741},\n",
       " {'ct_name': '09-19-2006-NA-CT-44700.nii.gz',\n",
       "  'global_noise': 12.87039644671953,\n",
       "  'TS_macro_avg_dice': 0.7623379779556064,\n",
       "  'TS_micro_avg_dice': 0.8761968304449276,\n",
       "  'TS_dice_right adrenal gland': 0.5872545387180437,\n",
       "  'TS_dice_left adrenal gland': 0.6260922888241607,\n",
       "  'TS_dice_bladder': 0.9359687018841654,\n",
       "  'TS_dice_duodenum': 0.7542642469779137,\n",
       "  'TS_dice_esophagus': 0.6795279544693673,\n",
       "  'TS_dice_gallbladder': 0.8023082713055114,\n",
       "  'TS_dice_heart': 0.8071881775121967,\n",
       "  'TS_dice_right kidney': 0.9625797561286288,\n",
       "  'TS_dice_left kidney': 0.9622023287110175,\n",
       "  'TS_dice_liver': 0.9695411578292789,\n",
       "  'TS_dice_pancreas': 0.8675359089403475,\n",
       "  'TS_dice_prostate': 0.0,\n",
       "  'TS_dice_small bowel': 0.6404709205004324,\n",
       "  'TS_dice_spleen': 0.9454298011964103,\n",
       "  'TS_dice_stomach': 0.8947056163366234},\n",
       " {'ct_name': '03-27-2008-NA-CT-76061.nii.gz',\n",
       "  'global_noise': 8.051808972185036,\n",
       "  'TS_macro_avg_dice': 0.7168800249969177,\n",
       "  'TS_micro_avg_dice': 0.8901450872713114,\n",
       "  'TS_dice_right adrenal gland': 0.5011509371917132,\n",
       "  'TS_dice_left adrenal gland': 0.4949071300179748,\n",
       "  'TS_dice_bladder': 0.8294809989142237,\n",
       "  'TS_dice_duodenum': 0.5661484798175446,\n",
       "  'TS_dice_esophagus': 0.7169690340587637,\n",
       "  'TS_dice_gallbladder': 0.6664176665577292,\n",
       "  'TS_dice_heart': 0.868157154481587,\n",
       "  'TS_dice_right kidney': 0.9448759347382732,\n",
       "  'TS_dice_left kidney': 0.9497220690113793,\n",
       "  'TS_dice_liver': 0.9642657548388383,\n",
       "  'TS_dice_pancreas': 0.6604458673329949,\n",
       "  'TS_dice_prostate': 0.0,\n",
       "  'TS_dice_small bowel': 0.7439672267410794,\n",
       "  'TS_dice_spleen': 0.9278629348679048,\n",
       "  'TS_dice_stomach': 0.9188291863837582},\n",
       " {'ct_name': '11-28-2006-NA-CT-47518.nii.gz',\n",
       "  'global_noise': 12.024395596584828,\n",
       "  'TS_macro_avg_dice': 0.865578358171597,\n",
       "  'TS_micro_avg_dice': 0.9265625003127312,\n",
       "  'TS_dice_right adrenal gland': 0.7371414441147379,\n",
       "  'TS_dice_left adrenal gland': 0.6078572456468556,\n",
       "  'TS_dice_bladder': 0.9700646843503986,\n",
       "  'TS_dice_duodenum': 0.8256183182622263,\n",
       "  'TS_dice_esophagus': 0.7382059252331307,\n",
       "  'TS_dice_gallbladder': 0.8410249705843901,\n",
       "  'TS_dice_heart': 0.8070479690632661,\n",
       "  'TS_dice_right kidney': 0.9515577688700444,\n",
       "  'TS_dice_left kidney': 0.9526277693697707,\n",
       "  'TS_dice_liver': 0.9737188886452646,\n",
       "  'TS_dice_pancreas': 0.8725395149765531,\n",
       "  'TS_dice_prostate': 1.0,\n",
       "  'TS_dice_small bowel': 0.8062897879430916,\n",
       "  'TS_dice_spleen': 0.966468838349167,\n",
       "  'TS_dice_stomach': 0.933512247165059},\n",
       " {'ct_name': '05-15-2009-NA-CT-40027.nii.gz',\n",
       "  'global_noise': 9.088193874004556,\n",
       "  'TS_macro_avg_dice': 0.6837341999303546,\n",
       "  'TS_micro_avg_dice': 0.748840736449129,\n",
       "  'TS_dice_right adrenal gland': 0.4603836530442035,\n",
       "  'TS_dice_left adrenal gland': 0.4509466437177281,\n",
       "  'TS_dice_bladder': 0.791203200686069,\n",
       "  'TS_dice_duodenum': 0.44019620173563073,\n",
       "  'TS_dice_esophagus': 0.6097727494391886,\n",
       "  'TS_dice_gallbladder': 0.0,\n",
       "  'TS_dice_heart': 0.9002946500535127,\n",
       "  'TS_dice_right kidney': 0.9542888500621298,\n",
       "  'TS_dice_left kidney': 0.9570919598732494,\n",
       "  'TS_dice_liver': 0.9625968230498655,\n",
       "  'TS_dice_pancreas': 0.3643274522040052,\n",
       "  'TS_dice_prostate': 1.0,\n",
       "  'TS_dice_small bowel': 0.5093335579638755,\n",
       "  'TS_dice_spleen': 0.9415752193262533,\n",
       "  'TS_dice_stomach': 0.9140020377996075},\n",
       " {'ct_name': '07-12-2008-NA-CT-78249.nii.gz',\n",
       "  'global_noise': 7.288186956562189,\n",
       "  'TS_macro_avg_dice': 0.5970627614539971,\n",
       "  'TS_micro_avg_dice': 0.7494027461394298,\n",
       "  'TS_dice_right adrenal gland': 0.38119017894298796,\n",
       "  'TS_dice_left adrenal gland': 0.0,\n",
       "  'TS_dice_bladder': 0.7032336322637499,\n",
       "  'TS_dice_duodenum': 0.16017347307553306,\n",
       "  'TS_dice_esophagus': 0.5431887492046776,\n",
       "  'TS_dice_gallbladder': 0.7970941883767535,\n",
       "  'TS_dice_heart': 0.8248340566760276,\n",
       "  'TS_dice_right kidney': 0.9541859087104146,\n",
       "  'TS_dice_left kidney': 0.9136161333510234,\n",
       "  'TS_dice_liver': 0.9608574835146118,\n",
       "  'TS_dice_pancreas': 0.5485461861970894,\n",
       "  'TS_dice_prostate': 0.0,\n",
       "  'TS_dice_small bowel': 0.3571790341298065,\n",
       "  'TS_dice_spleen': 0.9215487559280192,\n",
       "  'TS_dice_stomach': 0.8902936414392606},\n",
       " {'ct_name': '05-11-2009-NA-CT-67507.nii.gz',\n",
       "  'global_noise': 8.272057509144306,\n",
       "  'TS_macro_avg_dice': 0.7025825847218143,\n",
       "  'TS_micro_avg_dice': 0.8371166228737421,\n",
       "  'TS_dice_right adrenal gland': 0.6033955857385399,\n",
       "  'TS_dice_left adrenal gland': 0.29405066894392257,\n",
       "  'TS_dice_bladder': 0.908019628337083,\n",
       "  'TS_dice_duodenum': 0.2951464690054323,\n",
       "  'TS_dice_esophagus': 0.6132524192225685,\n",
       "  'TS_dice_gallbladder': 0.8498901561888712,\n",
       "  'TS_dice_heart': 0.8765551261969253,\n",
       "  'TS_dice_right kidney': 0.9557122238259131,\n",
       "  'TS_dice_left kidney': 0.9566686963329315,\n",
       "  'TS_dice_liver': 0.9532810304801754,\n",
       "  'TS_dice_pancreas': 0.8383585743506046,\n",
       "  'TS_dice_prostate': 0.1492304695110072,\n",
       "  'TS_dice_small bowel': 0.5775298103849926,\n",
       "  'TS_dice_spleen': 0.94915291203527,\n",
       "  'TS_dice_stomach': 0.7184950002729796},\n",
       " {'ct_name': '05-11-2007-NA-CT-34422.nii.gz',\n",
       "  'global_noise': 12.793407098520253,\n",
       "  'TS_macro_avg_dice': 0.7452718125481053,\n",
       "  'TS_micro_avg_dice': 0.8897176981208175,\n",
       "  'TS_dice_right adrenal gland': 0.34835872467410084,\n",
       "  'TS_dice_left adrenal gland': 0.5125037661946369,\n",
       "  'TS_dice_bladder': 0.9050587282331102,\n",
       "  'TS_dice_duodenum': 0.6060568603213844,\n",
       "  'TS_dice_esophagus': 0.6979338641137107,\n",
       "  'TS_dice_gallbladder': 0.862309995059145,\n",
       "  'TS_dice_heart': 0.8427325103496854,\n",
       "  'TS_dice_right kidney': 0.9491269058531975,\n",
       "  'TS_dice_left kidney': 0.9545210239948168,\n",
       "  'TS_dice_liver': 0.9602882071939514,\n",
       "  'TS_dice_pancreas': 0.5277624818534716,\n",
       "  'TS_dice_prostate': 0.35240040858018384,\n",
       "  'TS_dice_small bowel': 0.8087253844008682,\n",
       "  'TS_dice_spleen': 0.9439338895674666,\n",
       "  'TS_dice_stomach': 0.90736443783185},\n",
       " {'ct_name': '03-19-2005-NA-CT-72199.nii.gz',\n",
       "  'global_noise': 8.636116549297862,\n",
       "  'TS_macro_avg_dice': 0.7094917079136692,\n",
       "  'TS_micro_avg_dice': 0.8298123189232737,\n",
       "  'TS_dice_right adrenal gland': 0.6247933884297521,\n",
       "  'TS_dice_left adrenal gland': 0.10012210012210013,\n",
       "  'TS_dice_bladder': 0.7594523105648048,\n",
       "  'TS_dice_duodenum': 0.5125245505363348,\n",
       "  'TS_dice_esophagus': 0.2570032956685499,\n",
       "  'TS_dice_gallbladder': 1.0,\n",
       "  'TS_dice_heart': 0.8466698203607341,\n",
       "  'TS_dice_right kidney': 0.9456973402405315,\n",
       "  'TS_dice_left kidney': 0.9345416600901423,\n",
       "  'TS_dice_liver': 0.9550885483940083,\n",
       "  'TS_dice_pancreas': 0.43407826112292763,\n",
       "  'TS_dice_prostate': 1.0,\n",
       "  'TS_dice_small bowel': 0.6407346776869128,\n",
       "  'TS_dice_spleen': 0.9382399614023317,\n",
       "  'TS_dice_stomach': 0.6934297040859092},\n",
       " {'ct_name': '03-11-2008-NA-CT-76143.nii.gz',\n",
       "  'global_noise': 7.794651163613153,\n",
       "  'TS_macro_avg_dice': 0.6177070355289975,\n",
       "  'TS_micro_avg_dice': 0.8244273925369341,\n",
       "  'TS_dice_right adrenal gland': 0.08560794044665013,\n",
       "  'TS_dice_left adrenal gland': 0.0,\n",
       "  'TS_dice_bladder': 0.8749897060034588,\n",
       "  'TS_dice_duodenum': 0.3555597014925373,\n",
       "  'TS_dice_esophagus': 0.6540264295866219,\n",
       "  'TS_dice_gallbladder': 0.5910339273545749,\n",
       "  'TS_dice_heart': 0.8507393942530371,\n",
       "  'TS_dice_right kidney': 0.9287178210743167,\n",
       "  'TS_dice_left kidney': 1.0,\n",
       "  'TS_dice_liver': 0.9372847699498756,\n",
       "  'TS_dice_pancreas': 0.5961378593695879,\n",
       "  'TS_dice_prostate': 0.0,\n",
       "  'TS_dice_small bowel': 0.5963569016474346,\n",
       "  'TS_dice_spleen': 0.8776681455974218,\n",
       "  'TS_dice_stomach': 0.9174829361594471},\n",
       " {'ct_name': '05-05-2008-NA-CT-03725.nii.gz',\n",
       "  'global_noise': 12.996383827265575,\n",
       "  'TS_macro_avg_dice': 0.6732159283597695,\n",
       "  'TS_micro_avg_dice': 0.8241902031958861,\n",
       "  'TS_dice_right adrenal gland': 0.29669156883671294,\n",
       "  'TS_dice_left adrenal gland': 0.3450916051408258,\n",
       "  'TS_dice_bladder': 0.49102225050207793,\n",
       "  'TS_dice_duodenum': 0.5266205565385234,\n",
       "  'TS_dice_esophagus': 0.6358724071814538,\n",
       "  'TS_dice_gallbladder': 0.8289237766213321,\n",
       "  'TS_dice_heart': 0.8539430239378374,\n",
       "  'TS_dice_right kidney': 0.9527635044135434,\n",
       "  'TS_dice_left kidney': 0.9508278246870239,\n",
       "  'TS_dice_liver': 0.9590263888785073,\n",
       "  'TS_dice_pancreas': 0.8020547437133744,\n",
       "  'TS_dice_prostate': 0.0,\n",
       "  'TS_dice_small bowel': 0.6003771217454951,\n",
       "  'TS_dice_spleen': 0.954193593583075,\n",
       "  'TS_dice_stomach': 0.9008305596167605},\n",
       " {'ct_name': '11-07-2007-NA-CT-82283.nii.gz',\n",
       "  'global_noise': 9.253189544441152,\n",
       "  'TS_macro_avg_dice': 0.7953535403819971,\n",
       "  'TS_micro_avg_dice': 0.9091664271730842,\n",
       "  'TS_dice_right adrenal gland': 0.6017422381058745,\n",
       "  'TS_dice_left adrenal gland': 0.6111161648321659,\n",
       "  'TS_dice_bladder': 0.8193744017888023,\n",
       "  'TS_dice_duodenum': 0.685018108565673,\n",
       "  'TS_dice_esophagus': 0.6650758879674542,\n",
       "  'TS_dice_gallbladder': 0.9062684066545373,\n",
       "  'TS_dice_heart': 0.8014402840420793,\n",
       "  'TS_dice_right kidney': 0.956156975131737,\n",
       "  'TS_dice_left kidney': 0.9632649340883456,\n",
       "  'TS_dice_liver': 0.9723148495934125,\n",
       "  'TS_dice_pancreas': 0.8259958567623558,\n",
       "  'TS_dice_prostate': 0.40278410199700776,\n",
       "  'TS_dice_small bowel': 0.8462275419917878,\n",
       "  'TS_dice_spleen': 0.9462146325046482,\n",
       "  'TS_dice_stomach': 0.9273087217040742},\n",
       " {'ct_name': '10-19-2009-NA-CT-80448.nii.gz',\n",
       "  'global_noise': 7.203138259697328,\n",
       "  'TS_macro_avg_dice': 0.7197426110754073,\n",
       "  'TS_micro_avg_dice': 0.8320580039127946,\n",
       "  'TS_dice_right adrenal gland': 0.5379339014757847,\n",
       "  'TS_dice_left adrenal gland': 0.5106439243686368,\n",
       "  'TS_dice_bladder': 0.8967798272102405,\n",
       "  'TS_dice_duodenum': 0.32126769626769625,\n",
       "  'TS_dice_esophagus': 0.7533862680990191,\n",
       "  'TS_dice_gallbladder': 0.7623046875,\n",
       "  'TS_dice_heart': 0.9172554005007473,\n",
       "  'TS_dice_right kidney': 0.9578574364329115,\n",
       "  'TS_dice_left kidney': 0.9538703722254819,\n",
       "  'TS_dice_liver': 0.9659503177701648,\n",
       "  'TS_dice_pancreas': 0.8094266246705663,\n",
       "  'TS_dice_prostate': 0.1714194678986777,\n",
       "  'TS_dice_small bowel': 0.3674911709071825,\n",
       "  'TS_dice_spleen': 0.9531876672425945,\n",
       "  'TS_dice_stomach': 0.9173644035614017},\n",
       " {'ct_name': '11-11-2004-NA-CT-01726.nii.gz',\n",
       "  'global_noise': 17.283424507988542,\n",
       "  'TS_macro_avg_dice': 0.8031891835058541,\n",
       "  'TS_micro_avg_dice': 0.9203304886531769,\n",
       "  'TS_dice_right adrenal gland': 0.45535278618132136,\n",
       "  'TS_dice_left adrenal gland': 0.551449359048389,\n",
       "  'TS_dice_bladder': 0.8847358551303734,\n",
       "  'TS_dice_duodenum': 0.5891560798548094,\n",
       "  'TS_dice_esophagus': 0.7346310144551038,\n",
       "  'TS_dice_gallbladder': 0.9028706734073172,\n",
       "  'TS_dice_heart': 0.7930215298056387,\n",
       "  'TS_dice_right kidney': 0.9563114856642442,\n",
       "  'TS_dice_left kidney': 0.9535547088181826,\n",
       "  'TS_dice_liver': 0.9681195150613275,\n",
       "  'TS_dice_pancreas': 0.7338568956782857,\n",
       "  'TS_dice_prostate': 0.7435528021898862,\n",
       "  'TS_dice_small bowel': 0.9087802056651819,\n",
       "  'TS_dice_spleen': 0.9559551060009897,\n",
       "  'TS_dice_stomach': 0.9164897356267631},\n",
       " {'ct_name': '05-31-2005-NA-CT-34394.nii.gz',\n",
       "  'global_noise': 8.231797002313865,\n",
       "  'TS_macro_avg_dice': 0.8303562652612583,\n",
       "  'TS_micro_avg_dice': 0.9230624896826632,\n",
       "  'TS_dice_right adrenal gland': 0.5,\n",
       "  'TS_dice_left adrenal gland': 0.5691174945556362,\n",
       "  'TS_dice_bladder': 0.941306026380391,\n",
       "  'TS_dice_duodenum': 0.5271277045499385,\n",
       "  'TS_dice_esophagus': 0.7962038681192111,\n",
       "  'TS_dice_gallbladder': 0.8588119321520316,\n",
       "  'TS_dice_heart': 0.8070735216365121,\n",
       "  'TS_dice_right kidney': 0.9709428608496588,\n",
       "  'TS_dice_left kidney': 0.9697429097395182,\n",
       "  'TS_dice_liver': 0.9705281579985401,\n",
       "  'TS_dice_pancreas': 0.7364015963343433,\n",
       "  'TS_dice_prostate': 1.0,\n",
       "  'TS_dice_small bowel': 0.8683566193771914,\n",
       "  'TS_dice_spleen': 0.976003768513101,\n",
       "  'TS_dice_stomach': 0.9637275187128002},\n",
       " {'ct_name': '09-19-2009-NA-CT-92176.nii.gz',\n",
       "  'global_noise': 8.789599765537691,\n",
       "  'TS_macro_avg_dice': 0.7736944642207372,\n",
       "  'TS_micro_avg_dice': 0.8554629916635806,\n",
       "  'TS_dice_right adrenal gland': 0.5643810114799875,\n",
       "  'TS_dice_left adrenal gland': 0.4832880217495602,\n",
       "  'TS_dice_bladder': 0.20814070105917173,\n",
       "  'TS_dice_duodenum': 0.5192366837041051,\n",
       "  'TS_dice_esophagus': 0.8712399258390404,\n",
       "  'TS_dice_gallbladder': 0.8919180114172698,\n",
       "  'TS_dice_heart': 0.9022305439103042,\n",
       "  'TS_dice_right kidney': 0.9528131349348632,\n",
       "  'TS_dice_left kidney': 0.9550282225550052,\n",
       "  'TS_dice_liver': 0.9583014556670001,\n",
       "  'TS_dice_pancreas': 0.8297127458667874,\n",
       "  'TS_dice_prostate': 1.0,\n",
       "  'TS_dice_small bowel': 0.649701136367346,\n",
       "  'TS_dice_spleen': 0.9520130721860341,\n",
       "  'TS_dice_stomach': 0.8674122965745831},\n",
       " {'ct_name': '08-16-2008-NA-CT-35970.nii.gz',\n",
       "  'global_noise': 8.236711065814697,\n",
       "  'TS_macro_avg_dice': 0.7832668823000765,\n",
       "  'TS_micro_avg_dice': 0.8771261928326016,\n",
       "  'TS_dice_right adrenal gland': 0.42116748499727225,\n",
       "  'TS_dice_left adrenal gland': 0.36634022488211826,\n",
       "  'TS_dice_bladder': 0.9401486018303569,\n",
       "  'TS_dice_duodenum': 0.4417326046170161,\n",
       "  'TS_dice_esophagus': 0.7277581258759928,\n",
       "  'TS_dice_gallbladder': 0.8175352687419843,\n",
       "  'TS_dice_heart': 0.9124285973750996,\n",
       "  'TS_dice_right kidney': 0.9498533325562872,\n",
       "  'TS_dice_left kidney': 0.9556519933100862,\n",
       "  'TS_dice_liver': 0.9616606000458207,\n",
       "  'TS_dice_pancreas': 0.7018884643074708,\n",
       "  'TS_dice_prostate': 1.0,\n",
       "  'TS_dice_small bowel': 0.7213623067384356,\n",
       "  'TS_dice_spleen': 0.9010644453420964,\n",
       "  'TS_dice_stomach': 0.9304111838811112},\n",
       " {'ct_name': '07-09-2009-NA-CT-09199.nii.gz',\n",
       "  'global_noise': 8.428557121323678,\n",
       "  'TS_macro_avg_dice': 0.6613902817402619,\n",
       "  'TS_micro_avg_dice': 0.8309311275173579,\n",
       "  'TS_dice_right adrenal gland': 0.3970037453183521,\n",
       "  'TS_dice_left adrenal gland': 0.02002002002002002,\n",
       "  'TS_dice_bladder': 0.8590953102260239,\n",
       "  'TS_dice_duodenum': 0.45906296288781123,\n",
       "  'TS_dice_esophagus': 0.7587430028265809,\n",
       "  'TS_dice_gallbladder': 0.8752502430932906,\n",
       "  'TS_dice_heart': 0.864478200391346,\n",
       "  'TS_dice_right kidney': 0.9444217931806371,\n",
       "  'TS_dice_left kidney': 0.9388944157162599,\n",
       "  'TS_dice_liver': 0.9499334222957491,\n",
       "  'TS_dice_pancreas': 0.5997604467162643,\n",
       "  'TS_dice_prostate': 0.0,\n",
       "  'TS_dice_small bowel': 0.4634800105930368,\n",
       "  'TS_dice_spleen': 0.9271850176123627,\n",
       "  'TS_dice_stomach': 0.8635256352261952},\n",
       " {'ct_name': '07-22-2009-NA-CT-47671.nii.gz',\n",
       "  'global_noise': 10.238907850519457,\n",
       "  'TS_macro_avg_dice': 0.694206850914957,\n",
       "  'TS_micro_avg_dice': 0.8606356632467855,\n",
       "  'TS_dice_right adrenal gland': 0.348585690515807,\n",
       "  'TS_dice_left adrenal gland': 0.2563994076581341,\n",
       "  'TS_dice_bladder': 0.9347939195780836,\n",
       "  'TS_dice_duodenum': 0.5573258780739374,\n",
       "  'TS_dice_esophagus': 0.7285575298274362,\n",
       "  'TS_dice_gallbladder': 0.6832698685665152,\n",
       "  'TS_dice_heart': 0.8995086587365595,\n",
       "  'TS_dice_right kidney': 0.9488103155250129,\n",
       "  'TS_dice_left kidney': 0.9541917378853854,\n",
       "  'TS_dice_liver': 0.9617062846490338,\n",
       "  'TS_dice_pancreas': 0.6452155784132726,\n",
       "  'TS_dice_prostate': 0.1295609756097561,\n",
       "  'TS_dice_small bowel': 0.5493649482251549,\n",
       "  'TS_dice_spleen': 0.9668348530265698,\n",
       "  'TS_dice_stomach': 0.8489771174337002},\n",
       " {'ct_name': '07-26-2008-NA-CT-49937.nii.gz',\n",
       "  'global_noise': 11.305768143641465,\n",
       "  'TS_macro_avg_dice': 0.7588823964628147,\n",
       "  'TS_micro_avg_dice': 0.9019997786521851,\n",
       "  'TS_dice_right adrenal gland': 0.6488831056170028,\n",
       "  'TS_dice_left adrenal gland': 0.43939122649955237,\n",
       "  'TS_dice_bladder': 0.9158848818083848,\n",
       "  'TS_dice_duodenum': 0.33717889555453007,\n",
       "  'TS_dice_esophagus': 0.7248753305293794,\n",
       "  'TS_dice_gallbladder': 0.8804366790458862,\n",
       "  'TS_dice_heart': 0.8300174081669306,\n",
       "  'TS_dice_right kidney': 0.9553542499789176,\n",
       "  'TS_dice_left kidney': 0.950005057990966,\n",
       "  'TS_dice_liver': 0.9691240396182687,\n",
       "  'TS_dice_pancreas': 0.8636081124299274,\n",
       "  'TS_dice_prostate': 0.19665338645418326,\n",
       "  'TS_dice_small bowel': 0.821362054891145,\n",
       "  'TS_dice_spleen': 0.9541391364437418,\n",
       "  'TS_dice_stomach': 0.8963223819134073},\n",
       " {'ct_name': '02-19-2008-NA-CT-54160.nii.gz',\n",
       "  'global_noise': 12.334818329268838,\n",
       "  'TS_macro_avg_dice': 0.683294744253106,\n",
       "  'TS_micro_avg_dice': 0.8875118028584198,\n",
       "  'TS_dice_right adrenal gland': 0.4243646631706333,\n",
       "  'TS_dice_left adrenal gland': 0.23972602739726026,\n",
       "  'TS_dice_bladder': 0.5196923222122599,\n",
       "  'TS_dice_duodenum': 0.5964100039991387,\n",
       "  'TS_dice_esophagus': 0.6966456257499087,\n",
       "  'TS_dice_gallbladder': 0.8716655987589789,\n",
       "  'TS_dice_heart': 0.898662455879621,\n",
       "  'TS_dice_right kidney': 0.8455840592963373,\n",
       "  'TS_dice_left kidney': 0.7783913839695283,\n",
       "  'TS_dice_liver': 0.9531950459691513,\n",
       "  'TS_dice_pancreas': 0.7940656479133831,\n",
       "  'TS_dice_prostate': 0.0,\n",
       "  'TS_dice_small bowel': 0.803511333164398,\n",
       "  'TS_dice_spleen': 0.9304987656841044,\n",
       "  'TS_dice_stomach': 0.8970082306318861},\n",
       " {'ct_name': '12-23-2005-NA-CT-49325.nii.gz',\n",
       "  'global_noise': 13.849163354626606,\n",
       "  'TS_macro_avg_dice': 0.7802286081110666,\n",
       "  'TS_micro_avg_dice': 0.8711131023445047,\n",
       "  'TS_dice_right adrenal gland': 0.525959723096287,\n",
       "  'TS_dice_left adrenal gland': 0.6399389911755093,\n",
       "  'TS_dice_bladder': 0.9034819468889084,\n",
       "  'TS_dice_duodenum': 0.5557282257134541,\n",
       "  'TS_dice_esophagus': 0.6348343685300207,\n",
       "  'TS_dice_gallbladder': 0.8680006990562741,\n",
       "  'TS_dice_heart': 0.8823871600634526,\n",
       "  'TS_dice_right kidney': 0.9560859545714159,\n",
       "  'TS_dice_left kidney': 0.9623487508413228,\n",
       "  'TS_dice_liver': 0.9538988005173752,\n",
       "  'TS_dice_pancreas': 0.8187821028915226,\n",
       "  'TS_dice_prostate': 0.561826712349909,\n",
       "  'TS_dice_small bowel': 0.606014618917446,\n",
       "  'TS_dice_spleen': 0.9541754763483504,\n",
       "  'TS_dice_stomach': 0.8799655907047507},\n",
       " {'ct_name': '08-14-2009-NA-CT-47135.nii.gz',\n",
       "  'global_noise': 8.066379911664884,\n",
       "  'TS_macro_avg_dice': 0.8185546525762828,\n",
       "  'TS_micro_avg_dice': 0.8377357397404297,\n",
       "  'TS_dice_right adrenal gland': 0.5478145695364238,\n",
       "  'TS_dice_left adrenal gland': 0.6441631504922645,\n",
       "  'TS_dice_bladder': 0.940728441937346,\n",
       "  'TS_dice_duodenum': 0.5623552244412446,\n",
       "  'TS_dice_esophagus': 0.7336991195610565,\n",
       "  'TS_dice_gallbladder': 0.8350325746679076,\n",
       "  'TS_dice_heart': 0.8985576963651247,\n",
       "  'TS_dice_right kidney': 0.9575307924857094,\n",
       "  'TS_dice_left kidney': 0.9565108233368315,\n",
       "  'TS_dice_liver': 0.9601425754326108,\n",
       "  'TS_dice_pancreas': 0.8338628558198166,\n",
       "  'TS_dice_prostate': 1.0,\n",
       "  'TS_dice_small bowel': 0.5609713762502615,\n",
       "  'TS_dice_spleen': 0.9127439088557677,\n",
       "  'TS_dice_stomach': 0.9342066794618742},\n",
       " {'ct_name': '05-28-2004-NA-CT-49121.nii.gz',\n",
       "  'global_noise': 7.9929867726078925,\n",
       "  'TS_macro_avg_dice': 0.5637533143360905,\n",
       "  'TS_micro_avg_dice': 0.6823485763074288,\n",
       "  'TS_dice_right adrenal gland': 0.4919852034525277,\n",
       "  'TS_dice_left adrenal gland': 0.0,\n",
       "  'TS_dice_bladder': 0.6021034101829482,\n",
       "  'TS_dice_duodenum': 0.7054387995072604,\n",
       "  'TS_dice_esophagus': 0.5938604734416253,\n",
       "  'TS_dice_gallbladder': 0.47469389778416693,\n",
       "  'TS_dice_heart': 0.8603398555732977,\n",
       "  'TS_dice_right kidney': 0.9564088266374473,\n",
       "  'TS_dice_left kidney': 0.7567549043499452,\n",
       "  'TS_dice_liver': 0.9538670531389539,\n",
       "  'TS_dice_pancreas': 0.48522068974415217,\n",
       "  'TS_dice_prostate': 0.0,\n",
       "  'TS_dice_small bowel': 0.6632334971457343,\n",
       "  'TS_dice_spleen': 2.8936821711034267e-05,\n",
       "  'TS_dice_stomach': 0.9123641672615881},\n",
       " {'ct_name': '12-14-2005-NA-CT-82317.nii.gz',\n",
       "  'global_noise': 11.652773376958976,\n",
       "  'TS_macro_avg_dice': 0.6366230377088077,\n",
       "  'TS_micro_avg_dice': 0.8424992164759563,\n",
       "  'TS_dice_right adrenal gland': 0.0,\n",
       "  'TS_dice_left adrenal gland': 0.380433405145102,\n",
       "  'TS_dice_bladder': 1.0,\n",
       "  'TS_dice_duodenum': 0.0,\n",
       "  'TS_dice_esophagus': 0.525197631986746,\n",
       "  'TS_dice_gallbladder': 0.7334794700953933,\n",
       "  'TS_dice_heart': 0.8379886156150602,\n",
       "  'TS_dice_right kidney': 0.9537292705806815,\n",
       "  'TS_dice_left kidney': 0.9669176310316592,\n",
       "  'TS_dice_liver': 0.9620204963493982,\n",
       "  'TS_dice_pancreas': 0.0,\n",
       "  'TS_dice_prostate': 1.0,\n",
       "  'TS_dice_small bowel': 0.5235071826236597,\n",
       "  'TS_dice_spleen': 0.9245813213894699,\n",
       "  'TS_dice_stomach': 0.7414905408149451},\n",
       " {'ct_name': '06-08-2009-NA-CT-35475.nii.gz',\n",
       "  'global_noise': 9.262773166110206,\n",
       "  'TS_macro_avg_dice': 0.7061994487549522,\n",
       "  'TS_micro_avg_dice': 0.8526740204866458,\n",
       "  'TS_dice_right adrenal gland': 0.4397068620919387,\n",
       "  'TS_dice_left adrenal gland': 0.28918692372170995,\n",
       "  'TS_dice_bladder': 0.8991080277502478,\n",
       "  'TS_dice_duodenum': 0.4716735168348072,\n",
       "  'TS_dice_esophagus': 0.6030456852791878,\n",
       "  'TS_dice_gallbladder': 0.8585094474032362,\n",
       "  'TS_dice_heart': 0.8801877709924737,\n",
       "  'TS_dice_right kidney': 0.9588200554537901,\n",
       "  'TS_dice_left kidney': 0.9641583025401261,\n",
       "  'TS_dice_liver': 0.9730501177986888,\n",
       "  'TS_dice_pancreas': 0.7998831481827108,\n",
       "  'TS_dice_prostate': 0.0,\n",
       "  'TS_dice_small bowel': 0.6045430665784551,\n",
       "  'TS_dice_spleen': 0.9359130422329471,\n",
       "  'TS_dice_stomach': 0.9152057644639636},\n",
       " {'ct_name': '05-18-2005-NA-CT-55539.nii.gz',\n",
       "  'global_noise': 8.417466314133666,\n",
       "  'TS_macro_avg_dice': 0.5454585515730829,\n",
       "  'TS_micro_avg_dice': 0.6963910050260969,\n",
       "  'TS_dice_right adrenal gland': 0.3254769921436588,\n",
       "  'TS_dice_left adrenal gland': 0.001610305958132045,\n",
       "  'TS_dice_bladder': 0.8376657427522661,\n",
       "  'TS_dice_duodenum': 0.09435032619066037,\n",
       "  'TS_dice_esophagus': 0.7150879238317303,\n",
       "  'TS_dice_gallbladder': 0.7214116516186618,\n",
       "  'TS_dice_heart': 0.8286073872065691,\n",
       "  'TS_dice_right kidney': 0.9186162189916883,\n",
       "  'TS_dice_left kidney': 0.8983057874601889,\n",
       "  'TS_dice_liver': 0.9485083440699228,\n",
       "  'TS_dice_pancreas': 0.41027469624933965,\n",
       "  'TS_dice_prostate': 0.0,\n",
       "  'TS_dice_small bowel': 0.2739439593367611,\n",
       "  'TS_dice_spleen': 0.7540299128816402,\n",
       "  'TS_dice_stomach': 0.45398902490502324},\n",
       " {'ct_name': '07-08-2008-NA-CT-95628.nii.gz',\n",
       "  'global_noise': 7.7534884055323525,\n",
       "  'TS_macro_avg_dice': 0.6220423344547726,\n",
       "  'TS_micro_avg_dice': 0.8500769641975561,\n",
       "  'TS_dice_right adrenal gland': 0.0,\n",
       "  'TS_dice_left adrenal gland': 0.5028742814296426,\n",
       "  'TS_dice_bladder': 0.8739973203572391,\n",
       "  'TS_dice_duodenum': 0.4001381710930131,\n",
       "  'TS_dice_esophagus': 0.6485553938890044,\n",
       "  'TS_dice_gallbladder': 0.7339669738863287,\n",
       "  'TS_dice_heart': 0.8481921018618414,\n",
       "  'TS_dice_right kidney': 0.0,\n",
       "  'TS_dice_left kidney': 0.9594259231574226,\n",
       "  'TS_dice_liver': 0.9694191695075051,\n",
       "  'TS_dice_pancreas': 0.7691501100388336,\n",
       "  'TS_dice_prostate': 0.09665785044481846,\n",
       "  'TS_dice_small bowel': 0.6790253046902834,\n",
       "  'TS_dice_spleen': 0.9339903464662893,\n",
       "  'TS_dice_stomach': 0.9152420699993666},\n",
       " {'ct_name': '07-02-2009-NA-CT-58198.nii.gz',\n",
       "  'global_noise': 11.391786770211255,\n",
       "  'TS_macro_avg_dice': 0.7151846906665622,\n",
       "  'TS_micro_avg_dice': 0.8967153800270964,\n",
       "  'TS_dice_right adrenal gland': 0.27184466019417475,\n",
       "  'TS_dice_left adrenal gland': 0.32728337236533955,\n",
       "  'TS_dice_bladder': 0.8203315019267322,\n",
       "  'TS_dice_duodenum': 0.4693082809303735,\n",
       "  'TS_dice_esophagus': 0.7518657676668897,\n",
       "  'TS_dice_gallbladder': 0.8227640457816053,\n",
       "  'TS_dice_heart': 0.855918481817332,\n",
       "  'TS_dice_right kidney': 0.9408882708727551,\n",
       "  'TS_dice_left kidney': 0.9479315082793275,\n",
       "  'TS_dice_liver': 0.9484391849392597,\n",
       "  'TS_dice_pancreas': 0.7832456398066291,\n",
       "  'TS_dice_prostate': 0.11312593578439528,\n",
       "  'TS_dice_small bowel': 0.8090439422735642,\n",
       "  'TS_dice_spleen': 0.9364707712940357,\n",
       "  'TS_dice_stomach': 0.9293089960660172},\n",
       " {'ct_name': '08-01-2009-NA-CT-39660.nii.gz',\n",
       "  'global_noise': 8.559285625533764,\n",
       "  'TS_macro_avg_dice': 0.5345498000467673,\n",
       "  'TS_micro_avg_dice': 0.6900470179805317,\n",
       "  'TS_dice_right adrenal gland': 0.0,\n",
       "  'TS_dice_left adrenal gland': 0.0,\n",
       "  'TS_dice_bladder': 0.8760494458925687,\n",
       "  'TS_dice_duodenum': 0.6361309310349091,\n",
       "  'TS_dice_esophagus': 0.6450048496605237,\n",
       "  'TS_dice_gallbladder': 0.0,\n",
       "  'TS_dice_heart': 0.8924951234021764,\n",
       "  'TS_dice_right kidney': 0.9399535510937969,\n",
       "  'TS_dice_left kidney': 0.9470379308297565,\n",
       "  'TS_dice_liver': 0.8042602021240334,\n",
       "  'TS_dice_pancreas': 0.7372787214219164,\n",
       "  'TS_dice_prostate': 0.00436323970548132,\n",
       "  'TS_dice_small bowel': 0.38037889743136255,\n",
       "  'TS_dice_spleen': 0.8427636592993614,\n",
       "  'TS_dice_stomach': 0.31253044880562525},\n",
       " {'ct_name': '09-04-2007-NA-CT-53793.nii.gz',\n",
       "  'global_noise': 12.441584551110367,\n",
       "  'TS_macro_avg_dice': 0.7531618380463603,\n",
       "  'TS_micro_avg_dice': 0.8209442624519991,\n",
       "  'TS_dice_right adrenal gland': 0.6803662027720303,\n",
       "  'TS_dice_left adrenal gland': 0.6459774412662803,\n",
       "  'TS_dice_bladder': 0.8665284149338138,\n",
       "  'TS_dice_duodenum': 0.48390903293513904,\n",
       "  'TS_dice_esophagus': 0.7612414068310025,\n",
       "  'TS_dice_gallbladder': 0.7843814144429931,\n",
       "  'TS_dice_heart': 0.7765394382312153,\n",
       "  'TS_dice_right kidney': 0.958927589210448,\n",
       "  'TS_dice_left kidney': 0.9539560433833149,\n",
       "  'TS_dice_liver': 0.9693911532149168,\n",
       "  'TS_dice_pancreas': 0.6852285209417833,\n",
       "  'TS_dice_prostate': 1.0,\n",
       "  'TS_dice_small bowel': 0.3547033521069094,\n",
       "  'TS_dice_spleen': 0.6448705055753076,\n",
       "  'TS_dice_stomach': 0.7314070548502521},\n",
       " {'ct_name': '06-04-2009-NA-CT-44349.nii.gz',\n",
       "  'global_noise': 8.21152115711797,\n",
       "  'TS_macro_avg_dice': 0.7801890540306397,\n",
       "  'TS_micro_avg_dice': 0.8672467179420249,\n",
       "  'TS_dice_right adrenal gland': 0.32852729145211124,\n",
       "  'TS_dice_left adrenal gland': 0.1598477640342531,\n",
       "  'TS_dice_bladder': 0.9172592490155976,\n",
       "  'TS_dice_duodenum': 0.5508633363120118,\n",
       "  'TS_dice_esophagus': 0.7849423531045978,\n",
       "  'TS_dice_gallbladder': 0.8706099105669213,\n",
       "  'TS_dice_heart': 0.9209834801242448,\n",
       "  'TS_dice_right kidney': 0.9499518213820929,\n",
       "  'TS_dice_left kidney': 0.9545454545454546,\n",
       "  'TS_dice_liver': 0.9586376929683121,\n",
       "  'TS_dice_pancreas': 0.7908358789225215,\n",
       "  'TS_dice_prostate': 1.0,\n",
       "  'TS_dice_small bowel': 0.6606017170422668,\n",
       "  'TS_dice_spleen': 0.9483167515739953,\n",
       "  'TS_dice_stomach': 0.9069131094152135},\n",
       " {'ct_name': '01-15-2008-NA-CT-02995.nii.gz',\n",
       "  'global_noise': 15.306520419026072,\n",
       "  'TS_macro_avg_dice': 0.6377597004943837,\n",
       "  'TS_micro_avg_dice': 0.7037969898135489,\n",
       "  'TS_dice_right adrenal gland': 0.7150243309002433,\n",
       "  'TS_dice_left adrenal gland': 0.37846420323325636,\n",
       "  'TS_dice_bladder': 0.927267422474158,\n",
       "  'TS_dice_duodenum': 0.10858906181392398,\n",
       "  'TS_dice_esophagus': 0.3919335302492616,\n",
       "  'TS_dice_gallbladder': 0.007031805710801748,\n",
       "  'TS_dice_heart': 0.8546910539249484,\n",
       "  'TS_dice_right kidney': 0.9520349221746991,\n",
       "  'TS_dice_left kidney': 0.9304187008441629,\n",
       "  'TS_dice_liver': 0.9441291143663024,\n",
       "  'TS_dice_pancreas': 0.5605540228590733,\n",
       "  'TS_dice_prostate': 1.0,\n",
       "  'TS_dice_small bowel': 0.2859823357572436,\n",
       "  'TS_dice_spleen': 0.7298610887588113,\n",
       "  'TS_dice_stomach': 0.7804139143488691},\n",
       " {'ct_name': '01-19-2005-NA-CT-24654.nii.gz',\n",
       "  'global_noise': 10.745586806495197,\n",
       "  'TS_macro_avg_dice': 0.8156786177018281,\n",
       "  'TS_micro_avg_dice': 0.9304170035710758,\n",
       "  'TS_dice_right adrenal gland': 0.4613080379430854,\n",
       "  'TS_dice_left adrenal gland': 0.31329803799439426,\n",
       "  'TS_dice_bladder': 0.9420245168981163,\n",
       "  'TS_dice_duodenum': 0.7731333674584034,\n",
       "  'TS_dice_esophagus': 0.7574033157953299,\n",
       "  'TS_dice_gallbladder': 0.6662664714494876,\n",
       "  'TS_dice_heart': 0.8229140080524717,\n",
       "  'TS_dice_right kidney': 0.9424472595512808,\n",
       "  'TS_dice_left kidney': 0.9450835728594631,\n",
       "  'TS_dice_liver': 0.9740228066053322,\n",
       "  'TS_dice_pancreas': 0.8644550486734109,\n",
       "  'TS_dice_prostate': 1.0,\n",
       "  'TS_dice_small bowel': 0.8516285539948899,\n",
       "  'TS_dice_spleen': 0.9749906155627224,\n",
       "  'TS_dice_stomach': 0.9462036526890341},\n",
       " {'ct_name': '06-06-2009-NA-CT-75654.nii.gz',\n",
       "  'global_noise': 10.24557241783242,\n",
       "  'TS_macro_avg_dice': 0.7126958008648981,\n",
       "  'TS_micro_avg_dice': 0.8768544996845504,\n",
       "  'TS_dice_right adrenal gland': 0.42628205128205127,\n",
       "  'TS_dice_left adrenal gland': 0.3415184871577759,\n",
       "  'TS_dice_bladder': 0.9122353222077917,\n",
       "  'TS_dice_duodenum': 0.2320604755815271,\n",
       "  'TS_dice_esophagus': 0.7135954841178722,\n",
       "  'TS_dice_gallbladder': 0.9077109846639193,\n",
       "  'TS_dice_heart': 0.8958832871228242,\n",
       "  'TS_dice_right kidney': 0.9507272244682856,\n",
       "  'TS_dice_left kidney': 0.9609396714195968,\n",
       "  'TS_dice_liver': 0.9555490879747327,\n",
       "  'TS_dice_pancreas': 0.8348699398591322,\n",
       "  'TS_dice_prostate': 0.0,\n",
       "  'TS_dice_small bowel': 0.6525248057482151,\n",
       "  'TS_dice_spleen': 0.9560063835405688,\n",
       "  'TS_dice_stomach': 0.9505338078291815},\n",
       " {'ct_name': '10-19-2004-NA-CT-85464.nii.gz',\n",
       "  'global_noise': 10.36752352411035,\n",
       "  'TS_macro_avg_dice': 0.46270235164464596,\n",
       "  'TS_micro_avg_dice': 0.755221155441929,\n",
       "  'TS_dice_right adrenal gland': 0.0,\n",
       "  'TS_dice_left adrenal gland': 0.0,\n",
       "  'TS_dice_bladder': 0.9119587614398881,\n",
       "  'TS_dice_duodenum': 0.0,\n",
       "  'TS_dice_esophagus': 0.6620971595434032,\n",
       "  'TS_dice_gallbladder': 0.6684701170916709,\n",
       "  'TS_dice_heart': 0.8378145159232566,\n",
       "  'TS_dice_right kidney': 0.8719608720224782,\n",
       "  'TS_dice_left kidney': 0.9335449461458178,\n",
       "  'TS_dice_liver': 0.9373744046298407,\n",
       "  'TS_dice_pancreas': 0.375651848409748,\n",
       "  'TS_dice_prostate': 0.0,\n",
       "  'TS_dice_small bowel': 0.0,\n",
       "  'TS_dice_spleen': 0.7416626494635853,\n",
       "  'TS_dice_stomach': 0.0},\n",
       " {'ct_name': '10-19-2005-NA-CT-19051.nii.gz',\n",
       "  'global_noise': 7.417052198146868,\n",
       "  'TS_macro_avg_dice': 0.6981171106602132,\n",
       "  'TS_micro_avg_dice': 0.8526918843127143,\n",
       "  'TS_dice_right adrenal gland': 0.36311732800456753,\n",
       "  'TS_dice_left adrenal gland': 0.48454258675078865,\n",
       "  'TS_dice_bladder': 0.819960306209243,\n",
       "  'TS_dice_duodenum': 0.17158260328650665,\n",
       "  'TS_dice_esophagus': 0.6686400903620323,\n",
       "  'TS_dice_gallbladder': 0.4297241020301926,\n",
       "  'TS_dice_heart': 0.843780153363199,\n",
       "  'TS_dice_right kidney': 0.953631582057798,\n",
       "  'TS_dice_left kidney': 0.9460148978079174,\n",
       "  'TS_dice_liver': 0.9352796474555652,\n",
       "  'TS_dice_pancreas': 0.5906208297412521,\n",
       "  'TS_dice_prostate': 1.0,\n",
       "  'TS_dice_small bowel': 0.5780814602318242,\n",
       "  'TS_dice_spleen': 0.8710548882312359,\n",
       "  'TS_dice_stomach': 0.8157261843710764},\n",
       " {'ct_name': '05-25-2009-NA-CT-91958.nii.gz',\n",
       "  'global_noise': 10.480576638461459,\n",
       "  'TS_macro_avg_dice': 0.6660617124340763,\n",
       "  'TS_micro_avg_dice': 0.8157950642180991,\n",
       "  'TS_dice_right adrenal gland': 0.3453355155482815,\n",
       "  'TS_dice_left adrenal gland': 0.00101010101010101,\n",
       "  'TS_dice_bladder': 0.7570899383614031,\n",
       "  'TS_dice_duodenum': 0.1091801858181293,\n",
       "  'TS_dice_esophagus': 0.7490230480899593,\n",
       "  'TS_dice_gallbladder': 0.8784221513064759,\n",
       "  'TS_dice_heart': 0.8720387826555346,\n",
       "  'TS_dice_right kidney': 0.9543961593270521,\n",
       "  'TS_dice_left kidney': 0.9595532170005704,\n",
       "  'TS_dice_liver': 0.9603279462240542,\n",
       "  'TS_dice_pancreas': 0.8322784112211367,\n",
       "  'TS_dice_prostate': 0.2330147248772927,\n",
       "  'TS_dice_small bowel': 0.4692515056632373,\n",
       "  'TS_dice_spleen': 0.9494151431320664,\n",
       "  'TS_dice_stomach': 0.9205888562758484},\n",
       " {'ct_name': '01-09-2008-NA-CT-50631.nii.gz',\n",
       "  'global_noise': 11.078931339432607,\n",
       "  'TS_macro_avg_dice': 0.8263517412741859,\n",
       "  'TS_micro_avg_dice': 0.9006872547754902,\n",
       "  'TS_dice_right adrenal gland': 0.5545196595054722,\n",
       "  'TS_dice_left adrenal gland': 0.4939118504544675,\n",
       "  'TS_dice_bladder': 0.901078827391439,\n",
       "  'TS_dice_duodenum': 0.5859959525874531,\n",
       "  'TS_dice_esophagus': 0.6847174447174447,\n",
       "  'TS_dice_gallbladder': 0.9047302730482817,\n",
       "  'TS_dice_heart': 0.8795504528495444,\n",
       "  'TS_dice_right kidney': 0.96239923362855,\n",
       "  'TS_dice_left kidney': 0.9646430096133568,\n",
       "  'TS_dice_liver': 0.9656870369625344,\n",
       "  'TS_dice_pancreas': 0.8607820845010841,\n",
       "  'TS_dice_prostate': 1.0,\n",
       "  'TS_dice_small bowel': 0.7268201479621177,\n",
       "  'TS_dice_spleen': 0.9671151844372454,\n",
       "  'TS_dice_stomach': 0.9433249614537979},\n",
       " {'ct_name': '01-02-2008-NA-CT-66300.nii.gz',\n",
       "  'global_noise': 18.86923352601292,\n",
       "  'TS_macro_avg_dice': 0.7773459726038182,\n",
       "  'TS_micro_avg_dice': 0.871964687935812,\n",
       "  'TS_dice_right adrenal gland': 0.5448573188257031,\n",
       "  'TS_dice_left adrenal gland': 0.5834835917778579,\n",
       "  'TS_dice_bladder': 0.32761183943776184,\n",
       "  'TS_dice_duodenum': 0.6537579667340276,\n",
       "  'TS_dice_esophagus': 0.7118171085113234,\n",
       "  'TS_dice_gallbladder': 0.8976625241150343,\n",
       "  'TS_dice_heart': 0.8343996830454611,\n",
       "  'TS_dice_right kidney': 0.9252776335404768,\n",
       "  'TS_dice_left kidney': 0.8837994635170822,\n",
       "  'TS_dice_liver': 0.9366627935438308,\n",
       "  'TS_dice_pancreas': 0.7588210758495875,\n",
       "  'TS_dice_prostate': 1.0,\n",
       "  'TS_dice_small bowel': 0.7587258477895137,\n",
       "  'TS_dice_spleen': 0.9202285587214888,\n",
       "  'TS_dice_stomach': 0.9230841836481237},\n",
       " {'ct_name': '07-13-2009-NA-CT-66673.nii.gz',\n",
       "  'global_noise': 11.430394941930743,\n",
       "  'TS_macro_avg_dice': 0.7607832449017312,\n",
       "  'TS_micro_avg_dice': 0.769305393162555,\n",
       "  'TS_dice_right adrenal gland': 0.556924882629108,\n",
       "  'TS_dice_left adrenal gland': 0.5462878093492209,\n",
       "  'TS_dice_bladder': 0.8454944258864249,\n",
       "  'TS_dice_duodenum': 0.12776688147940599,\n",
       "  'TS_dice_esophagus': 0.574145308380516,\n",
       "  'TS_dice_gallbladder': 0.8399229971864357,\n",
       "  'TS_dice_heart': 0.896705286182693,\n",
       "  'TS_dice_right kidney': 0.9583229856408937,\n",
       "  'TS_dice_left kidney': 0.9519474731869634,\n",
       "  'TS_dice_liver': 0.9508868892216125,\n",
       "  'TS_dice_pancreas': 0.8304011777695989,\n",
       "  'TS_dice_prostate': 1.0,\n",
       "  'TS_dice_small bowel': 0.460640707124048,\n",
       "  'TS_dice_spleen': 0.9519044610650309,\n",
       "  'TS_dice_stomach': 0.9203973884240184},\n",
       " {'ct_name': '01-19-2008-NA-CT-60416.nii.gz',\n",
       "  'global_noise': 8.536566084316117,\n",
       "  'TS_macro_avg_dice': 0.6875833814467714,\n",
       "  'TS_micro_avg_dice': 0.8666968986582549,\n",
       "  'TS_dice_right adrenal gland': 0.41092973740241306,\n",
       "  'TS_dice_left adrenal gland': 0.0,\n",
       "  'TS_dice_bladder': 0.8849898204701092,\n",
       "  'TS_dice_duodenum': 0.3639871928076165,\n",
       "  'TS_dice_esophagus': 0.7802434415784154,\n",
       "  'TS_dice_gallbladder': 0.8406495585088208,\n",
       "  'TS_dice_heart': 0.8535223116118349,\n",
       "  'TS_dice_right kidney': 0.9472881214514739,\n",
       "  'TS_dice_left kidney': 0.9496153547284171,\n",
       "  'TS_dice_liver': 0.9535102710501344,\n",
       "  'TS_dice_pancreas': 0.7960528363753333,\n",
       "  'TS_dice_prostate': 0.037643778319972114,\n",
       "  'TS_dice_small bowel': 0.6434413122375567,\n",
       "  'TS_dice_spleen': 0.9527643198520975,\n",
       "  'TS_dice_stomach': 0.8991126653073778},\n",
       " {'ct_name': '03-17-2004-NA-CT-16472.nii.gz',\n",
       "  'global_noise': 9.946672046881275,\n",
       "  'TS_macro_avg_dice': 0.4808906912685753,\n",
       "  'TS_micro_avg_dice': 0.6797589521347853,\n",
       "  'TS_dice_right adrenal gland': 0.0,\n",
       "  'TS_dice_left adrenal gland': 0.0,\n",
       "  'TS_dice_bladder': 0.8857734664271363,\n",
       "  'TS_dice_duodenum': 0.17224558990516098,\n",
       "  'TS_dice_esophagus': 0.55824354698238,\n",
       "  'TS_dice_gallbladder': 0.4204839278793593,\n",
       "  'TS_dice_heart': 0.6955161304384008,\n",
       "  'TS_dice_right kidney': 0.7758442020545873,\n",
       "  'TS_dice_left kidney': 0.8239727822004732,\n",
       "  'TS_dice_liver': 0.8293562957784824,\n",
       "  'TS_dice_pancreas': 0.3940451753317793,\n",
       "  'TS_dice_prostate': 0.0,\n",
       "  'TS_dice_small bowel': 0.5221871625535037,\n",
       "  'TS_dice_spleen': 0.6021225060082376,\n",
       "  'TS_dice_stomach': 0.5335695834691279},\n",
       " {'ct_name': '01-11-2008-NA-CT-70393.nii.gz',\n",
       "  'global_noise': 8.145531612927897,\n",
       "  'TS_macro_avg_dice': 0.5542366668743867,\n",
       "  'TS_micro_avg_dice': 0.8387688445741704,\n",
       "  'TS_dice_right adrenal gland': 0.0,\n",
       "  'TS_dice_left adrenal gland': 0.22536382536382538,\n",
       "  'TS_dice_bladder': 0.8120058361703606,\n",
       "  'TS_dice_duodenum': 0.09028727770177838,\n",
       "  'TS_dice_esophagus': 0.47231765465259123,\n",
       "  'TS_dice_gallbladder': 0.8722504379833301,\n",
       "  'TS_dice_heart': 0.7927779247745343,\n",
       "  'TS_dice_right kidney': 0.9618862870924542,\n",
       "  'TS_dice_left kidney': 0.0,\n",
       "  'TS_dice_liver': 0.9634316713493688,\n",
       "  'TS_dice_pancreas': 0.8074122250535766,\n",
       "  'TS_dice_prostate': 0.0,\n",
       "  'TS_dice_small bowel': 0.6019780363297731,\n",
       "  'TS_dice_spleen': 0.916283391622269,\n",
       "  'TS_dice_stomach': 0.7975554350219377},\n",
       " {'ct_name': '06-19-2008-NA-CT-43677.nii.gz',\n",
       "  'global_noise': 9.56757019245893,\n",
       "  'TS_macro_avg_dice': 0.7884329178879204,\n",
       "  'TS_micro_avg_dice': 0.9114909545073462,\n",
       "  'TS_dice_right adrenal gland': 0.3526170798898072,\n",
       "  'TS_dice_left adrenal gland': 0.39463466290151783,\n",
       "  'TS_dice_bladder': 0.9484527125197303,\n",
       "  'TS_dice_duodenum': 0.697094672690974,\n",
       "  'TS_dice_esophagus': 0.7786150159349754,\n",
       "  'TS_dice_gallbladder': 0.3868280103154136,\n",
       "  'TS_dice_heart': 0.8346785669430877,\n",
       "  'TS_dice_right kidney': 0.9594673819639086,\n",
       "  'TS_dice_left kidney': 0.9628637080326536,\n",
       "  'TS_dice_liver': 0.960462326546492,\n",
       "  'TS_dice_pancreas': 0.8388501285212191,\n",
       "  'TS_dice_prostate': 1.0,\n",
       "  'TS_dice_small bowel': 0.7942530628174872,\n",
       "  'TS_dice_spleen': 0.9554059924574868,\n",
       "  'TS_dice_stomach': 0.9622704467840519},\n",
       " {'ct_name': '03-03-2008-NA-CT-17995.nii.gz',\n",
       "  'global_noise': 7.765569667399111,\n",
       "  'TS_macro_avg_dice': 0.8046421041759924,\n",
       "  'TS_micro_avg_dice': 0.8853226157268121,\n",
       "  'TS_dice_right adrenal gland': 0.6170571696344892,\n",
       "  'TS_dice_left adrenal gland': 0.5448730009407338,\n",
       "  'TS_dice_bladder': 0.9359654456628855,\n",
       "  'TS_dice_duodenum': 0.44346451876019577,\n",
       "  'TS_dice_esophagus': 0.6554660266300931,\n",
       "  'TS_dice_gallbladder': 0.8419582130948617,\n",
       "  'TS_dice_heart': 0.89639305039714,\n",
       "  'TS_dice_right kidney': 0.9629570597895539,\n",
       "  'TS_dice_left kidney': 0.963039337519061,\n",
       "  'TS_dice_liver': 0.9626280600105956,\n",
       "  'TS_dice_pancreas': 0.8195611776940519,\n",
       "  'TS_dice_prostate': 1.0,\n",
       "  'TS_dice_small bowel': 0.590034100425885,\n",
       "  'TS_dice_spleen': 0.9417089057346765,\n",
       "  'TS_dice_stomach': 0.8945254963456638},\n",
       " {'ct_name': '07-24-2009-NA-CT-24103.nii.gz',\n",
       "  'global_noise': 10.449122360870756,\n",
       "  'TS_macro_avg_dice': 0.6693619550751616,\n",
       "  'TS_micro_avg_dice': 0.8522240041214498,\n",
       "  'TS_dice_right adrenal gland': 0.18200620475698034,\n",
       "  'TS_dice_left adrenal gland': 0.20377839099978773,\n",
       "  'TS_dice_bladder': 0.9476263319311032,\n",
       "  'TS_dice_duodenum': 0.22191152219115223,\n",
       "  'TS_dice_esophagus': 0.7587198399799975,\n",
       "  'TS_dice_gallbladder': 0.890237865721804,\n",
       "  'TS_dice_heart': 0.9084770521224247,\n",
       "  'TS_dice_right kidney': 0.9395986391203589,\n",
       "  'TS_dice_left kidney': 0.9510534356904389,\n",
       "  'TS_dice_liver': 0.9535980195647404,\n",
       "  'TS_dice_pancreas': 0.8316788638504456,\n",
       "  'TS_dice_prostate': 0.0,\n",
       "  'TS_dice_small bowel': 0.47225912500117473,\n",
       "  'TS_dice_spleen': 0.9271692171034037,\n",
       "  'TS_dice_stomach': 0.8523148180936125},\n",
       " {'ct_name': '12-28-2005-NA-CT-75282.nii.gz',\n",
       "  'global_noise': 11.79675569286928,\n",
       "  'TS_macro_avg_dice': 0.7704820143953189,\n",
       "  'TS_micro_avg_dice': 0.8794203310841222,\n",
       "  'TS_dice_right adrenal gland': 0.0,\n",
       "  'TS_dice_left adrenal gland': 0.5994762255503724,\n",
       "  'TS_dice_bladder': 0.8190682800262511,\n",
       "  'TS_dice_duodenum': 0.5287092853472115,\n",
       "  'TS_dice_esophagus': 0.6846801675069872,\n",
       "  'TS_dice_gallbladder': 0.8974806336799498,\n",
       "  'TS_dice_heart': 0.807522192617274,\n",
       "  'TS_dice_right kidney': 0.9500837445559007,\n",
       "  'TS_dice_left kidney': 0.9494872259327632,\n",
       "  'TS_dice_liver': 0.9506531274089312,\n",
       "  'TS_dice_pancreas': 0.749643488249635,\n",
       "  'TS_dice_prostate': 1.0,\n",
       "  'TS_dice_small bowel': 0.8037417167572587,\n",
       "  'TS_dice_spleen': 0.8687112162825531,\n",
       "  'TS_dice_stomach': 0.9479729120146966},\n",
       " {'ct_name': '05-28-2005-NA-CT-25797.nii.gz',\n",
       "  'global_noise': 7.518088936348875,\n",
       "  'TS_macro_avg_dice': 0.6604934206746933,\n",
       "  'TS_micro_avg_dice': 0.8452401900205981,\n",
       "  'TS_dice_right adrenal gland': 0.0,\n",
       "  'TS_dice_left adrenal gland': 0.0738986262434865,\n",
       "  'TS_dice_bladder': 0.9502241786225109,\n",
       "  'TS_dice_duodenum': 0.41971863736774795,\n",
       "  'TS_dice_esophagus': 0.6351053246247675,\n",
       "  'TS_dice_gallbladder': 0.034269757996276864,\n",
       "  'TS_dice_heart': 0.844312287410893,\n",
       "  'TS_dice_right kidney': 1.0,\n",
       "  'TS_dice_left kidney': 0.949733370936248,\n",
       "  'TS_dice_liver': 0.9277480410777567,\n",
       "  'TS_dice_pancreas': 0.6008313853736053,\n",
       "  'TS_dice_prostate': 1.0,\n",
       "  'TS_dice_small bowel': 0.6796249596100067,\n",
       "  'TS_dice_spleen': 0.90172137983839,\n",
       "  'TS_dice_stomach': 0.8902133610187088},\n",
       " {'ct_name': '03-18-2008-NA-CT-94564.nii.gz',\n",
       "  'global_noise': 9.352217813832912,\n",
       "  'TS_macro_avg_dice': 0.8032322400532471,\n",
       "  'TS_micro_avg_dice': 0.8645161071584169,\n",
       "  'TS_dice_right adrenal gland': 0.49960390810668076,\n",
       "  'TS_dice_left adrenal gland': 0.6330337078651685,\n",
       "  'TS_dice_bladder': 0.404739336492891,\n",
       "  'TS_dice_duodenum': 0.7188864329685988,\n",
       "  'TS_dice_esophagus': 0.7474470609864122,\n",
       "  'TS_dice_gallbladder': 0.8993620482959411,\n",
       "  'TS_dice_heart': 0.8260469641080966,\n",
       "  'TS_dice_right kidney': 0.959524724381521,\n",
       "  'TS_dice_left kidney': 0.964399555704802,\n",
       "  'TS_dice_liver': 0.9695126745405985,\n",
       "  'TS_dice_pancreas': 0.845874494566374,\n",
       "  'TS_dice_prostate': 1.0,\n",
       "  'TS_dice_small bowel': 0.7005307145942893,\n",
       "  'TS_dice_spleen': 0.9446775310274985,\n",
       "  'TS_dice_stomach': 0.9348444471598332},\n",
       " {'ct_name': '01-03-2008-NA-CT-22033.nii.gz',\n",
       "  'global_noise': 7.373493328775951,\n",
       "  'TS_macro_avg_dice': 0.7716031243544348,\n",
       "  'TS_micro_avg_dice': 0.8973820717494603,\n",
       "  'TS_dice_right adrenal gland': 0.5075987841945289,\n",
       "  'TS_dice_left adrenal gland': 0.1677762982689747,\n",
       "  'TS_dice_bladder': 0.9195286704273314,\n",
       "  'TS_dice_duodenum': 0.7112591163884033,\n",
       "  'TS_dice_esophagus': 0.6983303614848436,\n",
       "  'TS_dice_gallbladder': 0.6100264799605045,\n",
       "  'TS_dice_heart': 0.9034179828772078,\n",
       "  'TS_dice_right kidney': 0.9561854848986874,\n",
       "  'TS_dice_left kidney': 0.9636823526530669,\n",
       "  'TS_dice_liver': 0.9591195744631843,\n",
       "  'TS_dice_pancreas': 0.7318162903261132,\n",
       "  'TS_dice_prostate': 1.0,\n",
       "  'TS_dice_small bowel': 0.7055703040825392,\n",
       "  'TS_dice_spleen': 0.8154843359901388,\n",
       "  'TS_dice_stomach': 0.924250829300998},\n",
       " {'ct_name': '04-04-2008-NA-CT-92494.nii.gz',\n",
       "  'global_noise': 8.569285957042453,\n",
       "  'TS_macro_avg_dice': 0.7272497900882127,\n",
       "  'TS_micro_avg_dice': 0.8598435141963556,\n",
       "  'TS_dice_right adrenal gland': 1.0,\n",
       "  'TS_dice_left adrenal gland': 0.08020565552699228,\n",
       "  'TS_dice_bladder': 0.8694615030428101,\n",
       "  'TS_dice_duodenum': 0.46810757798649616,\n",
       "  'TS_dice_esophagus': 0.7021804803637125,\n",
       "  'TS_dice_gallbladder': 0.8846888716757035,\n",
       "  'TS_dice_heart': 0.80977318566222,\n",
       "  'TS_dice_right kidney': 0.0,\n",
       "  'TS_dice_left kidney': 0.9506224297899853,\n",
       "  'TS_dice_liver': 0.9435773840541949,\n",
       "  'TS_dice_pancreas': 0.6237039358562512,\n",
       "  'TS_dice_prostate': 1.0,\n",
       "  'TS_dice_small bowel': 0.7595733772137789,\n",
       "  'TS_dice_spleen': 0.8965564557164665,\n",
       "  'TS_dice_stomach': 0.9202959944345805},\n",
       " {'ct_name': '09-30-2008-NA-CT-32008.nii.gz',\n",
       "  'global_noise': 8.491029797597083,\n",
       "  'TS_macro_avg_dice': 0.6662918280899316,\n",
       "  'TS_micro_avg_dice': 0.7836741045247312,\n",
       "  'TS_dice_right adrenal gland': 0.0,\n",
       "  'TS_dice_left adrenal gland': 0.0,\n",
       "  'TS_dice_bladder': 0.850550034105319,\n",
       "  'TS_dice_duodenum': 0.35730017967889643,\n",
       "  'TS_dice_esophagus': 0.45476073455162863,\n",
       "  'TS_dice_gallbladder': 0.8954785555297167,\n",
       "  'TS_dice_heart': 0.8340437613323267,\n",
       "  'TS_dice_right kidney': 0.9513128848070492,\n",
       "  'TS_dice_left kidney': 0.9423069448223398,\n",
       "  'TS_dice_liver': 0.9243124640011304,\n",
       "  'TS_dice_pancreas': 0.6342470356679948,\n",
       "  'TS_dice_prostate': 1.0,\n",
       "  'TS_dice_small bowel': 0.6086397145103644,\n",
       "  'TS_dice_spleen': 0.854020232841134,\n",
       "  'TS_dice_stomach': 0.6874048795010742},\n",
       " {'ct_name': '12-04-2007-NA-CT-61512.nii.gz',\n",
       "  'global_noise': 10.303354732846374,\n",
       "  'TS_macro_avg_dice': 0.8226822724936234,\n",
       "  'TS_micro_avg_dice': 0.9288293414089505,\n",
       "  'TS_dice_right adrenal gland': 0.4455594581033618,\n",
       "  'TS_dice_left adrenal gland': 0.4580808080808081,\n",
       "  'TS_dice_bladder': 0.9080623659653394,\n",
       "  'TS_dice_duodenum': 0.6939564906748134,\n",
       "  'TS_dice_esophagus': 0.5568137227423062,\n",
       "  'TS_dice_gallbladder': 0.8971812703806499,\n",
       "  'TS_dice_heart': 0.8548889150830136,\n",
       "  'TS_dice_right kidney': 0.9616713011892425,\n",
       "  'TS_dice_left kidney': 0.9616993991980981,\n",
       "  'TS_dice_liver': 0.9699934901484246,\n",
       "  'TS_dice_pancreas': 0.8538369615387047,\n",
       "  'TS_dice_prostate': 1.0,\n",
       "  'TS_dice_small bowel': 0.8884198398794542,\n",
       "  'TS_dice_spleen': 0.9547070655817915,\n",
       "  'TS_dice_stomach': 0.9353629988383433},\n",
       " {'ct_name': '09-23-2008-NA-CT-19039.nii.gz',\n",
       "  'global_noise': 8.506341553289971,\n",
       "  'TS_macro_avg_dice': 0.8629322061089698,\n",
       "  'TS_micro_avg_dice': 0.9092554044207309,\n",
       "  'TS_dice_right adrenal gland': 0.7566227730441518,\n",
       "  'TS_dice_left adrenal gland': 0.6597005614472864,\n",
       "  'TS_dice_bladder': 0.9571148476325844,\n",
       "  'TS_dice_duodenum': 0.7757526576320701,\n",
       "  'TS_dice_esophagus': 0.7300343495062258,\n",
       "  'TS_dice_gallbladder': 0.8846993451081564,\n",
       "  'TS_dice_heart': 0.8135034359251017,\n",
       "  'TS_dice_right kidney': 0.9732042698556919,\n",
       "  'TS_dice_left kidney': 0.9724565342168167,\n",
       "  'TS_dice_liver': 0.963737816936298,\n",
       "  'TS_dice_pancreas': 0.8981131038651491,\n",
       "  'TS_dice_prostate': 0.839236824093087,\n",
       "  'TS_dice_small bowel': 0.8281815584954577,\n",
       "  'TS_dice_spleen': 0.9681261396044696,\n",
       "  'TS_dice_stomach': 0.9234988742719982},\n",
       " {'ct_name': '02-17-2005-NA-CT-30517.nii.gz',\n",
       "  'global_noise': 12.307863824618826,\n",
       "  'TS_macro_avg_dice': 0.7274769730999294,\n",
       "  'TS_micro_avg_dice': 0.9106543395616322,\n",
       "  'TS_dice_right adrenal gland': 0.4145978891036123,\n",
       "  'TS_dice_left adrenal gland': 0.5083887763957188,\n",
       "  'TS_dice_bladder': 0.7137061784102742,\n",
       "  'TS_dice_duodenum': 0.6557908246307889,\n",
       "  'TS_dice_esophagus': 0.5042488963339091,\n",
       "  'TS_dice_gallbladder': 0.9073256356106525,\n",
       "  'TS_dice_heart': 0.8049919758044505,\n",
       "  'TS_dice_right kidney': 0.9641748172634856,\n",
       "  'TS_dice_left kidney': 0.9525634207588303,\n",
       "  'TS_dice_liver': 0.9625580602566283,\n",
       "  'TS_dice_pancreas': 0.7497065314363526,\n",
       "  'TS_dice_prostate': 0.0,\n",
       "  'TS_dice_small bowel': 0.8841574161122581,\n",
       "  'TS_dice_spleen': 0.9539680460348225,\n",
       "  'TS_dice_stomach': 0.9359761283471585},\n",
       " {'ct_name': '08-27-2009-NA-CT-24211.nii.gz',\n",
       "  'global_noise': 12.355875832571769,\n",
       "  'TS_macro_avg_dice': 0.8820055961197889,\n",
       "  'TS_micro_avg_dice': 0.9377070859219561,\n",
       "  'TS_dice_right adrenal gland': 0.7390668184035116,\n",
       "  'TS_dice_left adrenal gland': 0.6766954995612385,\n",
       "  'TS_dice_bladder': 0.9191832304770262,\n",
       "  'TS_dice_duodenum': 0.787475016655563,\n",
       "  'TS_dice_esophagus': 0.7580239752513535,\n",
       "  'TS_dice_gallbladder': 0.9068011549867333,\n",
       "  'TS_dice_heart': 0.9096535200306728,\n",
       "  'TS_dice_right kidney': 0.9580104323200633,\n",
       "  'TS_dice_left kidney': 0.9589432321712231,\n",
       "  'TS_dice_liver': 0.9599148906331488,\n",
       "  'TS_dice_pancreas': 0.864886683765715,\n",
       "  'TS_dice_prostate': 1.0,\n",
       "  'TS_dice_small bowel': 0.8887258779097668,\n",
       "  'TS_dice_spleen': 0.9591701465984352,\n",
       "  'TS_dice_stomach': 0.9435334630323818},\n",
       " {'ct_name': '01-12-2008-NA-CT-17970.nii.gz',\n",
       "  'global_noise': 10.148538430510701,\n",
       "  'TS_macro_avg_dice': 0.6040797113491965,\n",
       "  'TS_micro_avg_dice': 0.8682318050972853,\n",
       "  'TS_dice_right adrenal gland': 0.0,\n",
       "  'TS_dice_left adrenal gland': 0.0,\n",
       "  'TS_dice_bladder': 0.9082940808829134,\n",
       "  'TS_dice_duodenum': 0.6585710846274226,\n",
       "  'TS_dice_esophagus': 0.6700869735170527,\n",
       "  'TS_dice_gallbladder': 0.8419784300557026,\n",
       "  'TS_dice_heart': 0.86986141570622,\n",
       "  'TS_dice_right kidney': 0.0,\n",
       "  'TS_dice_left kidney': 0.9485799515256976,\n",
       "  'TS_dice_liver': 0.9636560817185152,\n",
       "  'TS_dice_pancreas': 0.6366251198465963,\n",
       "  'TS_dice_prostate': 0.012718600953895072,\n",
       "  'TS_dice_small bowel': 0.6995823252566834,\n",
       "  'TS_dice_spleen': 0.9202644075476781,\n",
       "  'TS_dice_stomach': 0.9309771985995692},\n",
       " {'ct_name': '01-29-2004-NA-CT-90529.nii.gz',\n",
       "  'global_noise': 9.916672858912767,\n",
       "  'TS_macro_avg_dice': 0.7866355847023002,\n",
       "  'TS_micro_avg_dice': 0.8746828091266565,\n",
       "  'TS_dice_right adrenal gland': 0.693730074388948,\n",
       "  'TS_dice_left adrenal gland': 0.5640222686151705,\n",
       "  'TS_dice_bladder': 0.9386809990634368,\n",
       "  'TS_dice_duodenum': 0.2776291449450398,\n",
       "  'TS_dice_esophagus': 0.609086268504339,\n",
       "  'TS_dice_gallbladder': 0.8743423642675638,\n",
       "  'TS_dice_heart': 0.8326258768204395,\n",
       "  'TS_dice_right kidney': 0.7325349603283836,\n",
       "  'TS_dice_left kidney': 0.9201276856122692,\n",
       "  'TS_dice_liver': 0.9737502419667053,\n",
       "  'TS_dice_pancreas': 0.7997401374884818,\n",
       "  'TS_dice_prostate': 1.0,\n",
       "  'TS_dice_small bowel': 0.75587972744441,\n",
       "  'TS_dice_spleen': 0.9566661331626121,\n",
       "  'TS_dice_stomach': 0.8707178879267043},\n",
       " {'ct_name': '01-17-2004-NA-CT-75820.nii.gz',\n",
       "  'global_noise': 13.15570401763335,\n",
       "  'TS_macro_avg_dice': 0.859068301554166,\n",
       "  'TS_micro_avg_dice': 0.9215250709944726,\n",
       "  'TS_dice_right adrenal gland': 0.5231860799053974,\n",
       "  'TS_dice_left adrenal gland': 0.6205453475446283,\n",
       "  'TS_dice_bladder': 0.9524851874043007,\n",
       "  'TS_dice_duodenum': 0.714021298047261,\n",
       "  'TS_dice_esophagus': 0.8145350351654077,\n",
       "  'TS_dice_gallbladder': 0.8774271912278454,\n",
       "  'TS_dice_heart': 0.8347828615672063,\n",
       "  'TS_dice_right kidney': 0.9621005781076669,\n",
       "  'TS_dice_left kidney': 0.9543653786694654,\n",
       "  'TS_dice_liver': 0.9649542517368529,\n",
       "  'TS_dice_pancreas': 0.9016520512892351,\n",
       "  'TS_dice_prostate': 1.0,\n",
       "  'TS_dice_small bowel': 0.8393772316713192,\n",
       "  'TS_dice_spleen': 0.9663943252548371,\n",
       "  'TS_dice_stomach': 0.9601977057210664},\n",
       " {'ct_name': '04-26-2009-NA-CT-20204.nii.gz',\n",
       "  'global_noise': 8.942773687827394,\n",
       "  'TS_macro_avg_dice': 0.5858757612425384,\n",
       "  'TS_micro_avg_dice': 0.8366430025827419,\n",
       "  'TS_dice_right adrenal gland': 0.4416746564397571,\n",
       "  'TS_dice_left adrenal gland': 0.3203309692671395,\n",
       "  'TS_dice_bladder': 0.9096836252082644,\n",
       "  'TS_dice_duodenum': 0.06732141715843967,\n",
       "  'TS_dice_esophagus': 0.6553803339517625,\n",
       "  'TS_dice_gallbladder': 0.8824191062257111,\n",
       "  'TS_dice_heart': 0.9020979605017734,\n",
       "  'TS_dice_right kidney': 0.9281383805892253,\n",
       "  'TS_dice_left kidney': 0.9511235368983287,\n",
       "  'TS_dice_liver': 0.9456984965969537,\n",
       "  'TS_dice_pancreas': 0.5683467346538537,\n",
       "  'TS_dice_prostate': 0.0,\n",
       "  'TS_dice_small bowel': 0.4379117504267722,\n",
       "  'TS_dice_spleen': 0.0,\n",
       "  'TS_dice_stomach': 0.7780094507200933},\n",
       " {'ct_name': '06-17-2004-NA-CT-15996.nii.gz',\n",
       "  'global_noise': 7.561566127958469,\n",
       "  'TS_macro_avg_dice': 0.7838133989221269,\n",
       "  'TS_micro_avg_dice': 0.8657114655980488,\n",
       "  'TS_dice_right adrenal gland': 0.6103828002097536,\n",
       "  'TS_dice_left adrenal gland': 0.000882223202470225,\n",
       "  'TS_dice_bladder': 0.9320103377931499,\n",
       "  'TS_dice_duodenum': 0.606116135430253,\n",
       "  'TS_dice_esophagus': 0.7684911359574905,\n",
       "  'TS_dice_gallbladder': 0.8591004089050431,\n",
       "  'TS_dice_heart': 0.8340008140958998,\n",
       "  'TS_dice_right kidney': 0.9497180570311025,\n",
       "  'TS_dice_left kidney': 0.9438421152508065,\n",
       "  'TS_dice_liver': 0.9608668914790679,\n",
       "  'TS_dice_pancreas': 0.8050577015844744,\n",
       "  'TS_dice_prostate': 1.0,\n",
       "  'TS_dice_small bowel': 0.6615354927204784,\n",
       "  'TS_dice_spleen': 0.9246435746264487,\n",
       "  'TS_dice_stomach': 0.9005532955454638},\n",
       " {'ct_name': '07-10-2008-NA-CT-51949.nii.gz',\n",
       "  'global_noise': 9.915802611624205,\n",
       "  'TS_macro_avg_dice': 0.765210877318524,\n",
       "  'TS_micro_avg_dice': 0.9366768492036829,\n",
       "  'TS_dice_right adrenal gland': 0.5959668707238026,\n",
       "  'TS_dice_left adrenal gland': 0.5536807525757802,\n",
       "  'TS_dice_bladder': 0.9546852518585562,\n",
       "  'TS_dice_duodenum': 0.5509416454014383,\n",
       "  'TS_dice_esophagus': 0.5254019927000099,\n",
       "  'TS_dice_gallbladder': 0.9035258381553678,\n",
       "  'TS_dice_heart': 0.8269189560066439,\n",
       "  'TS_dice_right kidney': 0.9708581168040628,\n",
       "  'TS_dice_left kidney': 0.9721309870312513,\n",
       "  'TS_dice_liver': 0.9655319678352077,\n",
       "  'TS_dice_pancreas': 0.8866382412011728,\n",
       "  'TS_dice_prostate': 0.0,\n",
       "  'TS_dice_small bowel': 0.8785306077167594,\n",
       "  'TS_dice_spleen': 0.9678646403084914,\n",
       "  'TS_dice_stomach': 0.9254872914593154},\n",
       " {'ct_name': '02-15-2005-NA-CT-94794.nii.gz',\n",
       "  'global_noise': 12.65624697947645,\n",
       "  'TS_macro_avg_dice': 0.8222967004050487,\n",
       "  'TS_micro_avg_dice': 0.9129516012765704,\n",
       "  'TS_dice_right adrenal gland': 0.6721707004448466,\n",
       "  'TS_dice_left adrenal gland': 0.6031800503317318,\n",
       "  'TS_dice_bladder': 0.8316534234972259,\n",
       "  'TS_dice_duodenum': 0.6407443702590986,\n",
       "  'TS_dice_esophagus': 0.6051467778040658,\n",
       "  'TS_dice_gallbladder': 0.9071038824213897,\n",
       "  'TS_dice_heart': 0.7563560253968183,\n",
       "  'TS_dice_right kidney': 0.9592908794812215,\n",
       "  'TS_dice_left kidney': 0.9587613627965412,\n",
       "  'TS_dice_liver': 0.9724680369839142,\n",
       "  'TS_dice_pancreas': 0.6393674654692761,\n",
       "  'TS_dice_prostate': 1.0,\n",
       "  'TS_dice_small bowel': 0.8686476351920206,\n",
       "  'TS_dice_spleen': 0.9687169556798155,\n",
       "  'TS_dice_stomach': 0.9508429403177643},\n",
       " {'ct_name': '07-21-2009-NA-CT-27956.nii.gz',\n",
       "  'global_noise': 10.20660507315969,\n",
       "  'TS_macro_avg_dice': 0.7997282022521098,\n",
       "  'TS_micro_avg_dice': 0.9137933990083026,\n",
       "  'TS_dice_right adrenal gland': 0.496052378201425,\n",
       "  'TS_dice_left adrenal gland': 0.35640732265446223,\n",
       "  'TS_dice_bladder': 0.9128414137419425,\n",
       "  'TS_dice_duodenum': 0.6446275762800335,\n",
       "  'TS_dice_esophagus': 0.4825826209008549,\n",
       "  'TS_dice_gallbladder': 0.8137509234284537,\n",
       "  'TS_dice_heart': 0.9038351480779953,\n",
       "  'TS_dice_right kidney': 0.9584668769716088,\n",
       "  'TS_dice_left kidney': 0.9577046653324156,\n",
       "  'TS_dice_liver': 0.9534345167976902,\n",
       "  'TS_dice_pancreas': 0.8051530227854288,\n",
       "  'TS_dice_prostate': 1.0,\n",
       "  'TS_dice_small bowel': 0.8331022794003689,\n",
       "  'TS_dice_spleen': 0.9386324769426954,\n",
       "  'TS_dice_stomach': 0.9393318122662724},\n",
       " {'ct_name': '11-08-2005-NA-CT-08221.nii.gz',\n",
       "  'global_noise': 6.68866507762872,\n",
       "  'TS_macro_avg_dice': 0.575901478329072,\n",
       "  'TS_micro_avg_dice': 0.6373158066855642,\n",
       "  'TS_dice_right adrenal gland': 0.40329218106995884,\n",
       "  'TS_dice_left adrenal gland': 0.0,\n",
       "  'TS_dice_bladder': 0.6207464242021478,\n",
       "  'TS_dice_duodenum': 0.5093873335546457,\n",
       "  'TS_dice_esophagus': 0.6182464323393858,\n",
       "  'TS_dice_gallbladder': 0.0,\n",
       "  'TS_dice_heart': 0.8331302011292261,\n",
       "  'TS_dice_right kidney': 0.1575391279269686,\n",
       "  'TS_dice_left kidney': 0.9384372600150215,\n",
       "  'TS_dice_liver': 0.922371778235415,\n",
       "  'TS_dice_pancreas': 0.6879977755268227,\n",
       "  'TS_dice_prostate': 1.0,\n",
       "  'TS_dice_small bowel': 0.36700869522134416,\n",
       "  'TS_dice_spleen': 0.819369189528318,\n",
       "  'TS_dice_stomach': 0.7609957761868262},\n",
       " {'ct_name': '07-20-2008-NA-CT-75870.nii.gz',\n",
       "  'global_noise': 9.696714739856503,\n",
       "  'TS_macro_avg_dice': 0.6767571115465782,\n",
       "  'TS_micro_avg_dice': 0.7966293180895934,\n",
       "  'TS_dice_right adrenal gland': 0.4199881023200476,\n",
       "  'TS_dice_left adrenal gland': 0.27113480578827115,\n",
       "  'TS_dice_bladder': 0.6678915183590644,\n",
       "  'TS_dice_duodenum': 0.1604091963720734,\n",
       "  'TS_dice_esophagus': 0.7317453443048939,\n",
       "  'TS_dice_gallbladder': 0.6643163899750016,\n",
       "  'TS_dice_heart': 0.8534850845306099,\n",
       "  'TS_dice_right kidney': 0.9070994468850295,\n",
       "  'TS_dice_left kidney': 0.924186779575991,\n",
       "  'TS_dice_liver': 0.9389847188227657,\n",
       "  'TS_dice_pancreas': 0.5661048885166964,\n",
       "  'TS_dice_prostate': 1.0,\n",
       "  'TS_dice_small bowel': 0.3372645955499733,\n",
       "  'TS_dice_spleen': 0.8741130521054417,\n",
       "  'TS_dice_stomach': 0.8346327500928155},\n",
       " {'ct_name': '12-28-2004-NA-CT-35910.nii.gz',\n",
       "  'global_noise': 9.224295078738773,\n",
       "  'TS_macro_avg_dice': 0.6293991523523782,\n",
       "  'TS_micro_avg_dice': 0.8477792331963568,\n",
       "  'TS_dice_right adrenal gland': 0.39036312849162014,\n",
       "  'TS_dice_left adrenal gland': 0.21987421383647798,\n",
       "  'TS_dice_bladder': 0.9013458101146041,\n",
       "  'TS_dice_duodenum': 0.09505152535455566,\n",
       "  'TS_dice_esophagus': 0.6380112357999641,\n",
       "  'TS_dice_gallbladder': 0.7746872343009839,\n",
       "  'TS_dice_heart': 0.8436515796329506,\n",
       "  'TS_dice_right kidney': 0.9566337770043873,\n",
       "  'TS_dice_left kidney': 0.9515379352663615,\n",
       "  'TS_dice_liver': 0.9493338708535957,\n",
       "  'TS_dice_pancreas': 0.8442885981067887,\n",
       "  'TS_dice_prostate': 0.030431107354184278,\n",
       "  'TS_dice_small bowel': 0.0,\n",
       "  'TS_dice_spleen': 0.9320502566272968,\n",
       "  'TS_dice_stomach': 0.913727012541901},\n",
       " {'ct_name': '06-03-2009-NA-CT-66767.nii.gz',\n",
       "  'global_noise': 11.557806121571264,\n",
       "  'TS_macro_avg_dice': 0.886897747694967,\n",
       "  'TS_micro_avg_dice': 0.9438890207552596,\n",
       "  'TS_dice_right adrenal gland': 0.6706403269754768,\n",
       "  'TS_dice_left adrenal gland': 0.6805234795996921,\n",
       "  'TS_dice_bladder': 0.9545955063633004,\n",
       "  'TS_dice_duodenum': 0.7785539108347201,\n",
       "  'TS_dice_esophagus': 0.836984176233323,\n",
       "  'TS_dice_gallbladder': 0.9133837792859557,\n",
       "  'TS_dice_heart': 0.9067549122801538,\n",
       "  'TS_dice_right kidney': 0.960613964939018,\n",
       "  'TS_dice_left kidney': 0.9550498108180878,\n",
       "  'TS_dice_liver': 0.9781973946770248,\n",
       "  'TS_dice_pancreas': 0.853402488591876,\n",
       "  'TS_dice_prostate': 1.0,\n",
       "  'TS_dice_small bowel': 0.8904013181568531,\n",
       "  'TS_dice_spleen': 0.9728154857543516,\n",
       "  'TS_dice_stomach': 0.9515496609146736},\n",
       " {'ct_name': '10-09-2009-NA-CT-45894.nii.gz',\n",
       "  'global_noise': 8.877426902676195,\n",
       "  'TS_macro_avg_dice': 0.7915882554732815,\n",
       "  'TS_micro_avg_dice': 0.8868709780571569,\n",
       "  'TS_dice_right adrenal gland': 0.5195020746887967,\n",
       "  'TS_dice_left adrenal gland': 0.6044675524744849,\n",
       "  'TS_dice_bladder': 0.9359403277084862,\n",
       "  'TS_dice_duodenum': 0.6918468250121182,\n",
       "  'TS_dice_esophagus': 0.7849942580068904,\n",
       "  'TS_dice_gallbladder': 0.9296141356814791,\n",
       "  'TS_dice_heart': 0.8672479693465652,\n",
       "  'TS_dice_right kidney': 0.9569474312855208,\n",
       "  'TS_dice_left kidney': 0.96237973000908,\n",
       "  'TS_dice_liver': 0.9590516771454983,\n",
       "  'TS_dice_pancreas': 0.8662226472535495,\n",
       "  'TS_dice_prostate': 0.15732758620689655,\n",
       "  'TS_dice_small bowel': 0.744256397527257,\n",
       "  'TS_dice_spleen': 0.9699419432577501,\n",
       "  'TS_dice_stomach': 0.9240832764948521},\n",
       " {'ct_name': '05-04-2005-NA-CT-87446.nii.gz',\n",
       "  'global_noise': 9.543416266853981,\n",
       "  'TS_macro_avg_dice': 0.6920365622582971,\n",
       "  'TS_micro_avg_dice': 0.8682288143833161,\n",
       "  'TS_dice_right adrenal gland': 0.3245248029670839,\n",
       "  'TS_dice_left adrenal gland': 0.0,\n",
       "  'TS_dice_bladder': 0.9248550515333188,\n",
       "  'TS_dice_duodenum': 0.47686679998049064,\n",
       "  'TS_dice_esophagus': 0.630335466917393,\n",
       "  'TS_dice_gallbladder': 0.7604078164825828,\n",
       "  'TS_dice_heart': 0.8354091092440928,\n",
       "  'TS_dice_right kidney': 0.9225134401332655,\n",
       "  'TS_dice_left kidney': 0.941142163397448,\n",
       "  'TS_dice_liver': 0.9420718566409825,\n",
       "  'TS_dice_pancreas': 0.58873274085919,\n",
       "  'TS_dice_prostate': 0.49454905847373637,\n",
       "  'TS_dice_small bowel': 0.7228657955484021,\n",
       "  'TS_dice_spleen': 0.8975034516364818,\n",
       "  'TS_dice_stomach': 0.9187708800599892},\n",
       " {'ct_name': '05-30-2008-NA-CT-57300.nii.gz',\n",
       "  'global_noise': 10.51277458477781,\n",
       "  'TS_macro_avg_dice': 0.5827404600190407,\n",
       "  'TS_micro_avg_dice': 0.7761462580823759,\n",
       "  'TS_dice_right adrenal gland': 0.34285714285714286,\n",
       "  'TS_dice_left adrenal gland': 0.102880658436214,\n",
       "  'TS_dice_bladder': 0.8144021844128746,\n",
       "  'TS_dice_duodenum': 0.31470019135584704,\n",
       "  'TS_dice_esophagus': 0.5160122061634419,\n",
       "  'TS_dice_gallbladder': 0.1849662516245336,\n",
       "  'TS_dice_heart': 0.8732470432445766,\n",
       "  'TS_dice_right kidney': 0.9283968588076206,\n",
       "  'TS_dice_left kidney': 0.9259134800021945,\n",
       "  'TS_dice_liver': 0.9492024324255061,\n",
       "  'TS_dice_pancreas': 0.7360596127321906,\n",
       "  'TS_dice_prostate': 0.0,\n",
       "  'TS_dice_small bowel': 0.3488092122481026,\n",
       "  'TS_dice_spleen': 0.8438812422659041,\n",
       "  'TS_dice_stomach': 0.8597783837094622},\n",
       " {'ct_name': '05-13-2005-NA-CT-44431.nii.gz',\n",
       "  'global_noise': 12.547513947524592,\n",
       "  'TS_macro_avg_dice': 0.8191432960629577,\n",
       "  'TS_micro_avg_dice': 0.9245687216597144,\n",
       "  'TS_dice_right adrenal gland': 0.4088050314465409,\n",
       "  'TS_dice_left adrenal gland': 0.4997712601026788,\n",
       "  'TS_dice_bladder': 0.9146692189662956,\n",
       "  'TS_dice_duodenum': 0.5986110821463577,\n",
       "  'TS_dice_esophagus': 0.7728784008433686,\n",
       "  'TS_dice_gallbladder': 0.8099135787535449,\n",
       "  'TS_dice_heart': 0.854095701179225,\n",
       "  'TS_dice_right kidney': 0.9602705497392969,\n",
       "  'TS_dice_left kidney': 0.9640412046180171,\n",
       "  'TS_dice_liver': 0.9591017929914849,\n",
       "  'TS_dice_pancreas': 0.7669122652948593,\n",
       "  'TS_dice_prostate': 1.0,\n",
       "  'TS_dice_small bowel': 0.879552642782156,\n",
       "  'TS_dice_spleen': 0.9549190542389215,\n",
       "  'TS_dice_stomach': 0.9436076578416175},\n",
       " {'ct_name': '09-29-2004-NA-CT-18077.nii.gz',\n",
       "  'global_noise': 11.600935593326165,\n",
       "  'TS_macro_avg_dice': 0.5943522164844702,\n",
       "  'TS_micro_avg_dice': 0.8695823531455015,\n",
       "  'TS_dice_right adrenal gland': 0.07122982749026155,\n",
       "  'TS_dice_left adrenal gland': 0.0,\n",
       "  'TS_dice_bladder': 0.7453963567677176,\n",
       "  'TS_dice_duodenum': 0.5422062248967751,\n",
       "  'TS_dice_esophagus': 0.6507770705047928,\n",
       "  'TS_dice_gallbladder': 0.8125762476460983,\n",
       "  'TS_dice_heart': 0.8344616218701073,\n",
       "  'TS_dice_right kidney': 0.9522497738638998,\n",
       "  'TS_dice_left kidney': 0.0,\n",
       "  'TS_dice_liver': 0.9546806754526265,\n",
       "  'TS_dice_pancreas': 0.72185761017082,\n",
       "  'TS_dice_prostate': 0.03271349862258953,\n",
       "  'TS_dice_small bowel': 0.7612731908402921,\n",
       "  'TS_dice_spleen': 0.9028656258295945,\n",
       "  'TS_dice_stomach': 0.9329955233114792},\n",
       " {'ct_name': '12-09-2008-NA-CT-41199.nii.gz',\n",
       "  'global_noise': 8.950486898008348,\n",
       "  'TS_macro_avg_dice': 0.7233015827266466,\n",
       "  'TS_micro_avg_dice': 0.7529031200078877,\n",
       "  'TS_dice_right adrenal gland': 0.3557085484796328,\n",
       "  'TS_dice_left adrenal gland': 0.024657534246575342,\n",
       "  'TS_dice_bladder': 0.9111751544559743,\n",
       "  'TS_dice_duodenum': 0.2922,\n",
       "  'TS_dice_esophagus': 0.6987527512839325,\n",
       "  'TS_dice_gallbladder': 0.8772338070171475,\n",
       "  'TS_dice_heart': 0.9122833588279542,\n",
       "  'TS_dice_right kidney': 0.9372077326120631,\n",
       "  'TS_dice_left kidney': 0.9449150921340673,\n",
       "  'TS_dice_liver': 0.9565948854565511,\n",
       "  'TS_dice_pancreas': 0.7460599234061726,\n",
       "  'TS_dice_prostate': 1.0,\n",
       "  'TS_dice_small bowel': 0.29886300123248016,\n",
       "  'TS_dice_spleen': 0.9438369483021449,\n",
       "  'TS_dice_stomach': 0.9500350034450031},\n",
       " {'ct_name': '09-18-2009-NA-CT-39365.nii.gz',\n",
       "  'global_noise': 7.410621478505739,\n",
       "  'TS_macro_avg_dice': 0.7352348059227013,\n",
       "  'TS_micro_avg_dice': 0.8738015206105904,\n",
       "  'TS_dice_right adrenal gland': 0.39757040309221425,\n",
       "  'TS_dice_left adrenal gland': 0.48772763262074426,\n",
       "  'TS_dice_bladder': 0.9242718446601942,\n",
       "  'TS_dice_duodenum': 0.6699551347197779,\n",
       "  'TS_dice_esophagus': 0.6909702748177229,\n",
       "  'TS_dice_gallbladder': 0.8904265023249605,\n",
       "  'TS_dice_heart': 0.7058630831570777,\n",
       "  'TS_dice_right kidney': 0.9476578161436812,\n",
       "  'TS_dice_left kidney': 0.9558616145950928,\n",
       "  'TS_dice_liver': 0.9528638793845814,\n",
       "  'TS_dice_pancreas': 0.806370106403326,\n",
       "  'TS_dice_prostate': 0.02591419522027066,\n",
       "  'TS_dice_small bowel': 0.7318165891379206,\n",
       "  'TS_dice_spleen': 0.9567464698301547,\n",
       "  'TS_dice_stomach': 0.8845065427328008},\n",
       " {'ct_name': '05-01-2008-NA-CT-59741.nii.gz',\n",
       "  'global_noise': 9.139120749484457,\n",
       "  'TS_macro_avg_dice': 0.7743409127045557,\n",
       "  'TS_micro_avg_dice': 0.8490778800426831,\n",
       "  'TS_dice_right adrenal gland': 1.0,\n",
       "  'TS_dice_left adrenal gland': 0.6006203955021326,\n",
       "  'TS_dice_bladder': 0.939022284220639,\n",
       "  'TS_dice_duodenum': 0.5240186365340331,\n",
       "  'TS_dice_esophagus': 0.6898975547745457,\n",
       "  'TS_dice_gallbladder': 0.8961029691663495,\n",
       "  'TS_dice_heart': 0.8786045705704549,\n",
       "  'TS_dice_right kidney': 0.9167537130732822,\n",
       "  'TS_dice_left kidney': 0.960292421142533,\n",
       "  'TS_dice_liver': 0.9508947010909461,\n",
       "  'TS_dice_pancreas': 0.7862225943174088,\n",
       "  'TS_dice_prostate': 0.0,\n",
       "  'TS_dice_small bowel': 0.6551054866930858,\n",
       "  'TS_dice_spleen': 0.953224674037178,\n",
       "  'TS_dice_stomach': 0.8643536894457463},\n",
       " {'ct_name': '12-31-2007-NA-CT-49090.nii.gz',\n",
       "  'global_noise': 9.046007556050501,\n",
       "  'TS_macro_avg_dice': 0.8162235570620839,\n",
       "  'TS_micro_avg_dice': 0.8999376411138588,\n",
       "  'TS_dice_right adrenal gland': 0.5871678548282566,\n",
       "  'TS_dice_left adrenal gland': 0.6360518860891605,\n",
       "  'TS_dice_bladder': 0.9576647930140545,\n",
       "  'TS_dice_duodenum': 0.6474747909405166,\n",
       "  'TS_dice_esophagus': 0.44518627320069437,\n",
       "  'TS_dice_gallbladder': 0.8285375494071147,\n",
       "  'TS_dice_heart': 0.9052960020911094,\n",
       "  'TS_dice_right kidney': 0.962202188341887,\n",
       "  'TS_dice_left kidney': 0.9695287639392346,\n",
       "  'TS_dice_liver': 0.968643262819031,\n",
       "  'TS_dice_pancreas': 0.814294767034653,\n",
       "  'TS_dice_prostate': 1.0,\n",
       "  'TS_dice_small bowel': 0.6078246149722816,\n",
       "  'TS_dice_spleen': 0.9630291269347545,\n",
       "  'TS_dice_stomach': 0.9504514823185096},\n",
       " {'ct_name': '09-08-2009-NA-CT-96166.nii.gz',\n",
       "  'global_noise': 15.129739455115356,\n",
       "  'TS_macro_avg_dice': 0.7661352853939258,\n",
       "  'TS_micro_avg_dice': 0.8866815096992183,\n",
       "  'TS_dice_right adrenal gland': 0.3922095366017461,\n",
       "  'TS_dice_left adrenal gland': 0.3382385730211817,\n",
       "  'TS_dice_bladder': 0.8966762119401206,\n",
       "  'TS_dice_duodenum': 0.6353945115941277,\n",
       "  'TS_dice_esophagus': 0.6691551894280688,\n",
       "  'TS_dice_gallbladder': 0.8986657287934408,\n",
       "  'TS_dice_heart': 0.8842128192121789,\n",
       "  'TS_dice_right kidney': 0.9497964229247936,\n",
       "  'TS_dice_left kidney': 0.9529349491364946,\n",
       "  'TS_dice_liver': 0.9622443396147355,\n",
       "  'TS_dice_pancreas': 0.7826810361126867,\n",
       "  'TS_dice_prostate': 0.508500772797527,\n",
       "  'TS_dice_small bowel': 0.743662499657674,\n",
       "  'TS_dice_spleen': 0.9401489251343682,\n",
       "  'TS_dice_stomach': 0.9375077649397441},\n",
       " {'ct_name': '05-29-2008-NA-CT-34624.nii.gz',\n",
       "  'global_noise': 11.042643722306318,\n",
       "  'TS_macro_avg_dice': 0.6852603382780627,\n",
       "  'TS_micro_avg_dice': 0.8848334627074247,\n",
       "  'TS_dice_right adrenal gland': 0.6351888667992047,\n",
       "  'TS_dice_left adrenal gland': 0.0,\n",
       "  'TS_dice_bladder': 0.6708042072254524,\n",
       "  'TS_dice_duodenum': 0.7147790803921265,\n",
       "  'TS_dice_esophagus': 0.6481936162749913,\n",
       "  'TS_dice_gallbladder': 0.5723459129427865,\n",
       "  'TS_dice_heart': 0.856094909486222,\n",
       "  'TS_dice_right kidney': 0.959920803597396,\n",
       "  'TS_dice_left kidney': 0.9641122112541464,\n",
       "  'TS_dice_liver': 0.9512950028061635,\n",
       "  'TS_dice_pancreas': 0.7410518338411987,\n",
       "  'TS_dice_prostate': 0.0,\n",
       "  'TS_dice_small bowel': 0.734733260046073,\n",
       "  'TS_dice_spleen': 0.9270036385422943,\n",
       "  'TS_dice_stomach': 0.903381730962887},\n",
       " {'ct_name': '04-21-2006-NA-CT-44270.nii.gz',\n",
       "  'global_noise': 9.033699005844735,\n",
       "  'TS_macro_avg_dice': 0.5789053943201503,\n",
       "  'TS_micro_avg_dice': 0.8726139710157309,\n",
       "  'TS_dice_right adrenal gland': 0.5757746478873239,\n",
       "  'TS_dice_left adrenal gland': 0.5606991670080568,\n",
       "  'TS_dice_bladder': 0.0,\n",
       "  'TS_dice_duodenum': 0.3275136136529501,\n",
       "  'TS_dice_esophagus': 0.21197037756464732,\n",
       "  'TS_dice_gallbladder': 0.0,\n",
       "  'TS_dice_heart': 0.8642119490665814,\n",
       "  'TS_dice_right kidney': 0.9412193534389238,\n",
       "  'TS_dice_left kidney': 0.9392211163998269,\n",
       "  'TS_dice_liver': 0.9529502919871244,\n",
       "  'TS_dice_pancreas': 0.803060282284659,\n",
       "  'TS_dice_prostate': 0.0,\n",
       "  'TS_dice_small bowel': 0.7194808011423541,\n",
       "  'TS_dice_spleen': 0.8959802012387496,\n",
       "  'TS_dice_stomach': 0.8914991131310565},\n",
       " {'ct_name': '06-21-2007-NA-CT-82058.nii.gz',\n",
       "  'global_noise': 10.923628651803192,\n",
       "  'TS_macro_avg_dice': 0.7608537286083159,\n",
       "  'TS_micro_avg_dice': 0.8485051970699193,\n",
       "  'TS_dice_right adrenal gland': 0.10481081647626035,\n",
       "  'TS_dice_left adrenal gland': 0.16943495191925614,\n",
       "  'TS_dice_bladder': 0.9082361705435641,\n",
       "  'TS_dice_duodenum': 0.7566000783392087,\n",
       "  'TS_dice_esophagus': 0.7410305432108144,\n",
       "  'TS_dice_gallbladder': 0.860818208410525,\n",
       "  'TS_dice_heart': 0.8385008086663949,\n",
       "  'TS_dice_right kidney': 0.9435735777590123,\n",
       "  'TS_dice_left kidney': 0.9495594326257584,\n",
       "  'TS_dice_liver': 0.9380639229963468,\n",
       "  'TS_dice_pancreas': 0.7555818812222269,\n",
       "  'TS_dice_prostate': 1.0,\n",
       "  'TS_dice_small bowel': 0.5967262424645542,\n",
       "  'TS_dice_spleen': 0.9273438797710744,\n",
       "  'TS_dice_stomach': 0.922525414719743},\n",
       " {'ct_name': '06-03-2005-NA-CT-41258.nii.gz',\n",
       "  'global_noise': 6.954674710373157,\n",
       "  'TS_macro_avg_dice': 0.6486984502400035,\n",
       "  'TS_micro_avg_dice': 0.8025900703564361,\n",
       "  'TS_dice_right adrenal gland': 0.057665260196905765,\n",
       "  'TS_dice_left adrenal gland': 0.20899962811454073,\n",
       "  'TS_dice_bladder': 0.8520581385560763,\n",
       "  'TS_dice_duodenum': 0.5552667489765417,\n",
       "  'TS_dice_esophagus': 0.649708057609965,\n",
       "  'TS_dice_gallbladder': 0.6935291593152448,\n",
       "  'TS_dice_heart': 0.8559216633197231,\n",
       "  'TS_dice_right kidney': 0.9490542797847031,\n",
       "  'TS_dice_left kidney': 0.9493107030300896,\n",
       "  'TS_dice_liver': 0.9495038565487469,\n",
       "  'TS_dice_pancreas': 0.593153383378587,\n",
       "  'TS_dice_prostate': 0.279796511627907,\n",
       "  'TS_dice_small bowel': 0.4217880963713456,\n",
       "  'TS_dice_spleen': 0.879868968204117,\n",
       "  'TS_dice_stomach': 0.8348522985655603},\n",
       " {'ct_name': '02-12-2005-NA-CT-25835.nii.gz',\n",
       "  'global_noise': 12.197022583993828,\n",
       "  'TS_macro_avg_dice': 0.7782022551848573,\n",
       "  'TS_micro_avg_dice': 0.8784438009919477,\n",
       "  'TS_dice_right adrenal gland': 0.3667854071981329,\n",
       "  'TS_dice_left adrenal gland': 0.3435901735557978,\n",
       "  'TS_dice_bladder': 0.9123893783764702,\n",
       "  'TS_dice_duodenum': 0.5538505582593759,\n",
       "  'TS_dice_esophagus': 0.7272503421954098,\n",
       "  'TS_dice_gallbladder': 0.8408216468382147,\n",
       "  'TS_dice_heart': 0.8255493217512514,\n",
       "  'TS_dice_right kidney': 0.9500457401420878,\n",
       "  'TS_dice_left kidney': 0.9439727953868803,\n",
       "  'TS_dice_liver': 0.9658802355187107,\n",
       "  'TS_dice_pancreas': 0.8582414511407398,\n",
       "  'TS_dice_prostate': 1.0,\n",
       "  'TS_dice_small bowel': 0.5789082270707359,\n",
       "  'TS_dice_spleen': 0.9593011063580112,\n",
       "  'TS_dice_stomach': 0.8464474439810438},\n",
       " {'ct_name': '11-02-2005-NA-CT-05478.nii.gz',\n",
       "  'global_noise': 8.938632821594934,\n",
       "  'TS_macro_avg_dice': 0.7429524978908604,\n",
       "  'TS_micro_avg_dice': 0.8215378116955043,\n",
       "  'TS_dice_right adrenal gland': 0.45721173161912415,\n",
       "  'TS_dice_left adrenal gland': 0.3987938183188843,\n",
       "  'TS_dice_bladder': 0.8744151678028782,\n",
       "  'TS_dice_duodenum': 0.34588642889347665,\n",
       "  'TS_dice_esophagus': 0.5078609105341322,\n",
       "  'TS_dice_gallbladder': 0.8222863787641846,\n",
       "  'TS_dice_heart': 0.8309741200268344,\n",
       "  'TS_dice_right kidney': 0.923896039117587,\n",
       "  'TS_dice_left kidney': 0.9481573357977853,\n",
       "  'TS_dice_liver': 0.959710463001217,\n",
       "  'TS_dice_pancreas': 0.8286475288546907,\n",
       "  'TS_dice_prostate': 1.0,\n",
       "  'TS_dice_small bowel': 0.4709927686325811,\n",
       "  'TS_dice_spleen': 0.9164345783070209,\n",
       "  'TS_dice_stomach': 0.8590201986925102},\n",
       " {'ct_name': '06-02-2008-NA-CT-95334.nii.gz',\n",
       "  'global_noise': 8.567259170649821,\n",
       "  'TS_macro_avg_dice': 0.6062101966685937,\n",
       "  'TS_micro_avg_dice': 0.8121589939235668,\n",
       "  'TS_dice_right adrenal gland': 0.1426553672316384,\n",
       "  'TS_dice_left adrenal gland': 0.0,\n",
       "  'TS_dice_bladder': 0.9337810378867577,\n",
       "  'TS_dice_duodenum': 0.22483660130718955,\n",
       "  'TS_dice_esophagus': 0.5716333845366104,\n",
       "  'TS_dice_gallbladder': 0.5356815856088759,\n",
       "  'TS_dice_heart': 0.8493448414417141,\n",
       "  'TS_dice_right kidney': 0.94377939290295,\n",
       "  'TS_dice_left kidney': 0.9078734506708185,\n",
       "  'TS_dice_liver': 0.9537295275098335,\n",
       "  'TS_dice_pancreas': 0.7009228783478542,\n",
       "  'TS_dice_prostate': 0.0,\n",
       "  'TS_dice_small bowel': 0.5397960718015825,\n",
       "  'TS_dice_spleen': 0.9263415176091545,\n",
       "  'TS_dice_stomach': 0.8627772931739272},\n",
       " {'ct_name': '11-16-2004-NA-CT-33668.nii.gz',\n",
       "  'global_noise': 7.563274757373601,\n",
       "  'TS_macro_avg_dice': 0.8359756849487032,\n",
       "  'TS_micro_avg_dice': 0.9112238561815917,\n",
       "  'TS_dice_right adrenal gland': 0.49817184643510054,\n",
       "  'TS_dice_left adrenal gland': 0.5312656328164082,\n",
       "  'TS_dice_bladder': 0.8863763608087092,\n",
       "  'TS_dice_duodenum': 0.6860946062272985,\n",
       "  'TS_dice_esophagus': 0.720301575538873,\n",
       "  'TS_dice_gallbladder': 0.889953716308195,\n",
       "  'TS_dice_heart': 0.8145767297145714,\n",
       "  'TS_dice_right kidney': 0.9610579722199118,\n",
       "  'TS_dice_left kidney': 0.9487364128697979,\n",
       "  'TS_dice_liver': 0.9678332441709661,\n",
       "  'TS_dice_pancreas': 0.8870548210283781,\n",
       "  'TS_dice_prostate': 1.0,\n",
       "  'TS_dice_small bowel': 0.8299185966191848,\n",
       "  'TS_dice_spleen': 0.9679210942323918,\n",
       "  'TS_dice_stomach': 0.9503726652407609},\n",
       " {'ct_name': '03-20-2004-NA-CT-22456.nii.gz',\n",
       "  'global_noise': 9.500454115657888,\n",
       "  'TS_macro_avg_dice': 0.6055819765077429,\n",
       "  'TS_micro_avg_dice': 0.7840070029821723,\n",
       "  'TS_dice_right adrenal gland': 0.2779809802487198,\n",
       "  'TS_dice_left adrenal gland': 0.3399577167019027,\n",
       "  'TS_dice_bladder': 0.0,\n",
       "  'TS_dice_duodenum': 0.5268883778524677,\n",
       "  'TS_dice_esophagus': 0.41493221309910255,\n",
       "  'TS_dice_gallbladder': 0.8976477712049933,\n",
       "  'TS_dice_heart': 0.847988584045192,\n",
       "  'TS_dice_right kidney': 0.9626541764246682,\n",
       "  'TS_dice_left kidney': 0.952872546541993,\n",
       "  'TS_dice_liver': 0.9578972004052791,\n",
       "  'TS_dice_pancreas': 0.7916052778050617,\n",
       "  'TS_dice_prostate': 0.0,\n",
       "  'TS_dice_small bowel': 0.3954158477434897,\n",
       "  'TS_dice_spleen': 0.946421620520432,\n",
       "  'TS_dice_stomach': 0.7714673350228409},\n",
       " {'ct_name': '11-16-2005-NA-CT-69814.nii.gz',\n",
       "  'global_noise': 6.320757098835102,\n",
       "  'TS_macro_avg_dice': 0.7070272825514455,\n",
       "  'TS_micro_avg_dice': 0.840626700430389,\n",
       "  'TS_dice_right adrenal gland': 0.37771739130434784,\n",
       "  'TS_dice_left adrenal gland': 0.0,\n",
       "  'TS_dice_bladder': 0.861673614472253,\n",
       "  'TS_dice_duodenum': 0.4195078015311664,\n",
       "  'TS_dice_esophagus': 0.6252095473776642,\n",
       "  'TS_dice_gallbladder': 0.5872748380331798,\n",
       "  'TS_dice_heart': 0.8202583722323316,\n",
       "  'TS_dice_right kidney': 0.9485998684248163,\n",
       "  'TS_dice_left kidney': 0.9002148454478844,\n",
       "  'TS_dice_liver': 0.9572535636677493,\n",
       "  'TS_dice_pancreas': 0.7017882768517496,\n",
       "  'TS_dice_prostate': 1.0,\n",
       "  'TS_dice_small bowel': 0.6076364216648711,\n",
       "  'TS_dice_spleen': 0.9538041639783039,\n",
       "  'TS_dice_stomach': 0.8444705332853635},\n",
       " {'ct_name': '10-31-2008-NA-CT-03686.nii.gz',\n",
       "  'global_noise': 13.56259546132599,\n",
       "  'TS_macro_avg_dice': 0.6932631049255448,\n",
       "  'TS_micro_avg_dice': 0.7754451789708002,\n",
       "  'TS_dice_right adrenal gland': 0.4638807904114027,\n",
       "  'TS_dice_left adrenal gland': 0.27125850340136054,\n",
       "  'TS_dice_bladder': 0.9006015616897067,\n",
       "  'TS_dice_duodenum': 0.0,\n",
       "  'TS_dice_esophagus': 0.6851520572450805,\n",
       "  'TS_dice_gallbladder': 0.7127197011452018,\n",
       "  'TS_dice_heart': 0.8698793747397618,\n",
       "  'TS_dice_right kidney': 0.9566785791379848,\n",
       "  'TS_dice_left kidney': 0.9559787386189211,\n",
       "  'TS_dice_liver': 0.9387643059480828,\n",
       "  'TS_dice_pancreas': 0.4523208300812635,\n",
       "  'TS_dice_prostate': 1.0,\n",
       "  'TS_dice_small bowel': 0.49995828172033346,\n",
       "  'TS_dice_spleen': 0.9301728739785653,\n",
       "  'TS_dice_stomach': 0.7615809757655069},\n",
       " {'ct_name': '07-04-2008-NA-CT-32279.nii.gz',\n",
       "  'global_noise': 9.037752256824493,\n",
       "  'TS_macro_avg_dice': 0.6612278413354992,\n",
       "  'TS_micro_avg_dice': 0.8698584994448552,\n",
       "  'TS_dice_right adrenal gland': 0.02819463392451114,\n",
       "  'TS_dice_left adrenal gland': 0.03275027912169706,\n",
       "  'TS_dice_bladder': 0.882099816915947,\n",
       "  'TS_dice_duodenum': 0.6570928911525549,\n",
       "  'TS_dice_esophagus': 0.6930240433457501,\n",
       "  'TS_dice_gallbladder': 0.7619369641347663,\n",
       "  'TS_dice_heart': 0.8546810152981841,\n",
       "  'TS_dice_right kidney': 0.9511529486216035,\n",
       "  'TS_dice_left kidney': 0.9506780557189773,\n",
       "  'TS_dice_liver': 0.9626044880946898,\n",
       "  'TS_dice_pancreas': 0.622533748701973,\n",
       "  'TS_dice_prostate': 0.0,\n",
       "  'TS_dice_small bowel': 0.7077409457663931,\n",
       "  'TS_dice_spleen': 0.9242753846067812,\n",
       "  'TS_dice_stomach': 0.8896524046286594},\n",
       " {'ct_name': '02-05-2005-NA-CT-73769.nii.gz',\n",
       "  'global_noise': 11.339728643632451,\n",
       "  'TS_macro_avg_dice': 0.7341667218756655,\n",
       "  'TS_micro_avg_dice': 0.8417960894074464,\n",
       "  'TS_dice_right adrenal gland': 0.6607192640089211,\n",
       "  'TS_dice_left adrenal gland': 0.32750301568154405,\n",
       "  'TS_dice_bladder': 0.9261570151263573,\n",
       "  'TS_dice_duodenum': 0.6039643179693566,\n",
       "  'TS_dice_esophagus': 0.6825493004296573,\n",
       "  'TS_dice_gallbladder': 0.8761779442279467,\n",
       "  'TS_dice_heart': 0.7857138474188342,\n",
       "  'TS_dice_right kidney': 0.960061589870432,\n",
       "  'TS_dice_left kidney': 0.9619380327029301,\n",
       "  'TS_dice_liver': 0.9672014502732618,\n",
       "  'TS_dice_pancreas': 0.8434977142301333,\n",
       "  'TS_dice_prostate': 0.13255535607420707,\n",
       "  'TS_dice_small bowel': 0.4568428959661989,\n",
       "  'TS_dice_spleen': 0.9366810648047704,\n",
       "  'TS_dice_stomach': 0.8909380193504335},\n",
       " {'ct_name': '07-14-2006-NA-CT-39673.nii.gz',\n",
       "  'global_noise': 9.67703086831721,\n",
       "  'TS_macro_avg_dice': 0.7067842331353111,\n",
       "  'TS_micro_avg_dice': 0.8762247496755162,\n",
       "  'TS_dice_right adrenal gland': 0.0,\n",
       "  'TS_dice_left adrenal gland': 0.0,\n",
       "  'TS_dice_bladder': 0.8690107633541292,\n",
       "  'TS_dice_duodenum': 0.6275271859022605,\n",
       "  'TS_dice_esophagus': 0.5596821776981412,\n",
       "  'TS_dice_gallbladder': 0.7874632327624369,\n",
       "  'TS_dice_heart': 0.827933632551137,\n",
       "  'TS_dice_right kidney': 0.9485261546626951,\n",
       "  'TS_dice_left kidney': 0.9479707895070333,\n",
       "  'TS_dice_liver': 0.9270750483319553,\n",
       "  'TS_dice_pancreas': 0.701781055687413,\n",
       "  'TS_dice_prostate': 1.0,\n",
       "  'TS_dice_small bowel': 0.617550421209497,\n",
       "  'TS_dice_spleen': 0.9226787093779867,\n",
       "  'TS_dice_stomach': 0.864564325984981},\n",
       " {'ct_name': '10-31-2006-NA-CT-75556.nii.gz',\n",
       "  'global_noise': 10.201795753005053,\n",
       "  'TS_macro_avg_dice': 0.6986613861253914,\n",
       "  'TS_micro_avg_dice': 0.8795713112754421,\n",
       "  'TS_dice_right adrenal gland': 0.0,\n",
       "  'TS_dice_left adrenal gland': 0.32066404543468763,\n",
       "  'TS_dice_bladder': 0.9160996188152057,\n",
       "  'TS_dice_duodenum': 0.6142314837250626,\n",
       "  'TS_dice_esophagus': 0.6344020308386612,\n",
       "  'TS_dice_gallbladder': 0.9294065488631326,\n",
       "  'TS_dice_heart': 0.8380157088158474,\n",
       "  'TS_dice_right kidney': 0.9265360984390136,\n",
       "  'TS_dice_left kidney': 0.9489111204040274,\n",
       "  'TS_dice_liver': 0.9480159885370845,\n",
       "  'TS_dice_pancreas': 0.7893511565034544,\n",
       "  'TS_dice_prostate': 0.0,\n",
       "  'TS_dice_small bowel': 0.742227913487724,\n",
       "  'TS_dice_spleen': 0.9276893881829411,\n",
       "  'TS_dice_stomach': 0.9443696898340296},\n",
       " {'ct_name': '09-11-2004-NA-CT-54483.nii.gz',\n",
       "  'global_noise': 11.702196675726569,\n",
       "  'TS_macro_avg_dice': 0.7628731336866311,\n",
       "  'TS_micro_avg_dice': 0.9067348191004848,\n",
       "  'TS_dice_right adrenal gland': 0.25926670015067804,\n",
       "  'TS_dice_left adrenal gland': 0.39527102386794555,\n",
       "  'TS_dice_bladder': 0.9352474138658908,\n",
       "  'TS_dice_duodenum': 0.3802841302841303,\n",
       "  'TS_dice_esophagus': 0.5727355901189387,\n",
       "  'TS_dice_gallbladder': 0.8231664878345851,\n",
       "  'TS_dice_heart': 0.8408878615403196,\n",
       "  'TS_dice_right kidney': 0.9528971713016104,\n",
       "  'TS_dice_left kidney': 0.951093323621573,\n",
       "  'TS_dice_liver': 0.9576266903642653,\n",
       "  'TS_dice_pancreas': 0.845667864094501,\n",
       "  'TS_dice_prostate': 1.0,\n",
       "  'TS_dice_small bowel': 0.679500734174013,\n",
       "  'TS_dice_spleen': 0.9437300849996093,\n",
       "  'TS_dice_stomach': 0.9057219290814049},\n",
       " {'ct_name': '03-04-2008-NA-CT-09802.nii.gz',\n",
       "  'global_noise': 7.958319877236248,\n",
       "  'TS_macro_avg_dice': 0.7830741385174096,\n",
       "  'TS_micro_avg_dice': 0.8765079399303571,\n",
       "  'TS_dice_right adrenal gland': 0.6298909557408595,\n",
       "  'TS_dice_left adrenal gland': 0.3029481531684175,\n",
       "  'TS_dice_bladder': 0.8479920026145299,\n",
       "  'TS_dice_duodenum': 0.7670254057868737,\n",
       "  'TS_dice_esophagus': 0.6164428973976462,\n",
       "  'TS_dice_gallbladder': 0.5933372296902396,\n",
       "  'TS_dice_heart': 0.9255971461272522,\n",
       "  'TS_dice_right kidney': 0.9379367822243971,\n",
       "  'TS_dice_left kidney': 0.9481445825310695,\n",
       "  'TS_dice_liver': 0.9621320050207681,\n",
       "  'TS_dice_pancreas': 0.788090364547361,\n",
       "  'TS_dice_prostate': 1.0,\n",
       "  'TS_dice_small bowel': 0.5897850861579851,\n",
       "  'TS_dice_spleen': 0.9468143609081625,\n",
       "  'TS_dice_stomach': 0.8899751058455836},\n",
       " {'ct_name': '06-07-2008-NA-CT-98682.nii.gz',\n",
       "  'global_noise': 10.726659453273683,\n",
       "  'TS_macro_avg_dice': 0.824910337231662,\n",
       "  'TS_micro_avg_dice': 0.9029559989556845,\n",
       "  'TS_dice_right adrenal gland': 0.5681255161023947,\n",
       "  'TS_dice_left adrenal gland': 0.43890347039953337,\n",
       "  'TS_dice_bladder': 0.9269954949751646,\n",
       "  'TS_dice_duodenum': 0.7327968115275543,\n",
       "  'TS_dice_esophagus': 0.742291280895258,\n",
       "  'TS_dice_gallbladder': 0.7519063896923481,\n",
       "  'TS_dice_heart': 0.9190552590945897,\n",
       "  'TS_dice_right kidney': 0.9462584955383975,\n",
       "  'TS_dice_left kidney': 0.9553069748172036,\n",
       "  'TS_dice_liver': 0.9646282002962082,\n",
       "  'TS_dice_pancreas': 0.8380558486717704,\n",
       "  'TS_dice_prostate': 1.0,\n",
       "  'TS_dice_small bowel': 0.7077818270544748,\n",
       "  'TS_dice_spleen': 0.949133172614578,\n",
       "  'TS_dice_stomach': 0.9324163167954519},\n",
       " {'ct_name': '08-29-2005-NA-CT-09177.nii.gz',\n",
       "  'global_noise': 11.724639795238994,\n",
       "  'TS_macro_avg_dice': 0.6513148453652796,\n",
       "  'TS_micro_avg_dice': 0.874472356533651,\n",
       "  'TS_dice_right adrenal gland': 0.0,\n",
       "  'TS_dice_left adrenal gland': 0.05596340854056963,\n",
       "  'TS_dice_bladder': 0.9420479130946461,\n",
       "  'TS_dice_duodenum': 0.726039300207763,\n",
       "  'TS_dice_esophagus': 0.41310469465809274,\n",
       "  'TS_dice_gallbladder': 0.8000641138172909,\n",
       "  'TS_dice_heart': 0.7932186949474193,\n",
       "  'TS_dice_right kidney': 0.9601730894137586,\n",
       "  'TS_dice_left kidney': 0.9561886636774541,\n",
       "  'TS_dice_liver': 0.9517518000348005,\n",
       "  'TS_dice_pancreas': 0.7829846629060365,\n",
       "  'TS_dice_prostate': 0.0,\n",
       "  'TS_dice_small bowel': 0.6568506994841028,\n",
       "  'TS_dice_spleen': 0.8651590940932792,\n",
       "  'TS_dice_stomach': 0.8661765456039818},\n",
       " {'ct_name': '07-27-2009-NA-CT-12014.nii.gz',\n",
       "  'global_noise': 9.338882467975365,\n",
       "  'TS_macro_avg_dice': 0.7336803275640752,\n",
       "  'TS_micro_avg_dice': 0.8904957673504686,\n",
       "  'TS_dice_right adrenal gland': 0.04419263456090652,\n",
       "  'TS_dice_left adrenal gland': 0.1665992721391023,\n",
       "  'TS_dice_bladder': 0.8605542179485263,\n",
       "  'TS_dice_duodenum': 0.1852471355691227,\n",
       "  'TS_dice_esophagus': 0.7272627657243041,\n",
       "  'TS_dice_gallbladder': 0.9015992707988068,\n",
       "  'TS_dice_heart': 0.8688992320699768,\n",
       "  'TS_dice_right kidney': 0.9430654483535986,\n",
       "  'TS_dice_left kidney': 0.9526186373642546,\n",
       "  'TS_dice_liver': 0.9702536398805955,\n",
       "  'TS_dice_pancreas': 0.7799268537859938,\n",
       "  'TS_dice_prostate': 1.0,\n",
       "  'TS_dice_small bowel': 0.724284403165962,\n",
       "  'TS_dice_spleen': 0.9383143692671831,\n",
       "  'TS_dice_stomach': 0.9423870328327936},\n",
       " {'ct_name': '03-17-2007-NA-CT-10681.nii.gz',\n",
       "  'global_noise': 8.71789772034498,\n",
       "  'TS_macro_avg_dice': 0.7211550285675484,\n",
       "  'TS_micro_avg_dice': 0.8448379655526965,\n",
       "  'TS_dice_right adrenal gland': 0.46590093323761667,\n",
       "  'TS_dice_left adrenal gland': 0.20092475830180748,\n",
       "  'TS_dice_bladder': 0.8882998445869721,\n",
       "  'TS_dice_duodenum': 0.6318649029239247,\n",
       "  'TS_dice_esophagus': 0.7795701231284053,\n",
       "  'TS_dice_gallbladder': 0.8219776275647545,\n",
       "  'TS_dice_heart': 0.8554731488986279,\n",
       "  'TS_dice_right kidney': 0.9289027605876339,\n",
       "  'TS_dice_left kidney': 0.9423991544830016,\n",
       "  'TS_dice_liver': 0.9451613282046519,\n",
       "  'TS_dice_pancreas': 0.6911836179243754,\n",
       "  'TS_dice_prostate': 0.07787391841779975,\n",
       "  'TS_dice_small bowel': 0.7133968201346429,\n",
       "  'TS_dice_spleen': 0.9290167129431867,\n",
       "  'TS_dice_stomach': 0.9453797771758278},\n",
       " {'ct_name': '09-21-2005-NA-CT-35474.nii.gz',\n",
       "  'global_noise': 10.033504798216,\n",
       "  'TS_macro_avg_dice': 0.6696352437371382,\n",
       "  'TS_micro_avg_dice': 0.7186076463271454,\n",
       "  'TS_dice_right adrenal gland': 0.2944193061840121,\n",
       "  'TS_dice_left adrenal gland': 0.43343244136108355,\n",
       "  'TS_dice_bladder': 0.7281008323939101,\n",
       "  'TS_dice_duodenum': 0.4315531602155806,\n",
       "  'TS_dice_esophagus': 0.5558973282242402,\n",
       "  'TS_dice_gallbladder': 0.7573277000264061,\n",
       "  'TS_dice_heart': 0.8083784734594099,\n",
       "  'TS_dice_right kidney': 0.8828967665403213,\n",
       "  'TS_dice_left kidney': 0.9257992075912305,\n",
       "  'TS_dice_liver': 0.9406743573667712,\n",
       "  'TS_dice_pancreas': 0.6094188287526158,\n",
       "  'TS_dice_prostate': 1.0,\n",
       "  'TS_dice_small bowel': 0.36444149448854773,\n",
       "  'TS_dice_spleen': 0.7708097174236203,\n",
       "  'TS_dice_stomach': 0.5413790420293239},\n",
       " {'ct_name': '02-04-2006-NA-CT-34206.nii.gz',\n",
       "  'global_noise': 9.251403059125309,\n",
       "  'TS_macro_avg_dice': 0.784932566060154,\n",
       "  'TS_micro_avg_dice': 0.9113848638672003,\n",
       "  'TS_dice_right adrenal gland': 0.6777590016898479,\n",
       "  'TS_dice_left adrenal gland': 0.6264843174187208,\n",
       "  'TS_dice_bladder': 0.9441085349116375,\n",
       "  'TS_dice_duodenum': 0.7096186461210447,\n",
       "  'TS_dice_esophagus': 0.7354415567530085,\n",
       "  'TS_dice_gallbladder': 0.8121608819223151,\n",
       "  'TS_dice_heart': 0.7673441729672185,\n",
       "  'TS_dice_right kidney': 0.9648911103177437,\n",
       "  'TS_dice_left kidney': 0.9587660331842787,\n",
       "  'TS_dice_liver': 0.9454714745183062,\n",
       "  'TS_dice_pancreas': 0.862040362867963,\n",
       "  'TS_dice_prostate': 0.0,\n",
       "  'TS_dice_small bowel': 0.8494837885371946,\n",
       "  'TS_dice_spleen': 0.959514910134691,\n",
       "  'TS_dice_stomach': 0.9609036995583391},\n",
       " {'ct_name': '07-11-2006-NA-CT-94851.nii.gz',\n",
       "  'global_noise': 9.94869184297681,\n",
       "  'TS_macro_avg_dice': 0.7284775357309471,\n",
       "  'TS_micro_avg_dice': 0.8582012907929123,\n",
       "  'TS_dice_right adrenal gland': 0.26851140148603636,\n",
       "  'TS_dice_left adrenal gland': 0.3098318899643403,\n",
       "  'TS_dice_bladder': 0.9181010479456825,\n",
       "  'TS_dice_duodenum': 0.2650697608970959,\n",
       "  'TS_dice_esophagus': 0.6350811323209605,\n",
       "  'TS_dice_gallbladder': 0.883763013578786,\n",
       "  'TS_dice_heart': 0.868801480696777,\n",
       "  'TS_dice_right kidney': 0.9533270366967297,\n",
       "  'TS_dice_left kidney': 0.9574841508927777,\n",
       "  'TS_dice_liver': 0.9551348797006715,\n",
       "  'TS_dice_pancreas': 0.468634169166115,\n",
       "  'TS_dice_prostate': 1.0,\n",
       "  'TS_dice_small bowel': 0.7273101288592263,\n",
       "  'TS_dice_spleen': 0.9238860222524644,\n",
       "  'TS_dice_stomach': 0.7922269215065443},\n",
       " {'ct_name': '12-10-2008-NA-CT-05047.nii.gz',\n",
       "  'global_noise': 8.952338015479256,\n",
       "  'TS_macro_avg_dice': 0.8084801755364519,\n",
       "  'TS_micro_avg_dice': 0.9201891205131516,\n",
       "  'TS_dice_right adrenal gland': 0.5851367905267456,\n",
       "  'TS_dice_left adrenal gland': 0.5057316250842886,\n",
       "  'TS_dice_bladder': 0.8954539400922993,\n",
       "  'TS_dice_duodenum': 0.7054621782922664,\n",
       "  'TS_dice_esophagus': 0.7474440795588326,\n",
       "  'TS_dice_gallbladder': 0.9214673532568958,\n",
       "  'TS_dice_heart': 0.8402608577629431,\n",
       "  'TS_dice_right kidney': 0.9631497145231598,\n",
       "  'TS_dice_left kidney': 0.9612045617579458,\n",
       "  'TS_dice_liver': 0.9682500207821967,\n",
       "  'TS_dice_pancreas': 0.86896361251122,\n",
       "  'TS_dice_prostate': 0.4430170673518077,\n",
       "  'TS_dice_small bowel': 0.8124213526208852,\n",
       "  'TS_dice_spleen': 0.9724740528724012,\n",
       "  'TS_dice_stomach': 0.9367654260528894},\n",
       " {'ct_name': '10-07-2009-NA-CT-24321.nii.gz',\n",
       "  'global_noise': 9.794198537095584,\n",
       "  'TS_macro_avg_dice': 0.7325757808350386,\n",
       "  'TS_micro_avg_dice': 0.8634444754113183,\n",
       "  'TS_dice_right adrenal gland': 0.47861216730038025,\n",
       "  'TS_dice_left adrenal gland': 0.28420760477379964,\n",
       "  'TS_dice_bladder': 0.9398429503691088,\n",
       "  'TS_dice_duodenum': 0.5817173190502379,\n",
       "  'TS_dice_esophagus': 0.6713902455802435,\n",
       "  'TS_dice_gallbladder': 0.8819475722907846,\n",
       "  'TS_dice_heart': 0.9277777185898597,\n",
       "  'TS_dice_right kidney': 0.937666166521888,\n",
       "  'TS_dice_left kidney': 0.9430298668585823,\n",
       "  'TS_dice_liver': 0.9631979427134887,\n",
       "  'TS_dice_pancreas': 0.8158225269875755,\n",
       "  'TS_dice_prostate': 0.0,\n",
       "  'TS_dice_small bowel': 0.709640645097038,\n",
       "  'TS_dice_spleen': 0.9378312396140354,\n",
       "  'TS_dice_stomach': 0.9159527467785588},\n",
       " {'ct_name': '01-19-2008-NA-CT-68721.nii.gz',\n",
       "  'global_noise': 13.085194686966174,\n",
       "  'TS_macro_avg_dice': 0.7970240186040323,\n",
       "  'TS_micro_avg_dice': 0.9025830566897324,\n",
       "  'TS_dice_right adrenal gland': 0.44111138431276126,\n",
       "  'TS_dice_left adrenal gland': 0.4742382271468144,\n",
       "  'TS_dice_bladder': 0.8996189730206545,\n",
       "  'TS_dice_duodenum': 0.6879686277149902,\n",
       "  'TS_dice_esophagus': 0.782738624639795,\n",
       "  'TS_dice_gallbladder': 0.8771837810162465,\n",
       "  'TS_dice_heart': 0.8112652945585901,\n",
       "  'TS_dice_right kidney': 0.9513986085954224,\n",
       "  'TS_dice_left kidney': 0.9538803273810221,\n",
       "  'TS_dice_liver': 0.9720078624860924,\n",
       "  'TS_dice_pancreas': 0.6994820738514383,\n",
       "  'TS_dice_prostate': 0.7169444652066672,\n",
       "  'TS_dice_small bowel': 0.8008137094150793,\n",
       "  'TS_dice_spleen': 0.9375091945568224,\n",
       "  'TS_dice_stomach': 0.9491991251580865},\n",
       " {'ct_name': '01-01-2004-NA-CT-84510.nii.gz',\n",
       "  'global_noise': 7.106707280557453,\n",
       "  'TS_macro_avg_dice': 0.6103769079404403,\n",
       "  'TS_micro_avg_dice': 0.7892781117567226,\n",
       "  'TS_dice_right adrenal gland': 0.045112781954887216,\n",
       "  'TS_dice_left adrenal gland': 0.2802174822250105,\n",
       "  'TS_dice_bladder': 0.9094350419261835,\n",
       "  'TS_dice_duodenum': 0.003992261155298959,\n",
       "  'TS_dice_esophagus': 0.688574703859381,\n",
       "  'TS_dice_gallbladder': 0.8314781992201347,\n",
       "  'TS_dice_heart': 0.8230083122004643,\n",
       "  'TS_dice_right kidney': 0.895134611764073,\n",
       "  'TS_dice_left kidney': 0.9248045962944952,\n",
       "  'TS_dice_liver': 0.9499563005212752,\n",
       "  'TS_dice_pancreas': 0.5620727635098516,\n",
       "  'TS_dice_prostate': 0.0,\n",
       "  'TS_dice_small bowel': 0.5475238925697217,\n",
       "  'TS_dice_spleen': 0.889261407834571,\n",
       "  'TS_dice_stomach': 0.805081264071256},\n",
       " {'ct_name': '07-06-2009-NA-CT-69506.nii.gz',\n",
       "  'global_noise': 8.688356186252696,\n",
       "  'TS_macro_avg_dice': 0.6650302854012032,\n",
       "  'TS_micro_avg_dice': 0.8332782689673586,\n",
       "  'TS_dice_right adrenal gland': 0.40831758034026466,\n",
       "  'TS_dice_left adrenal gland': 0.062135922330097085,\n",
       "  'TS_dice_bladder': 0.9230362846096583,\n",
       "  'TS_dice_duodenum': 0.07861500709155991,\n",
       "  'TS_dice_esophagus': 0.7400617815364359,\n",
       "  'TS_dice_gallbladder': 0.8461545223590636,\n",
       "  'TS_dice_heart': 0.8880019573661192,\n",
       "  'TS_dice_right kidney': 0.913695868899222,\n",
       "  'TS_dice_left kidney': 0.935166096961314,\n",
       "  'TS_dice_liver': 0.9489875069162959,\n",
       "  'TS_dice_pancreas': 0.8304539204314126,\n",
       "  'TS_dice_prostate': 0.0,\n",
       "  'TS_dice_small bowel': 0.6757263844139584,\n",
       "  'TS_dice_spleen': 0.9198729727946927,\n",
       "  'TS_dice_stomach': 0.8052284749679539},\n",
       " {'ct_name': '05-24-2009-NA-CT-96934.nii.gz',\n",
       "  'global_noise': 9.996921720683364,\n",
       "  'TS_macro_avg_dice': 0.7843929608794522,\n",
       "  'TS_micro_avg_dice': 0.8565518735598201,\n",
       "  'TS_dice_right adrenal gland': 0.5803742448799175,\n",
       "  'TS_dice_left adrenal gland': 0.6903442485306465,\n",
       "  'TS_dice_bladder': 0.8720550924247916,\n",
       "  'TS_dice_duodenum': 0.6193057247259439,\n",
       "  'TS_dice_esophagus': 0.26042454719416136,\n",
       "  'TS_dice_gallbladder': 0.804371284865112,\n",
       "  'TS_dice_heart': 0.9301221083383254,\n",
       "  'TS_dice_right kidney': 0.953626238029525,\n",
       "  'TS_dice_left kidney': 0.9575288281040494,\n",
       "  'TS_dice_liver': 0.9024643272057543,\n",
       "  'TS_dice_pancreas': 0.7691692850449259,\n",
       "  'TS_dice_prostate': 1.0,\n",
       "  'TS_dice_small bowel': 0.6572887901358632,\n",
       "  'TS_dice_spleen': 0.8894892545904911,\n",
       "  'TS_dice_stomach': 0.879330439122276},\n",
       " {'ct_name': '05-20-2006-NA-CT-52706.nii.gz',\n",
       "  'global_noise': 13.242374951265944,\n",
       "  'TS_macro_avg_dice': 0.800671921288219,\n",
       "  'TS_micro_avg_dice': 0.9212481641893645,\n",
       "  'TS_dice_right adrenal gland': 0.5880551301684533,\n",
       "  'TS_dice_left adrenal gland': 0.6470817120622568,\n",
       "  'TS_dice_bladder': 0.9293775279889962,\n",
       "  'TS_dice_duodenum': 0.6733007659369158,\n",
       "  'TS_dice_esophagus': 0.7607298894885633,\n",
       "  'TS_dice_gallbladder': 0.8835672997522709,\n",
       "  'TS_dice_heart': 0.8394966260823312,\n",
       "  'TS_dice_right kidney': 0.9716119251571574,\n",
       "  'TS_dice_left kidney': 0.962942213790513,\n",
       "  'TS_dice_liver': 0.9657640647444726,\n",
       "  'TS_dice_pancreas': 0.9063019477913948,\n",
       "  'TS_dice_prostate': 0.07034372501998401,\n",
       "  'TS_dice_small bowel': 0.8910469474602837,\n",
       "  'TS_dice_spleen': 0.9709230232333658,\n",
       "  'TS_dice_stomach': 0.9495360206463235},\n",
       " {'ct_name': '09-15-2004-NA-CT-64199.nii.gz',\n",
       "  'global_noise': 9.203211193580431,\n",
       "  'TS_macro_avg_dice': 0.7133946032805244,\n",
       "  'TS_micro_avg_dice': 0.8450468077957274,\n",
       "  'TS_dice_right adrenal gland': 0.48175182481751827,\n",
       "  'TS_dice_left adrenal gland': 0.062267657992565055,\n",
       "  'TS_dice_bladder': 0.8299331578995627,\n",
       "  'TS_dice_duodenum': 0.49796719472872564,\n",
       "  'TS_dice_esophagus': 0.6993612436509158,\n",
       "  'TS_dice_gallbladder': 0.8741331207652451,\n",
       "  'TS_dice_heart': 0.8223310636235623,\n",
       "  'TS_dice_right kidney': 0.9424860461926416,\n",
       "  'TS_dice_left kidney': 0.9440699378772496,\n",
       "  'TS_dice_liver': 0.9535787155269096,\n",
       "  'TS_dice_pancreas': 0.7337391936751475,\n",
       "  'TS_dice_prostate': 0.3340444986284669,\n",
       "  'TS_dice_small bowel': 0.6619015029103091,\n",
       "  'TS_dice_spleen': 0.9372238068953664,\n",
       "  'TS_dice_stomach': 0.9261300840236802},\n",
       " {'ct_name': '11-15-2008-NA-CT-20747.nii.gz',\n",
       "  'global_noise': 9.243380300861146,\n",
       "  'TS_macro_avg_dice': 0.7527572044444426,\n",
       "  'TS_micro_avg_dice': 0.8471889065433578,\n",
       "  'TS_dice_right adrenal gland': 0.4573328407831548,\n",
       "  'TS_dice_left adrenal gland': 0.2598720494153982,\n",
       "  'TS_dice_bladder': 0.5904685413419769,\n",
       "  'TS_dice_duodenum': 0.44774021932796304,\n",
       "  'TS_dice_esophagus': 0.6870465155520558,\n",
       "  'TS_dice_gallbladder': 0.9158300162764089,\n",
       "  'TS_dice_heart': 0.8127538239197011,\n",
       "  'TS_dice_right kidney': 0.940462942811739,\n",
       "  'TS_dice_left kidney': 0.9457419806737816,\n",
       "  'TS_dice_liver': 0.9551532201126369,\n",
       "  'TS_dice_pancreas': 0.7568952825816302,\n",
       "  'TS_dice_prostate': 1.0,\n",
       "  'TS_dice_small bowel': 0.732840208868902,\n",
       "  'TS_dice_spleen': 0.9085761285628421,\n",
       "  'TS_dice_stomach': 0.880644296438449},\n",
       " {'ct_name': '03-21-2008-NA-CT-53514.nii.gz',\n",
       "  'global_noise': 10.577929029122041,\n",
       "  'TS_macro_avg_dice': 0.7459629948841433,\n",
       "  'TS_micro_avg_dice': 0.8910992835479181,\n",
       "  'TS_dice_right adrenal gland': 0.3994160583941606,\n",
       "  'TS_dice_left adrenal gland': 0.6183750949126803,\n",
       "  'TS_dice_bladder': 0.9410013843804159,\n",
       "  'TS_dice_duodenum': 0.0005624905350150358,\n",
       "  'TS_dice_esophagus': 0.6280044101433296,\n",
       "  'TS_dice_gallbladder': 0.8192387214859506,\n",
       "  'TS_dice_heart': 0.9248249162406894,\n",
       "  'TS_dice_right kidney': 0.9513057906471629,\n",
       "  'TS_dice_left kidney': 0.9613339242189232,\n",
       "  'TS_dice_liver': 0.9709695719706597,\n",
       "  'TS_dice_pancreas': 0.7977329403763319,\n",
       "  'TS_dice_prostate': 1.0,\n",
       "  'TS_dice_small bowel': 0.6459435401927626,\n",
       "  'TS_dice_spleen': 0.9634301623640095,\n",
       "  'TS_dice_stomach': 0.5673059174000585},\n",
       " {'ct_name': '03-18-2005-NA-CT-91309.nii.gz',\n",
       "  'global_noise': 7.38530395386381,\n",
       "  'TS_macro_avg_dice': 0.5956485056732935,\n",
       "  'TS_micro_avg_dice': 0.7949078695741847,\n",
       "  'TS_dice_right adrenal gland': 0.332994923857868,\n",
       "  'TS_dice_left adrenal gland': 0.18880852683669586,\n",
       "  'TS_dice_bladder': 0.8131900100365096,\n",
       "  'TS_dice_duodenum': 0.00503955222339261,\n",
       "  'TS_dice_esophagus': 0.5112203462278264,\n",
       "  'TS_dice_gallbladder': 0.7826567505292145,\n",
       "  'TS_dice_heart': 0.8828733062210118,\n",
       "  'TS_dice_right kidney': 0.8985062466051059,\n",
       "  'TS_dice_left kidney': 0.8700732334311938,\n",
       "  'TS_dice_liver': 0.9461307387651618,\n",
       "  'TS_dice_pancreas': 0.6660485155006088,\n",
       "  'TS_dice_prostate': 0.0,\n",
       "  'TS_dice_small bowel': 0.2618463281102511,\n",
       "  'TS_dice_spleen': 0.8950240253968752,\n",
       "  'TS_dice_stomach': 0.8803150813576863},\n",
       " {'ct_name': '09-26-2007-NA-CT-35707.nii.gz',\n",
       "  'global_noise': 11.486292372982092,\n",
       "  'TS_macro_avg_dice': 0.8393730577248353,\n",
       "  'TS_micro_avg_dice': 0.9123693821870067,\n",
       "  'TS_dice_right adrenal gland': 0.5579242636746143,\n",
       "  'TS_dice_left adrenal gland': 0.6664284012389802,\n",
       "  'TS_dice_bladder': 0.931083298176534,\n",
       "  'TS_dice_duodenum': 0.6816166518878051,\n",
       "  'TS_dice_esophagus': 0.790225578932646,\n",
       "  'TS_dice_gallbladder': 0.8305564579755883,\n",
       "  'TS_dice_heart': 0.8008423112881945,\n",
       "  'TS_dice_right kidney': 0.9626875453577628,\n",
       "  'TS_dice_left kidney': 0.9645123873538947,\n",
       "  'TS_dice_liver': 0.9667157623023617,\n",
       "  'TS_dice_pancreas': 0.8833620594814625,\n",
       "  'TS_dice_prostate': 0.8109125941495884,\n",
       "  'TS_dice_small bowel': 0.8475862109126354,\n",
       "  'TS_dice_spleen': 0.9614907067180124,\n",
       "  'TS_dice_stomach': 0.93465163642245},\n",
       " {'ct_name': '09-26-2009-NA-CT-80940.nii.gz',\n",
       "  'global_noise': 6.858319036896983,\n",
       "  'TS_macro_avg_dice': 0.5645762353846334,\n",
       "  'TS_micro_avg_dice': 0.7765039621603259,\n",
       "  'TS_dice_right adrenal gland': 0.0,\n",
       "  'TS_dice_left adrenal gland': 0.0,\n",
       "  'TS_dice_bladder': 0.9126969628190295,\n",
       "  'TS_dice_duodenum': 0.2657360959651036,\n",
       "  'TS_dice_esophagus': 0.7007179487179487,\n",
       "  'TS_dice_gallbladder': 0.8208353734322624,\n",
       "  'TS_dice_heart': 0.8995347484733934,\n",
       "  'TS_dice_right kidney': 0.6635476227367721,\n",
       "  'TS_dice_left kidney': 0.2708642641832006,\n",
       "  'TS_dice_liver': 0.9462369240188021,\n",
       "  'TS_dice_pancreas': 0.6594808766316284,\n",
       "  'TS_dice_prostate': 0.22322357019064124,\n",
       "  'TS_dice_small bowel': 0.39515800779610727,\n",
       "  'TS_dice_spleen': 0.814716188781044,\n",
       "  'TS_dice_stomach': 0.8958949470235684},\n",
       " {'ct_name': '09-01-2008-NA-CT-55137.nii.gz',\n",
       "  'global_noise': 12.159330223765387,\n",
       "  'TS_macro_avg_dice': 0.6586677430359099,\n",
       "  'TS_micro_avg_dice': 0.8490814067480443,\n",
       "  'TS_dice_right adrenal gland': 0.10751445086705202,\n",
       "  'TS_dice_left adrenal gland': 0.08879341210168278,\n",
       "  'TS_dice_bladder': 0.47621358420231275,\n",
       "  'TS_dice_duodenum': 0.5336490737086338,\n",
       "  'TS_dice_esophagus': 0.40224172138021314,\n",
       "  'TS_dice_gallbladder': 0.7556043878147761,\n",
       "  'TS_dice_heart': 0.7690238889210991,\n",
       "  'TS_dice_right kidney': 0.863396785857428,\n",
       "  'TS_dice_left kidney': 0.8166506408982906,\n",
       "  'TS_dice_liver': 0.937634892699764,\n",
       "  'TS_dice_pancreas': 0.7642741144157308,\n",
       "  'TS_dice_prostate': 1.0,\n",
       "  'TS_dice_small bowel': 0.7196960875795204,\n",
       "  'TS_dice_spleen': 0.7762071499589331,\n",
       "  'TS_dice_stomach': 0.8691159551332117},\n",
       " {'ct_name': '05-05-2009-NA-CT-02623.nii.gz',\n",
       "  'global_noise': 14.87719199021516,\n",
       "  'TS_macro_avg_dice': 0.7900786966813,\n",
       "  'TS_micro_avg_dice': 0.8917812833808884,\n",
       "  'TS_dice_right adrenal gland': 0.4351648351648352,\n",
       "  'TS_dice_left adrenal gland': 0.3123899001761597,\n",
       "  'TS_dice_bladder': 1.0,\n",
       "  'TS_dice_duodenum': 0.4387350483368835,\n",
       "  'TS_dice_esophagus': 0.6624474817848216,\n",
       "  'TS_dice_gallbladder': 0.8137872610790491,\n",
       "  'TS_dice_heart': 0.9201721856627569,\n",
       "  'TS_dice_right kidney': 0.943957194218879,\n",
       "  'TS_dice_left kidney': 0.9228186752567705,\n",
       "  'TS_dice_liver': 0.957787845131945,\n",
       "  'TS_dice_pancreas': 0.8151087228192951,\n",
       "  'TS_dice_prostate': 1.0,\n",
       "  'TS_dice_small bowel': 0.7490711400864529,\n",
       "  'TS_dice_spleen': 0.9599727919631645,\n",
       "  'TS_dice_stomach': 0.9197673685384865},\n",
       " {'ct_name': '04-29-2009-NA-CT-90294.nii.gz',\n",
       "  'global_noise': 8.963065827955543,\n",
       "  'TS_macro_avg_dice': 0.639781869038982,\n",
       "  'TS_micro_avg_dice': 0.8215078533937609,\n",
       "  'TS_dice_right adrenal gland': 0.5618830675778284,\n",
       "  'TS_dice_left adrenal gland': 0.0,\n",
       "  'TS_dice_bladder': 0.8548643236898432,\n",
       "  'TS_dice_duodenum': 0.20220659171037167,\n",
       "  'TS_dice_esophagus': 0.7952239369484166,\n",
       "  'TS_dice_gallbladder': 0.7296844897830275,\n",
       "  'TS_dice_heart': 0.7838406394030786,\n",
       "  'TS_dice_right kidney': 0.9356927679368482,\n",
       "  'TS_dice_left kidney': 0.9460712765310466,\n",
       "  'TS_dice_liver': 0.8710476197132404,\n",
       "  'TS_dice_pancreas': 0.50378035332927,\n",
       "  'TS_dice_prostate': 0.004897459442913988,\n",
       "  'TS_dice_small bowel': 0.7499565772300468,\n",
       "  'TS_dice_spleen': 0.7446401236765784,\n",
       "  'TS_dice_stomach': 0.912938808612221},\n",
       " {'ct_name': '06-18-2009-NA-CT-31507.nii.gz',\n",
       "  'global_noise': 9.453651278910696,\n",
       "  'TS_macro_avg_dice': 0.7369087405543648,\n",
       "  'TS_micro_avg_dice': 0.8961787269665685,\n",
       "  'TS_dice_right adrenal gland': 0.4644828855355171,\n",
       "  'TS_dice_left adrenal gland': 0.42803315749811605,\n",
       "  'TS_dice_bladder': 0.9390691670118516,\n",
       "  'TS_dice_duodenum': 0.33497894082717666,\n",
       "  'TS_dice_esophagus': 0.6680106559147527,\n",
       "  'TS_dice_gallbladder': 0.8501731756837454,\n",
       "  'TS_dice_heart': 0.8966649730119808,\n",
       "  'TS_dice_right kidney': 0.9541570754164879,\n",
       "  'TS_dice_left kidney': 0.9562487472167898,\n",
       "  'TS_dice_liver': 0.9698778549332093,\n",
       "  'TS_dice_pancreas': 0.8146227258686003,\n",
       "  'TS_dice_prostate': 0.25503220611916266,\n",
       "  'TS_dice_small bowel': 0.649158605981418,\n",
       "  'TS_dice_spleen': 0.9422499083913521,\n",
       "  'TS_dice_stomach': 0.9308710289053128},\n",
       " {'ct_name': '08-26-2005-NA-CT-98109.nii.gz',\n",
       "  'global_noise': 8.484300707462063,\n",
       "  'TS_macro_avg_dice': 0.6352728590661613,\n",
       "  'TS_micro_avg_dice': 0.8301964043655873,\n",
       "  'TS_dice_right adrenal gland': 0.0,\n",
       "  'TS_dice_left adrenal gland': 0.0,\n",
       "  'TS_dice_bladder': 0.9143507408849568,\n",
       "  'TS_dice_duodenum': 0.4840369512231818,\n",
       "  'TS_dice_esophagus': 0.5698194089748267,\n",
       "  'TS_dice_gallbladder': 0.7975823153979458,\n",
       "  'TS_dice_heart': 0.8250292878046048,\n",
       "  'TS_dice_right kidney': 0.9552620111123216,\n",
       "  'TS_dice_left kidney': 0.0,\n",
       "  'TS_dice_liver': 0.9429844456333791,\n",
       "  'TS_dice_pancreas': 0.6600274955571204,\n",
       "  'TS_dice_prostate': 1.0,\n",
       "  'TS_dice_small bowel': 0.6199809887868779,\n",
       "  'TS_dice_spleen': 0.9337808413387637,\n",
       "  'TS_dice_stomach': 0.826238399278441},\n",
       " {'ct_name': '06-17-2006-NA-CT-82425.nii.gz',\n",
       "  'global_noise': 7.756499722338984,\n",
       "  'TS_macro_avg_dice': 0.6153770330984437,\n",
       "  'TS_micro_avg_dice': 0.82020087938439,\n",
       "  'TS_dice_right adrenal gland': 0.3404776484996938,\n",
       "  'TS_dice_left adrenal gland': 0.04749787955894826,\n",
       "  'TS_dice_bladder': 0.6001028547668807,\n",
       "  'TS_dice_duodenum': 0.6382380506091846,\n",
       "  'TS_dice_esophagus': 0.6582034543396045,\n",
       "  'TS_dice_gallbladder': 0.6644184020459208,\n",
       "  'TS_dice_heart': 0.8562452977125434,\n",
       "  'TS_dice_right kidney': 0.9041987909384402,\n",
       "  'TS_dice_left kidney': 0.9247024442574285,\n",
       "  'TS_dice_liver': 0.9525684224858945,\n",
       "  'TS_dice_pancreas': 0.25684425458746407,\n",
       "  'TS_dice_prostate': 0.0,\n",
       "  'TS_dice_small bowel': 0.6233496888788387,\n",
       "  'TS_dice_spleen': 0.906939919162207,\n",
       "  'TS_dice_stomach': 0.856868388633606},\n",
       " {'ct_name': '10-17-2006-NA-CT-29889.nii.gz',\n",
       "  'global_noise': 13.237037698844947,\n",
       "  'TS_macro_avg_dice': 0.7592363349919863,\n",
       "  'TS_micro_avg_dice': 0.8980859069181732,\n",
       "  'TS_dice_right adrenal gland': 0.2873702655344386,\n",
       "  'TS_dice_left adrenal gland': 0.0,\n",
       "  'TS_dice_bladder': 0.9322309604722346,\n",
       "  'TS_dice_duodenum': 0.6604963551478418,\n",
       "  'TS_dice_esophagus': 0.6258142139982574,\n",
       "  'TS_dice_gallbladder': 0.7850706127887944,\n",
       "  'TS_dice_heart': 0.8304230927866385,\n",
       "  'TS_dice_right kidney': 0.9429061519873292,\n",
       "  'TS_dice_left kidney': 0.9444433408597808,\n",
       "  'TS_dice_liver': 0.9645733594375248,\n",
       "  'TS_dice_pancreas': 0.7659597977383683,\n",
       "  'TS_dice_prostate': 1.0,\n",
       "  'TS_dice_small bowel': 0.7850720087710064,\n",
       "  'TS_dice_spleen': 0.9513671530893897,\n",
       "  'TS_dice_stomach': 0.9128177122681914},\n",
       " {'ct_name': '05-30-2008-NA-CT-51386.nii.gz',\n",
       "  'global_noise': 8.153868504277707,\n",
       "  'TS_macro_avg_dice': 0.6705559559515225,\n",
       "  'TS_micro_avg_dice': 0.6723486650017815,\n",
       "  'TS_dice_right adrenal gland': 0.35448057097541635,\n",
       "  'TS_dice_left adrenal gland': 0.3279183981866264,\n",
       "  'TS_dice_bladder': 0.8908982258270385,\n",
       "  'TS_dice_duodenum': 0.16624632456971322,\n",
       "  'TS_dice_esophagus': 0.7246363759175035,\n",
       "  'TS_dice_gallbladder': 0.010628550485614806,\n",
       "  'TS_dice_heart': 0.9213695595969886,\n",
       "  'TS_dice_right kidney': 0.9456129627632163,\n",
       "  'TS_dice_left kidney': 0.9527223961628517,\n",
       "  'TS_dice_liver': 0.9257456386893358,\n",
       "  'TS_dice_pancreas': 0.6718914565392479,\n",
       "  'TS_dice_prostate': 1.0,\n",
       "  'TS_dice_small bowel': 0.31669061858845404,\n",
       "  'TS_dice_spleen': 0.9349613442501356,\n",
       "  'TS_dice_stomach': 0.914536916720696},\n",
       " {'ct_name': '03-13-2006-NA-CT-82751.nii.gz',\n",
       "  'global_noise': 33.73192339690194,\n",
       "  'TS_macro_avg_dice': 0.7301863025622976,\n",
       "  'TS_micro_avg_dice': 0.9100200195387795,\n",
       "  'TS_dice_right adrenal gland': 0.0,\n",
       "  'TS_dice_left adrenal gland': 0.0,\n",
       "  'TS_dice_bladder': 1.0,\n",
       "  'TS_dice_duodenum': 1.0,\n",
       "  'TS_dice_esophagus': 0.5668921361078123,\n",
       "  'TS_dice_gallbladder': 1.0,\n",
       "  'TS_dice_heart': 0.847186209273267,\n",
       "  'TS_dice_right kidney': 0.0,\n",
       "  'TS_dice_left kidney': 0.7648170583959293,\n",
       "  'TS_dice_liver': 0.9370649177173835,\n",
       "  'TS_dice_pancreas': 1.0,\n",
       "  'TS_dice_prostate': 1.0,\n",
       "  'TS_dice_small bowel': 1.0,\n",
       "  'TS_dice_spleen': 0.926538208889862,\n",
       "  'TS_dice_stomach': 0.9102960080502092},\n",
       " {'ct_name': '02-01-2008-NA-CT-69220.nii.gz',\n",
       "  'global_noise': 10.297509082352876,\n",
       "  'TS_macro_avg_dice': 0.7793642430884009,\n",
       "  'TS_micro_avg_dice': 0.8899717414289123,\n",
       "  'TS_dice_right adrenal gland': 0.459825946164744,\n",
       "  'TS_dice_left adrenal gland': 0.47797527047913446,\n",
       "  'TS_dice_bladder': 0.9392719550875069,\n",
       "  'TS_dice_duodenum': 0.5171798916398053,\n",
       "  'TS_dice_esophagus': 0.7274426372927189,\n",
       "  'TS_dice_gallbladder': 0.7631040686069149,\n",
       "  'TS_dice_heart': 0.842581775423765,\n",
       "  'TS_dice_right kidney': 0.9627703064173696,\n",
       "  'TS_dice_left kidney': 0.9623531002772331,\n",
       "  'TS_dice_liver': 0.9645265388822934,\n",
       "  'TS_dice_pancreas': 0.7375861605712691,\n",
       "  'TS_dice_prostate': 0.7633470541254531,\n",
       "  'TS_dice_small bowel': 0.709276444265548,\n",
       "  'TS_dice_spleen': 0.9640239987602116,\n",
       "  'TS_dice_stomach': 0.8991984983320468},\n",
       " {'ct_name': '11-22-2007-NA-CT-72470.nii.gz',\n",
       "  'global_noise': 8.749035584939167,\n",
       "  'TS_macro_avg_dice': 0.75592832747366,\n",
       "  'TS_micro_avg_dice': 0.8808763689203002,\n",
       "  'TS_dice_right adrenal gland': 0.5472283813747228,\n",
       "  'TS_dice_left adrenal gland': 0.40845616757176106,\n",
       "  'TS_dice_bladder': 0.919792823457537,\n",
       "  'TS_dice_duodenum': 0.7130816017783815,\n",
       "  'TS_dice_esophagus': 0.7542293609856482,\n",
       "  'TS_dice_gallbladder': 0.8449340324763194,\n",
       "  'TS_dice_heart': 0.8101937740220315,\n",
       "  'TS_dice_right kidney': 0.9589240719299036,\n",
       "  'TS_dice_left kidney': 0.9571480647471413,\n",
       "  'TS_dice_liver': 0.9290160151059514,\n",
       "  'TS_dice_pancreas': 0.8562283275540145,\n",
       "  'TS_dice_prostate': 0.0,\n",
       "  'TS_dice_small bowel': 0.8031823749790845,\n",
       "  'TS_dice_spleen': 0.9332307461342141,\n",
       "  'TS_dice_stomach': 0.9032791699881924},\n",
       " {'ct_name': '06-21-2008-NA-CT-25134.nii.gz',\n",
       "  'global_noise': 11.021092092845475,\n",
       "  'TS_macro_avg_dice': 0.799157869521468,\n",
       "  'TS_micro_avg_dice': 0.9360256925676153,\n",
       "  'TS_dice_right adrenal gland': 0.4678677063726808,\n",
       "  'TS_dice_left adrenal gland': 0.7034677990092003,\n",
       "  'TS_dice_bladder': 0.9653101447313883,\n",
       "  'TS_dice_duodenum': 0.8110979625437332,\n",
       "  'TS_dice_esophagus': 0.7596583119485358,\n",
       "  'TS_dice_gallbladder': 0.9043750044195535,\n",
       "  'TS_dice_heart': 0.8255645617198124,\n",
       "  'TS_dice_right kidney': 0.9697829733163914,\n",
       "  'TS_dice_left kidney': 0.9674885508088871,\n",
       "  'TS_dice_liver': 0.9676429781902152,\n",
       "  'TS_dice_pancreas': 0.8919412057424461,\n",
       "  'TS_dice_prostate': 0.0,\n",
       "  'TS_dice_small bowel': 0.8653780785154523,\n",
       "  'TS_dice_spleen': 0.9628792691804026,\n",
       "  'TS_dice_stomach': 0.9249134963233203},\n",
       " {'ct_name': '09-02-2008-NA-CT-29336.nii.gz',\n",
       "  'global_noise': 11.349356634429968,\n",
       "  'TS_macro_avg_dice': 0.7206857183729843,\n",
       "  'TS_micro_avg_dice': 0.8800482661245906,\n",
       "  'TS_dice_right adrenal gland': 0.00788091068301226,\n",
       "  'TS_dice_left adrenal gland': 0.5751479289940828,\n",
       "  'TS_dice_bladder': 0.6692783399337958,\n",
       "  'TS_dice_duodenum': 0.22383129782657246,\n",
       "  'TS_dice_esophagus': 0.7385687809465852,\n",
       "  'TS_dice_gallbladder': 0.5839431692428515,\n",
       "  'TS_dice_heart': 0.8290645383462302,\n",
       "  'TS_dice_right kidney': 0.9448433537812687,\n",
       "  'TS_dice_left kidney': 0.962698606279232,\n",
       "  'TS_dice_liver': 0.9512428511284113,\n",
       "  'TS_dice_pancreas': 0.647520340953119,\n",
       "  'TS_dice_prostate': 1.0,\n",
       "  'TS_dice_small bowel': 0.8261425332071453,\n",
       "  'TS_dice_spleen': 0.9268137073904668,\n",
       "  'TS_dice_stomach': 0.9233094168819932},\n",
       " {'ct_name': '12-09-2005-NA-CT-53859.nii.gz',\n",
       "  'global_noise': 8.196777874899357,\n",
       "  'TS_macro_avg_dice': 0.6324357834790171,\n",
       "  'TS_micro_avg_dice': 0.7994104693239618,\n",
       "  'TS_dice_right adrenal gland': 0.1546811397557666,\n",
       "  'TS_dice_left adrenal gland': 0.26992896606156275,\n",
       "  'TS_dice_bladder': 0.8848518787529317,\n",
       "  'TS_dice_duodenum': 0.09531040121474041,\n",
       "  'TS_dice_esophagus': 0.7448955644214973,\n",
       "  'TS_dice_gallbladder': 0.6286543422184007,\n",
       "  'TS_dice_heart': 0.8414634146341463,\n",
       "  'TS_dice_right kidney': 0.9045509734142767,\n",
       "  'TS_dice_left kidney': 0.9292868272450336,\n",
       "  'TS_dice_liver': 0.9584211183256529,\n",
       "  'TS_dice_pancreas': 0.7049473943865896,\n",
       "  'TS_dice_prostate': 0.0,\n",
       "  'TS_dice_small bowel': 0.5107786235754073,\n",
       "  'TS_dice_spleen': 0.9208415754775316,\n",
       "  'TS_dice_stomach': 0.9379245327017186},\n",
       " {'ct_name': '04-06-2004-NA-CT-69018.nii.gz',\n",
       "  'global_noise': 9.846314598517896,\n",
       "  'TS_macro_avg_dice': 0.7907126981727356,\n",
       "  'TS_micro_avg_dice': 0.9159757465687983,\n",
       "  'TS_dice_right adrenal gland': 0.5915576694411415,\n",
       "  'TS_dice_left adrenal gland': 0.36262513904338156,\n",
       "  'TS_dice_bladder': 0.9428191864092913,\n",
       "  'TS_dice_duodenum': 0.728308588761175,\n",
       "  'TS_dice_esophagus': 0.772983488801317,\n",
       "  'TS_dice_gallbladder': 0.8983454256520145,\n",
       "  'TS_dice_heart': 0.8394282029871984,\n",
       "  'TS_dice_right kidney': 0.9623584659535612,\n",
       "  'TS_dice_left kidney': 0.9596877602710115,\n",
       "  'TS_dice_liver': 0.9677781176710513,\n",
       "  'TS_dice_pancreas': 0.826622364068261,\n",
       "  'TS_dice_prostate': 0.23017839444995045,\n",
       "  'TS_dice_small bowel': 0.8622918933060263,\n",
       "  'TS_dice_spleen': 0.9672185526975055,\n",
       "  'TS_dice_stomach': 0.948487223078149},\n",
       " {'ct_name': '04-30-2009-NA-CT-02737.nii.gz',\n",
       "  'global_noise': 9.325044398697777,\n",
       "  'TS_macro_avg_dice': 0.6690226743959322,\n",
       "  'TS_micro_avg_dice': 0.8336229439755476,\n",
       "  'TS_dice_right adrenal gland': 0.39689034369885434,\n",
       "  'TS_dice_left adrenal gland': 0.15061139278258276,\n",
       "  'TS_dice_bladder': 0.7037898459528779,\n",
       "  'TS_dice_duodenum': 0.2832500042953112,\n",
       "  'TS_dice_esophagus': 0.6744253468627045,\n",
       "  'TS_dice_gallbladder': 0.1467670201847417,\n",
       "  'TS_dice_heart': 0.8674414224417043,\n",
       "  'TS_dice_right kidney': 0.6098919228308811,\n",
       "  'TS_dice_left kidney': 0.9478657113642275,\n",
       "  'TS_dice_liver': 0.9421878726729221,\n",
       "  'TS_dice_pancreas': 0.819031773191783,\n",
       "  'TS_dice_prostate': 1.0,\n",
       "  'TS_dice_small bowel': 0.6732497922031295,\n",
       "  'TS_dice_spleen': 0.9273194766033063,\n",
       "  'TS_dice_stomach': 0.892618190853956},\n",
       " {'ct_name': '04-14-2008-NA-CT-54185.nii.gz',\n",
       "  'global_noise': 11.359417267507036,\n",
       "  'TS_macro_avg_dice': 0.7840006797267404,\n",
       "  'TS_micro_avg_dice': 0.8874201372878162,\n",
       "  'TS_dice_right adrenal gland': 0.5122585438335809,\n",
       "  'TS_dice_left adrenal gland': 0.6122638228816506,\n",
       "  'TS_dice_bladder': 0.913939855348306,\n",
       "  'TS_dice_duodenum': 0.4616787538085225,\n",
       "  'TS_dice_esophagus': 0.6044801295459146,\n",
       "  'TS_dice_gallbladder': 0.6655487588861859,\n",
       "  'TS_dice_heart': 0.8207148888263439,\n",
       "  'TS_dice_right kidney': 0.9544584924801024,\n",
       "  'TS_dice_left kidney': 0.9556650246305419,\n",
       "  'TS_dice_liver': 0.9471744567814395,\n",
       "  'TS_dice_pancreas': 0.793657774943373,\n",
       "  'TS_dice_prostate': 1.0,\n",
       "  'TS_dice_small bowel': 0.7328263980314221,\n",
       "  'TS_dice_spleen': 0.9246246121590805,\n",
       "  'TS_dice_stomach': 0.8607186837446434},\n",
       " {'ct_name': '08-08-2009-NA-CT-41500.nii.gz',\n",
       "  'global_noise': 7.941265287332525,\n",
       "  'TS_macro_avg_dice': 0.7505035050763524,\n",
       "  'TS_micro_avg_dice': 0.8674546323057756,\n",
       "  'TS_dice_right adrenal gland': 0.17290160326941215,\n",
       "  'TS_dice_left adrenal gland': 0.46960926193921854,\n",
       "  'TS_dice_bladder': 0.9055988352748023,\n",
       "  'TS_dice_duodenum': 0.09374858880375717,\n",
       "  'TS_dice_esophagus': 0.7441306266548985,\n",
       "  'TS_dice_gallbladder': 0.8579094395606129,\n",
       "  'TS_dice_heart': 0.8604902796912244,\n",
       "  'TS_dice_right kidney': 0.9511418716324368,\n",
       "  'TS_dice_left kidney': 0.945199140778224,\n",
       "  'TS_dice_liver': 0.9496553020077682,\n",
       "  'TS_dice_pancreas': 0.7992014821803365,\n",
       "  'TS_dice_prostate': 1.0,\n",
       "  'TS_dice_small bowel': 0.6681887818462763,\n",
       "  'TS_dice_spleen': 0.9289997656454629,\n",
       "  'TS_dice_stomach': 0.910777596860855},\n",
       " {'ct_name': '01-03-2004-NA-CT-96497.nii.gz',\n",
       "  'global_noise': 9.873085984855159,\n",
       "  'TS_macro_avg_dice': 0.604694429447372,\n",
       "  'TS_micro_avg_dice': 0.8282583457866591,\n",
       "  'TS_dice_right adrenal gland': 0.09460503941876643,\n",
       "  'TS_dice_left adrenal gland': 0.06340238543628374,\n",
       "  'TS_dice_bladder': 0.6946568096621399,\n",
       "  'TS_dice_duodenum': 0.07058430271426662,\n",
       "  'TS_dice_esophagus': 0.4917659335248859,\n",
       "  'TS_dice_gallbladder': 0.7149550101801783,\n",
       "  'TS_dice_heart': 0.8218309912107294,\n",
       "  'TS_dice_right kidney': 0.857046069504413,\n",
       "  'TS_dice_left kidney': 0.8856277325565224,\n",
       "  'TS_dice_liver': 0.9528855964431693,\n",
       "  'TS_dice_pancreas': 0.5679055027369634,\n",
       "  'TS_dice_prostate': 1.0,\n",
       "  'TS_dice_small bowel': 0.2012846928651391,\n",
       "  'TS_dice_spleen': 0.9030375107795083,\n",
       "  'TS_dice_stomach': 0.750828864677613},\n",
       " {'ct_name': '10-05-2004-NA-CT-31825.nii.gz',\n",
       "  'global_noise': 11.738344051716147,\n",
       "  'TS_macro_avg_dice': 0.7560729332035964,\n",
       "  'TS_micro_avg_dice': 0.8800190468505071,\n",
       "  'TS_dice_right adrenal gland': 0.569392118928826,\n",
       "  'TS_dice_left adrenal gland': 0.35633201835600997,\n",
       "  'TS_dice_bladder': 0.9013207651121674,\n",
       "  'TS_dice_duodenum': 0.6738289295592302,\n",
       "  'TS_dice_esophagus': 0.7516995736082333,\n",
       "  'TS_dice_gallbladder': 0.7887111632191609,\n",
       "  'TS_dice_heart': 0.7789469055323632,\n",
       "  'TS_dice_right kidney': 0.9533522086918277,\n",
       "  'TS_dice_left kidney': 0.9567617215140456,\n",
       "  'TS_dice_liver': 0.9559111075769995,\n",
       "  'TS_dice_pancreas': 0.8106807116391586,\n",
       "  'TS_dice_prostate': 0.1864060990013959,\n",
       "  'TS_dice_small bowel': 0.7717931906399301,\n",
       "  'TS_dice_spleen': 0.9455016993328784,\n",
       "  'TS_dice_stomach': 0.9404557853417204},\n",
       " {'ct_name': '09-30-2009-NA-CT-77725.nii.gz',\n",
       "  'global_noise': 8.818587334487475,\n",
       "  'TS_macro_avg_dice': 0.7051486395035984,\n",
       "  'TS_micro_avg_dice': 0.8072307856470748,\n",
       "  'TS_dice_right adrenal gland': 0.008397480755773267,\n",
       "  'TS_dice_left adrenal gland': 0.0,\n",
       "  'TS_dice_bladder': 0.878159342420784,\n",
       "  'TS_dice_duodenum': 0.46662280479781365,\n",
       "  'TS_dice_esophagus': 0.6130443298296011,\n",
       "  'TS_dice_gallbladder': 0.6928077455048409,\n",
       "  'TS_dice_heart': 0.8818684198703068,\n",
       "  'TS_dice_right kidney': 0.9534166170930002,\n",
       "  'TS_dice_left kidney': 0.9418904635806749,\n",
       "  'TS_dice_liver': 0.9619018768691348,\n",
       "  'TS_dice_pancreas': 0.828191604652843,\n",
       "  'TS_dice_prostate': 1.0,\n",
       "  'TS_dice_small bowel': 0.5085353822590697,\n",
       "  'TS_dice_spleen': 0.9443877034358047,\n",
       "  'TS_dice_stomach': 0.8980058214843307},\n",
       " {'ct_name': '01-01-2008-NA-CT-41569.nii.gz',\n",
       "  'global_noise': 14.301778823580605,\n",
       "  'TS_macro_avg_dice': 0.7620717072188348,\n",
       "  'TS_micro_avg_dice': 0.910482473576643,\n",
       "  'TS_dice_right adrenal gland': 0.0,\n",
       "  'TS_dice_left adrenal gland': 0.5174152153987168,\n",
       "  'TS_dice_bladder': 0.8987250803682126,\n",
       "  'TS_dice_duodenum': 0.6968803548029433,\n",
       "  'TS_dice_esophagus': 0.5268238351587154,\n",
       "  'TS_dice_gallbladder': 0.6450967096128386,\n",
       "  'TS_dice_heart': 0.8602044459823088,\n",
       "  'TS_dice_right kidney': 0.962247510540549,\n",
       "  'TS_dice_left kidney': 0.9671132821050449,\n",
       "  'TS_dice_liver': 0.9633574163618447,\n",
       "  'TS_dice_pancreas': 0.8355778847719396,\n",
       "  'TS_dice_prostate': 1.0,\n",
       "  'TS_dice_small bowel': 0.8064349507742224,\n",
       "  'TS_dice_spleen': 0.88376510927864,\n",
       "  'TS_dice_stomach': 0.8674338131265436},\n",
       " {'ct_name': '05-22-2007-NA-CT-36696.nii.gz',\n",
       "  'global_noise': 6.9386286959593,\n",
       "  'TS_macro_avg_dice': 0.5733954156847377,\n",
       "  'TS_micro_avg_dice': 0.8235104013696861,\n",
       "  'TS_dice_right adrenal gland': 0.3276073619631902,\n",
       "  'TS_dice_left adrenal gland': 0.0,\n",
       "  'TS_dice_bladder': 0.0,\n",
       "  'TS_dice_duodenum': 0.4640936389442267,\n",
       "  'TS_dice_esophagus': 0.31951462973360784,\n",
       "  'TS_dice_gallbladder': 0.8538621207437177,\n",
       "  'TS_dice_heart': 0.8644168110203745,\n",
       "  'TS_dice_right kidney': 0.8712819971398132,\n",
       "  'TS_dice_left kidney': 0.9218356122526927,\n",
       "  'TS_dice_liver': 0.9365854790533306,\n",
       "  'TS_dice_pancreas': 0.6076491732566499,\n",
       "  'TS_dice_prostate': 0.0,\n",
       "  'TS_dice_small bowel': 0.6699542844885661,\n",
       "  'TS_dice_spleen': 0.8767915812955397,\n",
       "  'TS_dice_stomach': 0.8873385453793579},\n",
       " {'ct_name': '05-20-2006-NA-CT-90340.nii.gz',\n",
       "  'global_noise': 9.139308141114673,\n",
       "  'TS_macro_avg_dice': 0.6428130723933663,\n",
       "  'TS_micro_avg_dice': 0.669442327452671,\n",
       "  'TS_dice_right adrenal gland': 0.41705882352941176,\n",
       "  'TS_dice_left adrenal gland': 0.19972027972027973,\n",
       "  'TS_dice_bladder': 0.7903389734395924,\n",
       "  'TS_dice_duodenum': 0.33726793042798514,\n",
       "  'TS_dice_esophagus': 0.4201934289045888,\n",
       "  'TS_dice_gallbladder': 0.7187830472626698,\n",
       "  'TS_dice_heart': 0.8694446734189019,\n",
       "  'TS_dice_right kidney': 0.9192650253960488,\n",
       "  'TS_dice_left kidney': 0.14463247501970633,\n",
       "  'TS_dice_liver': 0.9614967023654883,\n",
       "  'TS_dice_pancreas': 0.812797906047665,\n",
       "  'TS_dice_prostate': 1.0,\n",
       "  'TS_dice_small bowel': 0.39851816025174064,\n",
       "  'TS_dice_spleen': 0.9095915274908939,\n",
       "  'TS_dice_stomach': 0.74308713262552},\n",
       " {'ct_name': '06-20-2007-NA-CT-45210.nii.gz',\n",
       "  'global_noise': 8.658067312441112,\n",
       "  'TS_macro_avg_dice': 0.46513205326764867,\n",
       "  'TS_micro_avg_dice': 0.7116483101399722,\n",
       "  'TS_dice_right adrenal gland': 0.09396719488462607,\n",
       "  'TS_dice_left adrenal gland': 0.035137034434293744,\n",
       "  'TS_dice_bladder': 0.7944001391724731,\n",
       "  'TS_dice_duodenum': 0.4787678056924361,\n",
       "  'TS_dice_esophagus': 0.4964305326743548,\n",
       "  'TS_dice_gallbladder': 0.0,\n",
       "  'TS_dice_heart': 0.8379904306220096,\n",
       "  'TS_dice_right kidney': 0.9562301411223485,\n",
       "  'TS_dice_left kidney': 0.5544478165835862,\n",
       "  'TS_dice_liver': 0.9385018019398818,\n",
       "  'TS_dice_pancreas': 0.6146663231125998,\n",
       "  'TS_dice_prostate': 0.0,\n",
       "  'TS_dice_small bowel': 0.47025636094550866,\n",
       "  'TS_dice_spleen': 0.06011514752981583,\n",
       "  'TS_dice_stomach': 0.6460700703007952},\n",
       " {'ct_name': '03-02-2005-NA-CT-45110.nii.gz',\n",
       "  'global_noise': 6.678663395434106,\n",
       "  'TS_macro_avg_dice': 0.6302517068397864,\n",
       "  'TS_micro_avg_dice': 0.8355388464937943,\n",
       "  'TS_dice_right adrenal gland': 0.26033690658499237,\n",
       "  'TS_dice_left adrenal gland': 0.44259485924112607,\n",
       "  'TS_dice_bladder': 0.36908434869005907,\n",
       "  'TS_dice_duodenum': 0.05808781827408137,\n",
       "  'TS_dice_esophagus': 0.5769157198056544,\n",
       "  'TS_dice_gallbladder': 0.8899359124594907,\n",
       "  'TS_dice_heart': 0.8122791447286033,\n",
       "  'TS_dice_right kidney': 0.9467692152001215,\n",
       "  'TS_dice_left kidney': 0.945736575241459,\n",
       "  'TS_dice_liver': 0.9495092250644965,\n",
       "  'TS_dice_pancreas': 0.7829501391839683,\n",
       "  'TS_dice_prostate': 0.0,\n",
       "  'TS_dice_small bowel': 0.6084303163114747,\n",
       "  'TS_dice_spleen': 0.9402514433712836,\n",
       "  'TS_dice_stomach': 0.8708939784399841},\n",
       " {'ct_name': '09-27-2006-NA-CT-15911.nii.gz',\n",
       "  'global_noise': 6.550653225492952,\n",
       "  'TS_macro_avg_dice': 0.6044881420638591,\n",
       "  'TS_micro_avg_dice': 0.7912317491498965,\n",
       "  'TS_dice_right adrenal gland': 0.21562809099901087,\n",
       "  'TS_dice_left adrenal gland': 0.13981430912069906,\n",
       "  'TS_dice_bladder': 0.8869158118172606,\n",
       "  'TS_dice_duodenum': 0.07244321715550912,\n",
       "  'TS_dice_esophagus': 0.7012498932323549,\n",
       "  'TS_dice_gallbladder': 0.7781497797356828,\n",
       "  'TS_dice_heart': 0.8210539608618584,\n",
       "  'TS_dice_right kidney': 0.9133480552256532,\n",
       "  'TS_dice_left kidney': 0.9423053205397005,\n",
       "  'TS_dice_liver': 0.9449910453345967,\n",
       "  'TS_dice_pancreas': 0.5177522541060272,\n",
       "  'TS_dice_prostate': 0.0,\n",
       "  'TS_dice_small bowel': 0.46419579649524406,\n",
       "  'TS_dice_spleen': 0.9230109336495221,\n",
       "  'TS_dice_stomach': 0.7464636626847674},\n",
       " {'ct_name': '09-06-2009-NA-CT-60782.nii.gz',\n",
       "  'global_noise': 7.882312002460374,\n",
       "  'TS_macro_avg_dice': 0.7898056044022183,\n",
       "  'TS_micro_avg_dice': 0.8777716170491058,\n",
       "  'TS_dice_right adrenal gland': 0.5814759782070332,\n",
       "  'TS_dice_left adrenal gland': 0.39263271939328276,\n",
       "  'TS_dice_bladder': 0.8772279025589451,\n",
       "  'TS_dice_duodenum': 0.3225496091401082,\n",
       "  'TS_dice_esophagus': 0.6910457107075767,\n",
       "  'TS_dice_gallbladder': 0.897268047321161,\n",
       "  'TS_dice_heart': 0.8855339257501126,\n",
       "  'TS_dice_right kidney': 0.9598206290876009,\n",
       "  'TS_dice_left kidney': 0.9606644608929973,\n",
       "  'TS_dice_liver': 0.9652003826880846,\n",
       "  'TS_dice_pancreas': 0.8270415464556565,\n",
       "  'TS_dice_prostate': 1.0,\n",
       "  'TS_dice_small bowel': 0.6154124079679484,\n",
       "  'TS_dice_spleen': 0.9564348129476379,\n",
       "  'TS_dice_stomach': 0.9147759329151263},\n",
       " {'ct_name': '10-07-2004-NA-CT-81309.nii.gz',\n",
       "  'global_noise': 8.931893353102778,\n",
       "  'TS_macro_avg_dice': 0.6059790228444055,\n",
       "  'TS_micro_avg_dice': 0.824551737656525,\n",
       "  'TS_dice_right adrenal gland': 0.2726978998384491,\n",
       "  'TS_dice_left adrenal gland': 0.2687992360945333,\n",
       "  'TS_dice_bladder': 0.9395176106884067,\n",
       "  'TS_dice_duodenum': 0.29833670364904996,\n",
       "  'TS_dice_esophagus': 0.4217953195948306,\n",
       "  'TS_dice_gallbladder': 1.0,\n",
       "  'TS_dice_heart': 0.8716913772037278,\n",
       "  'TS_dice_right kidney': 0.0,\n",
       "  'TS_dice_left kidney': 0.9116661364131098,\n",
       "  'TS_dice_liver': 0.9494868496522383,\n",
       "  'TS_dice_pancreas': 0.7524809975232727,\n",
       "  'TS_dice_prostate': 0.0,\n",
       "  'TS_dice_small bowel': 0.642706207412789,\n",
       "  'TS_dice_spleen': 0.8183759212066947,\n",
       "  'TS_dice_stomach': 0.9421310833889801},\n",
       " {'ct_name': '07-07-2005-NA-CT-44001.nii.gz',\n",
       "  'global_noise': 7.471710659190081,\n",
       "  'TS_macro_avg_dice': 0.6681216269474675,\n",
       "  'TS_micro_avg_dice': 0.8777344055169064,\n",
       "  'TS_dice_right adrenal gland': 0.0,\n",
       "  'TS_dice_left adrenal gland': 0.42989460236346216,\n",
       "  'TS_dice_bladder': 0.9164155693104004,\n",
       "  'TS_dice_duodenum': 0.39174424867277063,\n",
       "  'TS_dice_esophagus': 0.6306276009920552,\n",
       "  'TS_dice_gallbladder': 0.6345077554501359,\n",
       "  'TS_dice_heart': 0.8389387970278338,\n",
       "  'TS_dice_right kidney': 0.0,\n",
       "  'TS_dice_left kidney': 0.9567326632606127,\n",
       "  'TS_dice_liver': 0.9425338681970797,\n",
       "  'TS_dice_pancreas': 0.6997354187641949,\n",
       "  'TS_dice_prostate': 1.0,\n",
       "  'TS_dice_small bowel': 0.7779120311646119,\n",
       "  'TS_dice_spleen': 0.9375311290542646,\n",
       "  'TS_dice_stomach': 0.8652507199545914},\n",
       " {'ct_name': '07-14-2004-NA-CT-34133.nii.gz',\n",
       "  'global_noise': 12.364607209453967,\n",
       "  'TS_macro_avg_dice': 0.6537644232005196,\n",
       "  'TS_micro_avg_dice': 0.8615771203369363,\n",
       "  'TS_dice_right adrenal gland': 0.06025641025641026,\n",
       "  'TS_dice_left adrenal gland': 0.0,\n",
       "  'TS_dice_bladder': 0.9373210258265455,\n",
       "  'TS_dice_duodenum': 0.4977080454346287,\n",
       "  'TS_dice_esophagus': 0.6839677047289504,\n",
       "  'TS_dice_gallbladder': 0.7802119198874933,\n",
       "  'TS_dice_heart': 0.8313825347683166,\n",
       "  'TS_dice_right kidney': 0.9425269055951937,\n",
       "  'TS_dice_left kidney': 0.9496589443603467,\n",
       "  'TS_dice_liver': 0.9540933134468882,\n",
       "  'TS_dice_pancreas': 0.6124318584987505,\n",
       "  'TS_dice_prostate': 0.14333415780361117,\n",
       "  'TS_dice_small bowel': 0.5574790796603409,\n",
       "  'TS_dice_spleen': 0.9379075541489158,\n",
       "  'TS_dice_stomach': 0.9181868935914033},\n",
       " {'ct_name': '06-01-2009-NA-CT-35668.nii.gz',\n",
       "  'global_noise': 8.627723963089522,\n",
       "  'TS_macro_avg_dice': 0.6977347118069906,\n",
       "  'TS_micro_avg_dice': 0.8376306906641877,\n",
       "  'TS_dice_right adrenal gland': 0.4110599078341014,\n",
       "  'TS_dice_left adrenal gland': 0.40989794491821613,\n",
       "  'TS_dice_bladder': 0.9074019113195227,\n",
       "  'TS_dice_duodenum': 0.39867246039620896,\n",
       "  'TS_dice_esophagus': 0.5164263767430868,\n",
       "  'TS_dice_gallbladder': 0.8421188392445877,\n",
       "  'TS_dice_heart': 0.9181455263161076,\n",
       "  'TS_dice_right kidney': 0.9604353130111377,\n",
       "  'TS_dice_left kidney': 0.9604880083890537,\n",
       "  'TS_dice_liver': 0.9598212968339986,\n",
       "  'TS_dice_pancreas': 0.8458234312958507,\n",
       "  'TS_dice_prostate': 0.07750666393274554,\n",
       "  'TS_dice_small bowel': 0.4461490895134121,\n",
       "  'TS_dice_spleen': 0.93194429902628,\n",
       "  'TS_dice_stomach': 0.8801296083305508},\n",
       " {'ct_name': '06-16-2005-NA-CT-07858.nii.gz',\n",
       "  'global_noise': 7.742977639980337,\n",
       "  'TS_macro_avg_dice': 0.5691277250608514,\n",
       "  'TS_micro_avg_dice': 0.7149981206376915,\n",
       "  'TS_dice_right adrenal gland': 0.05323590814196242,\n",
       "  'TS_dice_left adrenal gland': 0.38652291105121295,\n",
       "  'TS_dice_bladder': 0.33219391233044526,\n",
       "  'TS_dice_duodenum': 0.31729970181356015,\n",
       "  'TS_dice_esophagus': 0.22651365255243372,\n",
       "  'TS_dice_gallbladder': 1.0,\n",
       "  'TS_dice_heart': 0.8519451918826914,\n",
       "  'TS_dice_right kidney': 0.732303935975403,\n",
       "  'TS_dice_left kidney': 0.8123887893602162,\n",
       "  'TS_dice_liver': 0.9156836399632342,\n",
       "  'TS_dice_pancreas': 0.6794218786358818,\n",
       "  'TS_dice_prostate': 0.0,\n",
       "  'TS_dice_small bowel': 0.48267488162715605,\n",
       "  'TS_dice_spleen': 0.9384512079323901,\n",
       "  'TS_dice_stomach': 0.808280264646183},\n",
       " {'ct_name': '07-17-2005-NA-CT-46226.nii.gz',\n",
       "  'global_noise': 10.025752174781598,\n",
       "  'TS_macro_avg_dice': 0.6857064504761806,\n",
       "  'TS_micro_avg_dice': 0.8307979969664216,\n",
       "  'TS_dice_right adrenal gland': 0.7668454185124738,\n",
       "  'TS_dice_left adrenal gland': 0.6692539887882708,\n",
       "  'TS_dice_bladder': 0.0,\n",
       "  'TS_dice_duodenum': 0.5595576619273301,\n",
       "  'TS_dice_esophagus': 0.4429608127721335,\n",
       "  'TS_dice_gallbladder': 0.8686416846511019,\n",
       "  'TS_dice_heart': 0.8199322554963363,\n",
       "  'TS_dice_right kidney': 0.9666580288503066,\n",
       "  'TS_dice_left kidney': 0.9694995780998908,\n",
       "  'TS_dice_liver': 0.9665995453307616,\n",
       "  'TS_dice_pancreas': 0.8897748893687069,\n",
       "  'TS_dice_prostate': 1.0,\n",
       "  'TS_dice_small bowel': 0.0,\n",
       "  'TS_dice_spleen': 0.9184473820886454,\n",
       "  'TS_dice_stomach': 0.447425511256751},\n",
       " {'ct_name': '09-04-2004-NA-CT-23626.nii.gz',\n",
       "  'global_noise': 7.812862337511838,\n",
       "  'TS_macro_avg_dice': 0.5708838891251526,\n",
       "  'TS_micro_avg_dice': 0.7656617624567951,\n",
       "  'TS_dice_right adrenal gland': 0.08077544426494346,\n",
       "  'TS_dice_left adrenal gland': 0.0,\n",
       "  'TS_dice_bladder': 0.6402466142327117,\n",
       "  'TS_dice_duodenum': 0.43075252765148947,\n",
       "  'TS_dice_esophagus': 0.5593206040325075,\n",
       "  'TS_dice_gallbladder': 0.7827834683182467,\n",
       "  'TS_dice_heart': 0.8583788352515154,\n",
       "  'TS_dice_right kidney': 0.9106725418399222,\n",
       "  'TS_dice_left kidney': 0.9170156774307981,\n",
       "  'TS_dice_liver': 0.9486492292308657,\n",
       "  'TS_dice_pancreas': 0.5563565204301795,\n",
       "  'TS_dice_prostate': 0.0,\n",
       "  'TS_dice_small bowel': 0.34634961461803937,\n",
       "  'TS_dice_spleen': 0.8538079370047262,\n",
       "  'TS_dice_stomach': 0.6781493225713462},\n",
       " {'ct_name': '06-17-2004-NA-CT-92037.nii.gz',\n",
       "  'global_noise': 9.976189402279847,\n",
       "  'TS_macro_avg_dice': 0.5790305277296439,\n",
       "  'TS_micro_avg_dice': 0.7846512125684436,\n",
       "  'TS_dice_right adrenal gland': 0.0,\n",
       "  'TS_dice_left adrenal gland': 0.0,\n",
       "  'TS_dice_bladder': 0.7330777944557099,\n",
       "  'TS_dice_duodenum': 0.022489589929576115,\n",
       "  'TS_dice_esophagus': 0.4884900507218104,\n",
       "  'TS_dice_gallbladder': 0.554354965606346,\n",
       "  'TS_dice_heart': 0.8748623959695394,\n",
       "  'TS_dice_right kidney': 0.0,\n",
       "  'TS_dice_left kidney': 0.9430068342548046,\n",
       "  'TS_dice_liver': 0.956748614474772,\n",
       "  'TS_dice_pancreas': 0.7949692614712096,\n",
       "  'TS_dice_prostate': 1.0,\n",
       "  'TS_dice_small bowel': 0.6026224098489954,\n",
       "  'TS_dice_spleen': 0.8469505656644584,\n",
       "  'TS_dice_stomach': 0.8678854335474357},\n",
       " {'ct_name': '01-25-2007-NA-CT-07079.nii.gz',\n",
       "  'global_noise': 12.308300884983733,\n",
       "  'TS_macro_avg_dice': 0.7888623977972821,\n",
       "  'TS_micro_avg_dice': 0.9115658557022905,\n",
       "  'TS_dice_right adrenal gland': 0.45895989974937346,\n",
       "  'TS_dice_left adrenal gland': 0.42013954365453515,\n",
       "  'TS_dice_bladder': 0.5400939240149433,\n",
       "  'TS_dice_duodenum': 0.6998262281213202,\n",
       "  'TS_dice_esophagus': 0.6442670626817647,\n",
       "  'TS_dice_gallbladder': 0.8765342435906747,\n",
       "  'TS_dice_heart': 0.8469086268918418,\n",
       "  'TS_dice_right kidney': 0.9540250752980588,\n",
       "  'TS_dice_left kidney': 0.9604552919305906,\n",
       "  'TS_dice_liver': 0.9698338226737845,\n",
       "  'TS_dice_pancreas': 0.7229281137821603,\n",
       "  'TS_dice_prostate': 1.0,\n",
       "  'TS_dice_small bowel': 0.8434859123258662,\n",
       "  'TS_dice_spleen': 0.9552407911169478,\n",
       "  'TS_dice_stomach': 0.9402374311273696},\n",
       " {'ct_name': '04-17-2004-NA-CT-15407.nii.gz',\n",
       "  'global_noise': 8.842092134238014,\n",
       "  'TS_macro_avg_dice': 0.6899444439749466,\n",
       "  'TS_micro_avg_dice': 0.842960448144963,\n",
       "  'TS_dice_right adrenal gland': 0.2863613487669854,\n",
       "  'TS_dice_left adrenal gland': 0.28442545109211775,\n",
       "  'TS_dice_bladder': 0.8842620586156906,\n",
       "  'TS_dice_duodenum': 0.26061640397550445,\n",
       "  'TS_dice_esophagus': 0.6711658116990774,\n",
       "  'TS_dice_gallbladder': 0.9058745376559258,\n",
       "  'TS_dice_heart': 0.8482683250939514,\n",
       "  'TS_dice_right kidney': 0.956985591601107,\n",
       "  'TS_dice_left kidney': 0.9563996425219404,\n",
       "  'TS_dice_liver': 0.9579024726648095,\n",
       "  'TS_dice_pancreas': 0.8024028397196687,\n",
       "  'TS_dice_prostate': 0.0,\n",
       "  'TS_dice_small bowel': 0.6737344097269113,\n",
       "  'TS_dice_spleen': 0.9425234252053766,\n",
       "  'TS_dice_stomach': 0.9182443412851334},\n",
       " {'ct_name': '08-29-2009-NA-CT-47627.nii.gz',\n",
       "  'global_noise': 12.01453040277742,\n",
       "  'TS_macro_avg_dice': 0.5100108114100105,\n",
       "  'TS_micro_avg_dice': 0.7138572365924273,\n",
       "  'TS_dice_right adrenal gland': 0.10405883955325525,\n",
       "  'TS_dice_left adrenal gland': 0.0,\n",
       "  'TS_dice_bladder': 1.0,\n",
       "  'TS_dice_duodenum': 0.487946553010889,\n",
       "  'TS_dice_esophagus': 0.7313675044528003,\n",
       "  'TS_dice_gallbladder': 0.19553813339482332,\n",
       "  'TS_dice_heart': 0.9147930810958343,\n",
       "  'TS_dice_right kidney': 0.0,\n",
       "  'TS_dice_left kidney': 0.0,\n",
       "  'TS_dice_liver': 0.9026104997486819,\n",
       "  'TS_dice_pancreas': 0.23197282285260862,\n",
       "  'TS_dice_prostate': 1.0,\n",
       "  'TS_dice_small bowel': 0.5061586437857748,\n",
       "  'TS_dice_spleen': 0.6703172410792939,\n",
       "  'TS_dice_stomach': 0.905398852176194},\n",
       " {'ct_name': '11-08-2008-NA-CT-53997.nii.gz',\n",
       "  'global_noise': 9.848731366793437,\n",
       "  'TS_macro_avg_dice': 0.7157963979712219,\n",
       "  'TS_micro_avg_dice': 0.7545510306033058,\n",
       "  'TS_dice_right adrenal gland': 0.4131676184077931,\n",
       "  'TS_dice_left adrenal gland': 0.19951599892444205,\n",
       "  'TS_dice_bladder': 0.8302133176281985,\n",
       "  'TS_dice_duodenum': 0.09567417761176045,\n",
       "  'TS_dice_esophagus': 0.7879800906321968,\n",
       "  'TS_dice_gallbladder': 0.7628497182005333,\n",
       "  'TS_dice_heart': 0.887526688766584,\n",
       "  'TS_dice_right kidney': 0.9501465103356745,\n",
       "  'TS_dice_left kidney': 0.9571052382305579,\n",
       "  'TS_dice_liver': 0.9591163502655214,\n",
       "  'TS_dice_pancreas': 0.7926944173368778,\n",
       "  'TS_dice_prostate': 1.0,\n",
       "  'TS_dice_small bowel': 0.4768324858088039,\n",
       "  'TS_dice_spleen': 0.8740914847172331,\n",
       "  'TS_dice_stomach': 0.7500318727021504},\n",
       " {'ct_name': '07-22-2005-NA-CT-88517.nii.gz',\n",
       "  'global_noise': 9.381314879547205,\n",
       "  'TS_macro_avg_dice': 0.8307746304954766,\n",
       "  'TS_micro_avg_dice': 0.883970831682844,\n",
       "  'TS_dice_right adrenal gland': 0.6285441982368358,\n",
       "  'TS_dice_left adrenal gland': 0.5434826270335409,\n",
       "  'TS_dice_bladder': 0.9393184547797376,\n",
       "  'TS_dice_duodenum': 0.6813074310827008,\n",
       "  'TS_dice_esophagus': 0.6889337659685507,\n",
       "  'TS_dice_gallbladder': 0.9148574443554218,\n",
       "  'TS_dice_heart': 0.8273834062620259,\n",
       "  'TS_dice_right kidney': 0.9377333470659422,\n",
       "  'TS_dice_left kidney': 0.9405708993681569,\n",
       "  'TS_dice_liver': 0.9670724692508414,\n",
       "  'TS_dice_pancreas': 0.8248858400314069,\n",
       "  'TS_dice_prostate': 1.0,\n",
       "  'TS_dice_small bowel': 0.6649075961933735,\n",
       "  'TS_dice_spleen': 0.9559183130825368,\n",
       "  'TS_dice_stomach': 0.9467036647210794},\n",
       " {'ct_name': '01-11-2008-NA-CT-02918.nii.gz',\n",
       "  'global_noise': 8.954948026687887,\n",
       "  'TS_macro_avg_dice': 0.7109738359812509,\n",
       "  'TS_micro_avg_dice': 0.898328090576556,\n",
       "  'TS_dice_right adrenal gland': 0.0,\n",
       "  'TS_dice_left adrenal gland': 0.10271266789570714,\n",
       "  'TS_dice_bladder': 0.8968184019754969,\n",
       "  'TS_dice_duodenum': 0.3549371866269496,\n",
       "  'TS_dice_esophagus': 0.42822625611796045,\n",
       "  'TS_dice_gallbladder': 0.8350869925434963,\n",
       "  'TS_dice_heart': 0.9104267406600607,\n",
       "  'TS_dice_right kidney': 1.0,\n",
       "  'TS_dice_left kidney': 0.9494909311755922,\n",
       "  'TS_dice_liver': 0.9468191789814263,\n",
       "  'TS_dice_pancreas': 0.5946337334407539,\n",
       "  'TS_dice_prostate': 1.0,\n",
       "  'TS_dice_small bowel': 0.8310343885068208,\n",
       "  'TS_dice_spleen': 0.9148579197766932,\n",
       "  'TS_dice_stomach': 0.8995631420178042},\n",
       " {'ct_name': '07-31-2009-NA-CT-24841.nii.gz',\n",
       "  'global_noise': 10.059269568985831,\n",
       "  'TS_macro_avg_dice': 0.5374551521467055,\n",
       "  'TS_micro_avg_dice': 0.7776206160333987,\n",
       "  'TS_dice_right adrenal gland': 0.22090729783037474,\n",
       "  'TS_dice_left adrenal gland': 0.26312419974391804,\n",
       "  'TS_dice_bladder': 0.7292884395514048,\n",
       "  'TS_dice_duodenum': 0.45150792537522794,\n",
       "  'TS_dice_esophagus': 0.6684224049331963,\n",
       "  'TS_dice_gallbladder': 0.8214782569671947,\n",
       "  'TS_dice_heart': 0.8844856863518636,\n",
       "  'TS_dice_right kidney': 0.0,\n",
       "  'TS_dice_left kidney': 0.0,\n",
       "  'TS_dice_liver': 0.9425539207918837,\n",
       "  'TS_dice_pancreas': 0.8098043564203685,\n",
       "  'TS_dice_prostate': 0.0,\n",
       "  'TS_dice_small bowel': 0.578607294421073,\n",
       "  'TS_dice_spleen': 0.917582955753304,\n",
       "  'TS_dice_stomach': 0.7740645440607725},\n",
       " {'ct_name': '06-01-2005-NA-CT-03834.nii.gz',\n",
       "  'global_noise': 7.531887740946281,\n",
       "  'TS_macro_avg_dice': 0.6877158439952122,\n",
       "  'TS_micro_avg_dice': 0.7816512423975861,\n",
       "  'TS_dice_right adrenal gland': 0.4407537527946343,\n",
       "  'TS_dice_left adrenal gland': 0.12144955925563174,\n",
       "  'TS_dice_bladder': 0.9287017480616774,\n",
       "  'TS_dice_duodenum': 0.5945916123489678,\n",
       "  'TS_dice_esophagus': 0.696948130782434,\n",
       "  'TS_dice_gallbladder': 0.6051045728465083,\n",
       "  'TS_dice_heart': 0.8479025476247269,\n",
       "  'TS_dice_right kidney': 0.9434054091635959,\n",
       "  'TS_dice_left kidney': 0.9480807499201169,\n",
       "  'TS_dice_liver': 0.9415119853384122,\n",
       "  'TS_dice_pancreas': 0.8486536427299386,\n",
       "  'TS_dice_prostate': 0.012640449438202247,\n",
       "  'TS_dice_small bowel': 0.6324693794655498,\n",
       "  'TS_dice_spleen': 0.9444505349231632,\n",
       "  'TS_dice_stomach': 0.8090735852346242},\n",
       " {'ct_name': '10-10-2008-NA-CT-69424.nii.gz',\n",
       "  'global_noise': 11.76008762043556,\n",
       "  'TS_macro_avg_dice': 0.7027030524387329,\n",
       "  'TS_micro_avg_dice': 0.862136746365168,\n",
       "  'TS_dice_right adrenal gland': 0.6324655436447167,\n",
       "  'TS_dice_left adrenal gland': 0.4189913171993349,\n",
       "  'TS_dice_bladder': 0.6859580758732032,\n",
       "  'TS_dice_duodenum': 0.5453955901426718,\n",
       "  'TS_dice_esophagus': 0.44796814615294533,\n",
       "  'TS_dice_gallbladder': 0.8978346738974566,\n",
       "  'TS_dice_heart': 0.7967178792864604,\n",
       "  'TS_dice_right kidney': 0.9515314904480241,\n",
       "  'TS_dice_left kidney': 0.9045528468100646,\n",
       "  'TS_dice_liver': 0.9589841644101411,\n",
       "  'TS_dice_pancreas': 0.7797719572446058,\n",
       "  'TS_dice_prostate': 0.0,\n",
       "  'TS_dice_small bowel': 0.6895835530120752,\n",
       "  'TS_dice_spleen': 0.8947606545573662,\n",
       "  'TS_dice_stomach': 0.9360298939019284},\n",
       " {'ct_name': '07-12-2005-NA-CT-80413.nii.gz',\n",
       "  'global_noise': 11.606697585372398,\n",
       "  'TS_macro_avg_dice': 0.779670674256721,\n",
       "  'TS_micro_avg_dice': 0.9259029435020176,\n",
       "  'TS_dice_right adrenal gland': 0.7189125815197479,\n",
       "  'TS_dice_left adrenal gland': 0.6459745093220042,\n",
       "  'TS_dice_bladder': 0.6033864600374206,\n",
       "  'TS_dice_duodenum': 0.8118145611452986,\n",
       "  'TS_dice_esophagus': 0.53397657457848,\n",
       "  'TS_dice_gallbladder': 0.7644183773216031,\n",
       "  'TS_dice_heart': 0.8240953155070915,\n",
       "  'TS_dice_right kidney': 0.9458527477575754,\n",
       "  'TS_dice_left kidney': 0.9516502038856038,\n",
       "  'TS_dice_liver': 0.963737935873831,\n",
       "  'TS_dice_pancreas': 0.8651645811162894,\n",
       "  'TS_dice_prostate': 0.273848061161237,\n",
       "  'TS_dice_small bowel': 0.8645201996212769,\n",
       "  'TS_dice_spleen': 0.9675881163251517,\n",
       "  'TS_dice_stomach': 0.9601198886782046},\n",
       " {'ct_name': '12-17-2006-NA-CT-62478.nii.gz',\n",
       "  'global_noise': 10.006081873798053,\n",
       "  'TS_macro_avg_dice': 0.5943760931935501,\n",
       "  'TS_micro_avg_dice': 0.8055064965930452,\n",
       "  'TS_dice_right adrenal gland': 0.22319474835886213,\n",
       "  'TS_dice_left adrenal gland': 0.0891891891891892,\n",
       "  'TS_dice_bladder': 0.8856726838938301,\n",
       "  'TS_dice_duodenum': 0.11981751641850905,\n",
       "  'TS_dice_esophagus': 0.6007750060547348,\n",
       "  'TS_dice_gallbladder': 0.5688234924228133,\n",
       "  'TS_dice_heart': 0.8471256698878677,\n",
       "  'TS_dice_right kidney': 0.9536741498903372,\n",
       "  'TS_dice_left kidney': 0.9512766130615254,\n",
       "  'TS_dice_liver': 0.9491890909182727,\n",
       "  'TS_dice_pancreas': 0.6915146527682531,\n",
       "  'TS_dice_prostate': 0.0,\n",
       "  'TS_dice_small bowel': 0.2833273016640421,\n",
       "  'TS_dice_spleen': 0.9079409744680568,\n",
       "  'TS_dice_stomach': 0.8441203089069581},\n",
       " {'ct_name': '10-24-2006-NA-CT-04855.nii.gz',\n",
       "  'global_noise': 10.436720190390124,\n",
       "  'TS_macro_avg_dice': 0.8696981279684474,\n",
       "  'TS_micro_avg_dice': 0.9259295825350262,\n",
       "  'TS_dice_right adrenal gland': 0.7245360824742269,\n",
       "  'TS_dice_left adrenal gland': 0.5658279695728496,\n",
       "  'TS_dice_bladder': 0.9442445874230968,\n",
       "  'TS_dice_duodenum': 0.7606060241977148,\n",
       "  'TS_dice_esophagus': 0.8049316083287034,\n",
       "  'TS_dice_gallbladder': 0.9460792651811533,\n",
       "  'TS_dice_heart': 0.8339038105199339,\n",
       "  'TS_dice_right kidney': 0.9678205196525499,\n",
       "  'TS_dice_left kidney': 0.9691530386476798,\n",
       "  'TS_dice_liver': 0.9721881658164844,\n",
       "  'TS_dice_pancreas': 0.8968779564806055,\n",
       "  'TS_dice_prostate': 0.8511368752814048,\n",
       "  'TS_dice_small bowel': 0.8834563603520721,\n",
       "  'TS_dice_spleen': 0.9767571379290758,\n",
       "  'TS_dice_stomach': 0.9479525176691573},\n",
       " {'ct_name': '01-13-2008-NA-CT-07955.nii.gz',\n",
       "  'global_noise': 8.80293916964032,\n",
       "  'TS_macro_avg_dice': 0.6979655156866397,\n",
       "  'TS_micro_avg_dice': 0.7091718800834147,\n",
       "  'TS_dice_right adrenal gland': 0.37699822380106573,\n",
       "  'TS_dice_left adrenal gland': 0.032073310423825885,\n",
       "  'TS_dice_bladder': 0.7790950946250864,\n",
       "  'TS_dice_duodenum': 0.627655551353636,\n",
       "  'TS_dice_esophagus': 0.5919528297969522,\n",
       "  'TS_dice_gallbladder': 0.7268876063544951,\n",
       "  'TS_dice_heart': 0.9121362792634832,\n",
       "  'TS_dice_right kidney': 0.9319755341965208,\n",
       "  'TS_dice_left kidney': 0.913115018143805,\n",
       "  'TS_dice_liver': 0.9386382129165932,\n",
       "  'TS_dice_pancreas': 0.5781059349873291,\n",
       "  'TS_dice_prostate': 1.0,\n",
       "  'TS_dice_small bowel': 0.48195867813519433,\n",
       "  'TS_dice_spleen': 0.7155384460639533,\n",
       "  'TS_dice_stomach': 0.8633520152376543},\n",
       " {'ct_name': '03-31-2008-NA-CT-55066.nii.gz',\n",
       "  'global_noise': 10.045020687765206,\n",
       "  'TS_macro_avg_dice': 0.7806823540737515,\n",
       "  'TS_micro_avg_dice': 0.8903836505644063,\n",
       "  'TS_dice_right adrenal gland': 0.4592082616179002,\n",
       "  'TS_dice_left adrenal gland': 0.2542182227221597,\n",
       "  'TS_dice_bladder': 0.9001175583262054,\n",
       "  'TS_dice_duodenum': 0.4034694587180775,\n",
       "  'TS_dice_esophagus': 0.7093977033044293,\n",
       "  'TS_dice_gallbladder': 0.8494895328452099,\n",
       "  'TS_dice_heart': 0.9208429501669562,\n",
       "  'TS_dice_right kidney': 0.9524100118001999,\n",
       "  'TS_dice_left kidney': 0.9485491256791705,\n",
       "  'TS_dice_liver': 0.9676707960899431,\n",
       "  'TS_dice_pancreas': 0.7738365410121135,\n",
       "  'TS_dice_prostate': 1.0,\n",
       "  'TS_dice_small bowel': 0.6914608225372033,\n",
       "  'TS_dice_spleen': 0.9443914620220603,\n",
       "  'TS_dice_stomach': 0.935172864264642},\n",
       " {'ct_name': '12-07-2006-NA-CT-81665.nii.gz',\n",
       "  'global_noise': 13.25478307086605,\n",
       "  'TS_macro_avg_dice': 0.8594290902216721,\n",
       "  'TS_micro_avg_dice': 0.9312822600767015,\n",
       "  'TS_dice_right adrenal gland': 0.6860852990231118,\n",
       "  'TS_dice_left adrenal gland': 0.6709352596727413,\n",
       "  'TS_dice_bladder': 0.8563730702709628,\n",
       "  'TS_dice_duodenum': 0.7609426888819927,\n",
       "  'TS_dice_esophagus': 0.7051368572355101,\n",
       "  'TS_dice_gallbladder': 0.8491874557330605,\n",
       "  'TS_dice_heart': 0.8338355393587539,\n",
       "  'TS_dice_right kidney': 0.9686518045581651,\n",
       "  'TS_dice_left kidney': 0.9667439189770647,\n",
       "  'TS_dice_liver': 0.9682000649597117,\n",
       "  'TS_dice_pancreas': 0.8221814590094539,\n",
       "  'TS_dice_prostate': 1.0,\n",
       "  'TS_dice_small bowel': 0.8929181643979013,\n",
       "  'TS_dice_spleen': 0.9688790426977973,\n",
       "  'TS_dice_stomach': 0.9413657285488561},\n",
       " {'ct_name': '09-05-2009-NA-CT-84886.nii.gz',\n",
       "  'global_noise': 7.683399018263443,\n",
       "  'TS_macro_avg_dice': 0.7539932817183282,\n",
       "  'TS_micro_avg_dice': 0.8753158373642264,\n",
       "  'TS_dice_right adrenal gland': 1.0,\n",
       "  'TS_dice_left adrenal gland': 0.0,\n",
       "  'TS_dice_bladder': 0.9395039854321985,\n",
       "  'TS_dice_duodenum': 0.7201322650387892,\n",
       "  'TS_dice_esophagus': 1.0,\n",
       "  'TS_dice_gallbladder': 0.8543590489347779,\n",
       "  'TS_dice_heart': 1.0,\n",
       "  'TS_dice_right kidney': 0.9582616284787098,\n",
       "  'TS_dice_left kidney': 0.9631998294561249,\n",
       "  'TS_dice_liver': 0.96522042366036,\n",
       "  'TS_dice_pancreas': 0.8601644098471468,\n",
       "  'TS_dice_prostate': 0.44719672674997235,\n",
       "  'TS_dice_small bowel': 0.7572670463397324,\n",
       "  'TS_dice_spleen': 0.8445938618371109,\n",
       "  'TS_dice_stomach': 0.0},\n",
       " {'ct_name': '10-11-2008-NA-CT-75986.nii.gz',\n",
       "  'global_noise': 11.188285131973704,\n",
       "  'TS_macro_avg_dice': 0.8316770242299002,\n",
       "  'TS_micro_avg_dice': 0.9013842072457346,\n",
       "  'TS_dice_right adrenal gland': 0.6148766075773375,\n",
       "  'TS_dice_left adrenal gland': 0.5729244577412117,\n",
       "  'TS_dice_bladder': 0.9517614188881016,\n",
       "  'TS_dice_duodenum': 0.7092461938358707,\n",
       "  'TS_dice_esophagus': 0.7354103051397578,\n",
       "  'TS_dice_gallbladder': 0.7635393459306323,\n",
       "  'TS_dice_heart': 0.8019050448703468,\n",
       "  'TS_dice_right kidney': 0.9540528964557233,\n",
       "  'TS_dice_left kidney': 0.9440759853347592,\n",
       "  'TS_dice_liver': 0.9522023534571689,\n",
       "  'TS_dice_pancreas': 0.8437562820083282,\n",
       "  'TS_dice_prostate': 1.0,\n",
       "  'TS_dice_small bowel': 0.7110825162927267,\n",
       "  'TS_dice_spleen': 0.9702506789071911,\n",
       "  'TS_dice_stomach': 0.9500712770093444},\n",
       " {'ct_name': '11-27-2008-NA-CT-75048.nii.gz',\n",
       "  'global_noise': 10.51142297333664,\n",
       "  'TS_macro_avg_dice': 0.6252102411309433,\n",
       "  'TS_micro_avg_dice': 0.7624122039437171,\n",
       "  'TS_dice_right adrenal gland': 0.1213235294117647,\n",
       "  'TS_dice_left adrenal gland': 0.42684268426842686,\n",
       "  'TS_dice_bladder': 0.0,\n",
       "  'TS_dice_duodenum': 0.14463572087304027,\n",
       "  'TS_dice_esophagus': 0.6099594726789956,\n",
       "  'TS_dice_gallbladder': 0.7481030859418206,\n",
       "  'TS_dice_heart': 0.8802130546392273,\n",
       "  'TS_dice_right kidney': 0.9578643164992817,\n",
       "  'TS_dice_left kidney': 0.9577204162465044,\n",
       "  'TS_dice_liver': 0.9563363249194132,\n",
       "  'TS_dice_pancreas': 0.7085145223289155,\n",
       "  'TS_dice_prostate': 1.0,\n",
       "  'TS_dice_small bowel': 0.3675224898102468,\n",
       "  'TS_dice_spleen': 0.9423305686540064,\n",
       "  'TS_dice_stomach': 0.5567874306925058},\n",
       " {'ct_name': '12-31-2007-NA-CT-34710.nii.gz',\n",
       "  'global_noise': 11.10854496005219,\n",
       "  'TS_macro_avg_dice': 0.7837076378223197,\n",
       "  'TS_micro_avg_dice': 0.8600565091067972,\n",
       "  'TS_dice_right adrenal gland': 0.46652452025586355,\n",
       "  'TS_dice_left adrenal gland': 0.39558232931726905,\n",
       "  'TS_dice_bladder': 0.9101084806615249,\n",
       "  'TS_dice_duodenum': 0.6231833039979884,\n",
       "  'TS_dice_esophagus': 0.7032542746828461,\n",
       "  'TS_dice_gallbladder': 0.8106727104151643,\n",
       "  'TS_dice_heart': 0.8561757001813419,\n",
       "  'TS_dice_right kidney': 0.9396998945009721,\n",
       "  'TS_dice_left kidney': 0.9493876028433466,\n",
       "  'TS_dice_liver': 0.9580380141514739,\n",
       "  'TS_dice_pancreas': 0.7540956493774981,\n",
       "  'TS_dice_prostate': 1.0,\n",
       "  'TS_dice_small bowel': 0.6320557107705308,\n",
       "  'TS_dice_spleen': 0.8824657820198596,\n",
       "  'TS_dice_stomach': 0.8743705941591138},\n",
       " {'ct_name': '09-16-2006-NA-CT-78668.nii.gz',\n",
       "  'global_noise': 12.883454520357969,\n",
       "  'TS_macro_avg_dice': 0.8450028689024373,\n",
       "  'TS_micro_avg_dice': 0.9140838743746891,\n",
       "  'TS_dice_right adrenal gland': 0.5392895586652314,\n",
       "  'TS_dice_left adrenal gland': 0.6255125284738041,\n",
       "  'TS_dice_bladder': 0.8805893335231348,\n",
       "  'TS_dice_duodenum': 0.7104241398304515,\n",
       "  'TS_dice_esophagus': 0.756650840304469,\n",
       "  'TS_dice_gallbladder': 0.8839871229283415,\n",
       "  'TS_dice_heart': 0.8398228013911009,\n",
       "  'TS_dice_right kidney': 0.9613564202434667,\n",
       "  'TS_dice_left kidney': 0.9565084540825569,\n",
       "  'TS_dice_liver': 0.9709712767472926,\n",
       "  'TS_dice_pancreas': 0.8125682397185491,\n",
       "  'TS_dice_prostate': 1.0,\n",
       "  'TS_dice_small bowel': 0.837304885370536,\n",
       "  'TS_dice_spleen': 0.9729533710072225,\n",
       "  'TS_dice_stomach': 0.9271040612504027},\n",
       " {'ct_name': '07-15-2008-NA-CT-42067.nii.gz',\n",
       "  'global_noise': 11.448155257824805,\n",
       "  'TS_macro_avg_dice': 0.723153635444937,\n",
       "  'TS_micro_avg_dice': 0.9239097712879285,\n",
       "  'TS_dice_right adrenal gland': 0.4435120435120435,\n",
       "  'TS_dice_left adrenal gland': 0.2978315562477537,\n",
       "  'TS_dice_bladder': 0.906977656370386,\n",
       "  'TS_dice_duodenum': 0.5902480116944575,\n",
       "  'TS_dice_esophagus': 0.6631146464551714,\n",
       "  'TS_dice_gallbladder': 0.8486366047745358,\n",
       "  'TS_dice_heart': 0.8200546488091822,\n",
       "  'TS_dice_right kidney': 0.9677602514232208,\n",
       "  'TS_dice_left kidney': 0.967352374201932,\n",
       "  'TS_dice_liver': 0.9752936009526354,\n",
       "  'TS_dice_pancreas': 0.7956343840241488,\n",
       "  'TS_dice_prostate': 0.0,\n",
       "  'TS_dice_small bowel': 0.7837690788345719,\n",
       "  'TS_dice_spleen': 0.971892505948133,\n",
       "  'TS_dice_stomach': 0.8152271684258834},\n",
       " {'ct_name': '09-19-2008-NA-CT-87707.nii.gz',\n",
       "  'global_noise': 8.655165654992109,\n",
       "  'TS_macro_avg_dice': 0.6899953817804989,\n",
       "  'TS_micro_avg_dice': 0.8548571625875739,\n",
       "  'TS_dice_right adrenal gland': 0.23885350318471338,\n",
       "  'TS_dice_left adrenal gland': 0.09174311926605505,\n",
       "  'TS_dice_bladder': 0.9006581681210708,\n",
       "  'TS_dice_duodenum': 0.6231641654255928,\n",
       "  'TS_dice_esophagus': 0.8005003353697224,\n",
       "  'TS_dice_gallbladder': 0.8480174432689979,\n",
       "  'TS_dice_heart': 0.8573768380432115,\n",
       "  'TS_dice_right kidney': 0.0,\n",
       "  'TS_dice_left kidney': 0.9645160625605308,\n",
       "  'TS_dice_liver': 0.9558316819766968,\n",
       "  'TS_dice_pancreas': 0.5902345129215595,\n",
       "  'TS_dice_prostate': 1.0,\n",
       "  'TS_dice_small bowel': 0.622758296035363,\n",
       "  'TS_dice_spleen': 0.9233684160225548,\n",
       "  'TS_dice_stomach': 0.932908184511416},\n",
       " {'ct_name': '07-10-2009-NA-CT-73334.nii.gz',\n",
       "  'global_noise': 9.305271128041666,\n",
       "  'TS_macro_avg_dice': 0.5948034303107568,\n",
       "  'TS_micro_avg_dice': 0.8539872916579592,\n",
       "  'TS_dice_right adrenal gland': 0.48164000901103854,\n",
       "  'TS_dice_left adrenal gland': 0.6726579520697168,\n",
       "  'TS_dice_bladder': 0.03262206911097831,\n",
       "  'TS_dice_duodenum': 0.042328042328042326,\n",
       "  'TS_dice_esophagus': 0.1386676545039205,\n",
       "  'TS_dice_gallbladder': 0.831614848238965,\n",
       "  'TS_dice_heart': 0.8933265211360066,\n",
       "  'TS_dice_right kidney': 0.9505978798586573,\n",
       "  'TS_dice_left kidney': 0.9581876529025485,\n",
       "  'TS_dice_liver': 0.9609865392610402,\n",
       "  'TS_dice_pancreas': 0.6507244908298713,\n",
       "  'TS_dice_prostate': 0.0,\n",
       "  'TS_dice_small bowel': 0.49969555833013,\n",
       "  'TS_dice_spleen': 0.9288261211474862,\n",
       "  'TS_dice_stomach': 0.8801761159329506}]"
      ]
     },
     "execution_count": 25,
     "metadata": {},
     "output_type": "execute_result"
    }
   ],
   "source": [
    "results"
   ]
  },
  {
   "cell_type": "code",
   "execution_count": null,
   "id": "21c0f4ad",
   "metadata": {},
   "outputs": [],
   "source": []
  }
 ],
 "metadata": {
  "kernelspec": {
   "display_name": "Python 3 (ipykernel)",
   "language": "python",
   "name": "python3"
  },
  "language_info": {
   "codemirror_mode": {
    "name": "ipython",
    "version": 3
   },
   "file_extension": ".py",
   "mimetype": "text/x-python",
   "name": "python",
   "nbconvert_exporter": "python",
   "pygments_lexer": "ipython3",
   "version": "3.10.12"
  }
 },
 "nbformat": 4,
 "nbformat_minor": 5
}
