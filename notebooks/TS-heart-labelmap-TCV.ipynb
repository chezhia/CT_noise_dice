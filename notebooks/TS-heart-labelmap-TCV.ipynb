{
 "cells": [
  {
   "cell_type": "code",
   "execution_count": 8,
   "id": "0eae5c7f",
   "metadata": {},
   "outputs": [],
   "source": [
    "import json\n",
    "import numpy as np\n",
    "import os\n",
    "os.chdir('/workspace/noise_and_dice/')"
   ]
  },
  {
   "cell_type": "code",
   "execution_count": 9,
   "id": "cda6f0d7",
   "metadata": {},
   "outputs": [],
   "source": [
    "file_path = 'labels-heart.json'\n",
    "with open(file_path, 'r') as file:\n",
    "    labels = json.load(file)  # Reads and parses the JSON content"
   ]
  },
  {
   "cell_type": "code",
   "execution_count": 10,
   "id": "4369639e",
   "metadata": {},
   "outputs": [
    {
     "name": "stdout",
     "output_type": "stream",
     "text": [
      "heart :  1\n"
     ]
    }
   ],
   "source": [
    "label_list = []\n",
    "for key,val in labels.items():\n",
    "    print(key, ': ', val)\n",
    "    label_list.append(val)\n",
    "\n",
    "label_list = np.sort(label_list)"
   ]
  },
  {
   "cell_type": "code",
   "execution_count": 11,
   "id": "a36f444d",
   "metadata": {},
   "outputs": [
    {
     "name": "stdout",
     "output_type": "stream",
     "text": [
      "[1]\n"
     ]
    }
   ],
   "source": [
    "print(label_list)"
   ]
  },
  {
   "cell_type": "markdown",
   "id": "13e4a3d8",
   "metadata": {},
   "source": [
    "## Mapping TS labels to vista"
   ]
  },
  {
   "cell_type": "code",
   "execution_count": 12,
   "id": "f6407502",
   "metadata": {},
   "outputs": [],
   "source": [
    "file_path = 'heart-TS-map.json'  # specify the output file path\n",
    "\n",
    "if os.path.exists(file_path):\n",
    "    with open(file_path,'r') as json_file:\n",
    "        label_TCIA_map = json.load(json_file)\n",
    "else: \n",
    "    label_TCIA_map = {}\n",
    "    for key,val in labels.items():\n",
    "        label_TCIA_map[key] =  input(f'Enter TCIA segmentation name for: {key}') + '.nii.gz'\n",
    "\n",
    "    with open(file_path, 'w') as json_file:\n",
    "        json.dump(label_TCIA_map, json_file, indent=4)  # indent=4 for pretty-printing"
   ]
  },
  {
   "cell_type": "code",
   "execution_count": 13,
   "id": "9078626b",
   "metadata": {},
   "outputs": [],
   "source": [
    "import SimpleITK as sitk\n",
    "import numpy as np\n",
    "import tqdm\n",
    "def calculate_mask_volume(mask,pixelvolume,label=1):\n",
    "    counts = np.count_nonzero(mask == label)\n",
    "    return counts*pixelvolume"
   ]
  },
  {
   "cell_type": "code",
   "execution_count": 14,
   "id": "815a2718",
   "metadata": {},
   "outputs": [],
   "source": [
    "scan_dir = '/processed/Public/UNOS/label_set_final'\n",
    "label_dir = '/processed/Public/UNOS/label_set_final/predictions/TS'\n",
    "out_dir = '/processed/Public/UNOS/label_set_final/predictions/TS_heart'"
   ]
  },
  {
   "cell_type": "markdown",
   "id": "85b5cfbb",
   "metadata": {},
   "source": [
    "## Create labels for vista 3d comparison"
   ]
  },
  {
   "cell_type": "code",
   "execution_count": 15,
   "id": "06020e76",
   "metadata": {},
   "outputs": [
    {
     "name": "stdout",
     "output_type": "stream",
     "text": [
      "no of labels:  0\n",
      "no of scans:  26\n"
     ]
    }
   ],
   "source": [
    "scans = set([f for f in os.listdir(scan_dir) if f.endswith('.nii.gz')])\n",
    "masks = set(([f for f in os.listdir(out_dir) if f.endswith('.nii.gz')]))\n",
    "\n",
    "missing_labels = scans - masks\n",
    "print('no of labels: ', len(masks))\n",
    "print('no of scans: ', len(scans))\n",
    "#print(missing_labels)\n"
   ]
  },
  {
   "cell_type": "markdown",
   "id": "238c38fb",
   "metadata": {},
   "source": [
    "## Create labels for vista3d evaluation"
   ]
  },
  {
   "cell_type": "code",
   "execution_count": 16,
   "id": "82381655",
   "metadata": {},
   "outputs": [
    {
     "name": "stderr",
     "output_type": "stream",
     "text": [
      "100% 26/26 [00:29<00:00,  1.12s/it]\n"
     ]
    }
   ],
   "source": [
    "exam_ids = [f.split('.')[0]  for f in os.listdir(scan_dir) if f.endswith('.nii.gz')]\n",
    "\n",
    "dict_list = []\n",
    "\n",
    "for eid in tqdm.tqdm(exam_ids):\n",
    "    mask_out = os.path.join(out_dir,eid+'.nii.gz')\n",
    "    dict_sequence = {}\n",
    "    scan_file = os.path.join(scan_dir,eid+'.nii.gz')\n",
    "    img = sitk.ReadImage(scan_file) \n",
    "    size = img.GetSize()\n",
    "    rows = size[0]\n",
    "    cols = size[1]\n",
    "    slices = size[2]\n",
    "    spacing = img.GetSpacing()\n",
    "    pixell = spacing[0]\n",
    "    pixelw = spacing[1]\n",
    "    thickness = spacing[2]\n",
    "    pixel_area = pixell*pixelw\n",
    "    pixel_volume = pixel_area*thickness\n",
    "    img_arr = sitk.GetArrayViewFromImage(img)\n",
    "    pixel_low = np.min(img_arr)\n",
    "    pixel_high = np.max(img_arr)\n",
    "    pixel_mean = np.mean(img_arr)\n",
    "    pixel_median = np.median(img_arr)\n",
    "\n",
    "    #print(eid)\n",
    "    dict_sequence['patid'] = eid\n",
    "    dict_sequence['rows']= rows\n",
    "    dict_sequence['cols']= cols\n",
    "    dict_sequence['slices'] = slices\n",
    "    dict_sequence['pixel_volume'] =pixel_volume\n",
    "    dict_sequence['pixel_area'] =pixel_area\n",
    "    dict_sequence['slice_thickness'] =thickness\n",
    "    dict_sequence['intensity_low'] = pixel_low\n",
    "    dict_sequence['intensity_high'] = pixel_high\n",
    "    dict_sequence['intensity_mean'] = pixel_mean\n",
    "    dict_sequence['intensity_median'] = pixel_median\n",
    "    \n",
    "    output_arr = None\n",
    "    folder_path = os.path.join(label_dir,eid)\n",
    "    for key,val in label_TCIA_map.items():\n",
    "        mask_file = os.path.join(folder_path,val)\n",
    "        segment_name = val.split('.')[0]\n",
    "        vol_key = segment_name + '_volume'\n",
    "        if os.path.exists(mask_file):\n",
    "            mask = sitk.ReadImage(mask_file)\n",
    "            mask_arr = sitk.GetArrayFromImage(mask) \n",
    "            mask_arr[mask_arr > 0] = 1\n",
    "            dict_sequence[vol_key]= np.round(calculate_mask_volume(mask_arr,pixel_volume,label=1)/1000) # in ml\n",
    "            mask_arr = mask_arr * labels[key]\n",
    "            #print('vol_key: ', vol_key, ' volume: ', dict_sequence[vol_key])\n",
    "            if output_arr is None:\n",
    "                output_arr = mask_arr\n",
    "            else:\n",
    "                # Use pixel-wise maximum to merge without summing labels\n",
    "                output_arr = np.maximum(output_arr, mask_arr)\n",
    "        else:\n",
    "            dict_sequence[vol_key] = 0\n",
    "    \n",
    "    # print('Liver and spleen volume calculated')\n",
    "    if output_arr is not None:\n",
    "        mask_sitk = sitk.GetImageFromArray(output_arr)\n",
    "        mask_sitk.CopyInformation(img)\n",
    "        sitk.WriteImage(mask_sitk, mask_out)\n",
    "    \n",
    "    dict_list.append(dict_sequence)"
   ]
  },
  {
   "cell_type": "code",
   "execution_count": null,
   "id": "34b9afac",
   "metadata": {},
   "outputs": [],
   "source": [
    "dict_list[0].keys()"
   ]
  },
  {
   "cell_type": "code",
   "execution_count": null,
   "id": "84059024",
   "metadata": {},
   "outputs": [],
   "source": [
    "import pandas as pd\n",
    "df_summary = pd.DataFrame(dict_list)"
   ]
  },
  {
   "cell_type": "code",
   "execution_count": null,
   "id": "f2e9913a",
   "metadata": {},
   "outputs": [],
   "source": [
    "list(df_summary)"
   ]
  },
  {
   "cell_type": "code",
   "execution_count": null,
   "id": "145bdef8",
   "metadata": {},
   "outputs": [],
   "source": [
    "#display(df_summary)\n",
    "#df_summary.to_csv(os.path.join('TCIA_ped_imagestats.csv'),index=False)"
   ]
  },
  {
   "cell_type": "code",
   "execution_count": null,
   "id": "c593a57f",
   "metadata": {},
   "outputs": [],
   "source": []
  }
 ],
 "metadata": {
  "kernelspec": {
   "display_name": "Python 3 (ipykernel)",
   "language": "python",
   "name": "python3"
  },
  "language_info": {
   "codemirror_mode": {
    "name": "ipython",
    "version": 3
   },
   "file_extension": ".py",
   "mimetype": "text/x-python",
   "name": "python",
   "nbconvert_exporter": "python",
   "pygments_lexer": "ipython3",
   "version": "3.10.12"
  }
 },
 "nbformat": 4,
 "nbformat_minor": 5
}
