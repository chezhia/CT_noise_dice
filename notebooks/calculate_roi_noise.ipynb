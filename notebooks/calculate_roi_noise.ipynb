{
 "cells": [
  {
   "cell_type": "markdown",
   "id": "227ab668",
   "metadata": {},
   "source": [
    "# Calculate noise and dice for Total Segmentator and Vista3d"
   ]
  },
  {
   "cell_type": "code",
   "execution_count": 9,
   "id": "9c551eeb",
   "metadata": {},
   "outputs": [],
   "source": [
    "config = {}\n",
    "config['images'] = '/processed/Public/TCIA'\n",
    "config['gt'] = '/processed/Public/TCIA/labels-vista3d'\n",
    "config['predictions'] = '/processed/Public/TCIA/predictions/vista3d'\n",
    "config['predictions_TS'] = '/processed/Public/TCIA/predictions/TotalSegmentator'\n",
    "config['labels_json'] = 'labels-TCIA-pediatric.json'\n",
    "config['labels_json_TS'] = 'labels-TCIA-pediatric-TS.json'"
   ]
  },
  {
   "cell_type": "code",
   "execution_count": 10,
   "id": "a4a16a56",
   "metadata": {},
   "outputs": [],
   "source": [
    "# !pip install pyradiomics"
   ]
  },
  {
   "cell_type": "code",
   "execution_count": 11,
   "id": "7f7cf9af",
   "metadata": {},
   "outputs": [],
   "source": [
    "import json\n",
    "import tqdm\n",
    "import pandas as pd\n",
    "with open(config['labels_json'],'r') as jsonfile:\n",
    "    config['labels'] = json.load(jsonfile)\n",
    "\n",
    "from calculate_ct_noise_std import calculate_noise_and_mean_hu_in_roi"
   ]
  },
  {
   "cell_type": "code",
   "execution_count": 12,
   "id": "a02fed83",
   "metadata": {},
   "outputs": [],
   "source": [
    "from radiomics import featureextractor"
   ]
  },
  {
   "cell_type": "code",
   "execution_count": 13,
   "id": "55e947ba",
   "metadata": {},
   "outputs": [],
   "source": [
    "import numpy as np\n",
    "import SimpleITK as sitk\n",
    "from scipy.ndimage import laplace\n",
    "from radiomics import featureextractor\n",
    "import os \n",
    "\n",
    "def estimate_noise_mad(volume):\n",
    "    \"\"\"\n",
    "    Estimate noise using Median Absolute Deviation (MAD).\n",
    "    \"\"\"\n",
    "    pixels = volume.flatten()\n",
    "    median_val = np.median(pixels)\n",
    "    mad = np.median(np.abs(pixels - median_val))\n",
    "    sigma_est = 1.4826 * mad\n",
    "    return sigma_est\n",
    "\n",
    "def estimate_noise_laplacian(volume):\n",
    "    \"\"\"\n",
    "    Estimate noise using the Laplacian operator.\n",
    "    \"\"\"\n",
    "    laplacian_vol = laplace(volume)\n",
    "    # Mean absolute value of the Laplacian can correlate with noise level\n",
    "    return np.mean(np.abs(laplacian_vol))\n",
    "\n",
    "# Calculate boundaries for the central 90%\n",
    "# Remove 5% on each side for each dimension\n",
    "def central_bounds(dim_size, fraction=0.05):\n",
    "    start = int(dim_size * fraction)\n",
    "    end = int(dim_size * (1 - fraction))\n",
    "    return start, end\n",
    "\n",
    "def estimate_noise_pyradiomics(image, mask_path=None):\n",
    "    \"\"\"\n",
    "    Use PyRadiomics to extract a feature as a proxy for noise estimation.\n",
    "    If no mask is provided, use the entire image as ROI.\n",
    "    \"\"\"\n",
    "    # Initialize radiomics feature extractor\n",
    "    extractor = featureextractor.RadiomicsFeatureExtractor()\n",
    "\n",
    "    # Create a full-volume mask if none provided\n",
    "    if mask_path:\n",
    "        mask = sitk.ReadImage(mask_path)\n",
    "    else:\n",
    "        # Create an array of ones with the same shape as the image\n",
    "        array = sitk.GetArrayFromImage(image)\n",
    "        shape = array.shape\n",
    "        # For 3D images, shape = (depth, height, width)\n",
    "        # For 2D images, shape = (height, width)\n",
    "        # We handle both cases generically.\n",
    "        if len(shape) == 3:\n",
    "            z_start, z_end = central_bounds(shape[0])\n",
    "            y_start, y_end = central_bounds(shape[1])\n",
    "            x_start, x_end = central_bounds(shape[2])\n",
    "        elif len(shape) == 2:\n",
    "            y_start, y_end = central_bounds(shape[0])\n",
    "            x_start, x_end = central_bounds(shape[1])\n",
    "        else:\n",
    "            raise ValueError(\"Image dimensionality not supported.\")\n",
    "\n",
    "        # Create a mask array of zeros with the same shape as the image\n",
    "        mask_array = np.zeros_like(array, dtype=np.uint8)\n",
    "\n",
    "        # Set ones for the central 90% region\n",
    "        if len(shape) == 3:\n",
    "            mask_array[z_start:z_end, y_start:y_end, x_start:x_end] = 1\n",
    "        elif len(shape) == 2:\n",
    "            mask_array[y_start:y_end, x_start:x_end] = 1\n",
    "        mask = sitk.GetImageFromArray(mask_array)\n",
    "        mask.CopyInformation(image)\n",
    "\n",
    "    # Extract features using PyRadiomics\n",
    "    result = extractor.execute(image, mask)\n",
    "\n",
    "    # Use RootMeanSquared as a proxy feature related to intensity variation (noise)\n",
    "    # (Replace with a more appropriate feature or process as needed)\n",
    "    noise_feature = result.get('original_firstorder_RootMeanSquared', None)\n",
    "    return noise_feature"
   ]
  },
  {
   "cell_type": "code",
   "execution_count": 14,
   "id": "564ebade",
   "metadata": {},
   "outputs": [],
   "source": [
    "import SimpleITK as sitk\n",
    "import numpy as np\n",
    "\n",
    "def sitk_to_numpy(image):\n",
    "    \"\"\"Convert a SimpleITK image to a numpy array.\"\"\"\n",
    "    return sitk.GetArrayFromImage(image)\n",
    "\n",
    "def dice_coefficient(true_array, pred_array, label):\n",
    "    \"\"\"\n",
    "    Calculate Dice coefficient for a specific label.\n",
    "    Also return intersection and sum of sizes for micro-average computation.\n",
    "    \"\"\"\n",
    "    true_bin = (true_array == label)\n",
    "    pred_bin = (pred_array == label)\n",
    "\n",
    "    intersection = np.logical_and(true_bin, pred_bin).sum()\n",
    "    sum_sizes = true_bin.sum() + pred_bin.sum()\n",
    "\n",
    "    # Handle case of no voxels for label in both images\n",
    "    dice = 1.0 if sum_sizes == 0 else 2.0 * intersection / sum_sizes\n",
    "    return dice, intersection, sum_sizes\n",
    "\n",
    "def multi_class_dice(true_image, pred_image, labels):\n",
    "    \"\"\"\n",
    "    Compute label-wise, macro-average, and micro-average Dice for multiple labels.\n",
    "    \n",
    "    Parameters:\n",
    "        true_image (sitk.Image): Ground truth segmentation.\n",
    "        pred_image (sitk.Image): Predicted segmentation.\n",
    "        labels (list or iterable): List of label values to compute Dice for.\n",
    "        \n",
    "    Returns:\n",
    "        dict: Dice scores for each label.\n",
    "        float: Macro-average Dice score.\n",
    "        float: Micro-average Dice score.\n",
    "    \"\"\"\n",
    "    true_array = sitk_to_numpy(true_image)\n",
    "    pred_array = sitk_to_numpy(pred_image)\n",
    "\n",
    "    dice_scores = {}\n",
    "    macro_sum = 0.0\n",
    "\n",
    "    # For micro-average calculations\n",
    "    total_intersection = 0\n",
    "    total_sum_sizes = 0\n",
    "\n",
    "    for key,label in labels.items():\n",
    "        dice, intersection, sum_sizes = dice_coefficient(true_array, pred_array, label)\n",
    "        dice_scores[key] = dice\n",
    "        macro_sum += dice\n",
    "\n",
    "        total_intersection += intersection\n",
    "        total_sum_sizes += sum_sizes\n",
    "\n",
    "    macro_average_dice = macro_sum / len(labels) if labels else float('nan')\n",
    "    # Handle micro-average division by zero\n",
    "    micro_average_dice = 1.0 if total_sum_sizes == 0 else 2.0 * total_intersection / total_sum_sizes\n",
    "\n",
    "    return dice_scores, macro_average_dice, micro_average_dice\n"
   ]
  },
  {
   "cell_type": "code",
   "execution_count": 15,
   "id": "eb826d86",
   "metadata": {},
   "outputs": [
    {
     "name": "stderr",
     "output_type": "stream",
     "text": [
      "  2% 6/358 [00:45<37:35,  6.41s/it]  "
     ]
    },
    {
     "name": "stdout",
     "output_type": "stream",
     "text": [
      "Error in calculate_noise_and_mean_hu_in_roi: Organ label 1 not found in the segmentation mask.\n",
      "Error in calculate_noise_and_mean_hu_in_roi: Organ label 3 not found in the segmentation mask.\n"
     ]
    },
    {
     "name": "stderr",
     "output_type": "stream",
     "text": [
      "  2% 7/358 [00:45<26:43,  4.57s/it]"
     ]
    },
    {
     "name": "stdout",
     "output_type": "stream",
     "text": [
      "Error in calculate_noise_and_mean_hu_in_roi: Organ label 115 not found in the segmentation mask.\n"
     ]
    },
    {
     "name": "stderr",
     "output_type": "stream",
     "text": [
      " 68% 243/358 [23:54<19:11, 10.01s/it]"
     ]
    },
    {
     "name": "stdout",
     "output_type": "stream",
     "text": [
      "Error in calculate_noise_and_mean_hu_in_roi: Organ label 3 not found in the segmentation mask.\n"
     ]
    },
    {
     "name": "stderr",
     "output_type": "stream",
     "text": [
      " 90% 323/358 [31:09<02:52,  4.93s/it]"
     ]
    },
    {
     "name": "stdout",
     "output_type": "stream",
     "text": [
      "Error in calculate_noise_and_mean_hu_in_roi: No organ pixels found within the extracted ROI. Check the segmentation mask and ROI parameters.\n"
     ]
    },
    {
     "name": "stderr",
     "output_type": "stream",
     "text": [
      "100% 358/358 [34:19<00:00,  5.75s/it]\n"
     ]
    }
   ],
   "source": [
    "# Make sure label exists\n",
    "ct_images = [f for f in os.listdir(config['gt']) if f.endswith('.nii.gz')]\n",
    "\n",
    "results = []\n",
    "for ct_name in tqdm.tqdm(ct_images):\n",
    "    try:\n",
    "        ct_image_path = os.path.join(config['images'],ct_name)\n",
    "        segmentation_mask_path = os.path.join(config['predictions'],ct_name)\n",
    "        \n",
    "    \n",
    "        # Calculate noise estimates.\n",
    "        \n",
    "        liver_noise,liver_hu = calculate_noise_and_mean_hu_in_roi(ct_image_path, segmentation_mask_path, organ_label=1)\n",
    "        spleen_noise,spleen_hu = calculate_noise_and_mean_hu_in_roi(ct_image_path, segmentation_mask_path, organ_label=3)\n",
    "        heart_noise,heart_hu = calculate_noise_and_mean_hu_in_roi(ct_image_path, segmentation_mask_path, organ_label=115)\n",
    "        \n",
    "        # Prepare record for current CT\n",
    "        record = {\n",
    "            'ct_name': ct_name,\n",
    "            'liver_noise': liver_noise,\n",
    "            'spleen_noise': spleen_noise,\n",
    "            'heart_noise': heart_noise,\n",
    "            'liver_hu': liver_hu,\n",
    "            'spleen_hu': spleen_hu,\n",
    "            'heart_hu': heart_hu,\n",
    "        }\n",
    "        results.append(record)\n",
    "    except Exception as e:\n",
    "        print(e)"
   ]
  },
  {
   "cell_type": "code",
   "execution_count": 16,
   "id": "400c8bb3",
   "metadata": {},
   "outputs": [
    {
     "name": "stdout",
     "output_type": "stream",
     "text": [
      "Results saved to ct_roi_noise_results_v2_32_32_4.csv\n"
     ]
    }
   ],
   "source": [
    "# Create a DataFrame from results and save to CSV\n",
    "df = pd.DataFrame(results)\n",
    "output_csv_path = \"ct_roi_noise_results_v2_32_32_4.csv\"  # Specify desired output path\n",
    "df.to_csv(output_csv_path, index=False)\n",
    "\n",
    "print(f\"Results saved to {output_csv_path}\")"
   ]
  },
  {
   "cell_type": "code",
   "execution_count": null,
   "id": "7ba76b56",
   "metadata": {},
   "outputs": [],
   "source": []
  }
 ],
 "metadata": {
  "kernelspec": {
   "display_name": "Python 3 (ipykernel)",
   "language": "python",
   "name": "python3"
  },
  "language_info": {
   "codemirror_mode": {
    "name": "ipython",
    "version": 3
   },
   "file_extension": ".py",
   "mimetype": "text/x-python",
   "name": "python",
   "nbconvert_exporter": "python",
   "pygments_lexer": "ipython3",
   "version": "3.10.12"
  }
 },
 "nbformat": 4,
 "nbformat_minor": 5
}
